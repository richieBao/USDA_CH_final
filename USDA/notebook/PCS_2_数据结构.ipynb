{
 "cells": [
  {
   "cell_type": "markdown",
   "id": "5762b2c4-551f-43b4-bbb5-f3170fd856b5",
   "metadata": {},
   "source": [
    "# Python Cheat Sheet-2. 数据结构 （Data Structure）"
   ]
  },
  {
   "cell_type": "markdown",
   "id": "de5fb7a4-e025-4bc0-913c-ac140dfce673",
   "metadata": {},
   "source": [
    "## 2.1 列表（List）、元组（Tuple）和字典（Dictionary）\n",
    "\n",
    "对于一组序列（sequence）数据（有序的），包含有一个或者多个值时，如果要赋予一个变量，则需要使用列表进行存储。同时，可以对数据进行组织管理，即为可变的（mutable），这包括使用索引（index）、分片（slicing）及提供的内置（built-in）函数或方法等途径，实现数据提取、插入、检索及列表间的运算等。\n",
    "\n",
    "元组类似于列表，只是元组不可修改数据，但可以提取项值，及用内置函数查看数据属性，例如数据长度、最大最小值等。\n",
    "\n",
    "如果有一组空气污染物浓度的数据，希望可以通过检索污染物名称（string类型）提取数值，而并不要求浓度数据为序列型，则需要使用字典类型存储数据，并可赋予一个变量。对字典实现数据的组织管理，通过对键值操作、内置的函数和方法实现。\n",
    "\n",
    "列表、元组和字典存储的值可以是字符串、数值、也可以是列表、元组或字典自身，或者其它数据类型和结构。对于包含列表的列表为嵌套列表（nested list）。\n",
    "\n",
    "究竟选择哪类数据结构用于组织数据分析，需要根据具体分析的内容、途径，优先考虑便于操作的类型，或者组合。\n",
    "\n",
    "> 当实际工作研究时，对于城市空间数据或用[Sklearn（scikit-learn）机器学习](https://scikit-learn.org/stable/)，及[pytroch](https://pytorch.org/)深度学习时，扩展库[numpy](https://numpy.org/)和[pandas](https://pandas.pydata.org/)（及[geopandas](https://geopandas.org/en/stable/)）提供的数组（array）和表（DataFrame，Series）数据结构无法避免。"
   ]
  },
  {
   "cell_type": "markdown",
   "id": "cc4196d1-f7af-42b2-a60f-c8e4a4e48d27",
   "metadata": {},
   "source": [
    "## 2.2 列表（List）\n",
    "\n",
    "语法为`[V0,V1,V2,...,Vn]`。默认索引关系为从0开始，递增1计算，也可以逆序(Negative Indexing)，如:<img src=\"./imgs/pc_2_01.png\" height=\"auto\" width=500 title=\"caDesign\">。\n",
    "\n",
    "* 建立列表\n",
    "\n",
    "一种是按照语法直接书写并赋予变量，或用`list()`实现。用内置函数的方法时，如果是字符串会自动切分为独个字母，如何是与`range()`配合，会产生一个给定始末和步幅值的序列。"
   ]
  },
  {
   "cell_type": "code",
   "execution_count": 11,
   "id": "16173e5f-a59b-4bb6-8d9e-e8a864eb9972",
   "metadata": {},
   "outputs": [
    {
     "name": "stdout",
     "output_type": "stream",
     "text": [
      "['d', 'e', 'f', 'g', 'h', 'i', 'j', 'k', 'l', 'm']\n",
      "['d', 'e', 'f', 'g', 'h', 'i', 'j', 'k', 'l', 'm']\n",
      "range(5, 20, 3)\n",
      "[5, 8, 11, 14, 17]\n"
     ]
    }
   ],
   "source": [
    "letters_1=['d', 'e', 'f', 'g', 'h', 'i', 'j', 'k', 'l', 'm']\n",
    "print(letters_1)\n",
    "\n",
    "letters_2=list('defghijklm')\n",
    "print(letters_2)\n",
    "\n",
    "sequence_range=range(5,20,3) #内置函数，语法range(start, stop, step)，给定始末和步幅值，构建序列\n",
    "print(sequence_range)\n",
    "sequence_lst=list(range(5,20,3))\n",
    "print(sequence_lst)"
   ]
  },
  {
   "cell_type": "markdown",
   "id": "348b5e26-a22e-40d4-8292-be2d517a7549",
   "metadata": {},
   "source": [
    "* 提取值-用索引或者分片（slicing）的方式\n",
    "\n",
    "给定索引可以直接提取对应索引的值。而slicing的方式需要给始末索引值及步幅值，语法为`list[a:b:c]`，`a`为开始值，`b`为结束值，`C`为步幅值。三个参数可以配置负值逆序。\n",
    "\n",
    "下述的案例中，首先给了一个具有"
   ]
  },
  {
   "cell_type": "code",
   "execution_count": 5,
   "id": "895662f4-ccbb-4719-9264-9fd4383b9d1f",
   "metadata": {},
   "outputs": [],
   "source": [
    "# 这组数据来自城市环境传感器（AoT, array of things），提取了部分数据，包括字段有：地址（string）、ID编号(string)、经纬度(float)共4类值，以单独列表形式存储。\n",
    "coordi_lon=[-87.628, -87.616, -87.631, -87.59, -87.711, -87.628, -87.586, -87.713, -87.676, -87.624]\n",
    "coordi_lat=[41.878, 41.858, 41.926, 41.81, 41.866, 41.883, 41.781, 41.751, 41.852, 41.736]\n",
    "node_id=['ba46', 'ba3b', 'f02f', 'ba8f', 'ba16', '7e5d', 'ba8b', 'ba13', 'ba18', 'bc10']\n",
    "address=['State St & Jackson Blvd Chicago IL', '18th St & Lake Shore Dr Chicago IL', 'Lake Shore Drive & Fullerton Ave Chicago IL', 'Cornell & 47th St Chicago IL', 'Homan Ave & Roosevelt Rd Chicago IL', 'State St & Washington St Chicago IL', 'Stony Island Ave & 63rd St Chicago IL', '7801 S Lawndale Ave Chicago IL', 'Damen Ave & Cermak Chicago IL', 'State St & 87th Chicago IL']"
   ]
  },
  {
   "cell_type": "code",
   "execution_count": 23,
   "id": "8d492470-7d08-49c2-b7e9-4a88cf0ff3f9",
   "metadata": {},
   "outputs": [
    {
     "name": "stdout",
     "output_type": "stream",
     "text": [
      "values with the index 2:       \n",
      "id=f02f;\n",
      "lon=-87.631;\n",
      "lat=41.926;\n",
      "address=Lake Shore Drive & Fullerton Ave Chicago IL\n",
      "__________________________________________________\n",
      "slice(2, 5, None)\n",
      "values with the index 2:       \n",
      "id=['f02f', 'ba8f', 'ba16'];\n",
      "lon=[-87.631, -87.59, -87.711];\n",
      "lat=[41.926, 41.81, 41.866];\n",
      "address=['Lake Shore Drive & Fullerton Ave Chicago IL', 'Cornell & 47th St Chicago IL', 'Homan Ave & Roosevelt Rd Chicago IL']\n"
     ]
    }
   ],
   "source": [
    "# 提取索引值为2对应的数值\n",
    "idx_AoT=2\n",
    "idx_lon=coordi_lon[idx_AoT]\n",
    "idx_lat=coordi_lat[idx_AoT]\n",
    "idx_nodeID=node_id[idx_AoT]\n",
    "idx_address=address[idx_AoT]\n",
    "\n",
    "print('values with the index 2: \\\n",
    "      \\nid={0};\\nlon={2};\\nlat={3};\\naddress={1}'.format(idx_nodeID,idx_address,idx_lon,idx_lat))\n",
    "\n",
    "# 提取分片数据，slice(2,5)为即为[2,3,4]\n",
    "slice_AoT=slice(2,5) #默认步幅为1\n",
    "print(\"_\"*50)\n",
    "print(idxes_AoT)\n",
    "slice_lon=coordi_lon[slice_AoT]\n",
    "slice_lat=coordi_lat[slice_AoT]\n",
    "slice_nodeID=node_id[slice_AoT]\n",
    "slice_address=address[slice_AoT]\n",
    "\n",
    "print('values with the index {4}: \\\n",
    "      \\nid={0};\\nlon={2};\\nlat={3};\\naddress={1}'.format(slice_nodeID,slice_address,slice_lon,slice_lat,))"
   ]
  },
  {
   "cell_type": "code",
   "execution_count": null,
   "id": "d0beb3d4-6abf-40bc-8d6f-da5410341717",
   "metadata": {},
   "outputs": [],
   "source": []
  },
  {
   "cell_type": "code",
   "execution_count": null,
   "id": "10b5ed7a-6fdf-470c-9912-680289faa3cf",
   "metadata": {},
   "outputs": [],
   "source": []
  }
 ],
 "metadata": {
  "kernelspec": {
   "display_name": "Python 3 (ipykernel)",
   "language": "python",
   "name": "python3"
  },
  "language_info": {
   "codemirror_mode": {
    "name": "ipython",
    "version": 3
   },
   "file_extension": ".py",
   "mimetype": "text/x-python",
   "name": "python",
   "nbconvert_exporter": "python",
   "pygments_lexer": "ipython3",
   "version": "3.8.13"
  }
 },
 "nbformat": 4,
 "nbformat_minor": 5
}
