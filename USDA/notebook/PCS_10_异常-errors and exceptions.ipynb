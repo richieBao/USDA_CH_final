{
 "cells": [
  {
   "cell_type": "markdown",
   "id": "c2dba3ab-ca6d-4892-976b-2fab75d34303",
   "metadata": {},
   "source": [
    "> Created on Tue Sep  6 09:46:36 2022 @author: Richie Bao-caDesign设计(cadesign.cn)"
   ]
  },
  {
   "cell_type": "markdown",
   "id": "4ccc1cbd-cdbc-49aa-be51-63ef5c311f83",
   "metadata": {},
   "source": [
    "# Python Cheat Sheet-10.异常-Errors and Exceptions\n",
    "\n",
    "> 参考[Errors and Exceptions](https://docs.python.org/3/tutorial/errors.html)\n",
    "\n",
    "## 10.1 内置异常（Built-in Exceptions）\n",
    "\n",
    "> 参考[Built-in Exceptions](https://docs.python.org/3/library/exceptions.html)\n",
    "\n",
    "`for i in range(10) print(i)`代码缺少了`:`，为语法/句法错误（syntax error），会引发内置异常`SyntaxError`错误，并通常会给出错误的详细原因，例如`invalid syntax`等。反馈的异常信息中，通常会标识行号，并用`^`等符号标示错误位置，方便快速定位修改。"
   ]
  },
  {
   "cell_type": "code",
   "execution_count": 14,
   "id": "5b8998ec-a738-43c6-9906-d4a0a1285f88",
   "metadata": {},
   "outputs": [
    {
     "ename": "SyntaxError",
     "evalue": "invalid syntax (1155674496.py, line 1)",
     "output_type": "error",
     "traceback": [
      "\u001b[1;36m  Input \u001b[1;32mIn [14]\u001b[1;36m\u001b[0m\n\u001b[1;33m    for i in range(10) print(i)\u001b[0m\n\u001b[1;37m                       ^\u001b[0m\n\u001b[1;31mSyntaxError\u001b[0m\u001b[1;31m:\u001b[0m invalid syntax\n"
     ]
    }
   ],
   "source": [
    "for i in range(10) print(i)"
   ]
  },
  {
   "cell_type": "markdown",
   "id": "3405028f-f721-4eab-8573-3320fa0273cb",
   "metadata": {},
   "source": [
    "又例如索引值`5`超出了`lst`列表索引数，引发`IndexError`异常。"
   ]
  },
  {
   "cell_type": "code",
   "execution_count": 16,
   "id": "7c5b5b88-9d32-4cbc-999b-d03333142708",
   "metadata": {},
   "outputs": [
    {
     "ename": "IndexError",
     "evalue": "list index out of range",
     "output_type": "error",
     "traceback": [
      "\u001b[1;31m---------------------------------------------------------------------------\u001b[0m",
      "\u001b[1;31mIndexError\u001b[0m                                Traceback (most recent call last)",
      "Input \u001b[1;32mIn [16]\u001b[0m, in \u001b[0;36m<cell line: 2>\u001b[1;34m()\u001b[0m\n\u001b[0;32m      1\u001b[0m lst\u001b[38;5;241m=\u001b[39m[\u001b[38;5;241m1\u001b[39m,\u001b[38;5;241m2\u001b[39m,\u001b[38;5;241m3\u001b[39m,\u001b[38;5;241m4\u001b[39m,\u001b[38;5;241m5\u001b[39m]\n\u001b[1;32m----> 2\u001b[0m element\u001b[38;5;241m=\u001b[39m\u001b[43mlst\u001b[49m\u001b[43m[\u001b[49m\u001b[38;5;241;43m5\u001b[39;49m\u001b[43m]\u001b[49m\n",
      "\u001b[1;31mIndexError\u001b[0m: list index out of range"
     ]
    }
   ],
   "source": [
    "lst=[1,2,3,4,5]\n",
    "element=lst[5]"
   ]
  },
  {
   "cell_type": "markdown",
   "id": "c62d6816-7993-4cb4-908b-1a5be9eed89a",
   "metadata": {},
   "source": [
    "内置异常的层次结构如下：\n",
    "\n",
    "```\n",
    "BaseException 所有内置异常的基类\n",
    " +-- SystemExit 此异常由 sys.exit() 函数引发\n",
    " +-- KeyboardInterrupt 当用户按下中断键 (通常为 Control-C 或 Delete) 时将被引发\n",
    " +-- GeneratorExit 当一个 generator 或 coroutine 被关闭时将被引发\n",
    " +-- Exception 所有内置的非系统退出类异常都派生自此类\n",
    "      +-- StopIteration 由内置函数 next() 和 iterator 的 __next__() 方法所引发，用来表示该迭代器不能产生下一项\n",
    "      +-- StopAsyncIteration 必须由一个 asynchronous iterator 对象的 __anext__() 方法来引发以停止迭代操作\n",
    "      +-- ArithmeticError 此基类用于派生针对各种算术类错误而引发的内置异常\n",
    "      |    +-- FloatingPointError 目前未被使用\n",
    "      |    +-- OverflowError 当算术运算的结果大到无法表示时将被引发\n",
    "      |    +-- ZeroDivisionError 当除法或取余运算的第二个参数为零时将被引发\n",
    "      +-- AssertionError 当 assert 语句失败时将被引发\n",
    "      +-- AttributeError 当属性引用或赋值失败时将被引发\n",
    "      +-- BufferError 当与 缓冲区(buffer) 相关的操作无法执行时将被引发\n",
    "      +-- EOFError 当 input() 函数未读取任何数据即达到文件结束条件 (EOF) 时将被引发\n",
    "      +-- ImportError 当 import 语句尝试加载模块遇到麻烦时将被引发\n",
    "      |    +-- ModuleNotFoundError ImportError 的子类，当一个模块无法被定位时将由 import 引发\n",
    "      +-- LookupError 此基类用于派生当映射或序列所使用的键或索引无效时引发的异常\n",
    "      |    +-- IndexError 当序列抽取超出范围时将被引发\n",
    "      |    +-- KeyError 当在现有键集合中找不到指定的映射（字典）键时将被引发\n",
    "      +-- MemoryError 当一个操作耗尽内存但情况仍可（通过删除一些对象）进行挽救时将被引发\n",
    "      +-- NameError 当某个局部或全局名称未找到时将被引发\n",
    "      |    +-- UnboundLocalError 当在函数或方法中对某个局部变量进行引用，但该变量并未绑定任何值时将被引发\n",
    "      +-- OSError 此异常在一个系统函数返回系统相关的错误时将被引发，此类错误包括 I/O 操作失败例如 \"文件未找到\" 或 \"磁盘已满\" 等（不包括非法参数类型或其他偶然性错误）\n",
    "      |    +-- BlockingIOError 当一个操作将会在设置为非阻塞操作的对象（例如套接字）上发生阻塞时将被引发\n",
    "      |    +-- ChildProcessError 当一个子进程上的操作失败时将被引发\n",
    "      |    +-- ConnectionError 与连接相关问题的基类\n",
    "      |    |    +-- BrokenPipeError ConnectionError 的子类，当试图写入一个管道而该管道的另一端已关闭，或者试图写入一个套接字而该套接字已关闭写入时将被引发\n",
    "      |    |    +-- ConnectionAbortedError ConnectionError 的子类，当一个连接尝试被对端中止时将被引发\n",
    "      |    |    +-- ConnectionRefusedError ConnectionError 的子类，当一个连接尝试被对端拒绝时将被引发\n",
    "      |    |    +-- ConnectionResetError ConnectionError 的子类，当一个连接尝试被对端重置时将被引发\n",
    "      |    +-- FileExistsError 当试图创建一个已存在的文件或目录时将被引发\n",
    "      |    +-- FileNotFoundError 将所请求的文件或目录不存在时将被引发\n",
    "      |    +-- InterruptedError 当系统调用被输入信号中断时将被引发\n",
    "      |    +-- IsADirectoryError 当请求对一个目录执行文件操作 (例如 os.remove()) 时将被引发\n",
    "      |    +-- NotADirectoryError 当请求对一个非目录执行目录操作 (例如 os.listdir()) 时将被引发\n",
    "      |    +-- PermissionError 当在没有足够访问权限的情况下试图执行某个操作时将被引发 —— 例如文件系统权限\n",
    "      |    +-- ProcessLookupError 当给定的进程不存在时将被引发\n",
    "      |    +-- TimeoutError 当一个系统函数在系统层级发生超时的情况下将被引发\n",
    "      +-- ReferenceError 此异常将在使用 weakref.proxy() 函数所创建的弱引用来访问该引用的某个已被作为垃圾回收的属性时被引发\n",
    "      +-- RuntimeError 当检测到一个不归属于任何其他类别的错误时将被引发\n",
    "      |    +-- NotImplementedError 此异常派生自 RuntimeError。在用户自定义的基类中，抽象方法应当在其要求所派生类重载该方法，或是在其要求所开发的类提示具体实现尚待添加时引发此异常\n",
    "      |    +-- RecursionError 此异常派生自 RuntimeError。 它会在解释器检测发现超过最大递归深度时被引发\n",
    "      +-- SyntaxError 当解析器遇到语法错误时引发\n",
    "      |    +-- IndentationError 与不正确的缩进相关的语法错误的基类\n",
    "      |         +-- TabError 当缩进包含对制表符和空格符不一致的使用时将被引发\n",
    "      +-- SystemError 当解释器发现内部错误，但情况看起来尚未严重到要放弃所有希望时将被引发\n",
    "      +-- TypeError 当一个操作或函数被应用于类型不适当的对象时将被引发\n",
    "      +-- ValueError 当操作或函数接收到具有正确类型但值不适合的参数，并且情况不能用更精确的异常例如 IndexError 来描述时将被引发\n",
    "      |    +-- UnicodeError 当发生与 Unicode 相关的编码或解码错误时将被引\n",
    "      |         +-- UnicodeDecodeError 当在解码过程中发生与 Unicode 相关的错误时将被引发\n",
    "      |         +-- UnicodeEncodeError 当在编码过程中发生与 Unicode 相关的错误时将被引发\n",
    "      |         +-- UnicodeTranslateError 在转写过程中发生与 Unicode 相关的错误时将被引发\n",
    "      +-- Warning 警告类别的基类\n",
    "           +-- DeprecationWarning 如果所发出的警告是针对其他 Python 开发者的，则以此作为与已弃用特性相关警告的基类\n",
    "           +-- PendingDeprecationWarning 对于已过时并预计在未来弃用，但目前尚未弃用的特性相关警告的基类\n",
    "           +-- RuntimeWarning 与模糊的运行时行为相关的警告的基类\n",
    "           +-- SyntaxWarning 与模糊的语法相关的警告的基类\n",
    "           +-- UserWarning 用户代码所产生警告的基类\n",
    "           +-- FutureWarning 如果所发出的警告是针对以 Python 所编写应用的最终用户的，则以此作为与已弃用特性相关警告的基类\n",
    "           +-- ImportWarning 与在模块导入中可能的错误相关的警告的基类\n",
    "           +-- UnicodeWarning 与 Unicode 相关的警告的基类\n",
    "           +-- BytesWarning 与 bytes 和 bytearray 相关的警告的基类\n",
    "           +-- EncodingWarning 与编码格式相关的警告的基类\n",
    "           +-- ResourceWarning 资源使用相关警告的基类\n",
    "```"
   ]
  },
  {
   "cell_type": "markdown",
   "id": "4fa780f6-9466-4cda-b0a2-ea666a6029c1",
   "metadata": {},
   "source": [
    "## 10.2 处理异常的方式\n",
    "\n",
    "__1.__\n",
    "\n",
    "```python\n",
    "try:\n",
    "    statements\n",
    "except [built-in exception/(exceptions)]:\n",
    "    statements\n",
    "```\n",
    "\n",
    "首先执行`try`代码块；如果没有触发异常，则跳过`except`代码块，执行完`try`代码块。如果在执行`try`代码块时发生了异常，则跳过代码块中剩余的部分。如果触发的异常与`except`关键字后指定的异常相匹配，则会执行`except`代码块，然后跳到`try/except`代码块之后执行；如果触发的异常与`except`语句中指定的异常不匹配，则它会被传递到外部的`try`语句中。如果没有找到处理程序，则是一个未处理异常且终止程序。"
   ]
  },
  {
   "cell_type": "code",
   "execution_count": 17,
   "id": "f06a05d1-b17d-4f36-9001-e275d7c5d989",
   "metadata": {},
   "outputs": [
    {
     "name": "stdin",
     "output_type": "stream",
     "text": [
      "Please enter a number: d\n"
     ]
    },
    {
     "name": "stdout",
     "output_type": "stream",
     "text": [
      "Oops! That was no valid number. Try again...\n"
     ]
    },
    {
     "name": "stdin",
     "output_type": "stream",
     "text": [
      "Please enter a number: 3\n"
     ]
    }
   ],
   "source": [
    "while True:\n",
    "    try:\n",
    "        x=int(input('Please enter a number:'))\n",
    "        break\n",
    "    except ValueError:\n",
    "        print('Oops! That was no valid number. Try again...')"
   ]
  },
  {
   "cell_type": "code",
   "execution_count": 18,
   "id": "2c3a776e-cd2b-4baa-a212-eb93e0858078",
   "metadata": {},
   "outputs": [
    {
     "name": "stdin",
     "output_type": "stream",
     "text": [
      "Please enter a number: 0\n"
     ]
    },
    {
     "ename": "ZeroDivisionError",
     "evalue": "division by zero",
     "output_type": "error",
     "traceback": [
      "\u001b[1;31m---------------------------------------------------------------------------\u001b[0m",
      "\u001b[1;31mZeroDivisionError\u001b[0m                         Traceback (most recent call last)",
      "Input \u001b[1;32mIn [18]\u001b[0m, in \u001b[0;36m<cell line: 2>\u001b[1;34m()\u001b[0m\n\u001b[0;32m      1\u001b[0m \u001b[38;5;28;01mwhile\u001b[39;00m \u001b[38;5;28;01mTrue\u001b[39;00m:\n\u001b[0;32m      2\u001b[0m     \u001b[38;5;28;01mtry\u001b[39;00m:\n\u001b[1;32m----> 3\u001b[0m         x\u001b[38;5;241m=\u001b[39m\u001b[38;5;241;43m9\u001b[39;49m\u001b[38;5;241;43m/\u001b[39;49m\u001b[38;5;28;43mint\u001b[39;49m\u001b[43m(\u001b[49m\u001b[38;5;28;43minput\u001b[39;49m\u001b[43m(\u001b[49m\u001b[38;5;124;43m'\u001b[39;49m\u001b[38;5;124;43mPlease enter a number:\u001b[39;49m\u001b[38;5;124;43m'\u001b[39;49m\u001b[43m)\u001b[49m\u001b[43m)\u001b[49m\n\u001b[0;32m      4\u001b[0m         \u001b[38;5;28;01mbreak\u001b[39;00m\n\u001b[0;32m      5\u001b[0m     \u001b[38;5;28;01mexcept\u001b[39;00m \u001b[38;5;167;01mValueError\u001b[39;00m:\n",
      "\u001b[1;31mZeroDivisionError\u001b[0m: division by zero"
     ]
    }
   ],
   "source": [
    "while True:\n",
    "    try:\n",
    "        x=9/int(input('Please enter a number:'))\n",
    "        break\n",
    "    except ValueError:\n",
    "        print('Oops! That was no valid number. Try again...')"
   ]
  },
  {
   "cell_type": "markdown",
   "id": "539bbb4f-89b8-4148-acd3-5f7b9805a4c1",
   "metadata": {},
   "source": [
    "`except`后可以用`()`追加多个异常，只要满足其中一个，就执行`except`代码块。"
   ]
  },
  {
   "cell_type": "code",
   "execution_count": 20,
   "id": "b3d66385-188a-418d-ad76-ceeaf4877e52",
   "metadata": {},
   "outputs": [
    {
     "name": "stdin",
     "output_type": "stream",
     "text": [
      "Please enter a number: 0\n"
     ]
    },
    {
     "name": "stdout",
     "output_type": "stream",
     "text": [
      "Oops! That was no valid number or 0. Try again...\n"
     ]
    },
    {
     "name": "stdin",
     "output_type": "stream",
     "text": [
      "Please enter a number: 7\n"
     ]
    }
   ],
   "source": [
    "while True:\n",
    "    try:\n",
    "        x=9/int(input('Please enter a number:'))\n",
    "        break\n",
    "    except (ValueError, ZeroDivisionError): #或者使用ArithmeticError\n",
    "        print('Oops! That was no valid number or 0. Try again...')"
   ]
  },
  {
   "cell_type": "markdown",
   "id": "868c5350-79c8-4f0d-91ed-5fb92d8ee947",
   "metadata": {},
   "source": [
    "如果`except`后不指定异常，则触发任何存在的异常。"
   ]
  },
  {
   "cell_type": "code",
   "execution_count": 22,
   "id": "bb133838-6cbd-41f8-9135-436188fc1a76",
   "metadata": {},
   "outputs": [
    {
     "name": "stdin",
     "output_type": "stream",
     "text": [
      "Please enter a number: d\n"
     ]
    },
    {
     "name": "stdout",
     "output_type": "stream",
     "text": [
      "Oops! That was no valid number or 0. Try again...\n"
     ]
    },
    {
     "name": "stdin",
     "output_type": "stream",
     "text": [
      "Please enter a number: 0\n"
     ]
    },
    {
     "name": "stdout",
     "output_type": "stream",
     "text": [
      "Oops! That was no valid number or 0. Try again...\n"
     ]
    },
    {
     "name": "stdin",
     "output_type": "stream",
     "text": [
      "Please enter a number: 3\n"
     ]
    }
   ],
   "source": [
    "while True:\n",
    "    try:\n",
    "        x=9/int(input('Please enter a number:'))\n",
    "        break\n",
    "    except: \n",
    "        print('Oops! That was no valid number or 0. Try again...')"
   ]
  },
  {
   "cell_type": "markdown",
   "id": "d0f6a7d9-6718-4f48-a9d6-332453bdca08",
   "metadata": {},
   "source": [
    "__2.__\n",
    "\n",
    "```python\n",
    "try:\n",
    "    statements\n",
    "except exception as alias:\n",
    "    statements\n",
    "except exception(s):\n",
    "    statements\n",
    "except:\n",
    "    statements\n",
    "...\n",
    "```\n",
    "\n",
    "可以有多个`except`，根据异常不同执行不同的代码块。可以用`except exception as alias:`方式为异常定义别名(变量)，该变量绑定到一个异常实例并将参数存储在`instance.args`中。为了能够直接调入存储的参数而不必引用`.args`，该异常实例定义了`__str__()`，从而可以直接用定义的变量读取参数值。"
   ]
  },
  {
   "cell_type": "code",
   "execution_count": 24,
   "id": "92f1efc7-91b1-4fca-b454-c7169abe1ffb",
   "metadata": {},
   "outputs": [
    {
     "name": "stdout",
     "output_type": "stream",
     "text": [
      "1.5\n",
      "3\n"
     ]
    }
   ],
   "source": [
    "import sys\n",
    "\n",
    "try:\n",
    "    f = open('myfile.txt')\n",
    "    s = f.readline()\n",
    "    i = int(s.strip())\n",
    "except OSError as err:\n",
    "    print(\"OS error: {0}\".format(err))\n",
    "except ValueError:\n",
    "    print(\"Could not convert data to an integer.\")\n",
    "except BaseException as err:\n",
    "    print(f\"Unexpected {err=}, {type(err)=}\")\n",
    "    raise"
   ]
  },
  {
   "cell_type": "markdown",
   "id": "8fa4f006-f0f5-4a86-a9c5-bc90359b313b",
   "metadata": {},
   "source": [
    "__3.__\n",
    "\n",
    "```python\n",
    "try:\n",
    "    statements\n",
    "except:\n",
    "    statements\n",
    "else:\n",
    "    statements\n",
    "```\n",
    "\n",
    "`try...except`后可以跟随`else`， 当`try`代码块没有引发异常，但又必须执行的代码可以放置在`else`代码块中。如果将必须执行的代码块放置于`try`中，则可能会意外捕捉到`try...except`语句保护的代码触发的异常。"
   ]
  },
  {
   "cell_type": "code",
   "execution_count": 42,
   "id": "60c5cdfc-963e-441b-bb05-8072568d47c7",
   "metadata": {},
   "outputs": [
    {
     "name": "stdout",
     "output_type": "stream",
     "text": [
      "1.5\n",
      "3\n"
     ]
    }
   ],
   "source": [
    "def fetcher(obj,index):\n",
    "     print(obj[index])\n",
    "\n",
    "try:\n",
    "    obj=[9/i for i in range(1,10)]\n",
    "    index=5\n",
    "    fetcher(obj,index)    \n",
    "except IndexError:\n",
    "    print('ndexError:{}'.format(IndexError))\n",
    "else:\n",
    "    fetcher(list(range(10)),3)"
   ]
  },
  {
   "cell_type": "markdown",
   "id": "cc6e98fd-ef6d-45a6-b7f0-468ac04f922c",
   "metadata": {},
   "source": [
    "__4.触发异常（Raising Exceptions）__\n",
    "\n",
    "`raise`可以强制触发指定的异常。`raise`唯一的参数就是触发的异常。"
   ]
  },
  {
   "cell_type": "code",
   "execution_count": 44,
   "id": "4686a26c-6c58-44f0-987b-7dc8aa087710",
   "metadata": {},
   "outputs": [
    {
     "ename": "NameError",
     "evalue": "HiThere",
     "output_type": "error",
     "traceback": [
      "\u001b[1;31m---------------------------------------------------------------------------\u001b[0m",
      "\u001b[1;31mNameError\u001b[0m                                 Traceback (most recent call last)",
      "Input \u001b[1;32mIn [44]\u001b[0m, in \u001b[0;36m<cell line: 1>\u001b[1;34m()\u001b[0m\n\u001b[1;32m----> 1\u001b[0m \u001b[38;5;28;01mraise\u001b[39;00m \u001b[38;5;167;01mNameError\u001b[39;00m(\u001b[38;5;124m'\u001b[39m\u001b[38;5;124mHiThere\u001b[39m\u001b[38;5;124m'\u001b[39m)\n",
      "\u001b[1;31mNameError\u001b[0m: HiThere"
     ]
    }
   ],
   "source": [
    "raise NameError('HiThere')"
   ]
  },
  {
   "cell_type": "raw",
   "id": "e9d9276e-b70c-428e-bba0-5b7b987eb032",
   "metadata": {},
   "source": [
    "通过`raise`触发异常，并在`except`下打印该异常实例参数。"
   ]
  },
  {
   "cell_type": "code",
   "execution_count": 43,
   "id": "453e7a57-d9b0-49a5-90b6-ffa6011b0b37",
   "metadata": {},
   "outputs": [
    {
     "name": "stdout",
     "output_type": "stream",
     "text": [
      "<class 'Exception'>\n",
      "('spam', 'eggs')\n",
      "('spam', 'eggs')\n",
      "x = spam\n",
      "y = eggs\n"
     ]
    }
   ],
   "source": [
    "try:\n",
    "    raise Exception('spam', 'eggs')\n",
    "except Exception as inst:\n",
    "    print(type(inst))    # the exception instance\n",
    "    print(inst.args)     # arguments stored in .args\n",
    "    print(inst)          # __str__ allows args to be printed directly,\n",
    "                         # but may be overridden in exception subclasses\n",
    "    x, y = inst.args     # unpack args\n",
    "    print('x =', x)\n",
    "    print('y =', y)"
   ]
  },
  {
   "cell_type": "markdown",
   "id": "6ac12fcf-1151-4f85-8e5d-af24f3670aa3",
   "metadata": {},
   "source": [
    "如果只想判断是否触发了异常，但并不打算处理该异常，则可以使用更简单的 `raise` 语句重新触发异常。"
   ]
  },
  {
   "cell_type": "code",
   "execution_count": 45,
   "id": "2815c589-482f-460f-99b7-7a8f7727e9b7",
   "metadata": {},
   "outputs": [
    {
     "name": "stdout",
     "output_type": "stream",
     "text": [
      "An exception flew by!\n"
     ]
    },
    {
     "ename": "NameError",
     "evalue": "HiThere",
     "output_type": "error",
     "traceback": [
      "\u001b[1;31m---------------------------------------------------------------------------\u001b[0m",
      "\u001b[1;31mNameError\u001b[0m                                 Traceback (most recent call last)",
      "Input \u001b[1;32mIn [45]\u001b[0m, in \u001b[0;36m<cell line: 1>\u001b[1;34m()\u001b[0m\n\u001b[0;32m      1\u001b[0m \u001b[38;5;28;01mtry\u001b[39;00m:\n\u001b[1;32m----> 2\u001b[0m     \u001b[38;5;28;01mraise\u001b[39;00m \u001b[38;5;167;01mNameError\u001b[39;00m(\u001b[38;5;124m'\u001b[39m\u001b[38;5;124mHiThere\u001b[39m\u001b[38;5;124m'\u001b[39m)\n\u001b[0;32m      3\u001b[0m \u001b[38;5;28;01mexcept\u001b[39;00m \u001b[38;5;167;01mNameError\u001b[39;00m:\n\u001b[0;32m      4\u001b[0m     \u001b[38;5;28mprint\u001b[39m(\u001b[38;5;124m'\u001b[39m\u001b[38;5;124mAn exception flew by!\u001b[39m\u001b[38;5;124m'\u001b[39m)\n",
      "\u001b[1;31mNameError\u001b[0m: HiThere"
     ]
    }
   ],
   "source": [
    "try:\n",
    "    raise NameError('HiThere')\n",
    "except NameError:\n",
    "    print('An exception flew by!')\n",
    "    raise"
   ]
  },
  {
   "cell_type": "markdown",
   "id": "3509ccee-a3fe-487b-a2af-164825a0cb92",
   "metadata": {},
   "source": [
    "__5.异常链（Exception Chaining）__\n",
    "\n",
    "`raise` 语句支持可选的`from` 子句，该子句用于启用链式异常"
   ]
  },
  {
   "cell_type": "code",
   "execution_count": 46,
   "id": "da7f020a-7ccc-4b2f-a0e7-6cc10764cb9b",
   "metadata": {},
   "outputs": [
    {
     "ename": "RuntimeError",
     "evalue": "Failed to open database",
     "output_type": "error",
     "traceback": [
      "\u001b[1;31m---------------------------------------------------------------------------\u001b[0m",
      "\u001b[1;31mConnectionError\u001b[0m                           Traceback (most recent call last)",
      "Input \u001b[1;32mIn [46]\u001b[0m, in \u001b[0;36m<cell line: 4>\u001b[1;34m()\u001b[0m\n\u001b[0;32m      4\u001b[0m \u001b[38;5;28;01mtry\u001b[39;00m:\n\u001b[1;32m----> 5\u001b[0m     \u001b[43mfunc\u001b[49m\u001b[43m(\u001b[49m\u001b[43m)\u001b[49m\n\u001b[0;32m      6\u001b[0m \u001b[38;5;28;01mexcept\u001b[39;00m \u001b[38;5;167;01mConnectionError\u001b[39;00m \u001b[38;5;28;01mas\u001b[39;00m exc:\n",
      "Input \u001b[1;32mIn [46]\u001b[0m, in \u001b[0;36mfunc\u001b[1;34m()\u001b[0m\n\u001b[0;32m      1\u001b[0m \u001b[38;5;28;01mdef\u001b[39;00m \u001b[38;5;21mfunc\u001b[39m():\n\u001b[1;32m----> 2\u001b[0m     \u001b[38;5;28;01mraise\u001b[39;00m \u001b[38;5;167;01mConnectionError\u001b[39;00m\n",
      "\u001b[1;31mConnectionError\u001b[0m: ",
      "\nThe above exception was the direct cause of the following exception:\n",
      "\u001b[1;31mRuntimeError\u001b[0m                              Traceback (most recent call last)",
      "Input \u001b[1;32mIn [46]\u001b[0m, in \u001b[0;36m<cell line: 4>\u001b[1;34m()\u001b[0m\n\u001b[0;32m      5\u001b[0m     func()\n\u001b[0;32m      6\u001b[0m \u001b[38;5;28;01mexcept\u001b[39;00m \u001b[38;5;167;01mConnectionError\u001b[39;00m \u001b[38;5;28;01mas\u001b[39;00m exc:\n\u001b[1;32m----> 7\u001b[0m     \u001b[38;5;28;01mraise\u001b[39;00m \u001b[38;5;167;01mRuntimeError\u001b[39;00m(\u001b[38;5;124m'\u001b[39m\u001b[38;5;124mFailed to open database\u001b[39m\u001b[38;5;124m'\u001b[39m) \u001b[38;5;28;01mfrom\u001b[39;00m \u001b[38;5;21;01mexc\u001b[39;00m\n",
      "\u001b[1;31mRuntimeError\u001b[0m: Failed to open database"
     ]
    }
   ],
   "source": [
    "def func():\n",
    "    raise ConnectionError\n",
    "\n",
    "try:\n",
    "    func()\n",
    "except ConnectionError as exc:\n",
    "    raise RuntimeError('Failed to open database') from exc"
   ]
  },
  {
   "cell_type": "markdown",
   "id": "74afef09-d489-43f8-82da-75880e828ebf",
   "metadata": {},
   "source": [
    "__6.自定义异常（User-defined Exceptions）__\n",
    "\n",
    "通过定义内置异常类，通常为`Exception`的子类来自定义异常。通常异常命名以`Error`结尾，类似标准异常的命名。同时，可以定义`__str__()`类，附加状态信息或者方法。"
   ]
  },
  {
   "cell_type": "code",
   "execution_count": 57,
   "id": "3e8a14f5-3ce4-48b3-b3e7-e50db85426ad",
   "metadata": {},
   "outputs": [
    {
     "name": "stdout",
     "output_type": "stream",
     "text": [
      "So you got an exception...\n",
      "got exception!\n"
     ]
    }
   ],
   "source": [
    "class AlreadyGotOneError(Exception): \n",
    "    def __str__(self):return 'So you got an exception...'\n",
    "    pass  #自定义异常\n",
    "\n",
    "def grail():\n",
    "    raise AlreadyGotOneError #引发自定义异常\n",
    "\n",
    "try:\n",
    "    grail()\n",
    "except AlreadyGotOneError as ago_e:\n",
    "    print(ago_e)\n",
    "    print('got exception!')"
   ]
  },
  {
   "cell_type": "markdown",
   "id": "4c5b2f4c-c067-4d66-aea9-ac70798dfa05",
   "metadata": {},
   "source": [
    "__7.定义清理操作(Defining Clean-up Actions)__\n",
    "\n",
    "```python\n",
    "try:\n",
    "    statements\n",
    "finally:\n",
    "    statements\n",
    "```\n",
    "\n",
    "如果存在 finally 子句，则 finally 子句是 try 语句结束前执行的最后一项任务。不论 try 语句是否触发异常，都会执行 finally 子句。以下内容介绍了几种比较复杂的触发异常情景：\n",
    "\n",
    "* 如果执行 `try` 子句期间触发了某个异常，则某个 `except` 子句应处理该异常。如果该异常没有 `except` 子句处理，在 `finally` 子句执行后会被重新触发;\n",
    "\n",
    "* `except` 或 `else` 子句执行期间也会触发异常。 同样，该异常会在 `finally` 子句执行之后被重新触发;\n",
    "\n",
    "*  `finally` 子句中包含 `break`、`continue` 或 `return` 等语句，异常将不会被重新引发;\n",
    "\n",
    "* 如果执行 `try` 语句时遇到 `break`,、`continue` 或 `return` 语句，则 `finally` 子句在执行 `break`、`continue` 或 `return` 语句之前执行;\n",
    "\n",
    "* 如果 `finally` 子句中包含 `return` 语句，则返回值来自 `finally` 子句的某个 `return` 语句的返回值，而不是来自 `try` 子句的 `return` 语句的返回值。"
   ]
  },
  {
   "cell_type": "code",
   "execution_count": 58,
   "id": "66bb0891-a0f3-45c2-b0d3-9bd18ff7854c",
   "metadata": {},
   "outputs": [
    {
     "name": "stdout",
     "output_type": "stream",
     "text": [
      "Goodbye, world!\n"
     ]
    },
    {
     "ename": "KeyboardInterrupt",
     "evalue": "",
     "output_type": "error",
     "traceback": [
      "\u001b[1;31m---------------------------------------------------------------------------\u001b[0m",
      "\u001b[1;31mKeyboardInterrupt\u001b[0m                         Traceback (most recent call last)",
      "Input \u001b[1;32mIn [58]\u001b[0m, in \u001b[0;36m<cell line: 1>\u001b[1;34m()\u001b[0m\n\u001b[0;32m      1\u001b[0m \u001b[38;5;28;01mtry\u001b[39;00m:\n\u001b[1;32m----> 2\u001b[0m     \u001b[38;5;28;01mraise\u001b[39;00m \u001b[38;5;167;01mKeyboardInterrupt\u001b[39;00m\n\u001b[0;32m      3\u001b[0m \u001b[38;5;28;01mfinally\u001b[39;00m:\n\u001b[0;32m      4\u001b[0m     \u001b[38;5;28mprint\u001b[39m(\u001b[38;5;124m'\u001b[39m\u001b[38;5;124mGoodbye, world!\u001b[39m\u001b[38;5;124m'\u001b[39m)\n",
      "\u001b[1;31mKeyboardInterrupt\u001b[0m: "
     ]
    }
   ],
   "source": [
    "try:\n",
    "    raise KeyboardInterrupt\n",
    "finally:\n",
    "    print('Goodbye, world!')"
   ]
  },
  {
   "cell_type": "code",
   "execution_count": 59,
   "id": "b0131cc4-5ec9-4b56-b95f-028cbf78e621",
   "metadata": {},
   "outputs": [
    {
     "data": {
      "text/plain": [
       "False"
      ]
     },
     "execution_count": 59,
     "metadata": {},
     "output_type": "execute_result"
    }
   ],
   "source": [
    "def bool_return():\n",
    "    try:\n",
    "        return True\n",
    "    finally:\n",
    "        return False\n",
    "\n",
    "bool_return()"
   ]
  },
  {
   "cell_type": "markdown",
   "id": "3ebc678c-723d-4dac-9ba6-70fc2cf318cc",
   "metadata": {},
   "source": [
    "从下述案例可以看出，不管是不是触发了异常，`finally`代码块都会执行。"
   ]
  },
  {
   "cell_type": "code",
   "execution_count": 60,
   "id": "7c412b14-d407-477b-a590-dec19bf92175",
   "metadata": {},
   "outputs": [
    {
     "name": "stdout",
     "output_type": "stream",
     "text": [
      "result is 2.0\n",
      "executing finally clause\n"
     ]
    }
   ],
   "source": [
    "def divide(x, y):\n",
    "    try:\n",
    "        result = x / y\n",
    "    except ZeroDivisionError:\n",
    "        print(\"division by zero!\")\n",
    "    else:\n",
    "        print(\"result is\", result)\n",
    "    finally:\n",
    "        print(\"executing finally clause\")\n",
    "\n",
    "divide(2, 1)"
   ]
  },
  {
   "cell_type": "code",
   "execution_count": 61,
   "id": "91365ed6-ccb0-4971-88b3-32288dc060e2",
   "metadata": {},
   "outputs": [
    {
     "name": "stdout",
     "output_type": "stream",
     "text": [
      "division by zero!\n",
      "executing finally clause\n"
     ]
    }
   ],
   "source": [
    "divide(2, 0)"
   ]
  },
  {
   "cell_type": "code",
   "execution_count": 62,
   "id": "352388a8-03af-4ec0-886b-f2ce9437386d",
   "metadata": {},
   "outputs": [
    {
     "name": "stdout",
     "output_type": "stream",
     "text": [
      "executing finally clause\n"
     ]
    },
    {
     "ename": "TypeError",
     "evalue": "unsupported operand type(s) for /: 'str' and 'str'",
     "output_type": "error",
     "traceback": [
      "\u001b[1;31m---------------------------------------------------------------------------\u001b[0m",
      "\u001b[1;31mTypeError\u001b[0m                                 Traceback (most recent call last)",
      "Input \u001b[1;32mIn [62]\u001b[0m, in \u001b[0;36m<cell line: 1>\u001b[1;34m()\u001b[0m\n\u001b[1;32m----> 1\u001b[0m \u001b[43mdivide\u001b[49m\u001b[43m(\u001b[49m\u001b[38;5;124;43m\"\u001b[39;49m\u001b[38;5;124;43m2\u001b[39;49m\u001b[38;5;124;43m\"\u001b[39;49m\u001b[43m,\u001b[49m\u001b[43m \u001b[49m\u001b[38;5;124;43m\"\u001b[39;49m\u001b[38;5;124;43m1\u001b[39;49m\u001b[38;5;124;43m\"\u001b[39;49m\u001b[43m)\u001b[49m\n",
      "Input \u001b[1;32mIn [60]\u001b[0m, in \u001b[0;36mdivide\u001b[1;34m(x, y)\u001b[0m\n\u001b[0;32m      1\u001b[0m \u001b[38;5;28;01mdef\u001b[39;00m \u001b[38;5;21mdivide\u001b[39m(x, y):\n\u001b[0;32m      2\u001b[0m     \u001b[38;5;28;01mtry\u001b[39;00m:\n\u001b[1;32m----> 3\u001b[0m         result \u001b[38;5;241m=\u001b[39m \u001b[43mx\u001b[49m\u001b[43m \u001b[49m\u001b[38;5;241;43m/\u001b[39;49m\u001b[43m \u001b[49m\u001b[43my\u001b[49m\n\u001b[0;32m      4\u001b[0m     \u001b[38;5;28;01mexcept\u001b[39;00m \u001b[38;5;167;01mZeroDivisionError\u001b[39;00m:\n\u001b[0;32m      5\u001b[0m         \u001b[38;5;28mprint\u001b[39m(\u001b[38;5;124m\"\u001b[39m\u001b[38;5;124mdivision by zero!\u001b[39m\u001b[38;5;124m\"\u001b[39m)\n",
      "\u001b[1;31mTypeError\u001b[0m: unsupported operand type(s) for /: 'str' and 'str'"
     ]
    }
   ],
   "source": [
    "divide(\"2\", \"1\")"
   ]
  },
  {
   "cell_type": "markdown",
   "id": "7240a3fb-c582-4787-8ea7-cc15d0a3a210",
   "metadata": {},
   "source": [
    "__8.预定义的清理操作(Predefined Clean-up Actions)__\n",
    "\n",
    "某些对象定义了不需要该对象时要执行的标准清理操作。无论使用该对象的操作是否成功，都会执行清理操作。\n",
    "\n",
    "例如下述案例，在语句执行完毕后，即使在处理时遇到问题，也都会关闭文件`f`。\n",
    "\n",
    "```python\n",
    "with open(\"myfile.txt\") as f:\n",
    "    for line in f:\n",
    "        print(line, end=\"\")\n",
    "```"
   ]
  },
  {
   "cell_type": "markdown",
   "id": "bbd4eb56-a083-40eb-a06d-348c661bc9b7",
   "metadata": {},
   "source": [
    "<span style = \"color:Teal;background-color:;font-size:20.0pt\">是否完成PCS_10(&nbsp;&nbsp;&nbsp;&nbsp;&nbsp;&nbsp;)</span>"
   ]
  }
 ],
 "metadata": {
  "kernelspec": {
   "display_name": "Python 3 (ipykernel)",
   "language": "python",
   "name": "python3"
  },
  "language_info": {
   "codemirror_mode": {
    "name": "ipython",
    "version": 3
   },
   "file_extension": ".py",
   "mimetype": "text/x-python",
   "name": "python",
   "nbconvert_exporter": "python",
   "pygments_lexer": "ipython3",
   "version": "3.8.13"
  }
 },
 "nbformat": 4,
 "nbformat_minor": 5
}
