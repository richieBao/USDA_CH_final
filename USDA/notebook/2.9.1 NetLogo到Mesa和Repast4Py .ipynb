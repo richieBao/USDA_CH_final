{
 "cells": [
  {
   "cell_type": "markdown",
   "id": "374c4d10-2d83-4598-ac61-f85bbbdc52b3",
   "metadata": {},
   "source": [
    "> Created on Wed Jan 25 16:02:37 2023 @author: Richie Bao-caDesign设计(cadesign.cn)"
   ]
  },
  {
   "cell_type": "markdown",
   "id": "089a48a0-fa00-4314-8cbf-456a042d4a42",
   "metadata": {},
   "source": [
    "## 2.9.1 从NetLogo到Mesa和Repast4Py \n",
    "\n",
    "### 2.8.4.1 数据\n",
    "\n",
    "#### 3）土地"
   ]
  },
  {
   "cell_type": "code",
   "execution_count": null,
   "id": "68708bd0-7b8f-4430-b021-f5f21cd618f5",
   "metadata": {},
   "outputs": [],
   "source": []
  },
  {
   "cell_type": "code",
   "execution_count": null,
   "id": "3bd7878b-7ce3-42ab-a571-44b32649197a",
   "metadata": {},
   "outputs": [],
   "source": []
  },
  {
   "cell_type": "code",
   "execution_count": null,
   "id": "68112624-37cf-49c2-929f-e1e0fc370bd1",
   "metadata": {},
   "outputs": [],
   "source": []
  },
  {
   "cell_type": "code",
   "execution_count": null,
   "id": "04f7b45e-a088-46d4-927b-05c07da51f30",
   "metadata": {},
   "outputs": [],
   "source": []
  },
  {
   "cell_type": "code",
   "execution_count": null,
   "id": "148d6a51-ea35-41b5-a465-a754a25724a1",
   "metadata": {},
   "outputs": [],
   "source": []
  },
  {
   "cell_type": "code",
   "execution_count": null,
   "id": "c5673303-d0e1-4693-9800-534241fd53b1",
   "metadata": {},
   "outputs": [],
   "source": []
  },
  {
   "cell_type": "code",
   "execution_count": null,
   "id": "3389e44b-5241-44d1-9494-ee7d10d3921d",
   "metadata": {},
   "outputs": [],
   "source": []
  },
  {
   "cell_type": "code",
   "execution_count": null,
   "id": "8128a932-027a-4765-b29c-a5b5394498b1",
   "metadata": {},
   "outputs": [],
   "source": []
  },
  {
   "cell_type": "code",
   "execution_count": null,
   "id": "01364736-b19a-4172-a397-c163ed88bc29",
   "metadata": {},
   "outputs": [],
   "source": []
  },
  {
   "cell_type": "code",
   "execution_count": null,
   "id": "48b846c1-c7dd-4d33-a786-5248f95baa10",
   "metadata": {},
   "outputs": [],
   "source": []
  },
  {
   "cell_type": "code",
   "execution_count": null,
   "id": "b687a017-9c8c-4773-a43f-217c5ce21e37",
   "metadata": {},
   "outputs": [],
   "source": []
  },
  {
   "cell_type": "code",
   "execution_count": null,
   "id": "dd886b2f-8d0e-4084-b471-483f2abc2f12",
   "metadata": {},
   "outputs": [],
   "source": []
  },
  {
   "cell_type": "code",
   "execution_count": null,
   "id": "7d62d931-8b6f-42e4-9927-78339290d1e2",
   "metadata": {},
   "outputs": [],
   "source": []
  },
  {
   "cell_type": "code",
   "execution_count": null,
   "id": "f1407f58-28cf-49c9-8644-bd6fee403a44",
   "metadata": {},
   "outputs": [],
   "source": []
  },
  {
   "cell_type": "markdown",
   "id": "52a61d94-f1dd-4033-b345-683276a7504b",
   "metadata": {},
   "source": [
    "注释（Notes）：\n",
    "\n",
    "① "
   ]
  },
  {
   "cell_type": "markdown",
   "id": "426c26f9-680a-4ac0-b56f-22e5318e45f9",
   "metadata": {},
   "source": [
    "参考文献（References）:\n",
    "\n",
    "[1]"
   ]
  }
 ],
 "metadata": {
  "kernelspec": {
   "display_name": "Python 3 (ipykernel)",
   "language": "python",
   "name": "python3"
  },
  "language_info": {
   "codemirror_mode": {
    "name": "ipython",
    "version": 3
   },
   "file_extension": ".py",
   "mimetype": "text/x-python",
   "name": "python",
   "nbconvert_exporter": "python",
   "pygments_lexer": "ipython3",
   "version": "3.8.15"
  }
 },
 "nbformat": 4,
 "nbformat_minor": 5
}
