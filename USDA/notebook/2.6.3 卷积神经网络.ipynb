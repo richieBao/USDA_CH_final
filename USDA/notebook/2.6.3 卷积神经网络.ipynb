{
 "cells": [
  {
   "cell_type": "markdown",
   "id": "6524b063-bbc5-41ab-a77c-504891eb7deb",
   "metadata": {},
   "source": [
    "> Created on Tue Jan 12 13:48:15 2021 @author: Richie Bao-caDesign设计(cadesign.cn)__+updated on Sun Jan  9 16:29:44 2022 by Richie Bao "
   ]
  },
  {
   "cell_type": "markdown",
   "id": "3df3a9ca-3829-4d0e-847d-cc412eea42bd",
   "metadata": {},
   "source": [
    "## 2.6.3 卷积神经网络\n",
    "\n",
    "### 2.6.3.1 卷积神经网络(Convolutional neural network, CNN)—— 卷积原理与卷积神经网络\n",
    "\n",
    "在阅读卷积神经网络(CNNs)之前，如果已经阅读‘卷积’，‘计算机视觉，特征提取和尺度空间’等部分章节，可以更好的理解CNNs。其中‘尺度空间’的概念，通过降采样的不同空间分辨率影像（类似池化，pooLing）和不同$\\sigma$值的高斯核卷积(即卷积计算或称为互相关运算)，来提取图像的概貌特征，这与CNNs的多层卷积网络如出一辙，只是CNNs除了卷积层，还可以自由加入其它的数据处理层，提升图像特征捕捉的几率。\n",
    "\n",
    "一幅图像的意义来自于邻近的一组像素，而不是单个像素自身，因为单个像素并不包含关于整个图像的信息。例如下图(引自*PyTorch Artificial Intelligence Fundamentals*)很好的说明了这两者的差异。一个全连接的神经网络（密集层，dense layer），一层的每个节点都连接到下一层的每个节点，并不能很好的反映节点之间的关系，也具有较大的计算量；但是卷积网络利用像素之间的空间结构减少了层之间的连接数量，显著提高了训练的速度，减少了模型的参数，更重要的是反映了图像特征像素之间的关系，即图像内容中各个对象是由自身与邻近像素关系决定的空间结构（即特征）所表述。\n",
    "\n",
    "<a href=\"\"><img src=\"./imgs/2_6_3_01.jpg\" height='auto' width='700' title=\"caDesign\"></a>\n",
    "\n",
    "二维卷积层的卷积计算，就是表征图像的数组shape(c,h,w)（如果为灰度图像则只有一个颜色通道，如果是彩色图像(RGB)则有三个图像通道），每个通道(h,w)二维数组中每一像素，与卷积核(filter/kernal)的加权和计算。这个过程存在一些可变动的因素：一个是步幅(stride)，卷积窗口（卷积核）从输入数组（二维图像数组）的最左上方开始，按从左到右，从上往下的顺序，依次在输入数组上滑动，每次滑动的行数和列数称为步幅。步幅越小代表扑捉不同内容对象的精度越高。下述图表（参考[*Convolutional Neural Networks*](https://cs231n.github.io/convolutional-networks/)）卷积核的滑动步幅为2，即行列均跨2步后计算；二是填充(padding)，如果不设置填充，并且从左上角滑动，会有一部分卷积核对应空值（没有图像/数据）。同时要保持四周填充的行列数相同，通常使用奇数高宽的卷积核；三是，如果是对图像数据实现卷积，通常包括1个单通道，或3个多通道的情况。对于多通道的计算是可以配置不同的卷积核对应不同的通道，各自通道分别卷积后，计算和（累加）作为结果输出。同时可以增加并行的新的卷积计算，获取多个输出，例如下图的Filter W0，和Filter W1的($3 \\times 3$)卷积核，W0和W1各自包含3个卷积核对应3个通道输入，并各自输出。\n",
    "\n",
    "卷积运算，步幅、填充配置，以及多通道卷积都没有改变图像的空间尺寸（空间分辨率），即尺度空间概念下降采样的表述（可以反映不同对象的尺度大小，或理解为只有在不同的尺度下才可以捕捉到对象的特征）。池化层(pooling)正是降采样在卷积神经网络中的表述，可以降低输入的空间维数，保留输入的深度。在图像卷积过程中，识别出比实际像素信息更多的概念意义，识别保留输入的关键信息，丢弃冗余部分。池化层不仅捕捉尺度空间下的对象特征，同时可以减少训练所需时间，减小模型的参数数量，降低模型复杂度，更好的泛化等。池化层可以用`nn.MaxPool2d`，取最大值；`nn.AvgPool2d`，取均值等方法。\n",
    "\n",
    "<a href=\"\"><img src=\"./imgs/2_6_3_02.jpg\" height='auto' width='auto' title=\"caDesign\"></a>\n",
    "\n",
    "卷积层和池化层都有一个`dilation`参数，可以翻译为膨胀。通过dilation配置，可以调整卷积核与图像的作用域，即感受野（receptive filed）。当$3 \\times 3$的卷积核dilation=1时，没有膨胀效应；当dilation=2时，感受野扩展至$7 \\times 7$；当dilation=24时，感受野扩展至$15 \\times 15$。可以确定当dilation线性增加时，感受野时呈指数增加。\n",
    "\n",
    "<a href=\"\"><img src=\"./imgs/2_6_3_03.jpg\" height='auto' width='1000' title=\"caDesign\"></a>\n",
    "\n",
    "\n",
    ">  参考文献：\n",
    "1. Jibin Mathew.PyTorch Artificial Intelligence Fundamentals: A recipe-based approach to design, build and deploy your own AI models with PyTorch 1.x[m].UK:Packt Publishing (February 28, 2020)\n",
    "2. Aston Zhang,Zack C. Lipton,Mu Li,etc.Dive into Deep Learning[M].；中文版-阿斯顿.张,李沐,扎卡里.C. 立顿,亚历山大.J. 斯莫拉.动手深度学习[M].人民邮电出版社,北京,2019-06-01\n",
    "3. [Convolutional Neural Networks (CNNs / ConvNets)](https://cs231n.github.io/convolutional-networks/)\n",
    "4. [Understanding 2D Dilated Convolution Operation with Examples in Numpy and Tensorflow with Interactive Code](https://towardsdatascience.com/understanding-2d-dilated-convolution-operation-with-examples-in-numpy-and-tensorflow-with-d376b3972b25)\n",
    "\n",
    "建立图表中的输入数据`t_input`，张量形状为(batchsize, nChannels, Height, Width)=(1,3,7,7)，即只有一幅图像，通道数为3，高度为7，宽度为7。通常查看时，只要确定最后一维内的数据为图像每一行的像素值（由上至下）。PyTorch提供的`nn.Conv2d`卷积方法不需自定义卷积核，其参数为`torch.nn.Conv2d(in_channels: int, out_channels: int, kernel_size: Union[T, Tuple[T, T]], stride: Union[T, Tuple[T, T]] = 1, padding: Union[T, Tuple[T, T]] = 0, dilation: Union[T, Tuple[T, T]] = 1, groups: int = 1, bias: bool = True, padding_mode: str = 'zeros')`。如果需要自定义卷积核，则调用`torch.nn.functional.conv2d`方法，其中`weight`参数即为卷积核，其输入参数为`torch.nn.functional.conv2d(input, weight, bias=None, stride=1, padding=0, dilation=1, groups=1) → Tensor`。"
   ]
  },
  {
   "cell_type": "code",
   "execution_count": 1,
   "id": "d7d4a28a-770f-417a-b1ea-8baf3876929f",
   "metadata": {},
   "outputs": [
    {
     "name": "stdout",
     "output_type": "stream",
     "text": [
      "t_input.shape=torch.Size([1, 3, 7, 7])\n"
     ]
    },
    {
     "data": {
      "text/plain": [
       "tensor([[[[ 0.0716,  0.4418,  0.2253],\n",
       "          [ 0.5419,  1.3328,  0.6916],\n",
       "          [-0.5093, -0.2429,  0.3159]],\n",
       "\n",
       "         [[-0.5181,  0.4435, -0.2968],\n",
       "          [-0.5857, -0.9900, -0.4077],\n",
       "          [-0.4969, -0.1312, -0.1665]]]], grad_fn=<ThnnConv2DBackward0>)"
      ]
     },
     "execution_count": 1,
     "metadata": {},
     "output_type": "execute_result"
    }
   ],
   "source": [
    "import torch\n",
    "import torch.nn as nn\n",
    "\n",
    "#batchsize, nChannels, Height, Width\n",
    "t_input=torch.tensor([[[[0,0,0,0,0,0,0],[0,2,2,2,0,0,0],[0,1,0,2,0,0,0],[0,0,0,1,0,1,0],[0,1,1,1,1,0,0],[0,2,2,0,0,0,0],[0,0,0,0,0,0,0]],\n",
    "                      [[0,0,0,0,0,0,0],[0,1,2,1,1,1,0],[0,2,1,0,1,1,0],[0,0,0,0,0,1,0],[0,2,0,2,1,1,0],[0,0,2,0,1,2,0],[0,0,0,0,0,0,0]],\n",
    "                      [[0,0,0,0,0,0,0],[0,1,0,0,1,1,0],[0,1,0,2,0,1,0],[0,2,0,1,2,1,0],[0,1,2,1,2,2,0],[0,1,1,2,0,0,0],[0,0,0,0,0,0,0]],\n",
    "                     ]],dtype=torch.float)\n",
    "print(\"t_input.shape={}\".format(t_input.shape))\n",
    "conv_2d_3c=nn.Conv2d(in_channels=3, out_channels=2, kernel_size=3,stride=2,padding=0,bias=1)\n",
    "conv_2d_3c(t_input)"
   ]
  },
  {
   "cell_type": "code",
   "execution_count": 2,
   "id": "38c6ff56-2ea9-4481-879f-b88d08454171",
   "metadata": {},
   "outputs": [
    {
     "name": "stdout",
     "output_type": "stream",
     "text": [
      "tensor([[[[ 0., -2., -1.],\n",
      "          [-4.,  1., -2.],\n",
      "          [ 2., -4.,  0.]]]])\n",
      "tensor([[[[7., 7., 3.],\n",
      "          [3., 4., 4.],\n",
      "          [1., 2., 2.]]]])\n"
     ]
    }
   ],
   "source": [
    "import torch.nn.functional as F\n",
    "w_0=torch.tensor([[[[-1, 1, 0],\n",
    "                    [ 0,-1, 0],\n",
    "                    [-1,-1, 1]],\n",
    "\n",
    "                   [[0,-1,-1],\n",
    "                    [-1,1,1],\n",
    "                    [-1,-1,1]],\n",
    "\n",
    "                   [[-1,1,0],\n",
    "                    [0,0,1],\n",
    "                    [0,0,-1]]]],dtype=torch.float)\n",
    "\n",
    "w_1=torch.tensor([[[[0, -1, -1],\n",
    "                    [ 1,-1, 1],\n",
    "                    [1,1, 1]],\n",
    "\n",
    "                   [[0,0,1],\n",
    "                    [0,1,1],\n",
    "                    [0,1,0]],\n",
    "\n",
    "                   [[0,0,0],\n",
    "                    [0,0,1],\n",
    "                    [0,1,-1]]]],dtype=torch.float)\n",
    "\n",
    "b_0=torch.tensor([1])\n",
    "b_1=torch.tensor([0])\n",
    "output_0=F.conv2d(input=t_input,weight=w_0,stride=2,padding=0,bias=b_0)\n",
    "output_1=F.conv2d(input=t_input,weight=w_1,stride=2,padding=0,bias=b_1)\n",
    "print(output_0)\n",
    "print(output_1)"
   ]
  },
  {
   "cell_type": "markdown",
   "id": "b1adcf18-2f2f-4f4c-8947-faa49f57a91c",
   "metadata": {},
   "source": [
    "最大池化，即设定池化（卷积核）大小，返回覆盖范围内最大值，其参数为`torch.nn.MaxPool2d(kernel_size: Union[T, Tuple[T, ...]], stride: Optional[Union[T, Tuple[T, ...]]] = None, padding: Union[T, Tuple[T, ...]] = 0, dilation: Union[T, Tuple[T, ...]] = 1, return_indices: bool = False, ceil_mode: bool = False)`。"
   ]
  },
  {
   "cell_type": "code",
   "execution_count": 3,
   "id": "22545e82-5c5e-4b5e-8921-1049327c7dc4",
   "metadata": {},
   "outputs": [
    {
     "name": "stdout",
     "output_type": "stream",
     "text": [
      "输入数据形状=torch.Size([1, 3, 3])\n"
     ]
    },
    {
     "data": {
      "text/plain": [
       "tensor([[[1., 1.],\n",
       "         [2., 1.]]])"
      ]
     },
     "execution_count": 3,
     "metadata": {},
     "output_type": "execute_result"
    }
   ],
   "source": [
    "pooling_input=torch.tensor([[[0,-2,-1],[-4,1,-2],[2,-4,0]]],dtype=torch.float)\n",
    "print(\"输入数据形状={}\".format(pooling_input.shape))\n",
    "\n",
    "maxPool_2d=nn.MaxPool2d(kernel_size=2,stride=1)\n",
    "maxPool_2d(pooling_input)"
   ]
  },
  {
   "cell_type": "markdown",
   "id": "f5390a60-7d84-45e8-947f-e11f136914fb",
   "metadata": {},
   "source": [
    "### 2.6.3.2 卷积_特征提取器--->_分类器，可视化卷积层/卷积核，及tensorboard\n",
    "\n",
    "#### 1）卷积层，池化层输出尺寸（形状）计算，及根据输入输出尺寸反推填充pad\n",
    "\n",
    "构建卷积神经网络，很重要的一步是确定图像经过一次或多次卷积后，输出的尺寸，用于分类器（线性模型，全连接层）的输入。在PyTorch的['torch.nn.Conv2d'](https://pytorch.org/docs/stable/generated/torch.nn.Conv2d.html)类方法说明中都会给出卷积输出的尺寸计算公式，但是手工的计算方式容易出错，并且耗时耗力，因此通常将其编写为代码程序。池化层的输出尺寸计算实际上与卷积的输出相同，但是为了区分，仍然在`conv2d_output_size_calculation`类中，增加了` pooling_output_shape`方法（直接调用`conv2d_output_shape`）。卷积的方式除了给定h_w/图像高宽，kernel_size/卷积核（过滤器，filter）,stride/步幅，pad/填充，以及dilation/膨胀参数，卷积核的初始位置可以分为：以卷积核左上角对位图像左上角第一个像素值开始由左-->右，由上-->下卷积计算，即`conv2d_output_shape`函数； 以卷积核右下角对位图像左上角第一个像素值开始由左-->右，由上-->下卷积计算，即`convtransp2d_output_shape`函数。\n",
    "\n",
    "同时，也可以根据卷积的输入和输出的尺寸，反推填充的大小，对应卷积核初始位置的不同分别为`conv2d_get_padding`和`convtransp2d_get_padding`函数。\n",
    "\n",
    "对于卷积神经网络'net_fashionMNIST'的网络结构如下：\n",
    "\n",
    "<a href=\"\"><img src=\"./imgs/2_6_3_04.jpg\" height='auto' width='1000' title=\"caDesign\"></a>\n",
    "\n",
    "输入图像的大小为$28 \\times 28$，经过卷积层conv1-->池化层pool-->卷积层conv2-->池化层pool后，图像尺寸的大小变为$4 \\times 4$，该值（卷积层的输出值）由自定义`conv2d_output_size_calculation`计算。注意两次池化，其参数值相同，因此卷积神经网络结构定义时，可以仅定义一个池化方法，用于生成不同位置的池化层。计算应用卷积提取特征部分的图像输出大小后，因为conv2+pool之后，输出的'out_channels'输出通道数配置为16，因此到分类器部分（线性函数/全连接层/展平层）的输入大小为$16 \\times 4 \\times 4 = 256$。"
   ]
  },
  {
   "cell_type": "code",
   "execution_count": 88,
   "id": "e51ce897-7132-45f4-a645-d2f67ecc71a5",
   "metadata": {},
   "outputs": [],
   "source": [
    "class conv2d_output_size_calculation:\n",
    "    '''\n",
    "    class - PyTorch 卷积层，池化层输出尺寸(shape)计算，及根据输入，输出尺寸(shape)反推pad填充大小\n",
    "    \n",
    "    @author:sytelus Shital Shah\n",
    "    Updated on Tue Jan 12 19:17:22 2021 @author: Richie Bao-caDesign设计(cadesign.cn)\n",
    "    '''   \n",
    "    \n",
    "    def num2tuple(self,num):\n",
    "        '''\n",
    "        function - 如果num=2，则返回(2,2)；如果num=(2,2)，则返回(2,2).\n",
    "        '''\n",
    "        return num if isinstance(num, tuple) else (num, num)\n",
    "    \n",
    "    def conv2d_output_shape(self,h_w, kernel_size=1, stride=1, pad=0, dilation=1):\n",
    "        import math\n",
    "        '''\n",
    "        funciton - 计算PyTorch的nn.Conv2d卷积方法的输出尺寸。以卷积核左上角对位图像左上角第一个像素值开始由左-->右，由上-->下卷积计算\n",
    "        '''\n",
    "        \n",
    "        h_w, kernel_size, stride, pad, dilation = self.num2tuple(h_w), \\\n",
    "            self.num2tuple(kernel_size), self.num2tuple(stride), self.num2tuple(pad), self.num2tuple(dilation)\n",
    "        pad = self.num2tuple(pad[0]), self.num2tuple(pad[1])\n",
    "        \n",
    "        h = math.floor((h_w[0] + sum(pad[0]) - dilation[0]*(kernel_size[0]-1) - 1) / stride[0] + 1)\n",
    "        w = math.floor((h_w[1] + sum(pad[1]) - dilation[1]*(kernel_size[1]-1) - 1) / stride[1] + 1)\n",
    "        \n",
    "        return h, w\n",
    "    \n",
    "    def convtransp2d_output_shape(self,h_w, kernel_size=1, stride=1, pad=0, dilation=1, out_pad=0):\n",
    "        '''\n",
    "        function - 以卷积核右下角对位图像左上角第一个像素值开始由左-->右，由上-->下卷积计算\n",
    "        '''\n",
    "        h_w, kernel_size, stride, pad, dilation, out_pad = self.num2tuple(h_w), \\\n",
    "            self.num2tuple(kernel_size), self.num2tuple(stride), self.num2tuple(pad), self.num2tuple(dilation), self.num2tuple(out_pad)\n",
    "        pad = self.num2tuple(pad[0]), self.num2tuple(pad[1])\n",
    "        \n",
    "        h = (h_w[0] - 1)*stride[0] - sum(pad[0]) + dilation[0]*(kernel_size[0]-1) + out_pad[0] + 1\n",
    "        w = (h_w[1] - 1)*stride[1] - sum(pad[1]) + dilation[1]*(kernel_size[1]-1) + out_pad[1] + 1\n",
    "        \n",
    "        return h, w\n",
    "    \n",
    "    def conv2d_get_padding(self,h_w_in, h_w_out, kernel_size=1, stride=1, dilation=1):\n",
    "        import math\n",
    "        '''\n",
    "        function - conv2d_output_shape 方法的逆，求填充pad\n",
    "        '''\n",
    "        h_w_in, h_w_out, kernel_size, stride, dilation = self.num2tuple(h_w_in), self.num2tuple(h_w_out), \\\n",
    "            self.num2tuple(kernel_size), self.num2tuple(stride), self.num2tuple(dilation)\n",
    "        \n",
    "        p_h = ((h_w_out[0] - 1)*stride[0] - h_w_in[0] + dilation[0]*(kernel_size[0]-1) + 1)\n",
    "        p_w = ((h_w_out[1] - 1)*stride[1] - h_w_in[1] + dilation[1]*(kernel_size[1]-1) + 1)\n",
    "        \n",
    "        return (math.floor(p_h/2), math.ceil(p_h/2)), (math.floor(p_w/2), math.ceil(p_w/2))  #((pad_up, pad_bottom)， (pad_left, pad_right))\n",
    "    \n",
    "    def convtransp2d_get_padding(self,h_w_in, h_w_out, kernel_size=1, stride=1, dilation=1, out_pad=0):\n",
    "        import math\n",
    "        '''\n",
    "        function - convtransp2d_output_shape 方法的逆，求填充pad\n",
    "        '''\n",
    "        h_w_in, h_w_out, kernel_size, stride, dilation, out_pad = self.num2tuple(h_w_in), self.num2tuple(h_w_out), \\\n",
    "            self.num2tuple(kernel_size), self.num2tuple(stride), self.num2tuple(dilation), self.num2tuple(out_pad)\n",
    "            \n",
    "        p_h = -(h_w_out[0] - 1 - out_pad[0] - dilation[0]*(kernel_size[0]-1) - (h_w_in[0] - 1)*stride[0]) / 2\n",
    "        p_w = -(h_w_out[1] - 1 - out_pad[1] - dilation[1]*(kernel_size[1]-1) - (h_w_in[1] - 1)*stride[1]) / 2\n",
    "        \n",
    "        return (math.floor(p_h/2), math.ceil(p_h/2)), (math.floor(p_w/2), math.ceil(p_w/2))\n",
    "    \n",
    "    def pooling_output_shape(self,h_w, kernel_size=1, stride=1, pad=0, dilation=1):\n",
    "        '''\n",
    "        function - pooling池化层输出尺寸，同conv2d_output_shape\n",
    "        '''\n",
    "        return self.conv2d_output_shape(h_w, kernel_size=kernel_size, stride=stride, pad=pad, dilation=dilation)"
   ]
  },
  {
   "cell_type": "code",
   "execution_count": 89,
   "id": "74f24f79-db71-4646-8c9d-4bd18617b46a",
   "metadata": {},
   "outputs": [
    {
     "name": "stdout",
     "output_type": "stream",
     "text": [
      "conv1_size=(24, 24)\n",
      "size_pool1=(12, 12)\n",
      "size_conv2=(8, 8)\n",
      "size_pool2=(4, 4)\n"
     ]
    }
   ],
   "source": [
    "conv2dSize_cal=conv2d_output_size_calculation()\n",
    "size_conv1=conv2dSize_cal.conv2d_output_shape(28, kernel_size=5, stride=1, pad=0, dilation=1)\n",
    "size_pool1=conv2dSize_cal.pooling_output_shape(24, kernel_size=2, stride=2, pad=0, dilation=1)\n",
    "size_conv2=conv2dSize_cal.conv2d_output_shape(12, kernel_size=5, stride=1, pad=0, dilation=1)\n",
    "size_pool2=conv2dSize_cal.pooling_output_shape(8, kernel_size=2, stride=2, pad=0, dilation=1)\n",
    "\n",
    "print(\"conv1_size={}\\nsize_pool1={}\\nsize_conv2={}\\nsize_pool2={}\".format(size_conv1,size_pool1,size_conv2,size_pool2))"
   ]
  },
  {
   "cell_type": "markdown",
   "id": "9fafc1f1-e020-4e9a-8670-e9805838e2a8",
   "metadata": {},
   "source": [
    "在设计卷积层，或者包含很多卷积层时，上述的方法可以进一步改进，定义一个函数可以一次性计算所有的卷积层。在输入参数设置时，使用了列表和元组的形式，固定输入参数'input'，'conv'和'pool'，值的参数依次为[h_w, kernel_size, stride, pad, dilation]。"
   ]
  },
  {
   "cell_type": "code",
   "execution_count": 90,
   "id": "d3b56def-2626-4f7b-9395-d3d87faeacd4",
   "metadata": {},
   "outputs": [
    {
     "name": "stdout",
     "output_type": "stream",
     "text": [
      "卷积层输出尺寸=(4, 4)\n"
     ]
    }
   ],
   "source": [
    "convs_params=[\n",
    "            ('input',(28,28)),\n",
    "            ('conv',[5,1,0,1]),  #h_w, kernel_size, stride, pad, dilation\n",
    "            ('pool',[2,2,0,1]),\n",
    "            ('conv',[5,1,0,1]),\n",
    "            ('pool',[2,2,0,1]),    \n",
    "            ]\n",
    "\n",
    "def conv2d_outputSize_A_oneTime(convs_params):\n",
    "    '''\n",
    "    fucntion - 一次性计算卷积输出尺寸\n",
    "    '''\n",
    "    conv2dSize_cal=conv2d_output_size_calculation()\n",
    "    for v in convs_params:\n",
    "        if v[0]=='input':\n",
    "            h_w=v[1]\n",
    "        elif v[0]=='conv' or v[0]=='pool':            \n",
    "            kernel_size, stride, pad, dilation=v[1]\n",
    "            h_w, kernel_size, stride, pad, dilation=conv2dSize_cal.num2tuple(h_w),conv2dSize_cal.num2tuple(kernel_size), conv2dSize_cal.num2tuple(stride),conv2dSize_cal.num2tuple(pad),conv2dSize_cal.num2tuple(dilation)\n",
    "            h_w=conv2dSize_cal.conv2d_output_shape(h_w, kernel_size, stride, pad, dilation)        \n",
    "    return h_w\n",
    " \n",
    "output_h_w=conv2d_outputSize_A_oneTime(convs_params)    \n",
    "print(\"卷积层输出尺寸={}\".format(output_h_w))"
   ]
  },
  {
   "cell_type": "markdown",
   "id": "8fd84562-dacd-4774-add4-84ef31658038",
   "metadata": {},
   "source": [
    "#### 2）构建简单的卷积神经网络识别fashionMNIST数据集，与tensorboard\n",
    "\n",
    "此处构建上图给出的神经网络结构，input-->conv1(relu)-->pool-->conv2(relu)-->pool--->fc1(relu)-->fc2(relu)-->fc3-->output，同时应用tensorboard可以写入并自动的根据写入的内容图示卷积神经网络结构，损失曲线，预测结果，样本信息，以及自定义的内容等。详细内容可以查看[torch.utils.tensorboard](https://pytorch.org/docs/stable/tensorboard.html)。\n",
    "\n",
    "> 参考：[Visualizing Models, Data, and Training with TensorBoard](https://pytorch.org/tutorials/intermediate/tensorboard_tutorial.html?highlight=fashion%20mnist)"
   ]
  },
  {
   "cell_type": "code",
   "execution_count": 2,
   "id": "aa0dfb03-4cb5-49f6-bfbd-f84b3cc7bfd1",
   "metadata": {},
   "outputs": [
    {
     "name": "stdout",
     "output_type": "stream",
     "text": [
      "Downloading http://fashion-mnist.s3-website.eu-central-1.amazonaws.com/train-images-idx3-ubyte.gz\n",
      "Downloading http://fashion-mnist.s3-website.eu-central-1.amazonaws.com/train-images-idx3-ubyte.gz to ./dataset/FashionMNIST_norm\\FashionMNIST\\raw\\train-images-idx3-ubyte.gz\n"
     ]
    },
    {
     "data": {
      "application/vnd.jupyter.widget-view+json": {
       "model_id": "6f26e25074784b6b92d5373e8f139e19",
       "version_major": 2,
       "version_minor": 0
      },
      "text/plain": [
       "  0%|          | 0/26421880 [00:00<?, ?it/s]"
      ]
     },
     "metadata": {},
     "output_type": "display_data"
    },
    {
     "name": "stdout",
     "output_type": "stream",
     "text": [
      "Extracting ./dataset/FashionMNIST_norm\\FashionMNIST\\raw\\train-images-idx3-ubyte.gz to ./dataset/FashionMNIST_norm\\FashionMNIST\\raw\n",
      "\n",
      "Downloading http://fashion-mnist.s3-website.eu-central-1.amazonaws.com/train-labels-idx1-ubyte.gz\n",
      "Downloading http://fashion-mnist.s3-website.eu-central-1.amazonaws.com/train-labels-idx1-ubyte.gz to ./dataset/FashionMNIST_norm\\FashionMNIST\\raw\\train-labels-idx1-ubyte.gz\n"
     ]
    },
    {
     "data": {
      "application/vnd.jupyter.widget-view+json": {
       "model_id": "cbc6b19afd364a8b8e1185e643d36b2b",
       "version_major": 2,
       "version_minor": 0
      },
      "text/plain": [
       "  0%|          | 0/29515 [00:00<?, ?it/s]"
      ]
     },
     "metadata": {},
     "output_type": "display_data"
    },
    {
     "name": "stdout",
     "output_type": "stream",
     "text": [
      "Extracting ./dataset/FashionMNIST_norm\\FashionMNIST\\raw\\train-labels-idx1-ubyte.gz to ./dataset/FashionMNIST_norm\\FashionMNIST\\raw\n",
      "\n",
      "Downloading http://fashion-mnist.s3-website.eu-central-1.amazonaws.com/t10k-images-idx3-ubyte.gz\n",
      "Downloading http://fashion-mnist.s3-website.eu-central-1.amazonaws.com/t10k-images-idx3-ubyte.gz to ./dataset/FashionMNIST_norm\\FashionMNIST\\raw\\t10k-images-idx3-ubyte.gz\n"
     ]
    },
    {
     "data": {
      "application/vnd.jupyter.widget-view+json": {
       "model_id": "4cabf23df2fa438b9c096efc4f4f7e0c",
       "version_major": 2,
       "version_minor": 0
      },
      "text/plain": [
       "  0%|          | 0/4422102 [00:00<?, ?it/s]"
      ]
     },
     "metadata": {},
     "output_type": "display_data"
    },
    {
     "name": "stdout",
     "output_type": "stream",
     "text": [
      "Extracting ./dataset/FashionMNIST_norm\\FashionMNIST\\raw\\t10k-images-idx3-ubyte.gz to ./dataset/FashionMNIST_norm\\FashionMNIST\\raw\n",
      "\n",
      "Downloading http://fashion-mnist.s3-website.eu-central-1.amazonaws.com/t10k-labels-idx1-ubyte.gz\n",
      "Downloading http://fashion-mnist.s3-website.eu-central-1.amazonaws.com/t10k-labels-idx1-ubyte.gz to ./dataset/FashionMNIST_norm\\FashionMNIST\\raw\\t10k-labels-idx1-ubyte.gz\n"
     ]
    },
    {
     "data": {
      "application/vnd.jupyter.widget-view+json": {
       "model_id": "94f7347c78f045a28ff3c5fc4862cd3d",
       "version_major": 2,
       "version_minor": 0
      },
      "text/plain": [
       "  0%|          | 0/5148 [00:00<?, ?it/s]"
      ]
     },
     "metadata": {},
     "output_type": "display_data"
    },
    {
     "name": "stdout",
     "output_type": "stream",
     "text": [
      "Extracting ./dataset/FashionMNIST_norm\\FashionMNIST\\raw\\t10k-labels-idx1-ubyte.gz to ./dataset/FashionMNIST_norm\\FashionMNIST\\raw\n",
      "\n"
     ]
    }
   ],
   "source": [
    "#01-下载/读取fashinMNIST数据，以及构建训练、测试可迭代对象。（如果已经下载，则直接读取）\n",
    "\n",
    "def load_fashionMNIST(root,batchsize=4,num_workers=2,resize=None,n_mean=0.5,n_std=0.5):\n",
    "    import torchvision\n",
    "    import torchvision.transforms as transforms\n",
    "    '''\n",
    "    function - 下载读取fashionMNIST数据集，并建立训练、测试可迭代数据集\n",
    "    '''\n",
    "    trans= [transforms.ToTensor(), #转换PIL图像或numpy.ndarray为tensor张量\n",
    "            transforms.Normalize((0.5,), (0.5,))] #torchvision.transforms.Normalize(mean, std, inplace=False)，用均值和标准差，标准化张量图像       \n",
    "    if resize:\n",
    "        trans.append(transforms.Resize(size=resize))  \n",
    "    transform=transforms.Compose(trans)\n",
    "    mnist_train=torchvision.datasets.FashionMNIST(root=root, train=True, download=True, transform=transform) \n",
    "    mnist_test=torchvision.datasets.FashionMNIST(root=root, train=False, download=True, transform=transform)\n",
    "\n",
    "    #DataLoade-读取小批量\n",
    "    import torch.utils.data as data_utils\n",
    "    batch_size=batchsize\n",
    "    num_workers=num_workers\n",
    "    trainloader=data_utils.DataLoader(mnist_train, batch_size=batch_size, shuffle=True, num_workers=num_workers)\n",
    "    testloader=data_utils.DataLoader(mnist_test, batch_size=batch_size, shuffle=False, num_workers=num_workers)\n",
    "    \n",
    "    return trainloader,testloader\n",
    "\n",
    "trainloader,testloader=load_fashionMNIST(root='./dataset/FashionMNIST_norm')\n",
    "classes=('T-shirt/top', 'Trouser', 'Pullover', 'Dress', 'Coat','Sandal', 'Shirt', 'Sneaker', 'Bag', 'Ankle Boot')"
   ]
  },
  {
   "cell_type": "code",
   "execution_count": 14,
   "id": "b59c5151-e368-485c-accb-2080f07b74be",
   "metadata": {},
   "outputs": [
    {
     "name": "stdout",
     "output_type": "stream",
     "text": [
      "net_fashionMNIST(\n",
      "  (conv1): Conv2d(1, 6, kernel_size=(5, 5), stride=(1, 1))\n",
      "  (pool): MaxPool2d(kernel_size=2, stride=2, padding=0, dilation=1, ceil_mode=False)\n",
      "  (conv2): Conv2d(6, 16, kernel_size=(5, 5), stride=(1, 1))\n",
      "  (fc1): Linear(in_features=256, out_features=120, bias=True)\n",
      "  (fc2): Linear(in_features=120, out_features=84, bias=True)\n",
      "  (fc3): Linear(in_features=84, out_features=10, bias=True)\n",
      ")\n"
     ]
    }
   ],
   "source": [
    "#02-定义网络结构，特征提取层+分类器\n",
    "\n",
    "import torch.nn as nn\n",
    "import torch.nn.functional as F\n",
    "\n",
    "class net_fashionMNIST(nn.Module):\n",
    "    def __init__(self):\n",
    "        super(net_fashionMNIST,self).__init__()\n",
    "        self.conv1=nn.Conv2d(1,6,5)\n",
    "        self.pool=nn.MaxPool2d(2,2)\n",
    "        self.conv2=nn.Conv2d(6,16,5)\n",
    "        self.fc1=nn.Linear(16*4*4,120) #torch.nn.Linear(in_features: int, out_features: int, bias: bool = True)\n",
    "        self.fc2=nn.Linear(120,84)\n",
    "        self.fc3=nn.Linear(84,10)\n",
    "    \n",
    "    def forward(self,x):\n",
    "        x=self.pool(F.relu(self.conv1(x)))\n",
    "        x=self.pool(F.relu(self.conv2(x)))\n",
    "        x=x.view(-1,16*4*4)\n",
    "        x=F.relu(self.fc1(x))\n",
    "        x=F.relu(self.fc2(x))\n",
    "        x=self.fc3(x)\n",
    "        return x\n",
    "net_fashionMNIST_=net_fashionMNIST()\n",
    "print(net_fashionMNIST_)\n",
    "\n",
    "#03-定义损失函数核优化算法\n",
    "\n",
    "import torch.optim as optim\n",
    "criterion=nn.CrossEntropyLoss() #定义损失函数\n",
    "optimizer=optim.SGD(net_fashionMNIST_.parameters(), lr=0.001, momentum=0.9) #定义优化算法"
   ]
  },
  {
   "cell_type": "code",
   "execution_count": 77,
   "id": "88fd52bf-2f76-4671-9973-00aff9f6bef1",
   "metadata": {},
   "outputs": [
    {
     "data": {
      "image/png": "[encoded data removed]",
      "text/plain": [
       "<Figure size 432x288 with 1 Axes>"
      ]
     },
     "metadata": {
      "needs_background": "light"
     },
     "output_type": "display_data"
    }
   ],
   "source": [
    "#04-定义显示图像函数（一个batch批次）\n",
    "\n",
    "import torchvision\n",
    "# helper functions\n",
    "def matplotlib_imshow(img, one_channel=False):\n",
    "    import matplotlib.pyplot as plt\n",
    "    import numpy as np    \n",
    "    if one_channel:\n",
    "        img = img.mean(dim=0)\n",
    "    img = img / 2 + 0.5     # unnormalize\n",
    "    npimg = img.numpy()\n",
    "    if one_channel:\n",
    "        plt.imshow(npimg, cmap=\"Greys\")\n",
    "    else:\n",
    "        plt.imshow(np.transpose(npimg, (1, 2, 0)))\n",
    "\n",
    "#05-调入初始化tensorboard.SummaryWriter（指定数据写入的保存路径），并写入训练图像与模型\n",
    "        \n",
    "from torch.utils.tensorboard import SummaryWriter\n",
    "# default `log_dir` is \"runs\" - we'll be more specific here\n",
    "writer=SummaryWriter(r'./runs/fashion_mnist_experiment_1')\n",
    "\n",
    "#提取图像（数量为batch_size） get some random training images\n",
    "dataiter=iter(trainloader)\n",
    "images,labels=dataiter.next()\n",
    "#建立图像格网 create grid of images\n",
    "img_grid = torchvision.utils.make_grid(images)\n",
    "#显示图像 show images\n",
    "matplotlib_imshow(img_grid, one_channel=True)\n",
    "\n",
    "# write to tensorboard\n",
    "writer.add_image('four_fashion_mnist_images', img_grid)\n",
    "\n",
    "writer.add_graph(net_fashionMNIST_, images)\n",
    "writer.close()"
   ]
  },
  {
   "cell_type": "markdown",
   "id": "8c508c37-3cd2-491f-9059-e3e9dd76e6a5",
   "metadata": {},
   "source": [
    "在终端，切换到tensorboard数据保存文件夹runs所在的目录，执行`tensorboard --logdir=runs`后，通常提示在浏览器中打开`http://localhost:6006/`地址，可以查看`writer.add_image('four_fashion_mnist_images', img_grid)`写入的训练图像信息内容(其语法为：`add_image(tag, img_tensor, global_step=None, walltime=None, dataformats='CHW')`)，如下：\n",
    "\n",
    "<a href=\"\"><img src=\"./imgs/2_6_3_05.png\" height='auto' width='1000' title=\"caDesign\"></a>\n",
    "\n",
    "`writer.add_graph(net_fashionMNIST_, images)`（其语法为：`add_graph(model, input_to_model=None, verbose=False)`），写入的信息内容下，可以查看网络结构及运算的流程，这对模型的构建与调整有所帮助。\n",
    "\n",
    "<a href=\"\"><img src=\"./imgs/2_6_3_06.png\" height='auto' width='1000' title=\"caDesign\"></a>\n",
    "\n",
    "下述在训练过程中，`riter.add_scalar('training loss',running_loss / 1000,epoch * len(trainloader) + i)`(其语法为：`add_scalar(tag, scalar_value, global_step=None, walltime=None)`)，写入损失数据图表，如下：\n",
    "\n",
    "<a href=\"\"><img src=\"./imgs/2_6_3_07.png\" height='auto' width='1000' title=\"caDesign\"></a>\n",
    "\n",
    "writer.add_figure('predictions vs. actuals',plot_classes_preds(net_fashionMNIST_, inputs, labels),global_step=epoch * len(trainloader) + i)(其语法为：`add_figure(tag, figure, global_step=None, close=True, walltime=None)`)，写入`plot_classes_preds`返回图表，包括图像，预测值及其概率，如下：\n",
    "\n",
    "<a href=\"\"><img src=\"./imgs/2_6_3_08.png\" height='auto' width='1000' title=\"caDesign\"></a>"
   ]
  },
  {
   "cell_type": "code",
   "execution_count": 5,
   "id": "788b13c8-5bda-4bee-b46f-a6dbc330e226",
   "metadata": {},
   "outputs": [],
   "source": [
    "#06-定义将图像应用训练的网络（模型）预测及其概率待写入tensorboard文件的函数\n",
    "\n",
    "def images_to_probs(net, images):\n",
    "    '''\n",
    "    function - 用训练的网络预测给定的一组图像，并计算相应的概率 Generates predictions and corresponding probabilities from a trainednetwork and a list of images\n",
    "    '''\n",
    "    output = net(images)\n",
    "    # convert output probabilities to predicted class\n",
    "    _, preds_tensor = torch.max(output, 1)\n",
    "    preds = np.squeeze(preds_tensor.numpy())\n",
    "    return preds, [F.softmax(el, dim=0)[i].item() for i, el in zip(preds, output)]\n",
    "\n",
    "def plot_classes_preds(net, images, labels):\n",
    "    import matplotlib.pyplot as plt\n",
    "    \n",
    "    '''\n",
    "    function - 用训练的网络预测给定的一组图像，并计算概率后，显示图像、预测值以及概率，和实际的标签 Generates matplotlib Figure using a trained network, along with images and labels from a batch, that shows the network's top prediction along with its probability, alongside the actual label, coloring this information based on whether the prediction was correct or not.\n",
    "    Uses the \"images_to_probs\" function.\n",
    "    '''\n",
    "    preds, probs = images_to_probs(net, images)\n",
    "    # plot the images in the batch, along with predicted and true labels\n",
    "    fig = plt.figure(figsize=(12, 48))\n",
    "    for idx in np.arange(4):\n",
    "        ax = fig.add_subplot(1, 4, idx+1, xticks=[], yticks=[])\n",
    "        matplotlib_imshow(images[idx], one_channel=True)\n",
    "        ax.set_title(\"{0}, {1:.1f}%\\n(label: {2})\".format(\n",
    "            classes[preds[idx]],\n",
    "            probs[idx] * 100.0,\n",
    "            classes[labels[idx]]),\n",
    "                    color=(\"green\" if preds[idx]==labels[idx].item() else \"red\"))\n",
    "    return fig"
   ]
  },
  {
   "cell_type": "code",
   "execution_count": 78,
   "id": "1bb78d18-228d-491d-a05e-e7694d437a3c",
   "metadata": {},
   "outputs": [
    {
     "data": {
      "application/vnd.jupyter.widget-view+json": {
       "model_id": "e2ee478dfcb643e98779988dfa693e44",
       "version_major": 2,
       "version_minor": 0
      },
      "text/plain": [
       "  0%|          | 0/1 [00:00<?, ?it/s]"
      ]
     },
     "metadata": {},
     "output_type": "display_data"
    },
    {
     "name": "stdout",
     "output_type": "stream",
     "text": [
      "epoch=0,running_loss=365.6714180938143\n",
      "Finished Training\n"
     ]
    }
   ],
   "source": [
    "#07-训练模型，同时向tensorboard文件写入相关信息\n",
    "\n",
    "from tqdm.auto import tqdm\n",
    "import torch\n",
    "import numpy as np\n",
    "running_loss = 0.0\n",
    "epochs=1\n",
    "for epoch in tqdm(range(epochs)):  # loop over the dataset multiple times\n",
    "    for i, data in enumerate(trainloader, 0):\n",
    "        # get the inputs; data is a list of [inputs, labels]\n",
    "        inputs, labels = data\n",
    "\n",
    "        # zero the parameter gradients\n",
    "        optimizer.zero_grad()\n",
    "\n",
    "        # forward + backward + optimize\n",
    "        outputs = net_fashionMNIST_(inputs)\n",
    "        loss = criterion(outputs, labels)\n",
    "        loss.backward()\n",
    "        optimizer.step()\n",
    "\n",
    "        running_loss += loss.item()                  \n",
    "        if i % 1000==999:    # every 1000 mini-batches...\n",
    "            # ...log the running loss\n",
    "            writer.add_scalar('training loss',running_loss / 1000,epoch * len(trainloader) + i) #写入损失数值\n",
    "\n",
    "            # ...log a Matplotlib Figure showing the model's predictions on a\n",
    "            # random mini-batch\n",
    "            writer.add_figure('predictions vs. actuals',plot_classes_preds(net_fashionMNIST_, inputs, labels),global_step=epoch * len(trainloader) + i)  #写入自定义函数  plot_classes_preds返回的图表，包括图像，预测值及其概率\n",
    "            loss_temp=running_loss\n",
    "            running_loss=0.0\n",
    "    \n",
    "    print(\"epoch={},running_loss={}\".format(epoch,loss_temp))     \n",
    "    loss_temp=0\n",
    "    \n",
    "print('Finished Training')"
   ]
  },
  {
   "cell_type": "markdown",
   "id": "4e9b2b32-773a-4138-bb30-b736e302ad55",
   "metadata": {},
   "source": [
    "#### 3）可视化卷积层/卷积核\n",
    "\n",
    "通常一个卷积层的输出通道（output channel）有6，16，32，64，256，等不确定的输出个数及更多的输出个数，即一个卷积层包含输出通道数目的filter/kernal过滤器/卷积核；而卷积核通过$3 \\times 3$，$5 \\times 5$，$7 \\times 7$，等不确定尺寸（通常为奇数）或者更大尺寸来提取图像的特征，不同的卷积核提取的图像特征不同，或者表述为不同的卷积核关注不同的特征提取，这类似于图像的关键点描述子（位于不同的尺度空间下）。不过因为卷积核的多样性，卷积提取的特征更加丰富多样。通过一个卷积层的多个卷积核（尺度空间的水平向，表述各个像素值与各周边像素值的差异程度），及多个卷积层（尺度空间的纵深向，表述图像特征所在的（对应的）空间分辨率，例如遥感影像看清建筑轮廓的空间分辨率约为5-15m，看清行人的空间分辨率约为0.3-1m，而若要看清人的五官，空间分辨率率则约为0.01-0.05m，这与对象（特征）的尺寸有关）提取了大量的图像特征，将这些图像特征flatten展平，就构成了该图像的特征集合(feature maps)。\n",
    "\n",
    "下述定义的`conv_retriever`类用于取回卷积神经网络中所有卷积层及其权重值（卷积核），取回的卷积层可以直接输入图像数据计算该卷积。例如上述网络取回的卷积层有两个。函数`visualize_convFilte`则可以打印显示卷积核。函数`visualize_convLaye`则能打印显示指定数目的所有卷积图像结果。\n",
    "\n",
    "> 参考 [Visualizing Filters and Feature Maps in Convolutional Neural Networks using PyTorch](https://debuggercafe.com/visualizing-filters-and-feature-maps-in-convolutional-neural-networks-using-pytorch/)"
   ]
  },
  {
   "cell_type": "code",
   "execution_count": 79,
   "id": "724aec37-3fce-47fe-b076-02e132f0e9a0",
   "metadata": {},
   "outputs": [
    {
     "name": "stdout",
     "output_type": "stream",
     "text": [
      "CONV: Conv2d(1, 6, kernel_size=(5, 5), stride=(1, 1)) ====> SHAPE: torch.Size([6, 1, 5, 5])\n",
      "CONV: Conv2d(6, 16, kernel_size=(5, 5), stride=(1, 1)) ====> SHAPE: torch.Size([16, 6, 5, 5])\n"
     ]
    }
   ],
   "source": [
    "class conv_retriever:\n",
    "    '''\n",
    "    class - 取回卷积神经网络中所有卷积层及其权重\n",
    "    '''\n",
    "    def __init__(self,net):\n",
    "        self.net=net\n",
    "        self.model_weights=[] # we will save the conv layer weights in this list\n",
    "        self.conv_layers=[] # we will save the 49 conv layers in this list\n",
    "        self.model_children=list(net.children()) # get all the model children as list\n",
    "        self.counter=0\n",
    "        \n",
    "    def retriever(self):\n",
    "        import torch.nn as nn\n",
    "        for i in range(len(self.model_children)):\n",
    "            if type(self.model_children[i])==nn.Conv2d:                \n",
    "                self.counter+=1\n",
    "                self.model_weights.append(self.model_children[i].weight)\n",
    "                self.conv_layers.append(self.model_children[i])\n",
    "            elif type(self.model_children[i])==nn.Sequential:\n",
    "                for j in range(len(self.model_children[i])):\n",
    "                    for child in self.model_children[i][j].children():\n",
    "                        if type(child)==nn.Conv2d:\n",
    "                            self.counter+=1\n",
    "                            self.model_weights.append(child.weight)\n",
    "                            self.conv_layers.append(child)       \n",
    "         \n",
    "        \n",
    "conv_retriever_=conv_retriever(net_fashionMNIST_)\n",
    "conv_retriever_.retriever()\n",
    "#print(conv_retriever_.conv_layers) #conv_retriever_.model_weights\n",
    "for weight, conv in zip(conv_retriever_.model_weights, conv_retriever_.conv_layers):\n",
    "    print(f\"CONV: {conv} ====> SHAPE: {weight.shape}\")"
   ]
  },
  {
   "cell_type": "markdown",
   "id": "bc0a8dfb-05a8-4fa9-9d16-980c73fc3830",
   "metadata": {},
   "source": [
    "卷积核显示中，像素越黑，值越小，趋于0；而像素越亮，值越大，趋于255.0。因此越白的像素，在卷积过程中对应位置图像的像素的权重越大，对特征影响越重。"
   ]
  },
  {
   "cell_type": "code",
   "execution_count": 80,
   "id": "f9fb2cd4-1c60-47ff-b2d3-c459361443ad",
   "metadata": {},
   "outputs": [
    {
     "data": {
      "image/png": "[encoded data removed]",
      "text/plain": [
       "<Figure size 720x720 with 6 Axes>"
      ]
     },
     "metadata": {
      "needs_background": "light"
     },
     "output_type": "display_data"
    }
   ],
   "source": [
    "def visualize_convFilter(conv_layer,model_weight,output_name,figsize=(10,10)):\n",
    "    import matplotlib.pyplot as plt\n",
    "    '''\n",
    "    function - 可视化卷积核 visualize the conv layer filters\n",
    "    '''\n",
    "    plt.figure(figsize=figsize)\n",
    "    kernel_size=conv_layer.kernel_size\n",
    "    for i,filter in enumerate(model_weight):\n",
    "        plt.subplot(kernel_size[0]+1,kernel_size[1]+1,i+1)\n",
    "        plt.imshow(filter[0,:,:].detach(),cmap='gray')\n",
    "        plt.axis('off')\n",
    "        plt.savefig(r'./results/%s'%output_name)\n",
    "    plt.show()        \n",
    "        \n",
    "visualize_convFilter(conv_retriever_.conv_layers[0],conv_retriever_.model_weights[0],output_name='fashion_MNIST_filter.png')"
   ]
  },
  {
   "cell_type": "markdown",
   "id": "aa9e9196-08fc-48f5-8649-bffaad734e1b",
   "metadata": {},
   "source": [
    "卷积（层）结果的显示，往往可以观察到不同的特征，例如明显的黑色区域轮廓为商标标识，对象的轮廓也能够通过代表不同颜色的值区分开来等。这为观察不同的卷积核提取了图像哪些特征，为相关研究或者网络调试提供参照。"
   ]
  },
  {
   "cell_type": "code",
   "execution_count": 81,
   "id": "f054dac0-29dd-45e2-8cdc-9a6f38be4203",
   "metadata": {},
   "outputs": [
    {
     "name": "stdout",
     "output_type": "stream",
     "text": [
      "num_layer:0,layer.size=torch.Size([6, 24, 24])\n",
      "\n",
      "Saving layer 0 feature maps...\n"
     ]
    },
    {
     "data": {
      "image/png": "[encoded data removed]",
      "text/plain": [
       "<Figure size 720x720 with 6 Axes>"
      ]
     },
     "metadata": {
      "needs_background": "light"
     },
     "output_type": "display_data"
    },
    {
     "name": "stdout",
     "output_type": "stream",
     "text": [
      "num_layer:1,layer.size=torch.Size([16, 20, 20])\n",
      "\n",
      "Saving layer 1 feature maps...\n"
     ]
    },
    {
     "data": {
      "image/png": "[encoded data removed]",
      "text/plain": [
       "<Figure size 720x720 with 6 Axes>"
      ]
     },
     "metadata": {
      "needs_background": "light"
     },
     "output_type": "display_data"
    }
   ],
   "source": [
    "def visualize_convLayer(imgs_batch,conv_layers,model_weights,num_show=6,figsize=(10,10)):\n",
    "    import matplotlib.pyplot as plt\n",
    "    '''\n",
    "    function - 可视化所有卷积层（卷积结果）\n",
    "    '''\n",
    "    results=[conv_layers[0](imgs_batch)]\n",
    "    for i in range(1,len(conv_layers)):\n",
    "        results.append(conv_layers[i](results[-1]))\n",
    "    outputs=results\n",
    "    \n",
    "    for num_layer in range(len(outputs)):\n",
    "        plt.figure(figsize=figsize)\n",
    "        layer_viz=outputs[num_layer][0,:,:,:]\n",
    "        layer_viz=layer_viz.data\n",
    "        print(\"num_layer:{},layer.size={}\".format(num_layer,layer_viz.size()))\n",
    "        \n",
    "        print()\n",
    "        kernel_size=conv_layers[num_layer].kernel_size\n",
    "        for i,filter in enumerate(layer_viz):\n",
    "            if i==num_show:\n",
    "                break\n",
    "            \n",
    "            plt.subplot(kernel_size[0]+1,kernel_size[1]+1,i+1)\n",
    "            plt.imshow(filter,cmap='gray')\n",
    "            plt.axis('off')\n",
    "        print(f\"Saving layer {num_layer} feature maps...\")\n",
    "        plt.savefig(f'./results/layer_{num_layer}.png')\n",
    "        plt.show()\n",
    "        #plt.close() #如果只保存，不需要显示打印，则可以开启plt.close()，并注释掉plt.show()      \n",
    "    \n",
    "visualize_convLayer(images,conv_retriever_.conv_layers,conv_retriever_.model_weights,num_show=6)    "
   ]
  },
  {
   "cell_type": "markdown",
   "id": "59122885-0190-43b3-aea8-ad5e745926c5",
   "metadata": {},
   "source": [
    "### 2.6.3.3 [torchvision.models](https://pytorch.org/docs/stable/torchvision/models.html)\n",
    "\n",
    "`torchvision.models`库包含有解决不同任务的预先模型定义(通过配置参数pretrained=True，可以下载已经训练模型的参数)，包括：image classification图像分类、pixelwise sementic segmentation像素语义分割、object detection对象检测、instance segmentation实例分割、person keypoint detection 人关键点检测和video classification视频分类等。目前包括的模型如下：\n",
    "\n",
    "| 用途      | 模型/网络 |\n",
    "| ----------- | ----------- |\n",
    "| Classification      | AlexNet, VGG,ResNet, SqueezeNet, DenseNet, Inception v3, GoogLeNet,ShuffleNet v2,MobileNet v2,ResNeXt, Wide ResNet, MNASNet|\n",
    "| Semantic Segmentation   | FCN ResNet50, ResNet101; DeepLabV3 ResNet50, ResNet101       |\n",
    "| Object Detection, Instance Segmentation and Person Keypoint Detection|Faster R-CNN ResNet-50 FPN ,Mask R-CNN ResNet-50 FPN|\n",
    "| Video classification|ResNet 3D,  ResNet Mixed Convolution,ResNet (2+1)D|\n",
    "\n",
    "#### 1） 自定义VGG网络\n",
    "VGG作者研究了在大规模图像识别设置中，卷积深度网络对精度的影响。其贡献是使用非常小的卷积核($3 \\times 3$)滤波器的架构对深度增加的网络进行全面的评估，表面深度推进到16-19个权重层，可以实现对现有配置的显著改进。同时该模型可以很好的泛化到其它数据集。VGG的网络结构可以看作不断重复的模块，因此在定义模型时可以先定义规律性的模块，然后给定配置的卷积层数(num_convs)，输入通道数(in_channels)和输出通道数(out_channels)，调用模块实现完了的架构，避免代码冗长。其中包括5个卷积模块（block），前2块为单层卷积，后3层为双层卷积。该网络总共8个卷积层和3个全连接层，所以也称为VGG-11。\n",
    "\n",
    "> 参考文献：\n",
    "```\n",
    "1. @misc{simonyan2015deep,\n",
    "      title={Very Deep Convolutional Networks for Large-Scale Image Recognition}, \n",
    "      author={Karen Simonyan and Andrew Zisserman},\n",
    "      year={2015},\n",
    "      eprint={1409.1556},\n",
    "      archivePrefix={arXiv},\n",
    "      primaryClass={cs.CV}\n",
    "}\n",
    "```\n",
    "\n",
    "> 注： * 收集元组中所有位置参数 ** 收集字典中的所有关键字参数"
   ]
  },
  {
   "cell_type": "code",
   "execution_count": 82,
   "id": "890ea014-999d-4a95-aa65-22597767be03",
   "metadata": {},
   "outputs": [
    {
     "name": "stdout",
     "output_type": "stream",
     "text": [
      "*s_position=('a', 'b', 'c', 'd', 'e')\n",
      "**d_keywords={'param_a': 1, 'param_b': 2, 'param_c': 3}\n"
     ]
    }
   ],
   "source": [
    "def func_asterisk(*s_position,**d_keywords):\n",
    "    print(\"*s_position={}\\n**d_keywords={}\".format(s_position,d_keywords))\n",
    "\n",
    "func_asterisk('a','b','c','d','e',param_a=1,param_b=2,param_c=3)"
   ]
  },
  {
   "cell_type": "code",
   "execution_count": 85,
   "id": "e5f97ede-9671-4969-8137-ca4c550d275f",
   "metadata": {},
   "outputs": [
    {
     "name": "stdout",
     "output_type": "stream",
     "text": [
      "VGG网络结构：\n",
      " Sequential(\n",
      "  (vgg_block_1): Sequential(\n",
      "    (0): Conv2d(1, 64, kernel_size=(3, 3), stride=(1, 1), padding=(1, 1))\n",
      "    (1): ReLU()\n",
      "    (2): MaxPool2d(kernel_size=2, stride=2, padding=0, dilation=1, ceil_mode=False)\n",
      "  )\n",
      "  (vgg_block_2): Sequential(\n",
      "    (0): Conv2d(64, 128, kernel_size=(3, 3), stride=(1, 1), padding=(1, 1))\n",
      "    (1): ReLU()\n",
      "    (2): MaxPool2d(kernel_size=2, stride=2, padding=0, dilation=1, ceil_mode=False)\n",
      "  )\n",
      "  (vgg_block_3): Sequential(\n",
      "    (0): Conv2d(128, 256, kernel_size=(3, 3), stride=(1, 1), padding=(1, 1))\n",
      "    (1): ReLU()\n",
      "    (2): Conv2d(256, 256, kernel_size=(3, 3), stride=(1, 1), padding=(1, 1))\n",
      "    (3): ReLU()\n",
      "    (4): MaxPool2d(kernel_size=2, stride=2, padding=0, dilation=1, ceil_mode=False)\n",
      "  )\n",
      "  (vgg_block_4): Sequential(\n",
      "    (0): Conv2d(256, 512, kernel_size=(3, 3), stride=(1, 1), padding=(1, 1))\n",
      "    (1): ReLU()\n",
      "    (2): Conv2d(512, 512, kernel_size=(3, 3), stride=(1, 1), padding=(1, 1))\n",
      "    (3): ReLU()\n",
      "    (4): MaxPool2d(kernel_size=2, stride=2, padding=0, dilation=1, ceil_mode=False)\n",
      "  )\n",
      "  (vgg_block_5): Sequential(\n",
      "    (0): Conv2d(512, 512, kernel_size=(3, 3), stride=(1, 1), padding=(1, 1))\n",
      "    (1): ReLU()\n",
      "    (2): Conv2d(512, 512, kernel_size=(3, 3), stride=(1, 1), padding=(1, 1))\n",
      "    (3): ReLU()\n",
      "    (4): MaxPool2d(kernel_size=2, stride=2, padding=0, dilation=1, ceil_mode=False)\n",
      "  )\n",
      "  (fc): Sequential(\n",
      "    (0): flattenLayer()\n",
      "    (1): Linear(in_features=25088, out_features=4096, bias=True)\n",
      "    (2): ReLU()\n",
      "    (3): Dropout(p=0.5, inplace=False)\n",
      "    (4): Linear(in_features=4096, out_features=4096, bias=True)\n",
      "    (5): ReLU()\n",
      "    (6): Dropout(p=0.5, inplace=False)\n",
      "    (7): Linear(in_features=4096, out_features=10, bias=True)\n",
      "  )\n",
      ")\n"
     ]
    }
   ],
   "source": [
    "'''\n",
    "@author:《动手学深度学习》/'Dive into PyTorch'\n",
    "Updated on Thu Jan 14 17:45:17 2021 @author: Richie Bao-caDesign设计(cadesign.cn)\n",
    "'''\n",
    "\n",
    "import torch\n",
    "from torch  import nn,optim\n",
    "\n",
    "#将每批次样本X的形状转换为(batch_size,-1)\n",
    "from torch import nn\n",
    "class flattenLayer(nn.Module):\n",
    "    def __init__(self):\n",
    "        super(flattenLayer,self).__init__()\n",
    "    def forward(self,x):\n",
    "        return x.view(x.shape[0],-1)\n",
    "\n",
    "device=torch.device('cuda' if torch.cuda.is_available() else 'cpu')\n",
    "\n",
    "def vgg_block(num_convs,in_channels,out_channels):\n",
    "    blk=[]\n",
    "    for i in range(num_convs):\n",
    "        if i==0:\n",
    "            blk.append(nn.Conv2d(in_channels,out_channels,kernel_size=3,padding=1))\n",
    "        else:\n",
    "            blk.append(nn.Conv2d(out_channels,out_channels,kernel_size=3,padding=1))\n",
    "        blk.append(nn.ReLU())\n",
    "    blk.append(nn.MaxPool2d(kernel_size=2,stride=2))\n",
    "    return nn.Sequential(*blk)  \n",
    "\n",
    "conv_arch=((1, 1, 64), (1, 64, 128), (2, 128, 256), (2, 256, 512), (2, 512, 512))\n",
    "fc_features=512*7*7\n",
    "fc_hidden_units=4096\n",
    "\n",
    "def vgg(conv_arch,fc_features,fc_hidden_units=4096):\n",
    "    net=nn.Sequential()\n",
    "    for i,(num_convs,in_channels,out_channels) in enumerate(conv_arch):\n",
    "        net.add_module('vgg_block_'+str(i+1),vgg_block(num_convs,in_channels,out_channels))\n",
    "    net.add_module('fc',nn.Sequential(flattenLayer(),\n",
    "                                      nn.Linear(fc_features,fc_hidden_units),\n",
    "                                      nn.ReLU(),\n",
    "                                      nn.Dropout(0.5),\n",
    "                                      nn.Linear(fc_hidden_units,fc_hidden_units),\n",
    "                                      nn.ReLU(),\n",
    "                                      nn.Dropout(0.5),\n",
    "                                      nn.Linear(fc_hidden_units,10)        \n",
    "                                     ))\n",
    "    return net\n",
    "\n",
    "VGG_net=vgg(conv_arch,fc_features,fc_hidden_units)\n",
    "print(\"VGG网络结构：\\n\",VGG_net)"
   ]
  },
  {
   "cell_type": "markdown",
   "id": "170eaf83-265d-4beb-b8b0-0796c12d739a",
   "metadata": {},
   "source": [
    "配置完卷积层（特征提取层），可以通过上述定义的`conv2d_outputSize_A_oneTime`函数，计算全连接层的输入尺寸。计算结果为(7,7)，将其与卷积层最后一层的输出通道数相乘就为全连接层的输入尺寸$512 \\times 7 \\times 7=25088$，这与VGG的输入值相同。"
   ]
  },
  {
   "cell_type": "code",
   "execution_count": 91,
   "id": "a032c3bb-c45d-4a58-bf75-2b2841c879f7",
   "metadata": {},
   "outputs": [
    {
     "name": "stdout",
     "output_type": "stream",
     "text": [
      "卷积层输出尺寸=(7, 7)\n"
     ]
    }
   ],
   "source": [
    "VGG_convs_params=[\n",
    "            ('input',(224,224)),\n",
    "            ('conv',[3,1,1,1]),  #kernel_size, stride, pad, dilation\n",
    "            ('pool',[2,2,0,1]),\n",
    "    \n",
    "            ('conv',[3,1,1,1]),\n",
    "            ('pool',[2,2,0,1]),\n",
    "    \n",
    "            ('conv',[3,1,1,1]),\n",
    "            ('conv',[3,1,1,1]),\n",
    "            ('pool',[2,2,0,1]),  \n",
    "    \n",
    "            ('conv',[3,1,1,1]),\n",
    "            ('conv',[3,1,1,1]),\n",
    "            ('pool',[2,2,0,1]),  \n",
    "    \n",
    "            ('conv',[3,1,1,1]),\n",
    "            ('conv',[3,1,1,1]),\n",
    "            ('pool',[2,2,0,1])     \n",
    "            ]\n",
    "\n",
    "VGG_output_h_w=conv2d_outputSize_A_oneTime(VGG_convs_params)    \n",
    "print(\"卷积层输出尺寸={}\".format(VGG_output_h_w))"
   ]
  },
  {
   "cell_type": "markdown",
   "id": "fef8129d-4580-4ca3-81f1-61f99b8028e5",
   "metadata": {},
   "source": [
    "可以先生成随机的样本数据(batchsize, nChannels, Height, Width)，逐个循环每一模块，即Sequential对象，获取每一模块计算后数据的形状，从而观察、验证并用于辅助调整模型参数。"
   ]
  },
  {
   "cell_type": "code",
   "execution_count": 92,
   "id": "6310ab9f-4447-4fb4-aa0c-fc755f163c42",
   "metadata": {},
   "outputs": [
    {
     "name": "stdout",
     "output_type": "stream",
     "text": [
      "vgg_block_1 output shape:  torch.Size([1, 64, 112, 112])\n",
      "vgg_block_2 output shape:  torch.Size([1, 128, 56, 56])\n",
      "vgg_block_3 output shape:  torch.Size([1, 256, 28, 28])\n",
      "vgg_block_4 output shape:  torch.Size([1, 512, 14, 14])\n",
      "vgg_block_5 output shape:  torch.Size([1, 512, 7, 7])\n",
      "fc output shape:  torch.Size([1, 10])\n"
     ]
    }
   ],
   "source": [
    "X=torch.rand(1, 1, 224, 224)\n",
    "for name, blk in VGG_net.named_children(): \n",
    "    X = blk(X)\n",
    "    print(name, 'output shape: ', X.shape)"
   ]
  },
  {
   "cell_type": "markdown",
   "id": "79304081-732c-4585-9fe6-7e9497ef44c4",
   "metadata": {},
   "source": [
    "VGG的原始输入图像尺寸为224，目前实验的数据为fashionMNIST数据集，一幅图像的尺寸为$28 \\times 28$，因此使用`torchvision.transforms.Resize`的方法调整图像大小，该方法已经包含于自定义`load_fashionMNIST`中，因此只需要配置输入参数`resize=224`就可以修改图像尺寸，满足VGG输入数据尺寸的要求。\n",
    "\n",
    "因为卷积后的图像输出尺寸只与图像的输入尺寸，卷积层、池化层的卷积核大小，填充、步幅等有关，因此可以自由的修改卷积层的输入、输出通道，以及全连接层隐含层的数量。在修改时只需要配置一个缩放比例参数`ratio`，将所有的相关值除以该值完成新的配置。"
   ]
  },
  {
   "cell_type": "code",
   "execution_count": 93,
   "id": "43ebffb1-7c1e-4f3d-8277-937a84fd6f95",
   "metadata": {},
   "outputs": [
    {
     "name": "stdout",
     "output_type": "stream",
     "text": [
      "VGG网络结构_减少通道数：\n",
      " Sequential(\n",
      "  (vgg_block_1): Sequential(\n",
      "    (0): Conv2d(1, 8, kernel_size=(3, 3), stride=(1, 1), padding=(1, 1))\n",
      "    (1): ReLU()\n",
      "    (2): MaxPool2d(kernel_size=2, stride=2, padding=0, dilation=1, ceil_mode=False)\n",
      "  )\n",
      "  (vgg_block_2): Sequential(\n",
      "    (0): Conv2d(8, 16, kernel_size=(3, 3), stride=(1, 1), padding=(1, 1))\n",
      "    (1): ReLU()\n",
      "    (2): MaxPool2d(kernel_size=2, stride=2, padding=0, dilation=1, ceil_mode=False)\n",
      "  )\n",
      "  (vgg_block_3): Sequential(\n",
      "    (0): Conv2d(16, 32, kernel_size=(3, 3), stride=(1, 1), padding=(1, 1))\n",
      "    (1): ReLU()\n",
      "    (2): Conv2d(32, 32, kernel_size=(3, 3), stride=(1, 1), padding=(1, 1))\n",
      "    (3): ReLU()\n",
      "    (4): MaxPool2d(kernel_size=2, stride=2, padding=0, dilation=1, ceil_mode=False)\n",
      "  )\n",
      "  (vgg_block_4): Sequential(\n",
      "    (0): Conv2d(32, 64, kernel_size=(3, 3), stride=(1, 1), padding=(1, 1))\n",
      "    (1): ReLU()\n",
      "    (2): Conv2d(64, 64, kernel_size=(3, 3), stride=(1, 1), padding=(1, 1))\n",
      "    (3): ReLU()\n",
      "    (4): MaxPool2d(kernel_size=2, stride=2, padding=0, dilation=1, ceil_mode=False)\n",
      "  )\n",
      "  (vgg_block_5): Sequential(\n",
      "    (0): Conv2d(64, 64, kernel_size=(3, 3), stride=(1, 1), padding=(1, 1))\n",
      "    (1): ReLU()\n",
      "    (2): Conv2d(64, 64, kernel_size=(3, 3), stride=(1, 1), padding=(1, 1))\n",
      "    (3): ReLU()\n",
      "    (4): MaxPool2d(kernel_size=2, stride=2, padding=0, dilation=1, ceil_mode=False)\n",
      "  )\n",
      "  (fc): Sequential(\n",
      "    (0): flattenLayer()\n",
      "    (1): Linear(in_features=3136, out_features=512, bias=True)\n",
      "    (2): ReLU()\n",
      "    (3): Dropout(p=0.5, inplace=False)\n",
      "    (4): Linear(in_features=512, out_features=512, bias=True)\n",
      "    (5): ReLU()\n",
      "    (6): Dropout(p=0.5, inplace=False)\n",
      "    (7): Linear(in_features=512, out_features=10, bias=True)\n",
      "  )\n",
      ")\n"
     ]
    }
   ],
   "source": [
    "ratio = 8\n",
    "small_conv_arch = [(1, 1, 64//ratio), (1, 64//ratio, 128//ratio), (2, 128//ratio, 256//ratio), (2, 256//ratio, 512//ratio), (2, 512//ratio, 512//ratio)]\n",
    "VGG_net_= vgg(small_conv_arch, fc_features // ratio, fc_hidden_units // ratio)\n",
    "print(\"VGG网络结构_减少通道数：\\n\",VGG_net_)"
   ]
  },
  {
   "cell_type": "code",
   "execution_count": 3,
   "id": "3c8c3382-e8e1-46f5-a7b4-e501e20a15b4",
   "metadata": {},
   "outputs": [
    {
     "name": "stderr",
     "output_type": "stream",
     "text": [
      "C:\\Users\\richi\\anaconda3\\envs\\USDA_database\\lib\\site-packages\\torchvision\\io\\image.py:11: UserWarning: Failed to load image Python extension: Could not find module 'C:\\Users\\richi\\anaconda3\\envs\\USDA_database\\Lib\\site-packages\\torchvision\\image.pyd' (or one of its dependencies). Try using the full path with constructor syntax.\n",
      "  warn(f\"Failed to load image Python extension: {e}\")\n"
     ]
    },
    {
     "name": "stdout",
     "output_type": "stream",
     "text": [
      "数据形状： torch.Size([64, 1, 224, 224])\n"
     ]
    }
   ],
   "source": [
    "batch_size=64\n",
    "trainloader,testloader=load_fashionMNIST(root='./dataset/FashionMNIST_norm',batchsize=batch_size,num_workers=2,resize=224,n_mean=0.5,n_std=0.5)\n",
    "\n",
    "def dataiter_view(dataiter):\n",
    "    '''\n",
    "    function - 查看可迭代数据形状\n",
    "    '''\n",
    "    dataiter_=iter(dataiter)\n",
    "    images_,labels_=dataiter_.next()\n",
    "    print('数据形状：',images_.shape)\n",
    "    return images_,labels_\n",
    "images_,labels_=dataiter_view(testloader)     "
   ]
  },
  {
   "cell_type": "code",
   "execution_count": 96,
   "id": "8e53f7f6-5a0b-4507-b730-09063acb95e0",
   "metadata": {},
   "outputs": [],
   "source": [
    "lr,num_epochs=0.001,5\n",
    "optimizer=torch.optim.Adam(VGG_net_.parameters(),lr=lr)"
   ]
  },
  {
   "cell_type": "code",
   "execution_count": 8,
   "id": "0c4a009b-a87b-489e-a3fa-5423e248d9a6",
   "metadata": {},
   "outputs": [],
   "source": [
    "def evaluate_accuracy_V2(data_iter, net, device=None):\n",
    "    '''\n",
    "    function - 模型精度计算\n",
    "    '''    \n",
    "    if device is None and isinstance(net,torch.nn.Module):\n",
    "        device=list(net.parameters())[0].device #如果没指定device就使用net的device\n",
    "    acc_sum,n=0.0,0\n",
    "    with torch.no_grad():\n",
    "        for X,y in data_iter:\n",
    "            if isinstance(net,torch.nn.Module):\n",
    "                net.eval() #评估模式，会关闭dropout\n",
    "                acc_sum += (net(X.to(device)).argmax(dim=1) == y.to(device)).float().sum().cpu().item()\n",
    "                net.train() #改回训练模式\n",
    "            n+=y.shape[0]\n",
    "    return acc_sum/n\n",
    "    \n",
    "def train_v2(net, train_iter, test_iter,optimizer, device, num_epochs):\n",
    "    from tqdm.auto import tqdm\n",
    "    import time\n",
    "    '''\n",
    "    function - 训练模型，v2版\n",
    "    '''\n",
    "    net = net.to(device)\n",
    "    print(\"training on-\",device)\n",
    "    loss=torch.nn.CrossEntropyLoss()\n",
    "    for epoch in tqdm(range(num_epochs)):\n",
    "        train_l_sum, train_acc_sum, n, batch_count, start = 0.0, 0.0, 0, 0, time.time()\n",
    "        for X,y in train_iter:\n",
    "            X=X.to(device)\n",
    "            y=y.to(device)\n",
    "            y_pred=net(X)\n",
    "            l=loss(y_pred,y)\n",
    "            optimizer.zero_grad()\n",
    "            l.backward()\n",
    "            optimizer.step()\n",
    "            train_l_sum += l.cpu().item()\n",
    "            train_acc_sum += (y_pred.argmax(dim=1) == y).sum().cpu().item()\n",
    "            n += y.shape[0]\n",
    "            batch_count += 1\n",
    "        test_acc=evaluate_accuracy_V2(test_iter, net)\n",
    "        print('epoch %d, loss %.4f, train acc %.3f, test acc %.3f, time %.1f sec'% (epoch + 1, train_l_sum / batch_count, train_acc_sum / n, test_acc, time.time() - start))           "
   ]
  },
  {
   "cell_type": "code",
   "execution_count": 98,
   "id": "f4187ab1-bc60-4da6-8926-aae530e7365e",
   "metadata": {},
   "outputs": [
    {
     "name": "stdout",
     "output_type": "stream",
     "text": [
      "training on- cuda\n"
     ]
    },
    {
     "data": {
      "application/vnd.jupyter.widget-view+json": {
       "model_id": "a16172b0c2504358a287efc1ceae6463",
       "version_major": 2,
       "version_minor": 0
      },
      "text/plain": [
       "  0%|          | 0/5 [00:00<?, ?it/s]"
      ]
     },
     "metadata": {},
     "output_type": "display_data"
    },
    {
     "name": "stdout",
     "output_type": "stream",
     "text": [
      "epoch 1, loss 0.6070, train acc 0.775, test acc 0.874, time 63.3 sec\n",
      "epoch 2, loss 0.3222, train acc 0.886, test acc 0.904, time 67.9 sec\n",
      "epoch 3, loss 0.2749, train acc 0.902, test acc 0.905, time 82.1 sec\n",
      "epoch 4, loss 0.2418, train acc 0.914, test acc 0.912, time 98.6 sec\n",
      "epoch 5, loss 0.2180, train acc 0.922, test acc 0.915, time 107.7 sec\n"
     ]
    }
   ],
   "source": [
    "train_v2(net=VGG_net_, train_iter=trainloader, test_iter=testloader,optimizer=optimizer, device=device, num_epochs=num_epochs) "
   ]
  },
  {
   "cell_type": "markdown",
   "id": "4e4f14c2-3a31-46e3-9571-aa0d88393116",
   "metadata": {},
   "source": [
    "#### 2）torchvision.models实现VGG网络\n",
    "\n",
    "VGG网络包含于`torchvision.models`库中， 因此无需自行配置网络，直接下载使用。通常模型也包含预先训练的模型参数，可以配置`pretrained=True`下载，下载到本地的位置为`C:\\Users\\<your name>\\.cache\\torch\\hub\\checkpoints`，后缀名为.pth。有时直接下载的网络并不能直接应用到其它不同的数据集，例如fashionMNIST数据集，该数据集的图像为灰色，即只有一个通道；同时，只有10个标签。因此需要对应层修改输入、输出大小。在[Finetuning Torchvision Models](https://pytorch.org/tutorials/beginner/finetuning_torchvision_models_tutorial.html)中，包含了模型参数微调的方法，对于VGG而言，修改卷积层，可以通过`.features[idx]`的方式读取；修改全连接层，可以通过`.classifier[idx]`的方式修改。需要修改的层为features[0]和classifier[6]这两个层。其它层不需修改。\n",
    "\n",
    "注意在训练模型之前，需要调整优化函数`optimizer=torch.optim.Adam(VGG_model.parameters(),lr=lr)`的输入模型参数为当前的网络模型。"
   ]
  },
  {
   "cell_type": "code",
   "execution_count": 4,
   "id": "21d38976-39da-4c7a-8e6b-0de2cd25df3f",
   "metadata": {},
   "outputs": [],
   "source": [
    "import torchvision \n",
    "VGG_model=torchvision.models.vgg11(pretrained=False) #如果为真，返回在ImageNet上预先训练的模型"
   ]
  },
  {
   "cell_type": "code",
   "execution_count": 5,
   "id": "1681a7bc-dc02-4fcf-9d2b-daa45449e309",
   "metadata": {},
   "outputs": [
    {
     "name": "stdout",
     "output_type": "stream",
     "text": [
      "VGG(\n",
      "  (features): Sequential(\n",
      "    (0): Conv2d(3, 64, kernel_size=(3, 3), stride=(1, 1), padding=(1, 1))\n",
      "    (1): ReLU(inplace=True)\n",
      "    (2): MaxPool2d(kernel_size=2, stride=2, padding=0, dilation=1, ceil_mode=False)\n",
      "    (3): Conv2d(64, 128, kernel_size=(3, 3), stride=(1, 1), padding=(1, 1))\n",
      "    (4): ReLU(inplace=True)\n",
      "    (5): MaxPool2d(kernel_size=2, stride=2, padding=0, dilation=1, ceil_mode=False)\n",
      "    (6): Conv2d(128, 256, kernel_size=(3, 3), stride=(1, 1), padding=(1, 1))\n",
      "    (7): ReLU(inplace=True)\n",
      "    (8): Conv2d(256, 256, kernel_size=(3, 3), stride=(1, 1), padding=(1, 1))\n",
      "    (9): ReLU(inplace=True)\n",
      "    (10): MaxPool2d(kernel_size=2, stride=2, padding=0, dilation=1, ceil_mode=False)\n",
      "    (11): Conv2d(256, 512, kernel_size=(3, 3), stride=(1, 1), padding=(1, 1))\n",
      "    (12): ReLU(inplace=True)\n",
      "    (13): Conv2d(512, 512, kernel_size=(3, 3), stride=(1, 1), padding=(1, 1))\n",
      "    (14): ReLU(inplace=True)\n",
      "    (15): MaxPool2d(kernel_size=2, stride=2, padding=0, dilation=1, ceil_mode=False)\n",
      "    (16): Conv2d(512, 512, kernel_size=(3, 3), stride=(1, 1), padding=(1, 1))\n",
      "    (17): ReLU(inplace=True)\n",
      "    (18): Conv2d(512, 512, kernel_size=(3, 3), stride=(1, 1), padding=(1, 1))\n",
      "    (19): ReLU(inplace=True)\n",
      "    (20): MaxPool2d(kernel_size=2, stride=2, padding=0, dilation=1, ceil_mode=False)\n",
      "  )\n",
      "  (avgpool): AdaptiveAvgPool2d(output_size=(7, 7))\n",
      "  (classifier): Sequential(\n",
      "    (0): Linear(in_features=25088, out_features=4096, bias=True)\n",
      "    (1): ReLU(inplace=True)\n",
      "    (2): Dropout(p=0.5, inplace=False)\n",
      "    (3): Linear(in_features=4096, out_features=4096, bias=True)\n",
      "    (4): ReLU(inplace=True)\n",
      "    (5): Dropout(p=0.5, inplace=False)\n",
      "    (6): Linear(in_features=4096, out_features=1000, bias=True)\n",
      "  )\n",
      ")\n"
     ]
    }
   ],
   "source": [
    "print(VGG_model)"
   ]
  },
  {
   "cell_type": "code",
   "execution_count": 6,
   "id": "2a282361-e03d-400c-9cac-324bd6de3dfc",
   "metadata": {},
   "outputs": [
    {
     "name": "stdout",
     "output_type": "stream",
     "text": [
      "VGG(\n",
      "  (features): Sequential(\n",
      "    (0): Conv2d(1, 64, kernel_size=(3, 3), stride=(1, 1), padding=(1, 1))\n",
      "    (1): ReLU(inplace=True)\n",
      "    (2): MaxPool2d(kernel_size=2, stride=2, padding=0, dilation=1, ceil_mode=False)\n",
      "    (3): Conv2d(64, 128, kernel_size=(3, 3), stride=(1, 1), padding=(1, 1))\n",
      "    (4): ReLU(inplace=True)\n",
      "    (5): MaxPool2d(kernel_size=2, stride=2, padding=0, dilation=1, ceil_mode=False)\n",
      "    (6): Conv2d(128, 256, kernel_size=(3, 3), stride=(1, 1), padding=(1, 1))\n",
      "    (7): ReLU(inplace=True)\n",
      "    (8): Conv2d(256, 256, kernel_size=(3, 3), stride=(1, 1), padding=(1, 1))\n",
      "    (9): ReLU(inplace=True)\n",
      "    (10): MaxPool2d(kernel_size=2, stride=2, padding=0, dilation=1, ceil_mode=False)\n",
      "    (11): Conv2d(256, 512, kernel_size=(3, 3), stride=(1, 1), padding=(1, 1))\n",
      "    (12): ReLU(inplace=True)\n",
      "    (13): Conv2d(512, 512, kernel_size=(3, 3), stride=(1, 1), padding=(1, 1))\n",
      "    (14): ReLU(inplace=True)\n",
      "    (15): MaxPool2d(kernel_size=2, stride=2, padding=0, dilation=1, ceil_mode=False)\n",
      "    (16): Conv2d(512, 512, kernel_size=(3, 3), stride=(1, 1), padding=(1, 1))\n",
      "    (17): ReLU(inplace=True)\n",
      "    (18): Conv2d(512, 512, kernel_size=(3, 3), stride=(1, 1), padding=(1, 1))\n",
      "    (19): ReLU(inplace=True)\n",
      "    (20): MaxPool2d(kernel_size=2, stride=2, padding=0, dilation=1, ceil_mode=False)\n",
      "  )\n",
      "  (avgpool): AdaptiveAvgPool2d(output_size=(7, 7))\n",
      "  (classifier): Sequential(\n",
      "    (0): Linear(in_features=25088, out_features=4096, bias=True)\n",
      "    (1): ReLU(inplace=True)\n",
      "    (2): Dropout(p=0.5, inplace=False)\n",
      "    (3): Linear(in_features=4096, out_features=4096, bias=True)\n",
      "    (4): ReLU(inplace=True)\n",
      "    (5): Dropout(p=0.5, inplace=False)\n",
      "    (6): Linear(in_features=4096, out_features=10, bias=True)\n",
      "  )\n",
      ")\n"
     ]
    }
   ],
   "source": [
    "from torch  import nn\n",
    "VGG_model.features[0]=nn.Conv2d(1, 64, kernel_size=(3, 3), stride=(1, 1), padding=(1, 1))\n",
    "VGG_model.classifier[6]=nn.Linear(in_features=4096, out_features=10, bias=True)\n",
    "print(VGG_model)"
   ]
  },
  {
   "cell_type": "code",
   "execution_count": 9,
   "id": "23407ce3-418d-4e06-9fc7-9fe7df19a03e",
   "metadata": {},
   "outputs": [
    {
     "name": "stdout",
     "output_type": "stream",
     "text": [
      "training on- cuda\n"
     ]
    },
    {
     "data": {
      "application/vnd.jupyter.widget-view+json": {
       "model_id": "ac5386d0121d4b37aebe33603b15afd9",
       "version_major": 2,
       "version_minor": 0
      },
      "text/plain": [
       "  0%|          | 0/5 [00:00<?, ?it/s]"
      ]
     },
     "metadata": {},
     "output_type": "display_data"
    },
    {
     "name": "stdout",
     "output_type": "stream",
     "text": [
      "epoch 1, loss 0.6091, train acc 0.814, test acc 0.876, time 944.2 sec\n",
      "epoch 2, loss 0.2923, train acc 0.893, test acc 0.895, time 1089.5 sec\n",
      "epoch 3, loss 0.2509, train acc 0.910, test acc 0.908, time 1063.9 sec\n",
      "epoch 4, loss 0.2229, train acc 0.919, test acc 0.913, time 1047.5 sec\n",
      "epoch 5, loss 0.2006, train acc 0.926, test acc 0.919, time 1089.6 sec\n"
     ]
    }
   ],
   "source": [
    "import torch\n",
    "device=torch.device('cuda' if torch.cuda.is_available() else 'cpu')\n",
    "lr,num_epochs=0.001,5\n",
    "optimizer=torch.optim.Adam(VGG_model.parameters(),lr=lr)\n",
    "train_v2(net=VGG_model, train_iter=trainloader, test_iter=testloader,optimizer=optimizer, device=device, num_epochs=num_epochs)  "
   ]
  }
 ],
 "metadata": {
  "kernelspec": {
   "display_name": "Python 3 (ipykernel)",
   "language": "python",
   "name": "python3"
  },
  "language_info": {
   "codemirror_mode": {
    "name": "ipython",
    "version": 3
   },
   "file_extension": ".py",
   "mimetype": "text/x-python",
   "name": "python",
   "nbconvert_exporter": "python",
   "pygments_lexer": "ipython3",
   "version": "3.8.12"
  }
 },
 "nbformat": 4,
 "nbformat_minor": 5
}
