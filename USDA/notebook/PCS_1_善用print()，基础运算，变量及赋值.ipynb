{
 "cells": [
  {
   "cell_type": "markdown",
   "id": "2cbb4f06-5a09-4e15-b92e-a48c28ad8c74",
   "metadata": {},
   "source": [
    "> Created on Thu Jun 23 18:21:05 2022 @author: Richie Bao-caDesign设计(cadesign.cn)"
   ]
  },
  {
   "cell_type": "markdown",
   "id": "c8867d56-bdc9-4c47-9682-41e6608cb9ed",
   "metadata": {},
   "source": [
    "# Python Cheat Sheet-1. 善用print()，基础运算，变量及赋值"
   ]
  },
  {
   "cell_type": "markdown",
   "id": "1755187d-8e28-4815-bc3a-a0677fb9dffd",
   "metadata": {},
   "source": [
    "## 1.1 不知道运行结果，就很难写代码——善用print()；第一个python代码\n",
    "\n",
    "print()是python语言中使用最为频繁的语句，在代码编写、调试过程中，要不断的用该语句来查看数据的值、数据的变化、数据的结构、变量所代表的内容、监测程序进程、及显示结果等。通过`print()`实时查看数据反馈，才可知道代码编写的目的是否达到，并做出反馈。善用print()是用python写代码的基础。\n",
    "\n",
    "`print('Hello World!') `代码（打印显示一行字符串）基本成为所有类型编程语言第一行代码的标配，标志着正式开启代码学习的篇章。"
   ]
  },
  {
   "cell_type": "code",
   "execution_count": 2,
   "id": "15b02575-3a9c-4cb7-8b64-6ceebfce1d93",
   "metadata": {},
   "outputs": [
    {
     "name": "stdout",
     "output_type": "stream",
     "text": [
      "Hello World!\n"
     ]
    }
   ],
   "source": [
    "print('Hello World!') "
   ]
  },
  {
   "cell_type": "code",
   "execution_count": 1,
   "id": "8a790805-380d-480a-b878-5e4c69c601a1",
   "metadata": {},
   "outputs": [
    {
     "name": "stdout",
     "output_type": "stream",
     "text": [
      "Hello gays\n"
     ]
    }
   ],
   "source": [
    "print(\"Hello gays\")"
   ]
  },
  {
   "cell_type": "markdown",
   "id": "1afc6083-6a98-46ef-b305-c389d4993a33",
   "metadata": {},
   "source": [
    "用print()查看当前python版本。这里调入了python的一个[标准库](https://docs.python.org/3/library/index.html)[platform](https://docs.python.org/3/library/platform.html?highlight=platform#module-platform)的`python_version`方法查看python版本。调入库的方法，使用`import`， 如果仅调入库中的一个方法，则可以使用`from 'library name' import 'method'`。"
   ]
  },
  {
   "cell_type": "code",
   "execution_count": 3,
   "id": "d7535ebb-5393-4a5a-9cdf-07779221da76",
   "metadata": {},
   "outputs": [
    {
     "name": "stdout",
     "output_type": "stream",
     "text": [
      "3.8.13\n"
     ]
    }
   ],
   "source": [
    "from platform import python_version\n",
    "print(python_version())"
   ]
  },
  {
   "cell_type": "markdown",
   "id": "ca1d19de-6c33-4838-8d10-f4fe6207ed3c",
   "metadata": {},
   "source": [
    "`print(\"_\"*50)`，这里对字符`\"_\"`乘以了一个数字，则复制该字符多少个; 对于字符串可以使用双引号，也可以使用单引号。但是希望内部字符包括单引号时，则外部使用双引号，而内部使用单引号。如果内容包括双引号时，则需要借助转义字符（escape character）`\\`实现转义，即将python的特殊字符，例如表征字符串的双引号转换为普通字符串使用。当然，也可以配合使用三引号；如果，语句位于同一行，直接可以用`;`号分割，但是通常不会这么做，因为这使得代码的可读性变弱；backslash(\\)可以将长文本切为多段输入，输出字符串不断行。"
   ]
  },
  {
   "cell_type": "code",
   "execution_count": 43,
   "id": "8f8ae2af-ae06-4422-9b54-9ee4b4c0298e",
   "metadata": {},
   "outputs": [
    {
     "name": "stdout",
     "output_type": "stream",
     "text": [
      "Hello Python!\n",
      "__________________________________________________\n",
      "编程让设计更具'创造力！'\n",
      "Everybody should learn how to code a computer, because it teaches you how to think, and allows designers more creative!\n",
      "成为工具的\"建构者！\"\n",
      "You must \"type\" each of these excercises in, mannually. If you copy and paste, you might as well as not even do them.\n"
     ]
    }
   ],
   "source": [
    "print(\"Hello Python!\")\n",
    "print(\"_\"*50)\n",
    "print(\"编程让设计更具'创造力！'\");print(\"Everybody should learn how to code a computer, because it teaches you how to think, and allows designers more creative!\")\n",
    "print(\"成为工具的\\\"建构者！\\\"\")\n",
    "print(\"\"\"You must \"type\" each of these excercises in, mannually. \\\n",
    "If you copy and paste, you might as well as not even do them.\"\"\")"
   ]
  },
  {
   "cell_type": "markdown",
   "id": "7f9ef1c2-5ec2-4b84-9496-35aec57e698c",
   "metadata": {},
   "source": [
    "## 1.2 增加注释的必要性\n",
    "\n",
    "注释包括单行注释，使用（hash）#开头；多行注释，使用''' comments '''，或者\"\"\" comments \"\"\"。注释并不会被执行，解释器将忽略注释的所有内容。注释的目的，1-为作者的注解，方便日后查看已经写过的代码含义，避免重新解读（尤其对于复杂或不易理解的逻辑和算法）；2-方便交流，他人阅读该代码时，可以快速的知道代码书写的目的或逻辑；3-传递代码书写作者、日期、版权等辅助信息；4-书写函数时，以注释的方式说明函数的功用，输入参数和返回变量的数据类型及说明等。\n",
    "\n",
    "> 注：用于函数说明时，如果是使用`spyder`交互式解释器编写代码，函数名行后回车，会提示是否书写函数说明，并自动配置下述格式，作者仅需要输入必要信息。 "
   ]
  },
  {
   "cell_type": "code",
   "execution_count": 9,
   "id": "53cfcd9f-e7a3-471d-8ba4-a37a084136fb",
   "metadata": {},
   "outputs": [],
   "source": [
    "# 1-作者备忘注释，及说明方便交流\n",
    "data_path='./data' #配置数据存储位置\n",
    "\n",
    "# 2-辅助信息\n",
    "\n",
    "\"\"\"\n",
    "Created on Tue Feb 15 09:58:38 2022\n",
    "\n",
    "@author: Richie Bao-caDesign设计(cadesign.cn)\n",
    "\"\"\"\n",
    "\n",
    "# 3- 用于函数说明\n",
    "def cfg_load_yaml(ymlf_fp):\n",
    "    '''\n",
    "    读取 yaml 格式的配置文件\n",
    "\n",
    "    Parameters\n",
    "    ----------\n",
    "    ymlf_fp : string\n",
    "        配置文件路径.\n",
    "\n",
    "    Returns\n",
    "    -------\n",
    "    cfg : yaml-dict\n",
    "        读取到python中的配置信息.\n",
    "    '''\n",
    "    import yaml\n",
    "    with open (ymlf_fp,'r') as ymlfile:\n",
    "        cfg=yaml.safe_load(ymlfile)   \n",
    "    return cfg"
   ]
  },
  {
   "cell_type": "markdown",
   "id": "f2e7e6e7-3cbb-4338-9f9c-81e4f13f647a",
   "metadata": {},
   "source": [
    "## 1.3 基本的数据类型（Basic Data Types）及运算（Operations）\n",
    "\n",
    "代码处理的对象就是数据，基本的数据类型包括整数(Integer,int)，实数（浮点型）（Real numbers, float），复数（Complex numbers，complex），字符（String, str）和布尔(Boolean，bool)。各种数据类型，都可以通过python内置函数（方法）`type`查看数据类型。\n",
    "\n",
    "> 注：内置函数为可以直接调用的函数，直接使用而无需导入库（模块）。"
   ]
  },
  {
   "cell_type": "code",
   "execution_count": 17,
   "id": "c3c6497a-a2a4-447f-8919-b669423c02c0",
   "metadata": {},
   "outputs": [
    {
     "name": "stdout",
     "output_type": "stream",
     "text": [
      "<class 'int'>\n",
      "<class 'float'>\n",
      "<class 'complex'>\n",
      "<class 'str'>\n",
      "<class 'bool'> <class 'bool'>\n"
     ]
    }
   ],
   "source": [
    "print(type(7))\n",
    "print(type(3.1415926))\n",
    "print(type(3+6j))\n",
    "print(type('Small is Beautiful'))\n",
    "print(type(True),type(False))"
   ]
  },
  {
   "cell_type": "markdown",
   "id": "4ea5fc8d-fddf-43e8-8c8a-67eb58466050",
   "metadata": {},
   "source": [
    "* 变换数据类型\n",
    "\n",
    "`int(value,base)`，其中`base`基数默认为10。`float(value)`只有一个输入参数。可已用内置函数转二进制、十进制和十六进制，其计算结果类型表述中`0b`代表二进制，`0o`代表十进制，`ox`代表十六进制。"
   ]
  },
  {
   "cell_type": "code",
   "execution_count": 48,
   "id": "17addeec-6278-47d2-b8e4-300875402549",
   "metadata": {},
   "outputs": [
    {
     "name": "stdout",
     "output_type": "stream",
     "text": [
      "3\n",
      "2\n",
      "255\n",
      "0b1100\n",
      "0o14\n",
      "0xc\n",
      "__________________________________________________\n",
      "64.0\n",
      "1.618034\n",
      "__________________________________________________\n",
      "(10+0j)\n",
      "(10+3j)\n",
      "__________________________________________________\n",
      "False\n",
      "True\n",
      "False\n",
      "False\n",
      "True\n",
      "__________________________________________________\n",
      "3.1415926 : <class 'str'>\n"
     ]
    }
   ],
   "source": [
    "print(int(3.1415926))\n",
    "print(int(2.7182818)) #直接使用int()会自动向下取整\n",
    "print(int(\"255\",10)) #字符串转整数。如果字符串内容为浮点数，则会提示错误\n",
    "\n",
    "print(bin(12)) #转二进制（binary）\n",
    "print(oct(12)) #转十进制（octal）\n",
    "print(hex(12)) #转十六进制（hexadecimal）\n",
    "\n",
    "print(\"_\"*50)\n",
    "print(float(64))\n",
    "print(float(\"1.618034\"))\n",
    "\n",
    "print(\"_\"*50)\n",
    "print(complex(10))\n",
    "print(complex(\"10+3j\"))\n",
    "\n",
    "print(\"_\"*50)\n",
    "print(bool(0))\n",
    "print(bool(1))\n",
    "print(bool())\n",
    "print(bool(\"\"))\n",
    "print(bool(\"values\"))\n",
    "\n",
    "print(\"_\"*50)\n",
    "print(str(3.1415926),\":\",type(str(3.1415926)))"
   ]
  },
  {
   "cell_type": "markdown",
   "id": "293a1101-5bd2-48a5-a722-54310354635e",
   "metadata": {},
   "source": [
    "* 运算类型（Types of Operators）\n",
    "\n",
    "`6+7=13`中，数值（numerical values）`6`和`7`为操作数（operands）；`+`为运算符/操作符（operators）。\n",
    "\n",
    "1. 算数运算符\n",
    "\n",
    "| 运算（Syntax）  | 说明 (Description) |\n",
    "|---|---|\n",
    "| a+b | a加b (Addition)  |\n",
    "| a-b  | a减b (Subtraction)  |\n",
    "| a*b  | a乘以b  (Multiplication)|\n",
    "| a/b  | a除以b (Division) |\n",
    "| a//b  | a除以b后向下取整  (Floor Divisiont)|\n",
    "| a**b  | a的b次方  (Exponential/Power)|\n",
    "|a%b| 模运算（Modulus）。取模运算是计算两个数相除之后的余数|\n"
   ]
  },
  {
   "cell_type": "code",
   "execution_count": 52,
   "id": "b8bf16e5-3743-4165-ac9d-1dd956935d9f",
   "metadata": {},
   "outputs": [
    {
     "name": "stdout",
     "output_type": "stream",
     "text": [
      "2\n",
      "1\n"
     ]
    }
   ],
   "source": [
    "print(15//7)\n",
    "print(15%7)"
   ]
  },
  {
   "cell_type": "markdown",
   "id": "02f96d38-71cd-4cae-8ebe-3ce84a826d7a",
   "metadata": {},
   "source": [
    "* 比较运算符（Comparison/Relational Operators）\n",
    "\n",
    "比较运算结果为布尔值（True 或False）。\n",
    "\n",
    "| 运算（Syntax）  | 说明 (Description) |\n",
    "|---|---|\n",
    "| a>b、a>=b | 如果a大于(或大于等于)b，则结果为True (Greater than, Greater than or equal to)  |\n",
    "| a<b、a<=b | 如果a小于等于(或小于)b，则结果为True  (Lesser than, Lesser than or equal to)|\n",
    "| a==b  | 如果a等于b，则结果为True (Equal to)|\n",
    "| a!=b  | 如果a不等于b，则结果为True (Not equals to)|"
   ]
  },
  {
   "cell_type": "code",
   "execution_count": 61,
   "id": "999c00ed-8766-4679-8c8c-1028023bd965",
   "metadata": {},
   "outputs": [
    {
     "name": "stdout",
     "output_type": "stream",
     "text": [
      "True\n",
      "False\n",
      "__________________________________________________\n",
      "True\n",
      "True\n",
      "__________________________________________________\n",
      "True\n"
     ]
    }
   ],
   "source": [
    "print(6!=7)\n",
    "print(6==7)\n",
    "\n",
    "print(\"_\"*50)\n",
    "print(\"six\"!=\"seven\")\n",
    "print(\"six\"==\"six\")\n",
    "\n",
    "print(\"_\"*50)\n",
    "print(2.718==2.718000)"
   ]
  },
  {
   "cell_type": "markdown",
   "id": "247e1fcb-33f8-465c-a0b9-7faa95d9516e",
   "metadata": {},
   "source": [
    "* 赋值运算符（Assignment Operators）\n",
    "\n",
    "赋值运算符相当于将等号右边的值按运算符计算到等号左边值，此时a为变量，而不是具体的值，计算后的值再赋值给变量a。\n",
    "\n",
    "| 运算（Syntax）  | 等价于（Syntax Equivalence）|\n",
    "|---|---|\n",
    "| a+=b | a=a+b  |\n",
    "| a-=b | a=a-b|\n",
    "| a*=b  | a=a*b|\n",
    "| a/=b  | a=a/b)|\n",
    "|a//=b|a=a//b|\n",
    "|a**=b|a=a**b|\n",
    "|a%=b|a=a%b|"
   ]
  },
  {
   "cell_type": "code",
   "execution_count": 69,
   "id": "fdb48f1f-922b-46ca-af94-8e9a39a0d241",
   "metadata": {},
   "outputs": [
    {
     "name": "stdout",
     "output_type": "stream",
     "text": [
      "1\n",
      "2\n"
     ]
    }
   ],
   "source": [
    "i=0\n",
    "i+=1\n",
    "print(i)\n",
    "i+=1\n",
    "print(i)"
   ]
  },
  {
   "cell_type": "markdown",
   "id": "0f58d69f-eee7-41ce-a93c-bf20baa89668",
   "metadata": {},
   "source": [
    "* 逻辑运算符 （Logical Operators）\n",
    "\n",
    "| 运算（Syntax）  | 说明 (Description) |\n",
    "|---|---|\n",
    "| a and b | 都为True时，返回True  |\n",
    "| a or b | 至少一个为True时，返回True|\n",
    "| not a  |为True时返回False，为False时返回True |"
   ]
  },
  {
   "cell_type": "code",
   "execution_count": 76,
   "id": "d0364a39-f664-4df6-ab29-2c3893c416ff",
   "metadata": {},
   "outputs": [
    {
     "name": "stdout",
     "output_type": "stream",
     "text": [
      "True\n",
      "False\n",
      "True\n",
      "True\n",
      "False\n",
      "False\n",
      "True\n"
     ]
    }
   ],
   "source": [
    "print(True and True)\n",
    "print(True and False)\n",
    "print(True or True)\n",
    "print(True or False)\n",
    "print(False and False)\n",
    "print(not True)\n",
    "print(not False)"
   ]
  },
  {
   "cell_type": "markdown",
   "id": "96a0d268-6a90-40fa-bbae-18287b669985",
   "metadata": {},
   "source": [
    "* 按位运算符（Bitwise Operators）\n",
    "\n",
    "按位运算符通常用于嵌入式系统，多个输入输出端口（高低电平）表示的命令操作中，在数据分析领域使用暂不常见。但`&`和`|`可以替代`and`和`or`逻辑运算符使用。\n",
    "\n",
    "| 运算（Syntax）  | 说明 (Description) |\n",
    "|---|---|\n",
    "| a & b | 如果a和b均为True，则结果为True。对于整数（二进制），执行按位与操作。(Bitwise AND)|\n",
    "| a \\| b | 如果a和b任意一个为True，返回True。对于整数（二进制），执行按位或操作。(Bitwise OR)|\n",
    "| a^b  |为True时返回False，为False时返回True。对于布尔值，如果a或b为True(但不都为True)，则结果为True。对于整数（二进制），执行按位异或操作。 (Bitwise XOR)|\n",
    "|~a|对于整数（二进制），执行按位取反操作。(Bitwiese NOT)|\n",
    "|a<<b|对于整数（二进制），对a执行按位左移b个位操作。(Bitwise left shift)|\n",
    "|a>>b|对于整数（二进制），对a执行按位右移b个位操作。(Bitwise right shift)|"
   ]
  },
  {
   "cell_type": "code",
   "execution_count": 108,
   "id": "655bf26c-30dd-486b-94e9-a2c15c7cdeb5",
   "metadata": {},
   "outputs": [
    {
     "name": "stdout",
     "output_type": "stream",
     "text": [
      "True\n",
      "False\n",
      "True\n",
      "True\n",
      "False\n",
      "__________________________________________________\n",
      "0b111\n",
      "0b111\n",
      "7\n",
      "__________________________________________________\n",
      "-0b1000\n",
      "__________________________________________________\n",
      "0b1110\n",
      "0b11\n"
     ]
    }
   ],
   "source": [
    "print(True & True)\n",
    "print(True & False)\n",
    "print(True | True)\n",
    "print(True | False)\n",
    "print(False | False)\n",
    "\n",
    "print(\"_\"*50)\n",
    "print(bin(7))\n",
    "print(bin(0b0111))\n",
    "print(0b0111) #会自动转换为十进制\n",
    "\n",
    "print(\"_\"*50)\n",
    "print(bin(~0b0111))\n",
    "\n",
    "print(\"_\"*50)\n",
    "print(bin(0b0111<<1))\n",
    "print(bin(0b0111>>1))"
   ]
  },
  {
   "cell_type": "markdown",
   "id": "1078c241-82c6-49e9-b028-c7b514ac0667",
   "metadata": {},
   "source": [
    "* 成员运算幅 （Membership Operators）\n",
    "\n",
    "用于判断一个对象是否在python序列中（例如，string(字符串), list(列表)，tuple(元组)，array(数组)等）。\n",
    "\n",
    "| 运算（Syntax）  | 说明 (Description) |\n",
    "|---|---|\n",
    "| a in b | 如果a在序列b中，则为True |\n",
    "| a not in b | 如果a不在序列b中，则为True|"
   ]
  },
  {
   "cell_type": "code",
   "execution_count": 117,
   "id": "a5db827e-fa47-452b-bda8-3739d1442436",
   "metadata": {},
   "outputs": [
    {
     "name": "stdout",
     "output_type": "stream",
     "text": [
      "False\n",
      "True\n",
      "True\n",
      "True\n"
     ]
    }
   ],
   "source": [
    "lst=[1,3,6,7,9]\n",
    "string=\"python supports two membership operators, in and not in.\"\n",
    "\n",
    "print(2 in lst)\n",
    "print(3 in lst)\n",
    "print(\"in\" in string)\n",
    "print(\"is not\" not in string)"
   ]
  },
  {
   "cell_type": "markdown",
   "id": "7a849680-1aef-4bc8-9e04-297a197a612c",
   "metadata": {},
   "source": [
    "* 同一运算符 （Identity Operators）\n",
    "\n",
    "用于判断两个对象（例如变量）是否使用同一位置索引内存。可用内置函数`id()`查看对象唯一标识，即获取对象的内存地址。\n",
    "\n",
    "| 运算（Syntax）  | 说明 (Description) |\n",
    "|---|---|\n",
    "| a is b | 如果变量a和b指向同一个python对象，则结果为True|\n",
    "|a is not b | \t如果变量a和b指向不同的python对象，则结果为True|"
   ]
  },
  {
   "cell_type": "code",
   "execution_count": 123,
   "id": "93567964-319f-4bf9-a2b7-eab54f816e29",
   "metadata": {},
   "outputs": [
    {
     "name": "stdout",
     "output_type": "stream",
     "text": [
      "True\n",
      "True\n",
      "False\n",
      "140730917330880 140730917330880 140730917330880 140730917330944\n"
     ]
    }
   ],
   "source": [
    "a=7\n",
    "b=a\n",
    "c=7\n",
    "d=9\n",
    "\n",
    "print(b is a)\n",
    "print(c is a)\n",
    "print(d is a)\n",
    "print(id(a),id(b),id(c),id(d))"
   ]
  },
  {
   "cell_type": "markdown",
   "id": "e00fcb92-ccef-43e3-8072-f94bdbb5e2e4",
   "metadata": {},
   "source": [
    "* 运算符优先级 （Precedence and Associativity Rule of Operators）\n",
    "\n",
    "包括多个运算符时，优先顺序如下表。L2R表示Left to right（从左到右）；R2L表示Right to left(从右到左)\n",
    "\n",
    "|运算符（Operator）   |  说明（Description） | 结合性（Associativity）  |\n",
    "|---|---|---|\n",
    "| ()<br /> **  | 圆括号（Parentheses）<br />幂（Exponential/Power）  |  L2R <br />R2L|\n",
    "| +x,-x,~x <br />*,/,//,%  | 一元加（Unary Addition），一元减（Unary Subtraction）, 按位取反（Bitwise NOT）<br />乘（Multiplication），除(Division), 向下取整除（Floor Division）,取模运算（Modulus） | L2R<br />L2R  |\n",
    "|  +,- | 算数加（Arithmetic addition）,算数减（Arithmetic subtraction）  | L2R  |\n",
    "| <<,>>  | 按位左移（Bitwise shift left）, 按位右移（Bitwise shift right）  |  L2R |\n",
    "| &  | 按位与（Bitwise AND）  | L2R  |\n",
    "| ^  | 按位或（Bitwise OR）  | L2R  |\n",
    "|  \\|<br />==,!=,>,>=,<,<= |按位异或（Bitwise XOR）<br />比较运算符（Relational operators）   | L2R<br />L2R  |\n",
    "| =,+=,-=,*=,/=,//=,**=,%= <br /> in, not in, is, is not | 赋值运算符（Assignment and Augmented assignment operators））<br />成员，同一运算符（Membership, Identity operators）  | R2L<br />L2R   |\n",
    "|  Not <br /> And | 逻辑非（Logical NOT） <br />逻辑与（Logical AND） | L2R<br />L2R  |\n",
    "|Or | 逻辑或（Logical OR）  |  L2R |"
   ]
  },
  {
   "cell_type": "code",
   "execution_count": 125,
   "id": "e655412d-c0e2-423e-b8a6-89f5c6430fbb",
   "metadata": {},
   "outputs": [
    {
     "name": "stdout",
     "output_type": "stream",
     "text": [
      "16.0\n"
     ]
    }
   ],
   "source": [
    "x=7\n",
    "print((x**2-2*x-3)/2)"
   ]
  },
  {
   "cell_type": "markdown",
   "id": "702e69e2-0cf3-4d3d-817e-f2ccbc8e11e6",
   "metadata": {},
   "source": [
    "## 1.4 变量及赋值 (Variables and assignment)\n",
    "\n",
    "代码读起来应该像流畅的英语散文，而不是加密的密码。好的易读的变量名的定义正是让代码变的流畅的基础。变量名不能以数字和特殊字符为开头，也不可以内置的函数名定义，也不存在空格，如果由几个单词或数字组成变量名，通常由下划线连接，或者每一新单词首字母大写（通常尽量保持一种风格）。变量名定义不符合规范时，解释器会提示错误。"
   ]
  },
  {
   "cell_type": "code",
   "execution_count": 142,
   "id": "3180beaf-d118-4b91-8714-54ee1bf70965",
   "metadata": {},
   "outputs": [
    {
     "name": "stdout",
     "output_type": "stream",
     "text": [
      "11\n"
     ]
    }
   ],
   "source": [
    "func=2*y+1 #当程序逐行从上至下运行时，注意变量定义的顺序\n",
    "y=5\n",
    "print(func)"
   ]
  },
  {
   "cell_type": "markdown",
   "id": "54bcf9f2-5512-4fd5-896e-2e3f19109a8d",
   "metadata": {},
   "source": [
    "如果想把变量值作为字符串的一部分打印出来，可以使用字符串格式化方法，例如`%`形式，或者`'{}'.format(variable)`方式。"
   ]
  },
  {
   "cell_type": "code",
   "execution_count": 128,
   "id": "c23d6988-3ef4-483e-bf38-0dcfc4d78b69",
   "metadata": {},
   "outputs": [
    {
     "name": "stdout",
     "output_type": "stream",
     "text": [
      "monadic_equation= 11.0\n",
      "monadic_equation=11.00\n",
      "monadic_equation=11.00\n"
     ]
    }
   ],
   "source": [
    "x=5.0\n",
    "monadic_equation=2*x+1\n",
    "print(\"monadic_equation=\",monadic_equation)\n",
    "print(\"monadic_equation=%.2f\"%monadic_equation) #%字符串格式化方法\n",
    "print(\"monadic_equation={:.2f}\".format(monadic_equation)) #format()字符串格式化方法"
   ]
  },
  {
   "cell_type": "code",
   "execution_count": 129,
   "id": "74b6c628-9d8c-4096-8a62-36ad9282fece",
   "metadata": {},
   "outputs": [
    {
     "name": "stdout",
     "output_type": "stream",
     "text": [
      "The longitude of the Xi'an coordinate is 108.94, and the latitude is 34.261013.\n"
     ]
    }
   ],
   "source": [
    "city_name=\"Xi'an\"\n",
    "coordinate_longitude=108.942292\n",
    "coordiante_latitude=34.261013\n",
    "print(\"The longitude of the Xi'an coordinate is {lon:.2f}, and the latitude is {lat}.\".format(lon=coordinate_longitude,lat=coordiante_latitude))"
   ]
  },
  {
   "cell_type": "code",
   "execution_count": 131,
   "id": "5253dd91-a4e8-470a-94c9-dfabf1dbbfff",
   "metadata": {},
   "outputs": [
    {
     "name": "stdout",
     "output_type": "stream",
     "text": [
      "func_2=2\n"
     ]
    }
   ],
   "source": [
    "x,y,b=2,5,7 #序列解包（unpacking）。尝试，x,y,*z=0,1,2,3,4,5,6; x,y,*z=0,1; (x,y),(a,b)=(0,1),(2,3)\n",
    "func_2=2*x+3*y+b\n",
    "print(\"func_2={}\".format(x,y,b,func_2))"
   ]
  },
  {
   "cell_type": "raw",
   "id": "2f4300b5-a72a-4968-8cc2-a5fc15b221c9",
   "metadata": {},
   "source": [
    "当代码变量不断的增多时，可以在尽量保持风格统一条件下，综合下划线和首字母大写，及专业术语缩写等方式表达。"
   ]
  },
  {
   "cell_type": "code",
   "execution_count": 141,
   "id": "04ee4b41-1e22-454d-ad1d-771ce99f933a",
   "metadata": {},
   "outputs": [
    {
     "name": "stdout",
     "output_type": "stream",
     "text": [
      "GIndustrial_GSR=56.386%\n"
     ]
    }
   ],
   "source": [
    "landuseName='General_Industrial'\n",
    "landuseID=3\n",
    "GIndustrial_area=5700\n",
    "GIndustrial_greenArea=3214 \n",
    "GIndustrial_GSR=GIndustrial_greenArea/GIndustrial_area*100 #green space ratio(GSR)\n",
    "print(\"GIndustrial_GSR={:.3f}%\".format(GIndustrial_GSR))"
   ]
  },
  {
   "cell_type": "markdown",
   "id": "57be4116-6dab-4b20-8216-d22e331a57f7",
   "metadata": {},
   "source": [
    "<span style = \"color:Teal;background-color:;font-size:20.0pt\">是否完成PCS_1(&nbsp;&nbsp;&nbsp;&nbsp;&nbsp;&nbsp;)</span>"
   ]
  }
 ],
 "metadata": {
  "kernelspec": {
   "display_name": "Python 3 (ipykernel)",
   "language": "python",
   "name": "python3"
  },
  "language_info": {
   "codemirror_mode": {
    "name": "ipython",
    "version": 3
   },
   "file_extension": ".py",
   "mimetype": "text/x-python",
   "name": "python",
   "nbconvert_exporter": "python",
   "pygments_lexer": "ipython3",
   "version": "3.8.13"
  }
 },
 "nbformat": 4,
 "nbformat_minor": 5
}
