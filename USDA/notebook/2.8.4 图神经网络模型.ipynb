{
 "cells": [
  {
   "cell_type": "markdown",
   "id": "38a3ca6e-9e8b-4e55-93a8-8d9b2eac1920",
   "metadata": {},
   "source": [
    "> Created on Mon Jan 23 19:06:27 2023 @author: Richie Bao-caDesign设计(cadesign.cn)"
   ]
  },
  {
   "cell_type": "markdown",
   "id": "efc8c2db-fb86-4abf-b5aa-05f4d6edc6f2",
   "metadata": {},
   "source": [
    "## 2.8.4 图神经网络模型\n",
    "\n",
    "### 2.8.4.1 数据\n",
    "\n",
    "#### 3）土地"
   ]
  },
  {
   "cell_type": "code",
   "execution_count": null,
   "id": "98613dea-6797-4c96-a520-d50af8045960",
   "metadata": {},
   "outputs": [],
   "source": []
  },
  {
   "cell_type": "code",
   "execution_count": null,
   "id": "7c964ade-4e4f-4927-993d-90b2a74c9161",
   "metadata": {},
   "outputs": [],
   "source": []
  },
  {
   "cell_type": "code",
   "execution_count": null,
   "id": "44b66af8-fb3c-40a8-bcaa-4b247a28e5ad",
   "metadata": {},
   "outputs": [],
   "source": []
  },
  {
   "cell_type": "code",
   "execution_count": null,
   "id": "b91012fc-1681-4eaf-afde-aefe1ea60d9c",
   "metadata": {},
   "outputs": [],
   "source": []
  },
  {
   "cell_type": "code",
   "execution_count": null,
   "id": "faa107bf-e01b-4732-b2e9-ca0df4a62c61",
   "metadata": {},
   "outputs": [],
   "source": []
  },
  {
   "cell_type": "code",
   "execution_count": null,
   "id": "51f09c45-2250-4b07-8e7f-a69216a5c8b2",
   "metadata": {},
   "outputs": [],
   "source": []
  },
  {
   "cell_type": "code",
   "execution_count": null,
   "id": "eabca5af-5f33-4a52-b17f-cf2a64b86948",
   "metadata": {},
   "outputs": [],
   "source": []
  },
  {
   "cell_type": "code",
   "execution_count": null,
   "id": "a0066b85-e449-4a6b-9b28-5ab1ac4ffae9",
   "metadata": {},
   "outputs": [],
   "source": []
  },
  {
   "cell_type": "markdown",
   "id": "8a0a3850-0bcd-4391-b9b9-1654a64c67a6",
   "metadata": {},
   "source": [
    "---"
   ]
  },
  {
   "cell_type": "markdown",
   "id": "94c6d2c4-197e-4530-adc4-0045a3371e24",
   "metadata": {},
   "source": [
    "注释（Notes）：\n",
    "\n",
    "① "
   ]
  },
  {
   "cell_type": "markdown",
   "id": "a53a469f-9d95-42fa-8ea9-f434649924a1",
   "metadata": {},
   "source": [
    "参考文献（References）:\n",
    "\n",
    "[1]"
   ]
  },
  {
   "cell_type": "code",
   "execution_count": null,
   "id": "56e52a9e-c6f0-46b4-86e9-399757c168cf",
   "metadata": {},
   "outputs": [],
   "source": []
  }
 ],
 "metadata": {
  "kernelspec": {
   "display_name": "Python 3 (ipykernel)",
   "language": "python",
   "name": "python3"
  },
  "language_info": {
   "codemirror_mode": {
    "name": "ipython",
    "version": 3
   },
   "file_extension": ".py",
   "mimetype": "text/x-python",
   "name": "python",
   "nbconvert_exporter": "python",
   "pygments_lexer": "ipython3",
   "version": "3.8.15"
  }
 },
 "nbformat": 4,
 "nbformat_minor": 5
}
