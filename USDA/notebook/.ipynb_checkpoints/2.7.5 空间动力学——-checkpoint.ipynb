{
 "cells": [
  {
   "cell_type": "markdown",
   "id": "747b2532-cbfc-470d-98fa-0558fbebc74e",
   "metadata": {},
   "source": [
    "> Created on Thu Dec 15 21:13:53 2022  @author: Richie Bao-caDesign设计(cadesign.cn)"
   ]
  },
  {
   "cell_type": "markdown",
   "id": "f4f985dc-6075-4dda-b02e-ce0299b2b5e6",
   "metadata": {},
   "source": [
    "## 2.7.5 空间动力学——\n",
    "\n",
    "\n",
    "### 2.7.4.1 数据预处理 \n",
    "\n",
    "#### 1）"
   ]
  },
  {
   "cell_type": "code",
   "execution_count": null,
   "id": "78368c14-c93e-46f7-bcd1-6abeadc058ba",
   "metadata": {},
   "outputs": [],
   "source": []
  },
  {
   "cell_type": "code",
   "execution_count": null,
   "id": "86b75b2c-37f7-44de-8344-6c1f853b53b4",
   "metadata": {},
   "outputs": [],
   "source": []
  },
  {
   "cell_type": "code",
   "execution_count": null,
   "id": "6ee38b55-b869-432e-bea2-7b969a75f27f",
   "metadata": {},
   "outputs": [],
   "source": []
  },
  {
   "cell_type": "code",
   "execution_count": null,
   "id": "4b81dece-9f90-46ba-bb79-1dd0490f28cb",
   "metadata": {},
   "outputs": [],
   "source": []
  },
  {
   "cell_type": "code",
   "execution_count": null,
   "id": "ecbbe181-fab3-4dd3-a716-1ac3b03abbe1",
   "metadata": {},
   "outputs": [],
   "source": []
  },
  {
   "cell_type": "code",
   "execution_count": null,
   "id": "19ca4216-03e8-4077-b977-3c05001f854c",
   "metadata": {},
   "outputs": [],
   "source": []
  },
  {
   "cell_type": "code",
   "execution_count": null,
   "id": "c501c891-ba05-4a64-9cff-4d0fe364623b",
   "metadata": {},
   "outputs": [],
   "source": []
  },
  {
   "cell_type": "code",
   "execution_count": null,
   "id": "fb0d9349-3b40-401f-aa00-8efc244a47dc",
   "metadata": {},
   "outputs": [],
   "source": []
  },
  {
   "cell_type": "markdown",
   "id": "fe29e369-dbbb-4c20-8d1d-1f721cf37442",
   "metadata": {},
   "source": [
    "---"
   ]
  },
  {
   "cell_type": "markdown",
   "id": "0254bf23-b98f-4391-86c1-9c12a2aae8a9",
   "metadata": {},
   "source": [
    "注释（Notes）：\n",
    "\n",
    "① "
   ]
  },
  {
   "cell_type": "markdown",
   "id": "020c8cfe-3c1a-4955-b386-fafa5e308715",
   "metadata": {},
   "source": [
    "参考文献（References）:\n",
    "\n",
    "[1]"
   ]
  },
  {
   "cell_type": "code",
   "execution_count": null,
   "id": "4ed40d37-5dc6-4f17-8104-3b8075e832be",
   "metadata": {},
   "outputs": [],
   "source": []
  }
 ],
 "metadata": {
  "kernelspec": {
   "display_name": "Python 3 (ipykernel)",
   "language": "python",
   "name": "python3"
  },
  "language_info": {
   "codemirror_mode": {
    "name": "ipython",
    "version": 3
   },
   "file_extension": ".py",
   "mimetype": "text/x-python",
   "name": "python",
   "nbconvert_exporter": "python",
   "pygments_lexer": "ipython3",
   "version": "3.8.13"
  }
 },
 "nbformat": 4,
 "nbformat_minor": 5
}
