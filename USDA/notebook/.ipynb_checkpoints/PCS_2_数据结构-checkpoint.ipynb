{
 "cells": [
  {
   "cell_type": "markdown",
   "id": "5762b2c4-551f-43b4-bbb5-f3170fd856b5",
   "metadata": {},
   "source": [
    "# Python Cheat Sheet-2. 数据结构 （Data Structure）"
   ]
  },
  {
   "cell_type": "markdown",
   "id": "de5fb7a4-e025-4bc0-913c-ac140dfce673",
   "metadata": {},
   "source": [
    "## 2.1 列表（List）、元组（Tuple）和字典（Dictionary），及集合（set）\n",
    "\n",
    "对于一组序列（sequence）数据（有序的），包含有一个或者多个值时，如果要赋予一个变量，则需要使用列表进行存储。同时，可以对数据进行组织管理，即为可变的（mutable），这包括使用索引（index）、分片（slicing）及提供的内置（built-in）函数或方法等途径，实现数据提取、插入、检索及列表间的运算等。\n",
    "\n",
    "元组类似于列表，只是元组不可修改数据，但可以提取项值，及用内置函数查看数据属性，例如数据长度、最大最小值等。\n",
    "\n",
    "如果有一组空气污染物浓度的数据，希望可以通过检索污染物名称（string类型）提取数值，而并不要求浓度数据为序列型，则需要使用字典类型存储数据，并可赋予一个变量。对字典实现数据的组织管理，通过对键值操作、内置的函数和方法实现。\n",
    "\n",
    "集合为一组无序不重复元素集，可以进行交集、差集和并集等操作，在某些算法中可以简化运算复杂程度，例如在‘蚁群算法（Ant Colony Optimization, ACO）’中，或旅行商问题，通过建立禁忌城市集合`TabuCitySet`，通过差集，每次迭代逐次减去已经走过的城市，那么后续计算只需考虑差集后的集合，至集合为空完成计算。\n",
    "\n",
    "列表、元组和字典存储的值可以是字符串、数值、也可以是列表、元组或字典自身，或者其它数据类型和结构。对于包含列表的列表为嵌套列表（nested list）。集合通常由列表或字符串转换而来，但是不可包含嵌套列表，否则会提示错误`TypeError: unhashable type: 'list'`。\n",
    "\n",
    "究竟选择哪类数据结构用于组织数据分析，需要根据具体分析的内容、途径，优先考虑便于操作的类型，或者组合。\n",
    "\n",
    "> 当实际工作研究时，对于城市空间数据或用[Sklearn（scikit-learn）机器学习](https://scikit-learn.org/stable/)，及[pytroch](https://pytorch.org/)深度学习时，扩展库[numpy](https://numpy.org/)和[pandas](https://pandas.pydata.org/)（及[geopandas](https://geopandas.org/en/stable/)）提供的数组（array）和表（DataFrame，Series）数据结构无法避免。"
   ]
  },
  {
   "cell_type": "markdown",
   "id": "cc4196d1-f7af-42b2-a60f-c8e4a4e48d27",
   "metadata": {},
   "source": [
    "## 2.2 列表（List）\n",
    "\n",
    "语法为`[v0,v1,v2,...,vn]`。默认索引关系为从0开始，递增1计算，也可以逆序(Negative Indexing)，如:<img src=\"./imgs/pc_2_01.png\" height=\"auto\" width=500 title=\"caDesign\">。\n",
    "\n",
    "* 建立列表\n",
    "\n",
    "一种是按照语法直接书写并赋予变量，或用`list()`实现。用内置函数的方法时，如果是字符串会自动切分为独个字母，如何是与`range()`配合，会产生一个给定始末和步幅值的序列。"
   ]
  },
  {
   "cell_type": "code",
   "execution_count": 82,
   "id": "16173e5f-a59b-4bb6-8d9e-e8a864eb9972",
   "metadata": {},
   "outputs": [
    {
     "name": "stdout",
     "output_type": "stream",
     "text": [
      "['d', 'e', 'f', 'g', 'h', 'i', 'j', 'k', 'l', 'm']\n",
      "['d', 'e', 'f', 'g', 'h', 'i', 'j', 'k', 'l', 'm']\n",
      "range(5, 20, 3)\n",
      "[5, 8, 11, 14, 17]\n"
     ]
    }
   ],
   "source": [
    "letters_1=['d', 'e', 'f', 'g', 'h', 'i', 'j', 'k', 'l', 'm']\n",
    "print(letters_1)\n",
    "\n",
    "letters_2=list('defghijklm')\n",
    "print(letters_2)\n",
    "\n",
    "sequence_range=range(5,20,3) #内置函数，语法range(start, stop, step)，给定始末和步幅值，构建序列\n",
    "print(sequence_range)\n",
    "sequence_lst=list(range(5,20,3))\n",
    "print(sequence_lst)"
   ]
  },
  {
   "cell_type": "markdown",
   "id": "ea0339a9-121f-4b22-befa-defdcb2d223e",
   "metadata": {},
   "source": [
    "`enumerate(iterable, start=0)`方法，第一个参数为`iterable`可迭代对象（列表或元组），第二个参数为计数起始值，默认为0。返回的枚举对象为一个元组列表，每个元组第一个对象为计数值，第二个对象为对应计数的可迭代对象数值。`enumerate`函数通常用于循环语句中，循环可迭代对象同时，返回索引值对象，用于计数或者作为其它对应数据提取值时的索引对象。返回的枚举对象`<enumerate object at 0x000001C6EDEC1500>`可以用`list`方法提取具体值。"
   ]
  },
  {
   "cell_type": "code",
   "execution_count": 95,
   "id": "c77da791-5eb9-4175-91c6-bb7f4c65242d",
   "metadata": {},
   "outputs": [
    {
     "name": "stdout",
     "output_type": "stream",
     "text": [
      "<enumerate object at 0x000001C6EDEE3B00>\n",
      "[(0, 'd'), (1, 'e'), (2, 'f'), (3, 'g'), (4, 'h'), (5, 'i'), (6, 'j'), (7, 'k'), (8, 'l'), (9, 'm')]\n"
     ]
    }
   ],
   "source": [
    "idx_value=enumerate(letters_1,start=0)\n",
    "print(idx_value)\n",
    "print(list(idx_value))"
   ]
  },
  {
   "cell_type": "markdown",
   "id": "348b5e26-a22e-40d4-8292-be2d517a7549",
   "metadata": {},
   "source": [
    "* 提取值-用索引或者分片（slicing）的方式\n",
    "\n",
    "给定索引可以直接提取对应索引的值。而slicing的方式需要给始末索引值及步幅值，语法为`list[a:b:c]`，`a`为开始值，`b`为结束值，`C`为步幅值。三个参数可以配置负值逆序。\n",
    "\n",
    "下述的案例中，首先用了一个实际研究项目的数据来吃说明，用列表存储多组数据的方式。可以将各组数据单独存储于单个列表中；亦可以用嵌套列表的形式将其存储于一个列表中。不过对于多组数据的存储通常使用dict，array(numpy)或DataFrame(pandas)的形式处理更加便捷。\n",
    "\n",
    "> 在解释数据结构具体操作方式时，则使用简单的数据形式，较之具体研究项目的数据更加简单，亦于专注于操作本身。但是同样给出一个具体的案例，来说明在具体数据分析时数据如何存储的。\n",
    "\n",
    "多组数据单独存储各自列表的方式。"
   ]
  },
  {
   "cell_type": "code",
   "execution_count": 5,
   "id": "895662f4-ccbb-4719-9264-9fd4383b9d1f",
   "metadata": {},
   "outputs": [],
   "source": [
    "# 这组数据来自城市环境传感器（AoT, array of things），提取了部分数据，包括字段有：地址（string）、ID编号(string)、经纬度(float)共4类值，以单独列表形式存储。\n",
    "coordi_lon=[-87.628, -87.616, -87.631, -87.59, -87.711, -87.628, -87.586, -87.713, -87.676, -87.624]\n",
    "coordi_lat=[41.878, 41.858, 41.926, 41.81, 41.866, 41.883, 41.781, 41.751, 41.852, 41.736]\n",
    "node_id=['ba46', 'ba3b', 'f02f', 'ba8f', 'ba16', '7e5d', 'ba8b', 'ba13', 'ba18', 'bc10']\n",
    "address=['State St & Jackson Blvd Chicago IL', '18th St & Lake Shore Dr Chicago IL', 'Lake Shore Drive & Fullerton Ave Chicago IL', 'Cornell & 47th St Chicago IL', 'Homan Ave & Roosevelt Rd Chicago IL', 'State St & Washington St Chicago IL', 'Stony Island Ave & 63rd St Chicago IL', '7801 S Lawndale Ave Chicago IL', 'Damen Ave & Cermak Chicago IL', 'State St & 87th Chicago IL']"
   ]
  },
  {
   "cell_type": "markdown",
   "id": "f1d7e2f3-5142-4149-8011-20beec9205a3",
   "metadata": {},
   "source": [
    "`'{0},{1}'.format(v0,v1)`该种字符串格式化的方式，可以给定索引值，这样就可以不受位置影响，比较方便的增加`{}`待格式内容。\n",
    "\n",
    "如果打印字符串语句比较长，编辑起来不是很方便的话，可以用`\\`将其分成多段处理；打印字符串时，如果需要换行打印显示，则加入`\\n`换行符处理。"
   ]
  },
  {
   "cell_type": "code",
   "execution_count": 30,
   "id": "8d492470-7d08-49c2-b7e9-4a88cf0ff3f9",
   "metadata": {},
   "outputs": [
    {
     "name": "stdout",
     "output_type": "stream",
     "text": [
      "values with the index 2:       \n",
      "id=f02f;\n",
      "lon=-87.631;\n",
      "lat=41.926;\n",
      "address=Lake Shore Drive & Fullerton Ave Chicago IL\n",
      "__________________________________________________\n",
      "slice(2, 5, None)\n",
      "values with the index [2, 3, 4]:       \n",
      "id=['f02f', 'ba8f', 'ba16'];\n",
      "lon=[-87.631, -87.59, -87.711];\n",
      "lat=[41.926, 41.81, 41.866];\n",
      "address=['Lake Shore Drive & Fullerton Ave Chicago IL', 'Cornell & 47th St Chicago IL', 'Homan Ave & Roosevelt Rd Chicago IL']\n"
     ]
    }
   ],
   "source": [
    "# 提取索引值为2对应的数值\n",
    "idx_AoT=2\n",
    "idx_lon=coordi_lon[idx_AoT]\n",
    "idx_lat=coordi_lat[idx_AoT]\n",
    "idx_nodeID=node_id[idx_AoT]\n",
    "idx_address=address[idx_AoT]\n",
    "\n",
    "print('values with the index 2: \\\n",
    "      \\nid={0};\\nlon={2};\\nlat={3};\\naddress={1}'.format(idx_nodeID,idx_address,idx_lon,idx_lat))\n",
    "\n",
    "# 提取分片数据，slice(2,5)为即为[2,3,4]\n",
    "slice_AoT=slice(2,5) #默认步幅为1\n",
    "print(\"_\"*50)\n",
    "print(idxes_AoT)\n",
    "slice_lon=coordi_lon[slice_AoT]\n",
    "slice_lat=coordi_lat[slice_AoT]\n",
    "slice_nodeID=node_id[slice_AoT]\n",
    "slice_address=address[slice_AoT]\n",
    "\n",
    "print('values with the index {4}: \\\n",
    "      \\nid={0};\\nlon={2};\\nlat={3};\\naddress={1}'.format(slice_nodeID,slice_address,slice_lon,slice_lat,list(range(2,5))))"
   ]
  },
  {
   "cell_type": "markdown",
   "id": "1128ba88-197c-471a-8ea0-6173bd00d911",
   "metadata": {},
   "source": [
    "以嵌套列表的形式存储多组数据。很多时候为了方便获知变量的数据结构，而不用打印`print()`或者用`type()`的方式查看数据，则可以在起变量名时，直接增加一个可以表明数据结构的单词或缩写，例如'list->lst'，`dict->dict`，`DataFrame->df`，`GeoDataFrame->gdf`，`array->array`等。"
   ]
  },
  {
   "cell_type": "code",
   "execution_count": 42,
   "id": "d0beb3d4-6abf-40bc-8d6f-da5410341717",
   "metadata": {},
   "outputs": [
    {
     "name": "stdout",
     "output_type": "stream",
     "text": [
      "[['001e0610ba46', -87.627678, 41.87837699999999, 'State St & Jackson Blvd Chicago IL'], ['001e0610ba3b', -87.616055, 41.85813599999999, '18th St & Lake Shore Dr Chicago IL'], ['001e0610f02f', -87.6307578, 41.926261399999994, 'Lake Shore Drive & Fullerton Ave Chicago IL'], ['001e0610ba8f', -87.590228, 41.81034199999999, 'Cornell & 47th St Chicago IL'], ['001e0610ba16', -87.710543, 41.866349, 'Homan Ave & Roosevelt Rd Chicago IL'], ['001e06107e5d', -87.6277685, 41.88320529999999, 'State St & Washington St Chicago IL'], ['001e0610ba8b', -87.58645600000001, 41.7806, 'Stony Island Ave & 63rd St Chicago IL'], ['001e0610ba13', -87.71299, 41.75123799999999, '7801 S Lawndale Ave Chicago IL'], ['001e0610ba18', -87.675825, 41.85217899999999, 'Damen Ave & Cermak Chicago IL'], ['001e0610bc10', -87.62417900000001, 41.73631399999999, 'State St & 87th Chicago IL']]\n"
     ]
    }
   ],
   "source": [
    "AoT_info_lst=[['001e0610ba46', -87.627678, 41.87837699999999, 'State St & Jackson Blvd Chicago IL'], \n",
    "          ['001e0610ba3b', -87.616055, 41.85813599999999, '18th St & Lake Shore Dr Chicago IL'], \n",
    "          ['001e0610f02f', -87.6307578, 41.926261399999994, 'Lake Shore Drive & Fullerton Ave Chicago IL'], \n",
    "          ['001e0610ba8f', -87.590228, 41.81034199999999, 'Cornell & 47th St Chicago IL'], \n",
    "          ['001e0610ba16', -87.710543, 41.866349, 'Homan Ave & Roosevelt Rd Chicago IL'], \n",
    "          ['001e06107e5d', -87.6277685, 41.88320529999999, 'State St & Washington St Chicago IL'], \n",
    "          ['001e0610ba8b', -87.58645600000001, 41.7806, 'Stony Island Ave & 63rd St Chicago IL'], \n",
    "          ['001e0610ba13', -87.71299, 41.75123799999999, '7801 S Lawndale Ave Chicago IL'], \n",
    "          ['001e0610ba18', -87.675825, 41.85217899999999, 'Damen Ave & Cermak Chicago IL'], \n",
    "          ['001e0610bc10', -87.62417900000001, 41.73631399999999, 'State St & 87th Chicago IL']]\n",
    "print(AoT_info)"
   ]
  },
  {
   "cell_type": "markdown",
   "id": "08ffcfa4-96a6-4a18-bcdd-dda24f4d5789",
   "metadata": {},
   "source": [
    "含有括号、大括号的语句，其中的内容可以按逗号分段对其书写，使得代码易读。"
   ]
  },
  {
   "cell_type": "code",
   "execution_count": 43,
   "id": "10b5ed7a-6fdf-470c-9912-680289faa3cf",
   "metadata": {},
   "outputs": [
    {
     "name": "stdout",
     "output_type": "stream",
     "text": [
      "values with the index 2:       \n",
      "id=001e0610f02f;\n",
      "lon=41.926261399999994;\n",
      "lat=Lake Shore Drive & Fullerton Ave Chicago IL;\n",
      "address=-87.6307578\n"
     ]
    }
   ],
   "source": [
    "print('values with the index 2: \\\n",
    "      \\nid={0};\\nlon={2};\\nlat={3};\\naddress={1}'.format(AoT_info_lst[2][0],\n",
    "                                                         AoT_info_lst[2][1],\n",
    "                                                         AoT_info_lst[2][2],\n",
    "                                                         AoT_info_lst[2][3]))"
   ]
  },
  {
   "cell_type": "markdown",
   "id": "9eff437f-8baa-4269-97df-1352547e2374",
   "metadata": {},
   "source": [
    "`letters_1`直接敲入的字母，可以用`list(map(chr,range(100,110))) `语句提取。其中，`chr(i, /)`，是给定索引值，返回[Unicode](https://home.unicode.org/) （统一码、万国码、单一码)字符串。`map(func, *iterables) `函数，输入的第一个参数`func`为一个函数对象，第二个参数`*iterables`为可迭代对象（列表、元组等）以迭代器方式逐个返回给定迭代对象的函数计算值。因为返回的是迭代器，本例返回值为`\n",
    "<map object at 0x000001C6EDDB96D0>`，可以通过`list(iterate object)`方式读取。这个函数可以简单理解为，一次性给定函数多个参数值，返回所有函数计算值。在案例中又给出了两个小案例方便理解。\n",
    "\n",
    "> 所有函数，关键字等都可以通过`help()`函数查看说明文档。"
   ]
  },
  {
   "cell_type": "code",
   "execution_count": 75,
   "id": "e53450ea-38b1-428a-aa4b-b704a5773e9f",
   "metadata": {},
   "outputs": [
    {
     "name": "stdout",
     "output_type": "stream",
     "text": [
      "<map object at 0x000001C6EDEDFDF0>\n",
      "['d', 'e', 'f', 'g', 'h', 'i', 'j', 'k', 'l', 'm']\n",
      "__________________________________________________\n",
      "d\n",
      "__________________________________________________\n",
      "[6, 3, 1, 11]\n",
      "[2, 77, 65]\n"
     ]
    }
   ],
   "source": [
    "print(map(chr,range(100,110))) #返回的为迭代对象\n",
    "\n",
    "lst=list(map(chr,range(100,110))) \n",
    "print(lst)\n",
    "print(\"_\"*50)\n",
    "print(chr(100)) #打印索引值为100的unicode对象\n",
    "\n",
    "print(\"_\"*50)\n",
    "lst4len=['python','C++','C','hello guys!']\n",
    "string_len=list(map(len,lst4len))\n",
    "print(string_len)\n",
    "\n",
    "lst4max=[[1,2],[5,77],[33,65]]\n",
    "max_v=list(map(max,lst4max))\n",
    "print(max_v)"
   ]
  },
  {
   "cell_type": "code",
   "execution_count": 56,
   "id": "c62e9486-79c0-4fe8-a12c-9b3ad036459a",
   "metadata": {},
   "outputs": [
    {
     "name": "stdout",
     "output_type": "stream",
     "text": [
      "Help on class map in module builtins:\n",
      "\n",
      "class map(object)\n",
      " |  map(func, *iterables) --> map object\n",
      " |  \n",
      " |  Make an iterator that computes the function using arguments from\n",
      " |  each of the iterables.  Stops when the shortest iterable is exhausted.\n",
      " |  \n",
      " |  Methods defined here:\n",
      " |  \n",
      " |  __getattribute__(self, name, /)\n",
      " |      Return getattr(self, name).\n",
      " |  \n",
      " |  __iter__(self, /)\n",
      " |      Implement iter(self).\n",
      " |  \n",
      " |  __next__(self, /)\n",
      " |      Implement next(self).\n",
      " |  \n",
      " |  __reduce__(...)\n",
      " |      Return state information for pickling.\n",
      " |  \n",
      " |  ----------------------------------------------------------------------\n",
      " |  Static methods defined here:\n",
      " |  \n",
      " |  __new__(*args, **kwargs) from builtins.type\n",
      " |      Create and return a new object.  See help(type) for accurate signature.\n",
      "\n"
     ]
    }
   ],
   "source": [
    "help(map)"
   ]
  },
  {
   "cell_type": "markdown",
   "id": "79ec52cb-7cbf-4234-b356-d621765e58f3",
   "metadata": {},
   "source": [
    "分片练习"
   ]
  },
  {
   "cell_type": "code",
   "execution_count": 79,
   "id": "f2ac8ecb-2d34-4da2-a251-8e6e0e19ef9c",
   "metadata": {},
   "outputs": [
    {
     "name": "stdout",
     "output_type": "stream",
     "text": [
      "['g', 'h', 'i']\n",
      "['g', 'h', 'i']\n",
      "['g', 'i']\n",
      "['k', 'l']\n",
      "['k', 'l', 'm']\n",
      "m\n",
      "['d', 'e', 'f']\n",
      "['d', 'e', 'f', 'g', 'h', 'i', 'j', 'k', 'l', 'm']\n"
     ]
    }
   ],
   "source": [
    "print(lst[3:6:1])\n",
    "print(lst[3:6])\n",
    "print(lst[3:6:2])\n",
    "print(lst[-3:-1])\n",
    "print(lst[-3:])\n",
    "print(lst[-1])\n",
    "print(lst[:3])\n",
    "print(lst[:])"
   ]
  },
  {
   "cell_type": "markdown",
   "id": "c1c92d6f-c10a-4f33-b5ba-1f33058e3c28",
   "metadata": {},
   "source": [
    "元素赋值+分片赋值+删除元素+列表相加+列表的乘法+成员运算符"
   ]
  },
  {
   "cell_type": "code",
   "execution_count": 148,
   "id": "2f4c1bc5-4dec-4fc6-9707-bed80eb80527",
   "metadata": {},
   "outputs": [
    {
     "name": "stdout",
     "output_type": "stream",
     "text": [
      "['*', ')', 99, 'h', 'g', 99, [1000, 1200, 1500], 'e', 'd']\n",
      "['*', ')', 99, 'h', 'g', 99, [1000, 1200, 1500], 'e', 'd', None, None, None, None, None, None]\n",
      "['*', ')', 99, 'h', 'g', 99, [1000, 1200, 1500], 'e', 'd', None, None, None, None, 2015, None]\n",
      "['*', ')', 99, 'h', 'g', 99, [1000, 1200, 1500], 'e', 'd', 100, 102, None, 2015, None]\n",
      "['*', 0, 0, 0, 12, ')', 99, 'h', 'g', 99, [1000, 1200, 1500], 'e', 'd', 100, 102, None, 2015, None]\n",
      "['*', 0, 0, 0, 12, ')', 99, 'h', 'g', 99, [1000, 1200, 1500], 'e', 'd', 100, 102, None]\n",
      "True\n",
      "False\n"
     ]
    }
   ],
   "source": [
    "lst[5]=99 #元素赋值\n",
    "print(lst)\n",
    "lst_none=lst+[None]*6 #列表相加，及列表的乘法\n",
    "print(lst_none)\n",
    "lst_none[13]=2015\n",
    "print(lst_none)\n",
    "lst_none[-6:-3]=list(range(100,104,2)) #分片赋值\n",
    "print(lst_none)\n",
    "lst_none[1:1]=[0,0,0,12]\n",
    "print(lst_none)\n",
    "del lst_none[-2:] #删除元素\n",
    "print(lst_none)\n",
    "\n",
    "print([1000, 1200, 1500] in lst_none) #成员运算符\n",
    "print([1000, 1200, 1500] not in lst_none) #成员运算符"
   ]
  },
  {
   "cell_type": "markdown",
   "id": "70d8d1e8-88a5-4d11-9df2-fc5dce1ece68",
   "metadata": {},
   "source": [
    "* 内置函数\n",
    "\n",
    "可以用于列表的内置函数，除了构建列表的`list()`函数外，可以用`len()`函数计算列表长度，`max()`函数返回列表最大值，`min()`函数返回列表最小值等。表述为函数时，通常是以`func(auguments)`语法操作，函数可以理解为将要执行的动作，输入参数为被执行的对象。\n",
    "\n",
    "在练习时，如果手工随机输入一组数据，即使数值比较简单，但是还是会消磨掉一些对技能增长无用的时间，因此练习代码需要随机数值就可以的化，就用代码自动生成一组数据。下述调入`random`库，使用该库提供的`sample(population, k)`方法，随机生成一组值，其中第一个参数`population`为序列（列表、元组等）或集合（set）的一组数；第二个参数为随机提取的数量。返回值为在给定的一组数中随机抽取`k`个，组成一个新的列表。每运行依次抽取的随机数都会发生改变，如果希望每次运行结果保持一致，则需要用`seed(a=None, version=2)`固定一个随机种子，关于参数的解释可以用`help(random.seed)`方法查看。\n"
   ]
  },
  {
   "cell_type": "code",
   "execution_count": 125,
   "id": "ae1dcadb-a883-4685-b4ce-a0519a4de5ba",
   "metadata": {},
   "outputs": [
    {
     "name": "stdout",
     "output_type": "stream",
     "text": [
      "['<', '=', '>', '?', '@', 'A', 'B', 'C', 'D', 'E']\n",
      "[147, 9, 110, 124, 148, 4, 53, 119, 126, 72]\n",
      "Help on method sample in module random:\n",
      "\n",
      "sample(population, k) method of random.Random instance\n",
      "    Chooses k unique random elements from a population sequence or set.\n",
      "    \n",
      "    Returns a new list containing elements from the population while\n",
      "    leaving the original population unchanged.  The resulting list is\n",
      "    in selection order so that all sub-slices will also be valid random\n",
      "    samples.  This allows raffle winners (the sample) to be partitioned\n",
      "    into grand prize and second place winners (the subslices).\n",
      "    \n",
      "    Members of the population need not be hashable or unique.  If the\n",
      "    population contains repeats, then each occurrence is a possible\n",
      "    selection in the sample.\n",
      "    \n",
      "    To choose a sample in a range of integers, use range as an argument.\n",
      "    This is especially fast and space efficient for sampling from a\n",
      "    large population:   sample(range(10000000), 60)\n",
      "\n",
      "None\n"
     ]
    }
   ],
   "source": [
    "letters_lst=list(map(chr,range(60,70))) \n",
    "print(lst)\n",
    "\n",
    "import random \n",
    "random.seed(10)\n",
    "numericalVals_lst=random.sample(range(1,200),10)\n",
    "print(numericalVals_lst)\n",
    "\n",
    "print(help(random.sample))"
   ]
  },
  {
   "cell_type": "code",
   "execution_count": 123,
   "id": "e4e93bc0-c5f7-4af9-ab41-d45b7f099400",
   "metadata": {},
   "outputs": [
    {
     "name": "stdout",
     "output_type": "stream",
     "text": [
      "10 10\n",
      "E 148\n",
      "< 4\n"
     ]
    }
   ],
   "source": [
    "print(len(letters_lst),len(numericalVals_lst))\n",
    "print(max(letters_lst),max(numericalVals_lst))\n",
    "print(min(letters_lst),min(numericalVals_lst))"
   ]
  },
  {
   "cell_type": "markdown",
   "id": "e113c200-0e9f-43c8-8070-494787a1631c",
   "metadata": {},
   "source": [
    "* 内置方法\n",
    "\n",
    "列表的方法使用的语法为`lst.method()`，包括：\n",
    "\n",
    "`append()`，在列表末尾追加新的对象;\n",
    "\n",
    "`extend()`，在列表的末尾一次性追加另一个序列中的多个值;\n",
    "\n",
    "`insert()`，将对象插入到列表中;\n",
    "\n",
    "`pop()`，根据指定的索引值移除列表中的项值，并返回该项值，在默认无参数的条件下移除最后一个;\n",
    "\n",
    "`remove()`，移除项值，输入参数为指定的项值而不是索引值;\n",
    "\n",
    "`count()`，统计某个元素在列表中出现的次数；\n",
    "\n",
    "`index()`，从列表中找到某一个值第一个匹配项的索引位置;\n",
    "\n",
    "`reverse()`，翻转列表;\n",
    "\n",
    "`clear()`，清空列表;\n",
    "\n",
    "`sort()`，是按一定的顺序重新排序;\n",
    "\n",
    "`copy()`，复制列表;\n",
    "\n",
    "查看帮助文件时，使用`help(list.method)`语法。"
   ]
  },
  {
   "cell_type": "code",
   "execution_count": 141,
   "id": "516c9e3a-0ceb-4479-b139-0da3c6274469",
   "metadata": {},
   "outputs": [
    {
     "name": "stdout",
     "output_type": "stream",
     "text": [
      "['d', 'e', 'f', 'g', 'h']\n",
      "['d', 'e', 'f', 'g', 'h', 99]\n",
      "['d', 'e', 'f', 'g', 'h', 99, [50, 55, 60, 65, 70, 75]]\n",
      "['d', 'e', 'f', 'g', 'h', 99, [50, 55, 60, 65, 70, 75]]\n",
      "['d', 'e', 'f', 'g', 'h', 99, [50, 55, 60, 65, 70, 75], '*', ')', '*']\n",
      "['d', 'e', 'f', 'g', 'h', 99, [50, 55, 60, 65, 70, 75], '*', ')', '*']\n",
      "['d', 'e', 'f', 'g', 'h', 99, [50, 55, 60, 65, 70, 75], '*', ')', '*']\n",
      "['d', 'e', [1000, 1200, 1500], 'f', 'g', 'h', 99, [50, 55, 60, 65, 70, 75], '*', ')', '*']\n",
      "['d', 'e', [1000, 1200, 1500], 'f', 'g', 'h', 99, '*', ')', '*']\n",
      "['d', 'e', [1000, 1200, 1500], 'f', 'g', 'h', 99, ')', '*']\n",
      "['*', ')', 99, 'h', 'g', 'f', [1000, 1200, 1500], 'e', 'd']\n"
     ]
    },
    {
     "ename": "TypeError",
     "evalue": "'<' not supported between instances of 'int' and 'str'",
     "output_type": "error",
     "traceback": [
      "\u001b[1;31m---------------------------------------------------------------------------\u001b[0m",
      "\u001b[1;31mTypeError\u001b[0m                                 Traceback (most recent call last)",
      "Input \u001b[1;32mIn [141]\u001b[0m, in \u001b[0;36m<cell line: 23>\u001b[1;34m()\u001b[0m\n\u001b[0;32m     21\u001b[0m lst\u001b[38;5;241m.\u001b[39mreverse()\n\u001b[0;32m     22\u001b[0m \u001b[38;5;28mprint\u001b[39m(lst)\n\u001b[1;32m---> 23\u001b[0m \u001b[43mlst\u001b[49m\u001b[38;5;241;43m.\u001b[39;49m\u001b[43msort\u001b[49m\u001b[43m(\u001b[49m\u001b[43m)\u001b[49m\n",
      "\u001b[1;31mTypeError\u001b[0m: '<' not supported between instances of 'int' and 'str'"
     ]
    }
   ],
   "source": [
    "lst=list(map(chr,range(100,105)))\n",
    "print(lst)\n",
    "lst.append(99)\n",
    "print(lst)\n",
    "lst.append(list(range(50,80,5)))\n",
    "print(lst)\n",
    "lst_b=['*',')','*']\n",
    "print(lst)\n",
    "lst.extend(lst_b)\n",
    "print(lst)\n",
    "lst.count('*')\n",
    "print(lst)\n",
    "lst.index('e')\n",
    "print(lst)\n",
    "lst.insert(2,[1000,1200,1500])\n",
    "print(lst)\n",
    "lst.pop(7)\n",
    "print(lst)\n",
    "lst.remove('*')\n",
    "print(lst)\n",
    "lst.reverse()\n",
    "print(lst)\n",
    "lst.sort() #将提示错误，TypeError: '<' not supported between instances of 'int' and 'str'"
   ]
  },
  {
   "cell_type": "code",
   "execution_count": 144,
   "id": "576d6910-5024-4082-9157-98c9dbc82495",
   "metadata": {},
   "outputs": [
    {
     "name": "stdout",
     "output_type": "stream",
     "text": [
      "['*', ')', 99, 'h', 'g', 'f', [1000, 1200, 1500], 'e', 'd']\n",
      "[7, 2, 4, 5, 8, 1]\n",
      "[1, 2, 4, 5, 7, 8]\n",
      "[1, 2, 4, 5, 7, 8]\n",
      "[]\n"
     ]
    }
   ],
   "source": [
    "print(lst)\n",
    "\n",
    "import random\n",
    "r_lst=random.sample(range(10),6)\n",
    "print(r_lst)\n",
    "r_lst.sort()\n",
    "print(r_lst)\n",
    "lst_copy=r_lst.copy()\n",
    "print(lst_copy)\n",
    "lst_copy.clear()\n",
    "print(lst_copy)"
   ]
  },
  {
   "cell_type": "code",
   "execution_count": 136,
   "id": "e9701212-0ea1-4474-853a-b3eeb7f09b04",
   "metadata": {},
   "outputs": [
    {
     "name": "stdout",
     "output_type": "stream",
     "text": [
      "Help on method_descriptor:\n",
      "\n",
      "extend(self, iterable, /)\n",
      "    Extend list by appending elements from the iterable.\n",
      "\n"
     ]
    }
   ],
   "source": [
    "help(list.extend)"
   ]
  },
  {
   "cell_type": "markdown",
   "id": "d92e06b9-faa2-47c9-9ad0-e2ad4f100b5d",
   "metadata": {},
   "source": [
    "## 2.3 元组（Tuple）\n",
    "\n",
    "元组的语法为`(v0,v1,v2,...,vn)`，不同于列表的中括号，为小括号表示，中间逗号隔开。元组不能够修改数据是其主要特性。元组的建立方法一种是`2,5,6,`在成员对象末尾直接加一个逗号；或则使用`tuple(iterable=(), /)`函数，参数为可迭代对象；亦可直接敲入元组语法`(2,5,6)`。元组含有两个方法，一个是`count()`，用于统计给定项值的数量；另一个是`index()`，用于返回给定项值的第一个出现项值的索引值。内嵌函数除构建函数外于列表同。\n",
    "\n",
    "> 对于代码，所有语法中所涉及符号，均为英文格式。"
   ]
  },
  {
   "cell_type": "code",
   "execution_count": 166,
   "id": "ebe08271-d521-4241-9d94-b57be89eed77",
   "metadata": {},
   "outputs": [
    {
     "name": "stdout",
     "output_type": "stream",
     "text": [
      "(2, 5, 6)\n",
      "<class 'tuple'>\n",
      "<class 'tuple'>\n",
      "180\n",
      "(60, 60, 60)\n",
      "(5, 8, 9)\n",
      "(5, 8, 9)\n",
      "(5, 8, 9, 5, 8, 9)\n",
      "2\n",
      "1\n"
     ]
    },
    {
     "ename": "TypeError",
     "evalue": "'tuple' object does not support item assignment",
     "output_type": "error",
     "traceback": [
      "\u001b[1;31m---------------------------------------------------------------------------\u001b[0m",
      "\u001b[1;31mTypeError\u001b[0m                                 Traceback (most recent call last)",
      "Input \u001b[1;32mIn [166]\u001b[0m, in \u001b[0;36m<cell line: 20>\u001b[1;34m()\u001b[0m\n\u001b[0;32m     17\u001b[0m \u001b[38;5;28mprint\u001b[39m(tup_0N1\u001b[38;5;241m.\u001b[39mcount(\u001b[38;5;241m5\u001b[39m))\n\u001b[0;32m     18\u001b[0m \u001b[38;5;28mprint\u001b[39m(tup_0N1\u001b[38;5;241m.\u001b[39mindex(\u001b[38;5;241m8\u001b[39m))\n\u001b[1;32m---> 20\u001b[0m tup_0N1[\u001b[38;5;241m2\u001b[39m]\u001b[38;5;241m=\u001b[39m\u001b[38;5;241m9999\u001b[39m\n",
      "\u001b[1;31mTypeError\u001b[0m: 'tuple' object does not support item assignment"
     ]
    }
   ],
   "source": [
    "tup=2,5,6,\n",
    "print(tup)\n",
    "print(type(tup))\n",
    "print(type((2,5,6)))\n",
    "\n",
    "print(3*(20*3))\n",
    "print(3*(20*3,))\n",
    "\n",
    "tup_0=tuple([5,8,9])\n",
    "print(tup_0)\n",
    "tup_1=tuple((5,8,9))\n",
    "print(tup_1)\n",
    "\n",
    "tup_0N1=tup_0+tup_1\n",
    "print(tup_0N1)\n",
    "\n",
    "print(tup_0N1.count(5))\n",
    "print(tup_0N1.index(8))\n",
    "\n",
    "tup_0N1[2]=9999 #尝试修改项值时，将提示错误，TypeError: 'tuple' object does not support item assignment"
   ]
  },
  {
   "cell_type": "markdown",
   "id": "ba3d4f7d-464a-417c-8ca5-f6d18c7ed2be",
   "metadata": {},
   "source": [
    "## 2.4 字典（Dictionary）\n",
    "\n",
    "字典语法为`{k0:v0,k1:v1,k2:v2,...,kn:vn}`，其中`k`为键，`v`为值，键值对之间`:`冒号分割，大括号括起。键的类型可以为数值型或者字符串类型。字典是无序的，键值对的位置可能会发生变动。\n",
    "\n",
    "字典键的存在，相当于数据库中用于检索的字段名，方便数据组织、查询、管理，而避免像列表在存储数据时，需要根据索引值定位项值，而索引值是不具有自定义含义的默认整数。应用解释列表应用数据的途径时使用的实际研究项目的数据，将其转换为三种以字典形式存储数据的形式。第一种`AoT_info_dict_1`存储方式，以'id','lon','lat','address'为键，可以快速的提取对应的列表形式的值；第二种`AoT_info_dict_2`存储方式，以`node_id`列表的ID值为键，以对应Id值的经纬度和地址组成的元组为值，方便通过ID值查询对应信息；第三种`AoT_info_dict_3`存储方式，是嵌套字典，第一层仍旧以ID值为键，嵌套的内层字典则以'lon','lat'和'address'为键，这样处理的好处是，可以根据具有含义的键方便搜索具体细分的值，而不用根据列表或者元组无意义的索引值进行定位。\n",
    "\n",
    "通过4个列表构建上述三类字典存储形式时，采用了不同的方式，这包括`dict()`函数构建字典，同时配合使用了`zip(*iterables)`函数。`zip()`函数是将多个序列对象，按照索引值一一对应组合，如下述帮助文件提供的案例。对于嵌套字典的构建方式是列表推导式（comprehensions）的方法，这将在`基本语句`部分深入解释。\n",
    "\n",
    "> 对于复杂的代码语句，如果不能直观的看出具体的逻辑，可以将其拆分部分，逐部分打印查看数据，及数据的变化，从而理解代码所要解决的逻辑。例如案例种拆分`AoT_info_dict_2`构建代码。"
   ]
  },
  {
   "cell_type": "code",
   "execution_count": 2,
   "id": "7a0e79b0-55b4-4355-b7a4-ca93b56b1ad6",
   "metadata": {},
   "outputs": [
    {
     "name": "stdout",
     "output_type": "stream",
     "text": [
      "[('a', 0, 0), ('b', 1, 1), ('c', 2, 2)]\n"
     ]
    }
   ],
   "source": [
    "print(list(zip('abcdefg', range(3), range(4)))) #zip()帮助文件提供的案例"
   ]
  },
  {
   "cell_type": "code",
   "execution_count": 25,
   "id": "ce5fa6bb-dcd4-48f8-8746-c92b7237d7d9",
   "metadata": {},
   "outputs": [
    {
     "name": "stdout",
     "output_type": "stream",
     "text": [
      "{'id': ['ba46', 'ba3b', 'f02f', 'ba8f', 'ba16', '7e5d', 'ba8b', 'ba13', 'ba18', 'bc10'], 'lon': [-87.628, -87.616, -87.631, -87.59, -87.711, -87.628, -87.586, -87.713, -87.676, -87.624], 'lat': [41.878, 41.858, 41.926, 41.81, 41.866, 41.883, 41.781, 41.751, 41.852, 41.736], 'address': ['State St & Jackson Blvd Chicago IL', '18th St & Lake Shore Dr Chicago IL', 'Lake Shore Drive & Fullerton Ave Chicago IL', 'Cornell & 47th St Chicago IL', 'Homan Ave & Roosevelt Rd Chicago IL', 'State St & Washington St Chicago IL', 'Stony Island Ave & 63rd St Chicago IL', '7801 S Lawndale Ave Chicago IL', 'Damen Ave & Cermak Chicago IL', 'State St & 87th Chicago IL']}\n",
      "__________________________________________________\n",
      "{'ba46': (-87.628, 41.878, 'State St & Jackson Blvd Chicago IL'), 'ba3b': (-87.616, 41.858, '18th St & Lake Shore Dr Chicago IL'), 'f02f': (-87.631, 41.926, 'Lake Shore Drive & Fullerton Ave Chicago IL'), 'ba8f': (-87.59, 41.81, 'Cornell & 47th St Chicago IL'), 'ba16': (-87.711, 41.866, 'Homan Ave & Roosevelt Rd Chicago IL'), '7e5d': (-87.628, 41.883, 'State St & Washington St Chicago IL'), 'ba8b': (-87.586, 41.781, 'Stony Island Ave & 63rd St Chicago IL'), 'ba13': (-87.713, 41.751, '7801 S Lawndale Ave Chicago IL'), 'ba18': (-87.676, 41.852, 'Damen Ave & Cermak Chicago IL'), 'bc10': (-87.624, 41.736, 'State St & 87th Chicago IL')}\n",
      "__________________________________________________\n",
      "{'ba46': {'lon': -87.628, 'lat': 41.878, 'address': 'State St & Jackson Blvd Chicago IL'}, 'ba3b': {'lon': -87.616, 'lat': 41.858, 'address': '18th St & Lake Shore Dr Chicago IL'}, 'f02f': {'lon': -87.631, 'lat': 41.926, 'address': 'Lake Shore Drive & Fullerton Ave Chicago IL'}, 'ba8f': {'lon': -87.59, 'lat': 41.81, 'address': 'Cornell & 47th St Chicago IL'}, 'ba16': {'lon': -87.711, 'lat': 41.866, 'address': 'Homan Ave & Roosevelt Rd Chicago IL'}, '7e5d': {'lon': -87.628, 'lat': 41.883, 'address': 'State St & Washington St Chicago IL'}, 'ba8b': {'lon': -87.586, 'lat': 41.781, 'address': 'Stony Island Ave & 63rd St Chicago IL'}, 'ba13': {'lon': -87.713, 'lat': 41.751, 'address': '7801 S Lawndale Ave Chicago IL'}, 'ba18': {'lon': -87.676, 'lat': 41.852, 'address': 'Damen Ave & Cermak Chicago IL'}, 'bc10': {'lon': -87.624, 'lat': 41.736, 'address': 'State St & 87th Chicago IL'}}\n"
     ]
    }
   ],
   "source": [
    "coordi_lon=[-87.628, -87.616, -87.631, -87.59, -87.711, -87.628, -87.586, -87.713, -87.676, -87.624]\n",
    "coordi_lat=[41.878, 41.858, 41.926, 41.81, 41.866, 41.883, 41.781, 41.751, 41.852, 41.736]\n",
    "node_id=['ba46', 'ba3b', 'f02f', 'ba8f', 'ba16', '7e5d', 'ba8b', 'ba13', 'ba18', 'bc10']\n",
    "address=['State St & Jackson Blvd Chicago IL', '18th St & Lake Shore Dr Chicago IL', 'Lake Shore Drive & Fullerton Ave Chicago IL', 'Cornell & 47th St Chicago IL', 'Homan Ave & Roosevelt Rd Chicago IL', 'State St & Washington St Chicago IL', 'Stony Island Ave & 63rd St Chicago IL', '7801 S Lawndale Ave Chicago IL', 'Damen Ave & Cermak Chicago IL', 'State St & 87th Chicago IL']\n",
    "\n",
    "AoT_info_dict_1=dict(zip(['id','lon','lat','address'],[node_id,coordi_lon,coordi_lat,address]))\n",
    "print(AoT_info_dict_1)\n",
    "\n",
    "AoT_info_dict_2=dict(zip(node_id,zip(coordi_lon,coordi_lat,address)))\n",
    "print(\"_\"*50)\n",
    "print(AoT_info_dict_2)\n",
    "\n",
    "AoT_info_dict_3={id:{'lon':lon,'lat':lat,'address':addr} for id,lon,lat,addr in zip(node_id,coordi_lon,coordi_lat,address)}\n",
    "print(\"_\"*50)\n",
    "print(AoT_info_dict_3)"
   ]
  },
  {
   "cell_type": "code",
   "execution_count": 207,
   "id": "c397fbd2-8736-4854-a3c0-d3504dd71990",
   "metadata": {},
   "outputs": [
    {
     "name": "stdout",
     "output_type": "stream",
     "text": [
      "node_id=['ba46', 'ba3b', 'f02f', 'ba8f', 'ba16', '7e5d', 'ba8b', 'ba13', 'ba18', 'bc10']\n",
      "__________________________________________________\n",
      "(-87.59, 41.81, 'Cornell & 47th St Chicago IL')\n",
      "ba8f_lat=41.81,lon=-87.59\n",
      "__________________________________________________\n",
      "{'lon': -87.59, 'lat': 41.81, 'address': 'Cornell & 47th St Chicago IL'}\n",
      "ba8f_lat=41.81,lon=-87.59\n"
     ]
    }
   ],
   "source": [
    "print('node_id={}'.format(AoT_info_dict_1['id']))\n",
    "\n",
    "ba8f_info_from2=AoT_info_dict_2['ba8f']\n",
    "print(\"_\"*50)\n",
    "print(ba8f_info_from2)\n",
    "print('ba8f_lat={},lon={}'.format(ba8f_info_from2[1],ba8f_info_from2[0]))\n",
    "\n",
    "ba8f_info_from3=AoT_info_dict_3['ba8f']\n",
    "print(\"_\"*50)\n",
    "print(ba8f_info_from3)\n",
    "print('ba8f_lat={},lon={}'.format(ba8f_info_from3['lat'],ba8f_info_from3['lon']))"
   ]
  },
  {
   "cell_type": "markdown",
   "id": "438416ef-15fd-46af-9218-efb4a76ce2bb",
   "metadata": {},
   "source": [
    "拆分代码，易于查看内在数据组织方式。这里需要注意，对于`enumerate()`，`zip()`，`map()`等函数返回值为迭代器（iterator）。迭代器的特点是只能前进，而不能后退，当遍历所有值后，引发`StopIteration`异常，变量值为空。具体解释查看迭代器部分。这里为了避免`list(iterator)`读取迭代器值后为空，使用了`itertools`库提供的`tee()`方法，将迭代器复制为独立的两份，一份用于打印查看数据；另一份用于后续的输入参数。"
   ]
  },
  {
   "cell_type": "code",
   "execution_count": 47,
   "id": "767a94d8-6512-4f0b-a444-8f59b469b41d",
   "metadata": {},
   "outputs": [
    {
     "name": "stdout",
     "output_type": "stream",
     "text": [
      "{'ba46': (-87.628, 41.878, 'State St & Jackson Blvd Chicago IL'), 'ba3b': (-87.616, 41.858, '18th St & Lake Shore Dr Chicago IL'), 'f02f': (-87.631, 41.926, 'Lake Shore Drive & Fullerton Ave Chicago IL'), 'ba8f': (-87.59, 41.81, 'Cornell & 47th St Chicago IL'), 'ba16': (-87.711, 41.866, 'Homan Ave & Roosevelt Rd Chicago IL'), '7e5d': (-87.628, 41.883, 'State St & Washington St Chicago IL'), 'ba8b': (-87.586, 41.781, 'Stony Island Ave & 63rd St Chicago IL'), 'ba13': (-87.713, 41.751, '7801 S Lawndale Ave Chicago IL'), 'ba18': (-87.676, 41.852, 'Damen Ave & Cermak Chicago IL'), 'bc10': (-87.624, 41.736, 'State St & 87th Chicago IL')}\n",
      "__________________________________________________\n",
      "[(-87.628, 41.878, 'State St & Jackson Blvd Chicago IL'), (-87.616, 41.858, '18th St & Lake Shore Dr Chicago IL'), (-87.631, 41.926, 'Lake Shore Drive & Fullerton Ave Chicago IL'), (-87.59, 41.81, 'Cornell & 47th St Chicago IL'), (-87.711, 41.866, 'Homan Ave & Roosevelt Rd Chicago IL'), (-87.628, 41.883, 'State St & Washington St Chicago IL'), (-87.586, 41.781, 'Stony Island Ave & 63rd St Chicago IL'), (-87.713, 41.751, '7801 S Lawndale Ave Chicago IL'), (-87.676, 41.852, 'Damen Ave & Cermak Chicago IL'), (-87.624, 41.736, 'State St & 87th Chicago IL')]\n",
      "__________________________________________________\n",
      "[('ba46', (-87.628, 41.878, 'State St & Jackson Blvd Chicago IL')), ('ba3b', (-87.616, 41.858, '18th St & Lake Shore Dr Chicago IL')), ('f02f', (-87.631, 41.926, 'Lake Shore Drive & Fullerton Ave Chicago IL')), ('ba8f', (-87.59, 41.81, 'Cornell & 47th St Chicago IL')), ('ba16', (-87.711, 41.866, 'Homan Ave & Roosevelt Rd Chicago IL')), ('7e5d', (-87.628, 41.883, 'State St & Washington St Chicago IL')), ('ba8b', (-87.586, 41.781, 'Stony Island Ave & 63rd St Chicago IL')), ('ba13', (-87.713, 41.751, '7801 S Lawndale Ave Chicago IL')), ('ba18', (-87.676, 41.852, 'Damen Ave & Cermak Chicago IL')), ('bc10', (-87.624, 41.736, 'State St & 87th Chicago IL'))]\n",
      "__________________________________________________\n",
      "{'ba46': (-87.628, 41.878, 'State St & Jackson Blvd Chicago IL'), 'ba3b': (-87.616, 41.858, '18th St & Lake Shore Dr Chicago IL'), 'f02f': (-87.631, 41.926, 'Lake Shore Drive & Fullerton Ave Chicago IL'), 'ba8f': (-87.59, 41.81, 'Cornell & 47th St Chicago IL'), 'ba16': (-87.711, 41.866, 'Homan Ave & Roosevelt Rd Chicago IL'), '7e5d': (-87.628, 41.883, 'State St & Washington St Chicago IL'), 'ba8b': (-87.586, 41.781, 'Stony Island Ave & 63rd St Chicago IL'), 'ba13': (-87.713, 41.751, '7801 S Lawndale Ave Chicago IL'), 'ba18': (-87.676, 41.852, 'Damen Ave & Cermak Chicago IL'), 'bc10': (-87.624, 41.736, 'State St & 87th Chicago IL')}\n"
     ]
    }
   ],
   "source": [
    "AoT_info_dict_2=dict(zip(node_id,zip(coordi_lon,coordi_lat,address)))\n",
    "print(AoT_info_dict_2)\n",
    "\n",
    "\n",
    "coordi_address=zip(coordi_lon,coordi_lat,address)\n",
    "from itertools import tee\n",
    "coordi_address_first,coordi_address_second=tee(coordi_address)\n",
    "print(\"_\"*50)\n",
    "print(list(coordi_address_first))\n",
    "\n",
    "id_coordi_address=zip(node_id,coordi_address_second)\n",
    "print(\"_\"*50)\n",
    "id_coordi_address_first,id_coordi_address_second=tee(id_coordi_address)\n",
    "print(list(id_coordi_address_first))\n",
    "\n",
    "AoT_info_dict_2_split=dict(id_coordi_address_second)\n",
    "print(\"_\"*50)\n",
    "print(AoT_info_dict_2_split)"
   ]
  },
  {
   "cell_type": "markdown",
   "id": "0811247a-efd8-4944-a065-6b8687a270fb",
   "metadata": {},
   "source": [
    "* 字典的基本操作\n",
    "\n",
    "构建字典可以直接使用字典语法构建，`dict()`方式键值对构建外，还可以构建空的字典`{}`后更新字典，或者`dict()`方式下以赋值的方式给出键值对的形式。\n",
    "\n",
    "`random.sample()`是从一个序列中随机抽取数值。`random.random()`方法是随机生成位于区间`[0, 1)`内的一个随机数；`random.uniform(a, b)`方法则是随机生成给定区间内的一个随机数，为浮点型，是否包含区间边界`b`，依赖于四舍五入的结果。"
   ]
  },
  {
   "cell_type": "code",
   "execution_count": 44,
   "id": "ec4e51de-7458-4982-9f5e-6e38d1462eae",
   "metadata": {},
   "outputs": [
    {
     "name": "stdout",
     "output_type": "stream",
     "text": [
      "{0: [0, 1, 2, 3, 4], 'key': [[100, 157, 150]], 2: 'python'}\n",
      "[0, 1, 2, 3, 4]\n",
      "[[100, 157, 150]]\n",
      "{0: [0, 1, 2, 3, 4], 'key': [[100, 157, 150]], 2: 'C'}\n",
      "{0: [0, 1, 2, 3, 4], 'key': [[100, 157, 150]], 2: 'C', 3: (0.5714025946899135, 242.88890546751145)}\n",
      "{'key': [[100, 157, 150]], 2: 'C', 3: (0.5714025946899135, 242.88890546751145)}\n",
      "True\n",
      "False\n",
      "__________________________________________________\n",
      "{'name': 'CO', 'concentration': 2.1, 'node_id': 'ba46'}\n",
      "{'name': 'CO', 'concentration': 2.1, 'node_id': 'ba46'}\n",
      "{'name': 'CO', 'concentration': 3.1, 'node_id': 'ba46'}\n"
     ]
    }
   ],
   "source": [
    "items_lst=[(0, [0, 1, 2, 3, 4]), ('key', [[100, 157, 150]]), (2, 'python')]\n",
    "items_dict=dict(items_lst) #按照键值对的方式建立字典\n",
    "print(items_dict)\n",
    "print(items_dict[0]) #根据键提取值\n",
    "print(items_dict['key'])\n",
    "\n",
    "items_dict[2]='C' #指定键，替换新值\n",
    "print(items_dict)\n",
    "\n",
    "import random\n",
    "random.seed(10)\n",
    "\n",
    "items_dict[3]=(random.random(),random.uniform(200,300))\n",
    "print(items_dict)\n",
    "\n",
    "del items_dict[0] #删除键值对，该类方法尽量避免使用\n",
    "print(items_dict)\n",
    "\n",
    "print('key' in items_dict) #成员运算符\n",
    "print('key' not in items_dict) #成员运算符\n",
    "\n",
    "print(\"_\"*50)\n",
    "CO_dict_1={} #建立空字典后，更新键值对\n",
    "CO_dict_1['name']='CO'\n",
    "CO_dict_1['concentration']=2.1\n",
    "CO_dict_1['node_id']='ba46'\n",
    "print(CO_dict_1)\n",
    "\n",
    "CO_dict_2=dict(name='CO', concentration=2.1, node_id='ba46') #以变量赋值的方式构建字典\n",
    "print(CO_dict_2)\n",
    "\n",
    "CO_dict_2['concentration']+=1 #用赋值运算符 自加的方式更新对应键的值\n",
    "print(CO_dict_2)"
   ]
  },
  {
   "cell_type": "markdown",
   "id": "3350db2c-dc55-4c16-90ee-b371232482c1",
   "metadata": {},
   "source": [
    "* 内置函数\n",
    "\n",
    "`len()`函数，返回键值对的数量；\n",
    "\n",
    "`sorted()`函数，返回排序后的键列表；\n",
    "\n",
    "`any()`函数，为如果字典中存在任何对象则返回`True`，如果为空字典`{}`则返回`False`;\n",
    "\n",
    "`all()`函数，为如果字典中的键非零或为空字典，则返回`True`，如果存在键为0，则返回`False`。"
   ]
  },
  {
   "cell_type": "code",
   "execution_count": 45,
   "id": "af911b6f-0dbf-4f0a-9bd5-7537917a195f",
   "metadata": {},
   "outputs": [
    {
     "name": "stdout",
     "output_type": "stream",
     "text": [
      "{9: 102, 0: 100, 3: 107, 7: 109, 6: 108, 2: 101}\n",
      "6\n",
      "[0, 2, 3, 6, 7, 9]\n",
      "True\n",
      "False\n",
      "__________________________________________________\n",
      "False\n",
      "True\n",
      "True\n",
      "False\n"
     ]
    }
   ],
   "source": [
    "n=6\n",
    "dict_A=dict(zip(random.sample(range(0,10,1),n),random.sample(range(100,110,1),n)))\n",
    "print(dict_A)\n",
    "\n",
    "print(len(dict_A))\n",
    "print(sorted(dict_A))\n",
    "print(any(dict_A))\n",
    "print(any({}))\n",
    "\n",
    "print(\"_\"*50)\n",
    "print(all(dict_A))\n",
    "print(all({}))\n",
    "dict_B={5:0,1:5} #键非0，而值有0时\n",
    "print(all(dict_B))\n",
    "dict_C={0:7,1:5} #键有0，而值非0\n",
    "print(all(dict_C))"
   ]
  },
  {
   "cell_type": "markdown",
   "id": "9d5ff188-0ef7-4049-90bc-1dd79f83ad87",
   "metadata": {},
   "source": [
    "* 内置方法\n",
    "\n",
    "`D.clear()`，清除字典中所有的键/值项，但是这个方法属于原地操作，并不返回值；\n",
    "\n",
    "`D.copy()`， 可以复制字典，但是属于浅复制，当复制的字典已有键/值发生改变时，被复制的字典也会随之发生改变。如果增加新的键值对，则不会发生变化；\n",
    "\n",
    "`D.get()`， 可以根据指定的键返回值，但是如果指定的键在被访问的字典中没有，则不返回任何值；\n",
    "\n",
    "`D.items()`， 将所有的字典项即键/值对以列表方式返回；\n",
    "\n",
    "`D.keys()`， 返回字典的键对象列表；\n",
    "\n",
    "`D.values()`， 返回字典的值对象列表；\n",
    "\n",
    "`D.pop()`， 根据指定的键返回值，并同时移除字典中对应的键值对；\n",
    "\n",
    "`D.popitem()`， 随机弹出键值对，并同时移除字典中对应的键值对；\n",
    "\n",
    "`D.setdefault()`， 更新的键值对，其键不在原有字典键列表中，则增加该键值对，否则不增加；\n",
    "\n",
    "`D.update()`，用一个字典更新另一字典，键值相同的项将被替换；\n",
    "\n",
    "记忆字典方法时，最好是按照类似项分组记忆，例如，`D.keys()+D.values()+D.items()`，`D.setdefaulte()+D.update()`，`D.pop()+D.popitems()`等。"
   ]
  },
  {
   "cell_type": "markdown",
   "id": "9e553ffd-c255-4279-80df-72e8da9e447b",
   "metadata": {},
   "source": [
    "关于浅复制（shallow copy）和深复制(deep copy)及赋值变量\n",
    "\n",
    "在数据分析师，以赋值的方式将一个变量的值传递给一个新的变量，通常用在类定义时值的初始化，一般情况下通常一组值对应一个变量，避免变量混淆。如果要变化原始数据，通常直接操作原始数据后赋予给一个新的变量，原始数据不会受到影响，因此不会用`D.copy()`，`copy.copy()`或`copy.deepcopy()`复制的方法，先复制后操作，这是完全不必要的。但是在有些情况下，例如`DataFrame`数据结构，即使对原始数据操作赋予给新变量后，原始数据也会发生变化，而不希望改变原始数据时，则需要进行复制。在复制时，可以用字典的内置方法`D.copy()`实现，也可以用`copy`中的方法库实现。复制包括浅复制和深复制，从下述代码示例中可以观察到，浅复制会在已有键值对变动下影响已复制对象，反之亦然。深复制则可以理解为复制对象和被复制对象是两个完全不相关的变量，即使值相同。"
   ]
  },
  {
   "cell_type": "code",
   "execution_count": 46,
   "id": "807556e9-42b8-48a9-8015-0b46a3b496d7",
   "metadata": {},
   "outputs": [
    {
     "name": "stdout",
     "output_type": "stream",
     "text": [
      "{0: [6, 9, 12, 15, 18], 1: [100, 115, 130, 145]}\n",
      "{0: [6, 9, 12, 15, 18], 1: [100, 115, 130, 145]}\n",
      "{} {} None\n",
      "__________________________________________________\n",
      "{5: [1, 3, 5, 7]}\n",
      "{5: [1, 3, 5, 7]}\n",
      "{5: [1, 3, 5, 7], 8: [5, 7]} --- {5: [1, 3, 5, 7]}\n",
      "{5: [1, 3, 5, 7, 9999], 8: [5, 7]} --- {5: [1, 3, 5, 7, 9999]}\n",
      "{5: [1, 3, 5, 7], 8: [5, 7]} --- {5: [1, 3, 5, 7]}\n",
      "{5: [1, 3, 5, 7], 8: [5, 7]} --- {5: [1, 3, 5, 7], 'new_key': 'new_value'}\n",
      "__________________________________________________\n",
      "{5: [1, 3, 5, 7], 8: [5, 7]} --- {5: [1, 3, 5, 7], 8: [5, 7]}\n",
      "{5: [100, 3, 5, 7], 8: [5, 7]} --- {5: [1, 3, 5, 7], 8: [5, 7]}\n"
     ]
    }
   ],
   "source": [
    "lst_A=list(range(6,20,3))\n",
    "lst_B=list(range(100,150,15))\n",
    "d={0:lst_A,1:lst_B}\n",
    "print(d)\n",
    "d_copy=d\n",
    "print(d_copy)\n",
    "return_v=d.clear()\n",
    "print(d,d_copy,return_v) #直接赋值时，原变量发生改变，被赋值的变量也会发生变化\n",
    "\n",
    "d[5]=list(range(1,9,2))\n",
    "print(\"_\"*50)\n",
    "print(d)\n",
    "d_copy=d.copy()\n",
    "print(d_copy)\n",
    "d[8]=[5,7]\n",
    "print(d,'---',d_copy) #用copy()复制的方法，增加新键值对时，赋值的变量不会增加新键值对\n",
    "d[5].append(9999)\n",
    "print(d,'---',d_copy) #用copy()复制的方法，已有键值对发生改变时，赋值的变量已有的键值对发生变化\n",
    "d_copy[5].pop()\n",
    "print(d,'---',d_copy) #复制对象已有键值对发生变化时，被复制对象也发生变化。\n",
    "d_copy['new_key']='new_value'\n",
    "print(d,'---',d_copy)  #复制对象增加新键值对后，被复制对象不会发生变化。\n",
    "\n",
    "\n",
    "print('_'*50)\n",
    "import copy\n",
    "d_deepCopy=copy.deepcopy(d)\n",
    "print(d,'---', d_deepCopy)\n",
    "d[5][0]*=100\n",
    "print(d,'---',d_deepCopy) #使用deepcopy()方法，被复制对象不会受到原始字典变动的影响"
   ]
  },
  {
   "cell_type": "code",
   "execution_count": 62,
   "id": "f5665d42-c14e-49a1-9890-afa74bc5e6c4",
   "metadata": {},
   "outputs": [
    {
     "name": "stdout",
     "output_type": "stream",
     "text": [
      "{9: 107, 0: 109, 6: 104, 3: 105, 4: 101, 8: 100, 1: 103}\n",
      "107\n",
      "dict_items([(9, 107), (0, 109), (6, 104), (3, 105), (4, 101), (8, 100), (1, 103)])\n",
      "dict_keys([9, 0, 6, 3, 4, 8, 1])\n",
      "dict_values([107, 109, 104, 105, 101, 100, 103])\n",
      "109\n",
      "{9: 107, 6: 104, 3: 105, 4: 101, 8: 100, 1: 103}\n",
      "(1, 103)\n",
      "{9: 107, 6: 104, 3: 105, 4: 101, 8: 100}\n"
     ]
    }
   ],
   "source": [
    "import random\n",
    "random.seed(10)\n",
    "D=dict(zip(random.sample(range(0,10,1),7),random.sample(range(100,110,1),7)))\n",
    "print(D)\n",
    "\n",
    "print(D.get(9))\n",
    "print(D.items())\n",
    "print(D.keys())\n",
    "print(D.values())\n",
    "print(D.pop(0))\n",
    "print(D)\n",
    "print(D.popitem())\n",
    "print(D)"
   ]
  },
  {
   "cell_type": "markdown",
   "id": "983ebefd-2be0-4b15-855f-803277a8abd1",
   "metadata": {},
   "source": [
    "更新字典的方法——`D.setdefault()`和`D.update()`\n",
    "\n",
    "定义函数时，有时会预先以字典的形式配置一些参数值传入参数，作为默认值，但是会根据具体情况调整某些配置参数，通常会使用`D.update（）`方法更新字典，即以键位参数名，以键对应的值为参数值。如果需要增加新的参数，则也可以使用`D.setdefault()`方法，可以避免对原有参数无意中的修改。"
   ]
  },
  {
   "cell_type": "code",
   "execution_count": 56,
   "id": "6f77af35-2eff-4bf6-8eb4-11eaa82b1f70",
   "metadata": {},
   "outputs": [
    {
     "name": "stdout",
     "output_type": "stream",
     "text": [
      "__________________________________________________\n",
      "{9: 107, 0: 109, 6: 104, 3: 105, 4: 101, 8: 100, 1: 103}\n",
      "[55, 66]\n",
      "{9: 107, 0: 109, 6: 104, 3: 105, 4: 101, 8: 100, 1: 103, 22: [55, 66]}\n",
      "{9: 107, 0: 109, 6: 104, 3: 105, 4: 101, 8: 100, 1: 103, 22: [55, 66]}\n",
      "__________________________________________________\n",
      "{9: 107, 0: 109, 6: 104, 3: 105, 4: 101, 8: 100, 1: 103, 22: 'update value'}\n"
     ]
    }
   ],
   "source": [
    "random.seed(10)\n",
    "print(\"_\"*50)\n",
    "D=dict(zip(random.sample(range(0,10,1),7),random.sample(range(100,110,1),7)))\n",
    "print(D)\n",
    "return_v=D.setdefault(22,[55,66])\n",
    "print(return_v)\n",
    "print(D)\n",
    "D.setdefault(22,'update value')\n",
    "print(D)\n",
    "\n",
    "print(\"_\"*50)\n",
    "D.update({22:'update value'})\n",
    "print(D)"
   ]
  },
  {
   "cell_type": "markdown",
   "id": "e4a9fadd-db51-4d7a-90a2-7457932d9586",
   "metadata": {},
   "source": [
    "这是一组实际研究的数据，在爬取百度地图的兴趣点（point of interest,POI）数据时，需要指定`query`，`page_size`，`scope`等参数值。对于POI数据划分有很多类，为`poi_classificationName`列表值，在每次检索数据时，`query`对象即为分类对象，只可以指定一个类，因此为了避免重复工作，用字典更新的方法更新`query`参数。\n",
    "\n",
    "> 这里用到了后续才会阐述的`for`循环语句"
   ]
  },
  {
   "cell_type": "code",
   "execution_count": 59,
   "id": "6e180ad3-8af5-40ce-99b0-9ce56fbfda92",
   "metadata": {},
   "outputs": [
    {
     "name": "stdout",
     "output_type": "stream",
     "text": [
      "{'query': '美食', 'page_size': '20', 'scope': 2}\n",
      "{'query': '酒店', 'page_size': '20', 'scope': 2}\n",
      "{'query': '购物', 'page_size': '20', 'scope': 2}\n",
      "{'query': '生活服务', 'page_size': '20', 'scope': 2}\n",
      "{'query': '丽人', 'page_size': '20', 'scope': 2}\n",
      "{'query': '旅游景点', 'page_size': '20', 'scope': 2}\n",
      "{'query': '休闲娱乐', 'page_size': '20', 'scope': 2}\n"
     ]
    }
   ],
   "source": [
    "query_dic={\n",
    "    'query':'旅游景点',\n",
    "    'page_size':'20', \n",
    "    'scope':2,\n",
    "    }\n",
    "\n",
    "poi_classificationName=[\"美食\",\"酒店\",\"购物\",\"生活服务\",\"丽人\",\"旅游景点\",\"休闲娱乐\"]\n",
    "for i in poi_classificationName:\n",
    "    query_dic.update({'query':i})\n",
    "    print(query_dic)"
   ]
  },
  {
   "cell_type": "markdown",
   "id": "5754bb79-3243-4465-82fd-eab3061fe816",
   "metadata": {},
   "source": [
    "## 2.5 集合（Set）\n",
    "\n",
    "集合最大的特点是集合中不含重复的元素，如果通过序列数据构建集合时存在重复元素，则构建的集合会只保留一个。集合不具有像列表索引值的属性，不能用索引值提取项值。集合元素的唯一性，及集合间的运算，可以非常方便的处理一些元素具有唯一性变化的数据，例如，下面用了旅行商问题的数据，构建一个城市集合`cities_set`，这个数据用列表也可以，示例是说明直接构建集合的方式。`tabu_cities_set`集合包括所有城市，`current_cities_set`建立了一个空集合，当循环`cities_set`元素时，`current_cities_set`会通过`add()`方法增加每次循环的城市名，而`tabu_cities_set`集合则会移除每次循环的城市名，注意，这里`-`自减运算中，减去的是`current_cities_set`集合，也可以减去`set([city])`，即每次循环的一个城市，也可以用`discard()`方法移除。"
   ]
  },
  {
   "cell_type": "code",
   "execution_count": 108,
   "id": "1be03036-2c15-4959-a0ef-b9cf306e8ead",
   "metadata": {},
   "outputs": [
    {
     "name": "stdout",
     "output_type": "stream",
     "text": [
      "{'Beijing', 'Chicago', 'San Francisco', 'San Diego', 'Xian'}\n",
      "{'Beijing', 'Chicago', 'San Francisco', 'San Diego', 'Xian'}\n",
      "['Beijing', 'Chicago', 'San Francisco', 'San Diego', 'Xian']\n",
      "__________________________________________________ 0\n",
      "current_cities:{'Beijing'};\n",
      "tabu_citeis:{'Chicago', 'San Francisco', 'San Diego', 'Xian'}\n",
      "__________________________________________________ 1\n",
      "current_cities:{'Beijing', 'Chicago'};\n",
      "tabu_citeis:{'San Francisco', 'San Diego', 'Xian'}\n",
      "__________________________________________________ 2\n",
      "current_cities:{'Beijing', 'Chicago', 'San Francisco'};\n",
      "tabu_citeis:{'San Diego', 'Xian'}\n",
      "__________________________________________________ 3\n",
      "current_cities:{'Beijing', 'Chicago', 'San Diego', 'San Francisco'};\n",
      "tabu_citeis:{'Xian'}\n",
      "__________________________________________________ 4\n",
      "current_cities:{'Beijing', 'Chicago', 'San Francisco', 'San Diego', 'Xian'};\n",
      "tabu_citeis:set()\n"
     ]
    }
   ],
   "source": [
    "cities_set={'Beijing','Chicago','Xian','San Francisco','San Diego'}\n",
    "tabu_cities_set=set(['Beijing','Chicago','Xian','San Francisco','San Diego'])\n",
    "current_cities_set=set()\n",
    "print(cities_set)\n",
    "print(tabu_cities_set)\n",
    "print(current_cities_lst)\n",
    "\n",
    "for i,city in enumerate(cities_set):\n",
    "    current_cities_set.update([city])\n",
    "    tabu_cities_set-=set(current_cities_set)\n",
    "    print(\"_\"*50,i)\n",
    "    print('current_cities:{};\\ntabu_citeis:{}'.format(current_cities_set,tabu_cities_set))"
   ]
  },
  {
   "cell_type": "markdown",
   "id": "0297a8a4-4d2e-42e0-9e0d-bcd7e11f836b",
   "metadata": {},
   "source": [
    "* 集合的方法\n",
    "\n",
    "`S.add()`，向集合中增加元素；\n",
    "\n",
    "`S.clear()`，移除所有元素，成空集合；\n",
    "\n",
    "`S.copy()`，复制集合；\n",
    "\n",
    "`S.pop()`，返回第一个元素，同时原集合移除该元素。如果为空集合，则引发`KeyError`异常；\n",
    "\n",
    "`S.remove()`，移除一个集合元素，如果输入参数值不在集合中，则引发`KeyError`异常。\n",
    "\n",
    "`S.discard()`，移除一个集合元素，如果输入参数值不在集合中，则无变化，也并提示错误；可以比较`S.remove()`方法\n",
    "\n",
    "`S.update()`，更新集合，输入参数为序列或集合。如果存在相同元素则保持不变。"
   ]
  },
  {
   "cell_type": "code",
   "execution_count": 119,
   "id": "53681b94-1190-4d24-9631-1289dc957b26",
   "metadata": {},
   "outputs": [
    {
     "name": "stdout",
     "output_type": "stream",
     "text": [
      "[1, 1, 1, 2, 2, 6, 33, 8, 9, 55, 0, 'string', (33, 55, 99)]\n",
      "{0, 1, 2, 33, 6, 8, 9, 'string', 55, (33, 55, 99)}\n",
      "set()\n",
      "__________________________________________________\n",
      "{0, 1, 2, 33, 6, 'new value', 8, 9, 'string', 55, (33, 55, 99)}\n",
      "{0, 1, 2, 33, 'update', 6, 'new value', 8, 9, 'string', 55, (33, 55, 99)}\n",
      "{0, 1, 2, 33, 'lst_v', 'update', 6, 'new value', 8, 9, 32, 78, 'string', 55, 56, (33, 55, 99)}\n",
      "{0, 1, 2, 33, 'lst_v', 'update', 6, 'new value', 8, 9, 32, 78, 'string', 55, 56}\n",
      "{0, 1, 2, 33, 'lst_v', 'update', 6, 8, 9, 32, 78, 'string', 55, 56}\n",
      "{0, 2, 33, 'lst_v', 'update', 6, 8, 9, 32, 78, 'string', 55, 56}\n",
      "{0, 2, 33, 'lst_v', 'update', 6, 8, 9, 32, 78, 'string', 55, 56}\n",
      "0\n",
      "{2, 33, 'lst_v', 'update', 6, 8, 9, 32, 78, 'string', 55, 56}\n",
      "set()\n"
     ]
    }
   ],
   "source": [
    "lst4set=[1,1,1,2,2,6,33,8,9,55,0,'string',(33,55,99)] #不能包含嵌套列表，否则提示错误，TypeError: unhashable type: 'list'\n",
    "print(lst4set)\n",
    "set_1=set(lst4set)\n",
    "print(set_1)\n",
    "\n",
    "empty_set=set() #empty_dict={}是空字典建立的方法\n",
    "print(empty_set)\n",
    "\n",
    "print('_'*50)\n",
    "set_1.add('new value')\n",
    "print(set_1)\n",
    "set_1.update([1,2,'update'])\n",
    "print(set_1) #更新时，重复的元素时保持不变的，新元素被增加到集合中\n",
    "set_1.update()\n",
    "set_1.update([1,2,'lst_v'],{1,32,56,78}) \n",
    "print(set_1)  #更新时，可以传入列表，也可以传入集合\n",
    "set_1.remove((33, 55, 99))\n",
    "print(set_1)\n",
    "set_1.remove('new value')\n",
    "print(set_1)\n",
    "set_1.discard(1)\n",
    "print(set_1)\n",
    "set_1.discard(33333) #如果使用set_1.remove(33333)，则提示错误为KeyError: 33333。discard方法则忽略\n",
    "print(set_1)\n",
    "pop_v=set_1.pop() #返回第一个元素，并从集合中移除\n",
    "print(pop_v)\n",
    "print(set_1)\n",
    "set_1.clear()\n",
    "print(set_1)"
   ]
  },
  {
   "cell_type": "markdown",
   "id": "d1bb2f2b-2036-4a32-9c33-1382501e770e",
   "metadata": {},
   "source": [
    "`S1.uion(S2)`，两个集合的并集运算，同符号`|`;\n",
    "\n",
    "`S1.intersection(S2)`，两个集合的交集运算，同符号`&`；\n",
    "\n",
    "`S1.difference(S2)`，两个（多个）集合的差集运算，同符号`-`；\n",
    "\n",
    "`S1.symmetric_difference(S2)`，返回两个集合中不重复的元素为一个新集合，同符号`^`；\n",
    "\n",
    "`S1.intersection_update(S2)`，同`S1.intersection(S2)`，只是对`S1`本地更新；\n",
    "\n",
    "`S1.differnce_update(S2)`，同`S1.difference(S2)`，只是对`S1`本地更新；\n",
    "\n",
    "`S1.symmetric_difference_update(S2)`，同`S1.symmetric_difference(S2)`，只是对`S1`本地更新；\n",
    "\n",
    "`S.isdisjoint()`，判断两个集合是否包括相同的元素，如果包含返回`False`，不包含返回`True`；\n",
    "\n",
    "`S.issubset()`，判断一个数据集是否是另一个的子集；\n",
    "\n",
    "`S.issuperset()`，判断一个数据集是否是另一个的超集（父集）。"
   ]
  },
  {
   "cell_type": "code",
   "execution_count": 183,
   "id": "2d82c6fd-e335-4158-bee9-f24b3517f5a5",
   "metadata": {},
   "outputs": [
    {
     "name": "stdout",
     "output_type": "stream",
     "text": [
      "{1, 2, 3, 4, 5}\n",
      "{4, 5, 6, 7, 8}\n",
      "__________________________________________________\n",
      "{1, 2, 3, 4, 5, 6, 7, 8}\n",
      "{1, 2, 3, 4, 5, 6, 7, 8}\n",
      "__________________________________________________\n",
      "{4, 5}\n",
      "{4, 5}\n",
      "__________________________________________________\n",
      "{1, 2, 3}\n",
      "{1, 2, 3}\n",
      "{8, 6, 7}\n",
      "{8, 6, 7}\n",
      "__________________________________________________\n",
      "{1, 2, 3, 6, 7, 8}\n",
      "{1, 2, 3, 6, 7, 8}\n",
      "__________________________________________________\n",
      "##################################################\n",
      "{4, 5}\n",
      "{1, 2, 3}\n",
      "{1, 2, 3, 6, 7, 8}\n",
      "__________________________________________________\n",
      "False\n",
      "True\n",
      "True\n"
     ]
    }
   ],
   "source": [
    "S_1=set([1, 2, 3, 4, 5])\n",
    "S_2=set([4, 5, 6, 7, 8])\n",
    "S_1_copy1,S_1_copy2,S_1_copy3=[S_1.copy() for i in range(3)]\n",
    "S_2_copy1,S_2_copy2,S_2_copy3=[S_2.copy() for i in range(3)]\n",
    "print(S_1)\n",
    "print(S_2)\n",
    "print(\"_\"*50)\n",
    "\n",
    "#并集\n",
    "print(S_1 | S_2)\n",
    "print(S_1.union(S_2))\n",
    "print('_'*50)\n",
    "\n",
    "#交集\n",
    "print(S_1 & S_2)\n",
    "print(S_1.intersection(S_2))\n",
    "print('_'*50)\n",
    "\n",
    "#差集\n",
    "print(S_1 - S_2)\n",
    "print(S_1.difference(S_2))\n",
    "print(S_2-S_1)\n",
    "print(S_2.difference(S_1))\n",
    "print('_'*50)\n",
    "\n",
    "#symmetric差集\n",
    "print(S_1 ^ S_2)\n",
    "print(S_1.symmetric_difference(S_2))\n",
    "print('_'*50)\n",
    "\n",
    "print(\"#\"*50)\n",
    "S_1_copy1.intersection_update(S_2_copy1)\n",
    "print(S_1_copy1)\n",
    "\n",
    "S_1_copy2.difference_update(S_2_copy2)\n",
    "print(S_1_copy2)\n",
    "\n",
    "S_1_copy3.symmetric_difference_update(S_2_copy3)\n",
    "print(S_1_copy3)\n",
    "\n",
    "print(\"_\"*50)\n",
    "print(S_1.isdisjoint(S_2))\n",
    "\n",
    "print(set([1,2]).issubset(S_1))\n",
    "print(S_1.issuperset(set([1,2])))"
   ]
  },
  {
   "cell_type": "markdown",
   "id": "8730c295-0e5a-4f33-8d25-51da21594f6b",
   "metadata": {},
   "source": [
    "* `frozenset()`——不可变（immutable）集合\n",
    "\n",
    "列表为可变（mutable）序列对象，元组为不可变（immutable）序列对象。对于集合而言可以用`frozenset()`构建不可变集合，支持`FS.copy()`,`FS1.difference(FS2)`，`FS1.intersection(FS2)`，`FS1.isdisjoint(FS2)`，`FS1.issubset(FS2)`，`FS1.issuperset(FS2)`，`FS1.symmetric_difference(FS2)`，`FS1.union(FS2)`等方法，但是不支持`remove()`，`discard()`等对集合元素产生变动的方法。"
   ]
  },
  {
   "cell_type": "code",
   "execution_count": 187,
   "id": "a0ecde3c-4c11-4dd8-9a00-1c0c10ddd46d",
   "metadata": {},
   "outputs": [
    {
     "name": "stdout",
     "output_type": "stream",
     "text": [
      "False\n",
      "frozenset({1, 2, 3})\n",
      "frozenset({1, 2, 3, 4, 5, 6, 7, 8})\n"
     ]
    }
   ],
   "source": [
    "FS_1=frozenset([1, 2, 3, 4, 5])\n",
    "FS_2=frozenset([4, 5, 6, 7, 8])\n",
    "\n",
    "print(FS_1.isdisjoint(FS_2))\n",
    "print(FS_1.difference(FS_2))\n",
    "print(FS_1|FS_2)"
   ]
  },
  {
   "cell_type": "markdown",
   "id": "30cc8bed-a522-4e75-b3d0-5fa07cf985c2",
   "metadata": {},
   "source": [
    "<span style = \"color:Teal;background-color:;font-size:20.0pt\">是否完成PCS_2(&nbsp;&nbsp;&nbsp;&nbsp;&nbsp;&nbsp;)</span>"
   ]
  }
 ],
 "metadata": {
  "kernelspec": {
   "display_name": "Python 3 (ipykernel)",
   "language": "python",
   "name": "python3"
  },
  "language_info": {
   "codemirror_mode": {
    "name": "ipython",
    "version": 3
   },
   "file_extension": ".py",
   "mimetype": "text/x-python",
   "name": "python",
   "nbconvert_exporter": "python",
   "pygments_lexer": "ipython3",
   "version": "3.8.13"
  }
 },
 "nbformat": 4,
 "nbformat_minor": 5
}
