{
 "cells": [
  {
   "cell_type": "markdown",
   "id": "7aa063a0-0fbd-435a-9b9f-508e7d8d2c41",
   "metadata": {},
   "source": [
    "> Created on Thu Jan  5 22:29:54 2023 @author: Richie Bao-caDesign设计(cadesign.cn)"
   ]
  },
  {
   "cell_type": "markdown",
   "id": "521d2d1c-1a79-4f5a-831a-450fc95a9d6b",
   "metadata": {},
   "source": [
    "## 2.8.1 图属性的基本度量\n",
    "\n",
    "### 2.8.1.1 \n",
    "\n",
    "#### 1）"
   ]
  },
  {
   "cell_type": "code",
   "execution_count": null,
   "id": "60925612-7917-4fb4-be0a-eadda1f729a6",
   "metadata": {},
   "outputs": [],
   "source": []
  },
  {
   "cell_type": "code",
   "execution_count": null,
   "id": "9bb9563f-5f2c-42cc-abce-947b360cbce8",
   "metadata": {},
   "outputs": [],
   "source": []
  },
  {
   "cell_type": "code",
   "execution_count": null,
   "id": "ea070e85-33d6-4339-850b-297c644e683a",
   "metadata": {},
   "outputs": [],
   "source": []
  },
  {
   "cell_type": "code",
   "execution_count": null,
   "id": "b8e89659-0f16-4fb3-a59e-faa8fc27f69b",
   "metadata": {},
   "outputs": [],
   "source": []
  },
  {
   "cell_type": "code",
   "execution_count": null,
   "id": "a316f3bc-fc1b-48b4-892e-1a8822f30388",
   "metadata": {},
   "outputs": [],
   "source": []
  },
  {
   "cell_type": "markdown",
   "id": "9ab65af7-3b82-4d7e-9d47-8f0199af8d69",
   "metadata": {},
   "source": [
    "---"
   ]
  },
  {
   "cell_type": "markdown",
   "id": "aed0292d-e5f2-4c34-8cee-d76cf54df70e",
   "metadata": {},
   "source": [
    "注释（Notes）：\n",
    "\n",
    "① "
   ]
  },
  {
   "cell_type": "markdown",
   "id": "9246c3d9-688d-4302-a5d8-5c0672790899",
   "metadata": {},
   "source": [
    "参考文献（References）:\n",
    "\n",
    "[1] "
   ]
  },
  {
   "cell_type": "code",
   "execution_count": null,
   "id": "947844df-2c85-4d90-9390-0230867a7926",
   "metadata": {},
   "outputs": [],
   "source": []
  }
 ],
 "metadata": {
  "kernelspec": {
   "display_name": "Python 3 (ipykernel)",
   "language": "python",
   "name": "python3"
  },
  "language_info": {
   "codemirror_mode": {
    "name": "ipython",
    "version": 3
   },
   "file_extension": ".py",
   "mimetype": "text/x-python",
   "name": "python",
   "nbconvert_exporter": "python",
   "pygments_lexer": "ipython3",
   "version": "3.8.15"
  }
 },
 "nbformat": 4,
 "nbformat_minor": 5
}
