{
 "cells": [
  {
   "cell_type": "markdown",
   "id": "5ac1a3e7-0bbf-4db3-868d-4c3764d2cac2",
   "metadata": {},
   "source": [
    "> Created on Thu Aug 18 20:42:00 2022 @author: Richie Bao-caDesign设计(cadesign.cn)"
   ]
  },
  {
   "cell_type": "markdown",
   "id": "dcf39435-9fe8-44bc-9edc-60e10a6cee23",
   "metadata": {},
   "source": [
    "# Python Cheat Sheet-6. recursion(递归)、lambda(Anonymous Function, 匿名函数)、generator(生成器)"
   ]
  },
  {
   "cell_type": "markdown",
   "id": "21d0581f-cde0-430c-94a4-5e5356c45afb",
   "metadata": {},
   "source": [
    "## 6.1 递归\n"
   ]
  },
  {
   "cell_type": "code",
   "execution_count": null,
   "id": "2e403467-6689-46e6-9065-9c78ab2732e9",
   "metadata": {},
   "outputs": [],
   "source": []
  }
 ],
 "metadata": {
  "kernelspec": {
   "display_name": "Python 3 (ipykernel)",
   "language": "python",
   "name": "python3"
  },
  "language_info": {
   "codemirror_mode": {
    "name": "ipython",
    "version": 3
   },
   "file_extension": ".py",
   "mimetype": "text/x-python",
   "name": "python",
   "nbconvert_exporter": "python",
   "pygments_lexer": "ipython3",
   "version": "3.8.13"
  }
 },
 "nbformat": 4,
 "nbformat_minor": 5
}
