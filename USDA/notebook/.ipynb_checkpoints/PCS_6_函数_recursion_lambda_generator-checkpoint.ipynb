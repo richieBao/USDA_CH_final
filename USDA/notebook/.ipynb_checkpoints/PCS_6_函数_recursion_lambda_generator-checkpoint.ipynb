{
 "cells": [
  {
   "cell_type": "markdown",
   "id": "5ac1a3e7-0bbf-4db3-868d-4c3764d2cac2",
   "metadata": {},
   "source": [
    "> Created on Thu Aug 18 20:42:00 2022 @author: Richie Bao-caDesign设计(cadesign.cn)"
   ]
  },
  {
   "cell_type": "markdown",
   "id": "dcf39435-9fe8-44bc-9edc-60e10a6cee23",
   "metadata": {},
   "source": [
    "# Python Cheat Sheet-6. recursion(递归)、lambda(Anonymous Function, 匿名函数)、generator(生成器)"
   ]
  },
  {
   "cell_type": "markdown",
   "id": "21d0581f-cde0-430c-94a4-5e5356c45afb",
   "metadata": {},
   "source": [
    "## 6.1 递归\n",
    "\n",
    "通过简单的案例查看每一个循环，满足条件代码块运行变量值和返回值的变化是理解递归最好的途径。递归的核心是调用自身，重复同一个代码逻辑过程，实现返回值满足某一变化特征的叠加；并且需要有结束条件，以结束递归，即结束调用自身的循环；同时，给结束条件一个返回值，为最后一次调用自身的返回值。\n",
    "\n",
    "下述两个案例一个为递归求和，一个为递归阶乘，通常用此来解释递归函数的方法。\n",
    "\n",
    "* 递归求和\n",
    "\n",
    "第1个解释案例是递归求和，其过程如图。用具体的语句和值解释上一段话为：开始输入值（开始值）为`lst=[1,2,3,4,5] `, 不满足结束条件`if not lst`，执行`else`语句块，返回值语句为`return lst[0]+recursive_sum(lst[1:])`，将值代入语句（表达式），为`1+recursive_sum([2,3,4,5])`，其中包含调用自身语句`recursive_sum(lst[1:]`，因此从函数名定义行重新开始执行该函数；因为输入参数值`[2,3,4,5]`不满足结束条件，再次执行`else`语句块，将值代入语句（表达式），为`2+recursive_sum([3,4,5])`，继续调用自身，此时的输入值为`[3,4,5]`；以次类推，不断迭代，直至执行到`5+recursive_sum([])`时，可以发现调用递归的输入值为`[]`，满足结束条件，因此执行`if not lst`语句块，返回值为0，结束递归迭代。当结束递归后，将每一次的返回值代入上一次迭代的返回值，计算获得最终结果为`1+2+3+4+5+0=15`。\n",
    "\n",
    "从上述递归过程的描述中，可以确定递归的基本逻辑结构，无外乎调用自身即返回值计算逻辑和该逻辑能够产生结束条件，因此具有递归属性的问题都可以此点切入设计代码。\n",
    "\n",
    "<img src=\"./imgs/pc_6_01.jpg\" height='auto' width=100% title=\"caDesign\">"
   ]
  },
  {
   "cell_type": "code",
   "execution_count": 7,
   "id": "2e403467-6689-46e6-9065-9c78ab2732e9",
   "metadata": {},
   "outputs": [
    {
     "name": "stdout",
     "output_type": "stream",
     "text": [
      "[2, 3, 4, 5]\n",
      "[3, 4, 5]\n",
      "[4, 5]\n",
      "[5]\n",
      "[]\n",
      "if not lst:[]\n",
      "------------------------------------------------------------\n",
      "15\n"
     ]
    }
   ],
   "source": [
    "def recursive_sum(lst):\n",
    "    if not lst:\n",
    "        print(\"if not lst:{}\".format(lst))\n",
    "        return 0\n",
    "    else:\n",
    "        print(lst[1:])\n",
    "        return lst[0]+recursive_sum(lst[1:])\n",
    "    \n",
    "lst=[1,2,3,4,5]    \n",
    "lst_sum=recursive_sum(lst)\n",
    "print(\"--\"*30)\n",
    "print(lst_sum)"
   ]
  },
  {
   "cell_type": "markdown",
   "id": "eb28254a-2d90-4171-b658-5d5c0ad3d864",
   "metadata": {},
   "source": [
    "可以通过小的语句核实确定某些语句的运行结果，辅助理解程序。"
   ]
  },
  {
   "cell_type": "code",
   "execution_count": 13,
   "id": "e67c96eb-8e2b-4eb7-8b9b-08f44f5a549e",
   "metadata": {
    "tags": []
   },
   "outputs": [
    {
     "name": "stdout",
     "output_type": "stream",
     "text": [
      "True\n",
      "False\n",
      "[]\n"
     ]
    }
   ],
   "source": [
    "print(not [])\n",
    "print(not [5])\n",
    "print([5][1:])"
   ]
  },
  {
   "cell_type": "markdown",
   "id": "f8e81d55-4cc1-4baf-ab6b-03b72a0b7c1c",
   "metadata": {},
   "source": [
    "返回值是需要代入到上次迭代调用自身的部分，因此只要返回值满足计算要求，可以根据需要返回任何值。下述代码将结束条件返回值配置为入`1000`时，计算结果为`1015`。"
   ]
  },
  {
   "cell_type": "code",
   "execution_count": 23,
   "id": "8c4b3a87-90ad-4792-9cae-cc9446f76243",
   "metadata": {},
   "outputs": [
    {
     "name": "stdout",
     "output_type": "stream",
     "text": [
      "[2, 3, 4, 5]\n",
      "[3, 4, 5]\n",
      "[4, 5]\n",
      "[5]\n",
      "[]\n",
      "if not lst:[]\n",
      "------------------------------------------------------------\n",
      "1015\n"
     ]
    }
   ],
   "source": [
    "def recursive_sum(lst):\n",
    "    if not lst:\n",
    "        print(\"if not lst:{}\".format(lst))\n",
    "        return 1000\n",
    "    else:\n",
    "        print(lst[1:])\n",
    "        return lst[0]+recursive_sum(lst[1:])\n",
    "    \n",
    "lst=[1,2,3,4,5]    \n",
    "lst_sum=recursive_sum(lst)\n",
    "print(\"--\"*30)\n",
    "print(lst_sum)"
   ]
  },
  {
   "cell_type": "markdown",
   "id": "1053bda3-fc83-4a42-bf33-d576ae8c41de",
   "metadata": {},
   "source": [
    "* 递归阶乘\n",
    "\n",
    "直接可以替换递归求和图中对应的值，来表达递归阶乘的过程。可以解释为：开始输入值（开始值）为`6`, 不满足结束条件`if n==1`，执行`else`语句块，返回值语句为`return n*recursive_factorial(n-1)`，将值代入语句（表达式），为`6×recursive_factorial(5)`，其中包含调用自身语句`recursive_factorial(5)`，因此从函数名定义行重新开始执行该函数；因为输入参数值`5`不满足结束条件，再次执行`else`语句块，将值代入语句（表达式），为`5×recursive_factorial(4)`，继续调用自身，此时的输入值为`4`；以次类推，不断迭代，直至执行到`2×recursive_factorial(1)`时，可以发现调用递归的输入值为`1`，满足结束条件，因此执行`if n==1`语句块，返回值为1，结束递归迭代。当结束递归后，将每一次的返回值代入上一次迭代的返回值，计算获得最终结果为`6×5×4×3×2×1=720`。\n",
    "\n",
    "<img src=\"./imgs/pc_6_02.jpg\" height='auto' width=100% title=\"caDesign\">"
   ]
  },
  {
   "cell_type": "code",
   "execution_count": 26,
   "id": "4f4f50c0-7837-49c2-9b92-75a2bb859a5e",
   "metadata": {},
   "outputs": [
    {
     "name": "stdout",
     "output_type": "stream",
     "text": [
      "720\n"
     ]
    }
   ],
   "source": [
    "def recursive_factorial(n):\n",
    "    if n==1:\n",
    "        return 1\n",
    "    else:\n",
    "        return n*recursive_factorial(n-1)\n",
    "\n",
    "fatorial_result=recursive_factorial(6)\n",
    "print(fatorial_result)"
   ]
  },
  {
   "cell_type": "markdown",
   "id": "e51eb713-4618-4f7e-a8f9-ea34b5e0c62d",
   "metadata": {},
   "source": [
    "* 用循环语句替换递归的方法\n",
    "\n",
    "递归的方法可以用循环的方式解决，例如下述代码改写的递归求和及阶乘。虽然循环的方式更加易读，但是递归的方法似乎也符合python的宗旨，保持简单，除非它必须复杂！因此，究竟是使用递归还是循环，可以由代码的作者自己决定。"
   ]
  },
  {
   "cell_type": "code",
   "execution_count": 32,
   "id": "789d3307-5804-4580-9879-916810724631",
   "metadata": {},
   "outputs": [
    {
     "name": "stdout",
     "output_type": "stream",
     "text": [
      "15\n",
      "720\n"
     ]
    }
   ],
   "source": [
    "lst=[1,2,3,4,5]  \n",
    "lst_sum=0\n",
    "while lst:\n",
    "    lst_sum+=lst[0]\n",
    "    lst=lst[1:]\n",
    "print(lst_sum)\n",
    "\n",
    "n=6\n",
    "fatorial_result=1\n",
    "while n:\n",
    "    if n==1:break\n",
    "    else:\n",
    "        fatorial_result*=n\n",
    "        n=n-1\n",
    "print(fatorial_result)"
   ]
  },
  {
   "cell_type": "markdown",
   "id": "96802b89-5918-4c83-8049-c0d47ea716a0",
   "metadata": {},
   "source": [
    "* 递归列表展平\n",
    "\n",
    "下述递归嵌套列表展平的代码，虽然代码行数不多，但是相对递归求和和阶乘要复杂。这里需要注意两个问题，一个是存在有三个条件，`if`是结束条件。`elif`和`else`分别针对两种不同情况采取的措施。结束条件不是像递归求和和阶乘最后执行一次结束，是对`elif`和`else`下不断调用自身，最终达到各个分枝下满足结束条件的输入参数，逐个结束各个分枝；另一个是，返回值中存在`return flatten_lst(lst[0])+flatten_lst(lst[1:])`，为调用自身的函数求和，需要从左到右一次计算，先返回` flatten_lst(lst[0])`部分，待这部分递归完毕后，在执行`flatten_lst(lst[1:])`部分，而各自部分同样有满足`elif isinstance(lst[0],list)`条件的对象，因此还会产生调用自身两个函数相加的情况，依旧从左到右依次计算，至递归结束。具体的过程可以从图中观察，一个是正序过程，由`k-i,j`的方式标注执行顺序；粉色部分则是逆序逐步代入值的过程。比较清晰的表述了该递归的整个过程。\n",
    "\n",
    "> 当很难通过代码直接理解算法时，必然需要通过`print()`，打印各个变化值查看整个过程。如果打印的对象比较多时，尤其类似递归这样要不断循环的算法，最好给出些辅助标识，定位每一轮次迭代，方便查看每次迭代对应变量的变化，从而找出规律，理解算法。\n",
    "\n",
    "<img src=\"./imgs/pc_6_03.jpg\" height='auto' width=100% title=\"caDesign\">"
   ]
  },
  {
   "cell_type": "code",
   "execution_count": 93,
   "id": "4d8d5588-55aa-47ef-8e48-0c2862f6add1",
   "metadata": {},
   "outputs": [
    {
     "name": "stdout",
     "output_type": "stream",
     "text": [
      "############################## 0-0-0\n",
      "lst: [['A', 'B', ['C', 'D'], 'E'], [6, [7, 8, [9]]]]\n",
      "______________________________ elif\n",
      "['A', 'B', ['C', 'D'], 'E'] ; [[6, [7, 8, [9]]]]\n",
      "############################## 0-1-0\n",
      "lst: ['A', 'B', ['C', 'D'], 'E']\n",
      "______________________________ else\n",
      "['A'] ; ['B', ['C', 'D'], 'E']\n",
      "############################## 0-1-1\n",
      "lst: ['B', ['C', 'D'], 'E']\n",
      "______________________________ else\n",
      "['B'] ; [['C', 'D'], 'E']\n",
      "############################## 0-1-2\n",
      "lst: [['C', 'D'], 'E']\n",
      "______________________________ elif\n",
      "['C', 'D'] ; ['E']\n",
      "############################## 0-2-2\n",
      "lst: ['C', 'D']\n",
      "______________________________ else\n",
      "['C'] ; ['D']\n",
      "############################## 0-2-3\n",
      "lst: ['D']\n",
      "______________________________ else\n",
      "['D'] ; []\n",
      "############################## 0-2-4\n",
      "lst: []\n",
      "______________________________ if\n",
      "############################## 1-2-4\n",
      "lst: ['E']\n",
      "______________________________ else\n",
      "['E'] ; []\n",
      "############################## 1-2-5\n",
      "lst: []\n",
      "______________________________ if\n",
      "############################## 2-2-5\n",
      "lst: [[6, [7, 8, [9]]]]\n",
      "______________________________ elif\n",
      "[6, [7, 8, [9]]] ; []\n",
      "############################## 2-3-5\n",
      "lst: [6, [7, 8, [9]]]\n",
      "______________________________ else\n",
      "[6] ; [[7, 8, [9]]]\n",
      "############################## 2-3-6\n",
      "lst: [[7, 8, [9]]]\n",
      "______________________________ elif\n",
      "[7, 8, [9]] ; []\n",
      "############################## 2-4-6\n",
      "lst: [7, 8, [9]]\n",
      "______________________________ else\n",
      "[7] ; [8, [9]]\n",
      "############################## 2-4-7\n",
      "lst: [8, [9]]\n",
      "______________________________ else\n",
      "[8] ; [[9]]\n",
      "############################## 2-4-8\n",
      "lst: [[9]]\n",
      "______________________________ elif\n",
      "[9] ; []\n",
      "############################## 2-5-8\n",
      "lst: [9]\n",
      "______________________________ else\n",
      "[9] ; []\n",
      "############################## 2-5-9\n",
      "lst: []\n",
      "______________________________ if\n",
      "############################## 3-5-9\n",
      "lst: []\n",
      "______________________________ if\n",
      "############################## 4-5-9\n",
      "lst: []\n",
      "______________________________ if\n",
      "############################## 5-5-9\n",
      "lst: []\n",
      "______________________________ if\n",
      "------------------------------------------------------------\n",
      "['A', 'B', 'C', 'D', 'E', 6, 7, 8, 9]\n"
     ]
    }
   ],
   "source": [
    "i=0\n",
    "j=0\n",
    "k=0\n",
    "def flatten_lst(lst):\n",
    "    global k,i,j\n",
    "    \n",
    "    print(\"#\"*30,'%d-%d-%d'%(k,i,j))\n",
    "    print(\"lst:\",lst)\n",
    "    if lst==[]:\n",
    "        print('_'*30,'if')\n",
    "        k+=1\n",
    "        return lst\n",
    "    \n",
    "    elif isinstance(lst[0],list):\n",
    "        print('_'*30,\"elif\")\n",
    "        print(lst[0],';',lst[1:])\n",
    "        i+=1\n",
    "        return flatten_lst(lst[0])+flatten_lst(lst[1:])\n",
    "    \n",
    "    else:\n",
    "        print('_'*30,'else')\n",
    "        print(lst[:1],\";\",lst[1:])\n",
    "        j+=1\n",
    "        return lst[:1]+flatten_lst(lst[1:])\n",
    "    \n",
    "nested_lst=[['A','B',['C','D'],'E'],[6,[7,8,[9]]]]   \n",
    "flatten_nested_lst=flatten_lst(nested_lst)\n",
    "print(\"--\"*30)\n",
    "print(flatten_nested_lst)    "
   ]
  },
  {
   "cell_type": "markdown",
   "id": "5accaba5-e9fb-4228-b86e-f2def9747a81",
   "metadata": {},
   "source": [
    "## 6.2 匿名函数（lambda）\n",
    "\n",
    "lambda的基本语法为`lambda argument1,argument2,argument3,...,argumentN:expression using arguments`，需要注意的是lambda使用的是表达式（expression）不是语句（statement），返回一个函数表达式，不需要定义函数名（因此称为匿名函数）。lambda的表达式中可以加入`if`条件语句，语法为`lambda <arguments>:<return value if condition is True> if <condition> else <return value if condition is False>`；如果包含类似`elif`的结构，则语法为`lambda <args>:<return value> if <condition> else (return value if <condition> else <return value>)`。\n",
    "\n",
    "对于较为简单的函数定义，使用lambda为内联函数（inline function），可以简化代码，而`def`方法则会稍显繁琐。"
   ]
  },
  {
   "cell_type": "code",
   "execution_count": 109,
   "id": "9bee954d-d39a-4c4f-aa34-9c791216514e",
   "metadata": {},
   "outputs": [
    {
     "name": "stdout",
     "output_type": "stream",
     "text": [
      "6\n",
      "6\n",
      "------------------------------------------------------------\n",
      "True\n",
      "True\n",
      "True\n",
      "------------------------------------------------------------\n",
      "1\n",
      "2\n",
      "0\n"
     ]
    }
   ],
   "source": [
    "def sum_func(x,y,z):\n",
    "    return x+y+z\n",
    "lst=[1,2,3]\n",
    "print(sum_func(*lst))\n",
    "\n",
    "sum_lambda=lambda x,y,z:x+y+z\n",
    "print(sum_lambda(*lst))\n",
    "\n",
    "print(\"-\"*60)\n",
    "comparison_operation_A=lambda x:True if x>10 else False #只有一个条件\n",
    "print(comparison_operation_A(20))\n",
    "\n",
    "CompOpera_B=lambda x:True if (x>10 and x<20) else False #包含多个条件，需要括起\n",
    "print(CompOpera_B(18))\n",
    "\n",
    "CompOpera_C=lambda x:x>10 and x<20 #不使用if else的方式\n",
    "print(CompOpera_C(18))\n",
    "\n",
    "print(\"-\"*60)      \n",
    "CompOpera_D=lambda x:1 if x<10 else (2 if x<20 else 0) #类似elif\n",
    "print(CompOpera_D(7))\n",
    "print(CompOpera_D(15))\n",
    "print(CompOpera_D(30))"
   ]
  },
  {
   "cell_type": "markdown",
   "id": "8d3a472f-2a55-4152-94f3-c155e2cc117f",
   "metadata": {},
   "source": [
    "* 嵌套的匿名函数\n",
    "\n",
    "与嵌套函数类似。"
   ]
  },
  {
   "cell_type": "code",
   "execution_count": 111,
   "id": "af130f4c-4ad6-4fbb-89ed-af5eabbaef26",
   "metadata": {},
   "outputs": [
    {
     "name": "stdout",
     "output_type": "stream",
     "text": [
      "30\n",
      "60\n"
     ]
    }
   ],
   "source": [
    "nested_sum=lambda x:lambda y:x+y\n",
    "sum_instance=nested_sum(10) #输入值对应参数x\n",
    "print(sum_instance(20)) #输入值对应参数y\n",
    "print(sum_instance(50))"
   ]
  },
  {
   "cell_type": "markdown",
   "id": "aa88503d-d948-49ee-bee5-f2f66e323608",
   "metadata": {},
   "source": [
    "* lambda 与filter(), map(),reduce(),sorted\n",
    "\n",
    "lambda经常配合其它以函数作为输入参数的函数，可以非常便捷的以`inline function`方式行内完成代码。通过`help()`非常方便的确定`filter(), map(),reduce(),sorted`输入参数包含使用函数作为参数的部分。"
   ]
  },
  {
   "cell_type": "code",
   "execution_count": 123,
   "id": "0c7facd4-fb66-4609-8d06-05e18b6a9d47",
   "metadata": {},
   "outputs": [
    {
     "name": "stdout",
     "output_type": "stream",
     "text": [
      "Help on class filter in module builtins:\n",
      "\n",
      "class filter(object)\n",
      " |  filter(function or None, iterable) --> filter object\n",
      " |  \n",
      " |  Return an iterator yielding those items of iterable for which function(item)\n",
      " |  is true. If function is None, return the items that are true.\n",
      " |  \n",
      " |  Methods defined here:\n",
      " |  \n",
      " |  __getattribute__(self, name, /)\n",
      " |      Return getattr(self, name).\n",
      " |  \n",
      " |  __iter__(self, /)\n",
      " |      Implement iter(self).\n",
      " |  \n",
      " |  __next__(self, /)\n",
      " |      Implement next(self).\n",
      " |  \n",
      " |  __reduce__(...)\n",
      " |      Return state information for pickling.\n",
      " |  \n",
      " |  ----------------------------------------------------------------------\n",
      " |  Static methods defined here:\n",
      " |  \n",
      " |  __new__(*args, **kwargs) from builtins.type\n",
      " |      Create and return a new object.  See help(type) for accurate signature.\n",
      "\n",
      "None\n",
      "++++++++++++++++++++++++++++++++++++++++++++++++++++++++++++\n",
      "Help on class map in module builtins:\n",
      "\n",
      "class map(object)\n",
      " |  map(func, *iterables) --> map object\n",
      " |  \n",
      " |  Make an iterator that computes the function using arguments from\n",
      " |  each of the iterables.  Stops when the shortest iterable is exhausted.\n",
      " |  \n",
      " |  Methods defined here:\n",
      " |  \n",
      " |  __getattribute__(self, name, /)\n",
      " |      Return getattr(self, name).\n",
      " |  \n",
      " |  __iter__(self, /)\n",
      " |      Implement iter(self).\n",
      " |  \n",
      " |  __next__(self, /)\n",
      " |      Implement next(self).\n",
      " |  \n",
      " |  __reduce__(...)\n",
      " |      Return state information for pickling.\n",
      " |  \n",
      " |  ----------------------------------------------------------------------\n",
      " |  Static methods defined here:\n",
      " |  \n",
      " |  __new__(*args, **kwargs) from builtins.type\n",
      " |      Create and return a new object.  See help(type) for accurate signature.\n",
      "\n",
      "None\n",
      "++++++++++++++++++++++++++++++++++++++++++++++++++++++++++++\n",
      "Help on built-in function reduce in module _functools:\n",
      "\n",
      "reduce(...)\n",
      "    reduce(function, sequence[, initial]) -> value\n",
      "    \n",
      "    Apply a function of two arguments cumulatively to the items of a sequence,\n",
      "    from left to right, so as to reduce the sequence to a single value.\n",
      "    For example, reduce(lambda x, y: x+y, [1, 2, 3, 4, 5]) calculates\n",
      "    ((((1+2)+3)+4)+5).  If initial is present, it is placed before the items\n",
      "    of the sequence in the calculation, and serves as a default when the\n",
      "    sequence is empty.\n",
      "\n",
      "None\n",
      "++++++++++++++++++++++++++++++++++++++++++++++++++++++++++++\n",
      "Help on built-in function sorted in module builtins:\n",
      "\n",
      "sorted(iterable, /, *, key=None, reverse=False)\n",
      "    Return a new list containing all items from the iterable in ascending order.\n",
      "    \n",
      "    A custom key function can be supplied to customize the sort order, and the\n",
      "    reverse flag can be set to request the result in descending order.\n",
      "\n",
      "None\n"
     ]
    }
   ],
   "source": [
    "print(help(filter))\n",
    "print(\"+\"*60)  \n",
    "print(help(map))\n",
    "print(\"+\"*60)  \n",
    "from functools import reduce\n",
    "print(help(reduce))\n",
    "print(\"+\"*60)  \n",
    "print(help(sorted))"
   ]
  },
  {
   "cell_type": "markdown",
   "id": "7bcb61ec-c8b9-4b62-acfc-58fdcda56554",
   "metadata": {},
   "source": [
    "如果某一函数或者方法的输入参数有函数参数，则首先考虑使用`lambda`的方式，这经常用于[pandas](https://pandas.pydata.org/)下配合方法`apply`，根据行数据增加新的列数据。\n",
    "\n",
    "下述案例将以字典保存的保龄球大赛得分转换为`DataFrame`数据格式，并用`apply`方法，以`lambda`方式计算标准计分（Standard Score，z_score，代表原始数值和平均值之间的距离，并以标准差为单位计算，即z-score是从感兴趣的点到均值之间有多少个标准差，这样就可以在不同组数据间比较某一数值的重要程度。）\n",
    "\n",
    "> 浅试pandas的DataFrame数据结构。pandas数据处理方法异常丰富，是数据处理的核心应用库，可以查看pandas手册，或相关说明。"
   ]
  },
  {
   "cell_type": "code",
   "execution_count": 128,
   "id": "7110ba3a-0940-41d4-a250-009858caa512",
   "metadata": {},
   "outputs": [
    {
     "name": "stdout",
     "output_type": "stream",
     "text": [
      "<filter object at 0x0000020982DF1730>\n",
      "[15, 17, 19, 30, 50]\n",
      "------------------------------------------------------------\n",
      "[4, 9, 16, 100, 225, 289, 361, 900, 2500]\n",
      "------------------------------------------------------------\n",
      "150\n",
      "------------------------------------------------------------\n",
      "[('A', 73), ('Reece', 81), ('C', 85), ('Mason', 90), ('B', 97)]\n"
     ]
    }
   ],
   "source": [
    "vals=[2,3,4,10,15,17,19,30,50]\n",
    "filtered_vals=filter(lambda x:x>10, vals) #返回的是一个迭代器（iterator）\n",
    "print(filtered_vals)\n",
    "print(list(filtered_vals))\n",
    "\n",
    "print(\"-\"*60)  \n",
    "mapped_vals=map(lambda x:x**2,vals)\n",
    "print(list(mapped_vals))\n",
    "\n",
    "print(\"-\"*60)  \n",
    "reduced_vals=reduce(lambda x,y:x+y, vals) #相当于求和\n",
    "print(reduced_vals)\n",
    "\n",
    "print(\"-\"*60)  \n",
    "scores=[('Mason',90),('Reece',81),('A',73),('B',97),('C',85)]\n",
    "sorted_vals=sorted(scores,key=lambda score:score[1])\n",
    "print(sorted_vals)"
   ]
  },
  {
   "cell_type": "code",
   "execution_count": 152,
   "id": "9ad79b50-9e21-451b-969a-574b8f9b072c",
   "metadata": {},
   "outputs": [
    {
     "name": "stdout",
     "output_type": "stream",
     "text": [
      "{'Barney': 86, 'Harold': 73, 'Chris': 124, 'Neil': 111, 'Tony': 90, 'Simon': 38, 'Jo': 84, 'Dina': 71, 'Graham': 103, 'Joe': 85, 'Alan': 90, 'Billy': 89, 'Gordon': 229, 'Wade': 77, 'Cliff': 59, 'Arthur': 95, 'David': 70, 'Charles': 88}\n",
      "         score\n",
      "Barney      86\n",
      "Harold      73\n",
      "Chris      124\n",
      "Neil       111\n",
      "Tony        90\n",
      "Simon       38\n",
      "Jo          84\n",
      "Dina        71\n",
      "Graham     103\n",
      "Joe         85\n",
      "Alan        90\n",
      "Billy       89\n",
      "Gordon     229\n",
      "Wade        77\n",
      "Cliff       59\n",
      "Arthur      95\n",
      "David       70\n",
      "Charles     88\n",
      "------------------------------------------------------------\n",
      "scores_mean=92.33,scores_std=39.09\n",
      "         score  z_score\n",
      "Barney      86   -0.162\n",
      "Harold      73   -0.495\n",
      "Chris      124    0.810\n",
      "Neil       111    0.477\n",
      "Tony        90   -0.060\n",
      "Simon       38   -1.390\n",
      "Jo          84   -0.213\n",
      "Dina        71   -0.546\n",
      "Graham     103    0.273\n",
      "Joe         85   -0.188\n",
      "Alan        90   -0.060\n",
      "Billy       89   -0.085\n",
      "Gordon     229    3.496\n",
      "Wade        77   -0.392\n",
      "Cliff       59   -0.853\n",
      "Arthur      95    0.068\n",
      "David       70   -0.571\n",
      "Charles     88   -0.111\n"
     ]
    }
   ],
   "source": [
    "bowlingContest_scores_dic={'Barney':86,'Harold':73,'Chris':124,'Neil':111,'Tony':90,'Simon':38,\n",
    "                           'Jo':84,'Dina':71,'Graham':103,'Joe':85,'Alan':90,'Billy':89,\n",
    "                           'Gordon':229,'Wade':77,'Cliff':59,'Arthur':95,'David':70,'Charles':88}\n",
    "                          \n",
    "print(bowlingContest_scores_dic)\n",
    "\n",
    "import pandas as pd\n",
    "bowlingContest_scores_df=pd.DataFrame.from_dict(bowlingContest_scores_dic,orient='index',columns=['score'])\n",
    "print(bowlingContest_scores_df)\n",
    "scores_mean=bowlingContest_scores_df.score.mean()\n",
    "scores_std=bowlingContest_scores_df.score.std()\n",
    "print(\"-\"*60)  \n",
    "print('scores_mean=%.2f,scores_std=%.2f'%(scores_mean,scores_std))\n",
    "bowlingContest_scores_df['z_score']=bowlingContest_scores_df.score.apply(lambda score:round((score-scores_mean)/scores_std,3))\n",
    "print(bowlingContest_scores_df)"
   ]
  },
  {
   "cell_type": "markdown",
   "id": "d7793b22-54e0-4b8a-8f28-9a1a7f08dfb5",
   "metadata": {},
   "source": [
    "* 用lambda定义递归展平嵌套列表\n",
    "\n",
    "前述递归嵌套列表是根据索引为0的项值是否为列表给出`elif`和`else`的处理路径，如果列表为空则执行`if`，其为终止条件。此次给出的方法是使用lambda函数，lambda函数组合了列表推导式的方法，递归lambda自身完成嵌套列表的展平。直接看包括列表推导式和递归的lambda函数理解递归的过程，因为无法`print()`变量，很难查看整个计算流程，因此需要将lambda转换为`def`的形式，并将列表推导式转换为`for`循环。\n",
    "\n",
    "图解释了整个计算流程。对循环的子列表执行递归操作，通过判断该列表是否为列表，执行`if`或者`else`语句块。`else`语句块为终止条件，为列表项值不再是子列表，而是单个值时的情况，则返回包含该一个值的列表，通过`extend`的方法，将其追加到变量`lst_collection`中。注意，追加的过程，是根据循环从左到右，从外到内（子列表）迭代过程的逆序，例如先`['A','B',['C','D'],'E']` 子列表，然后`[6,[7,8,[9]]]`子列表；前者子列表仍旧从左到右，先`A`，再`B`，在调用自身位置追加到列表为`['A','B']`；到`['C','D']`时，先执行嵌套子列表，从左到右，在调用到自身位置处追加到列表为`['C','D']`；在`A`,`B`和`['C','D']`齐平的位置合并列表为`['A','B','C','D','E']`，依次类推。\n",
    "\n",
    "终止条件的返回值是返回递归调用自身的位置，例如满足终止条件的`A`，返回值为`['A']`，该值对应到递归调用的位置`lst_collection.extend(flatten_lst_loop(n_lst))`，而被追加到` lst_collection`列表中，因为返回的是含一个值的列表，因此使用`extend`方法。\n",
    "\n",
    "思考：如果将`else`终止条件返回值改为`lst`，而不是`[lst]`，并将调用位置语句改为`lst_collection.append(flatten_lst_loop(n_lst))`，即将`extend`改为`append`，为什么不可以？\n",
    "\n",
    "<img src=\"./imgs/pc_6_04.jpg\" height='auto' width=100% title=\"caDesign\">"
   ]
  },
  {
   "cell_type": "code",
   "execution_count": 1,
   "id": "1f37629d-771c-4edc-97c9-4703d5f10646",
   "metadata": {},
   "outputs": [
    {
     "name": "stdout",
     "output_type": "stream",
     "text": [
      "['A', 'B', 'C', 'D', 'E', 6, 7, 8, 9]\n"
     ]
    }
   ],
   "source": [
    "flatten_lst=lambda lst: [m for n_lst in lst for m in flatten_lst(n_lst)] if type(lst) is list else [lst]\n",
    "\n",
    "nested_lst=[['A','B',['C','D'],'E'],[6,[7,8,[9]]]]  \n",
    "print(flatten_lst(nested_lst))"
   ]
  },
  {
   "cell_type": "markdown",
   "id": "a8c5df8f-f3c5-4730-94cd-f97e914c03d0",
   "metadata": {},
   "source": [
    "将lambda转换为`def`定义的形式，并拆解列表推导式，方便通过`print`方式查看变量值的变化。"
   ]
  },
  {
   "cell_type": "code",
   "execution_count": 13,
   "id": "9f679f05-5a2b-460c-84b5-b3becafa9626",
   "metadata": {},
   "outputs": [
    {
     "name": "stdout",
     "output_type": "stream",
     "text": [
      "-------------------------------------------------- 0\n",
      "** [['A', 'B', ['C', 'D'], 'E'], [6, [7, 8, [9]]]]\n",
      "## ['A', 'B', ['C', 'D'], 'E']\n",
      "-------------------------------------------------- 1\n",
      "** ['A', 'B', ['C', 'D'], 'E']\n",
      "## A\n",
      "-------------------------------------------------- 2\n",
      "++ A\n",
      ": ['A']\n",
      "## B\n",
      "-------------------------------------------------- 3\n",
      "++ B\n",
      ": ['A', 'B']\n",
      "## ['C', 'D']\n",
      "-------------------------------------------------- 4\n",
      "** ['C', 'D']\n",
      "## C\n",
      "-------------------------------------------------- 5\n",
      "++ C\n",
      ": ['C']\n",
      "## D\n",
      "-------------------------------------------------- 6\n",
      "++ D\n",
      ": ['C', 'D']\n",
      ": ['A', 'B', 'C', 'D']\n",
      "## E\n",
      "-------------------------------------------------- 7\n",
      "++ E\n",
      ": ['A', 'B', 'C', 'D', 'E']\n",
      ": ['A', 'B', 'C', 'D', 'E']\n",
      "## [6, [7, 8, [9]]]\n",
      "-------------------------------------------------- 8\n",
      "** [6, [7, 8, [9]]]\n",
      "## 6\n",
      "-------------------------------------------------- 9\n",
      "++ 6\n",
      ": [6]\n",
      "## [7, 8, [9]]\n",
      "-------------------------------------------------- 10\n",
      "** [7, 8, [9]]\n",
      "## 7\n",
      "-------------------------------------------------- 11\n",
      "++ 7\n",
      ": [7]\n",
      "## 8\n",
      "-------------------------------------------------- 12\n",
      "++ 8\n",
      ": [7, 8]\n",
      "## [9]\n",
      "-------------------------------------------------- 13\n",
      "** [9]\n",
      "## 9\n",
      "-------------------------------------------------- 14\n",
      "++ 9\n",
      ": [9]\n",
      ": [7, 8, 9]\n",
      ": [6, 7, 8, 9]\n",
      ": ['A', 'B', 'C', 'D', 'E', 6, 7, 8, 9]\n",
      "------------------------------------------------------------\n",
      "['A', 'B', 'C', 'D', 'E', 6, 7, 8, 9]\n"
     ]
    }
   ],
   "source": [
    "i=0\n",
    "def flatten_lst_loop(lst):  \n",
    "    global i\n",
    "    \n",
    "    print(\"-\"*50,i)\n",
    "    lst_collection=[]\n",
    "    if type(lst) is list:\n",
    "        i+=1\n",
    "        print('**',lst)\n",
    "        for n_lst in lst:\n",
    "            print(\"##\",n_lst)            \n",
    "            lst_collection.extend(flatten_lst_loop(n_lst))\n",
    "            print(':',lst_collection)\n",
    "    else:\n",
    "        i+=1\n",
    "        print('++',lst)\n",
    "        return [lst]\n",
    "    return lst_collection\n",
    "            \n",
    "flattened_nestedLst=flatten_lst_loop(nested_lst)\n",
    "print(\"-\"*60)\n",
    "print(flattened_nestedLst)"
   ]
  },
  {
   "cell_type": "markdown",
   "id": "49380040-cf4c-400c-be51-351b34d449a1",
   "metadata": {},
   "source": [
    "## 6.3 生成器（generator）\n",
    "\n",
    "生成器包括生成器函数和生成器表达式。生成器不会一次性计算所有结果，例如以列表形式返回所有计算值（如果为海量数据，列表形式会非常耗内存），而是根据需要提取数值，这样可以增加计算的效率，节约内存空间。例如`filter()`，`map()`，`zip()`等函数的返回值均为迭代器（iterator）（可迭代对象），即生成器返回迭代器（对象）。\n",
    "\n",
    "生成器函数，就是在`def`定义函数时，返回值以`yield`的方式一次返回一个结果；生成器表达式，就是将列表推导式的`[]`改为`()`就可。或者使用`iter()`函数将可迭代对象转换为迭代器（iterator）。\n",
    "\n",
    "通过`help()`查看生成器说明文件，有`__next__`方法，即`next(iterable)`实现逐个读取生成器返回的迭代对象。\n",
    "\n",
    "* 生成器函数"
   ]
  },
  {
   "cell_type": "code",
   "execution_count": 72,
   "id": "27ccc27b-160c-47c4-9eaa-120873a60404",
   "metadata": {},
   "outputs": [
    {
     "name": "stdout",
     "output_type": "stream",
     "text": [
      "<generator object squared_generator at 0x000001E013AF4430>\n",
      "1\n",
      "4\n",
      "9\n",
      "16\n",
      "------------------------------------------------------------\n"
     ]
    }
   ],
   "source": [
    "def squared_generator(range_start,range_stop,range_step=1):\n",
    "    for i in range(range_start,range_stop,range_step):\n",
    "        yield i**2\n",
    "squared_iterable=squared_generator(1,5)\n",
    "print(squared_iterable)\n",
    "\n",
    "for i in squared_iterable:print(i)\n",
    "print(\"-\"*60)\n",
    "for i in squared_iterable:print(i) #当迭代完毕后，在执行则为空，需重新调用生成器函数"
   ]
  },
  {
   "cell_type": "code",
   "execution_count": 74,
   "id": "a83ae9e9-bf38-4603-aa28-a27cd08d962a",
   "metadata": {},
   "outputs": [
    {
     "name": "stdout",
     "output_type": "stream",
     "text": [
      "1\n",
      "4\n",
      "9\n",
      "16\n"
     ]
    }
   ],
   "source": [
    "squared_iterable=squared_generator(1,5)\n",
    "for i in squared_iterable:print(i)\n"
   ]
  },
  {
   "cell_type": "code",
   "execution_count": 24,
   "id": "efe29150-09cd-41e8-bf65-fb142665f15b",
   "metadata": {},
   "outputs": [
    {
     "name": "stdout",
     "output_type": "stream",
     "text": [
      "Performed addition\n",
      "6\n",
      "Performed multiplication\n",
      "12\n"
     ]
    }
   ],
   "source": [
    "def computing_generator(x):\n",
    "    x+=1\n",
    "    print('Performed addition')\n",
    "    yield x\n",
    "    \n",
    "    x*=2\n",
    "    print('Performed multiplication')\n",
    "    yield x\n",
    "\n",
    "computing_iterable=computing_generator(5)\n",
    "print(next(computing_iterable))\n",
    "print(next(computing_iterable))"
   ]
  },
  {
   "cell_type": "code",
   "execution_count": 37,
   "id": "8e88f00f-b976-4fa0-9412-472c11341964",
   "metadata": {},
   "outputs": [
    {
     "name": "stdout",
     "output_type": "stream",
     "text": [
      "1\n",
      "2\n",
      "3\n",
      "Help on generator object:\n",
      "\n",
      "infinite = class generator(object)\n",
      " |  Methods defined here:\n",
      " |  \n",
      " |  __del__(...)\n",
      " |  \n",
      " |  __getattribute__(self, name, /)\n",
      " |      Return getattr(self, name).\n",
      " |  \n",
      " |  __iter__(self, /)\n",
      " |      Implement iter(self).\n",
      " |  \n",
      " |  __next__(self, /)\n",
      " |      Implement next(self).\n",
      " |  \n",
      " |  __repr__(self, /)\n",
      " |      Return repr(self).\n",
      " |  \n",
      " |  close(...)\n",
      " |      close() -> raise GeneratorExit inside generator.\n",
      " |  \n",
      " |  send(...)\n",
      " |      send(arg) -> send 'arg' into generator,\n",
      " |      return next yielded value or raise StopIteration.\n",
      " |  \n",
      " |  throw(...)\n",
      " |      throw(typ[,val[,tb]]) -> raise exception in generator,\n",
      " |      return next yielded value or raise StopIteration.\n",
      " |  \n",
      " |  ----------------------------------------------------------------------\n",
      " |  Data descriptors defined here:\n",
      " |  \n",
      " |  gi_code\n",
      " |  \n",
      " |  gi_frame\n",
      " |  \n",
      " |  gi_running\n",
      " |  \n",
      " |  gi_yieldfrom\n",
      " |      object being iterated by yield from, or None\n",
      "\n"
     ]
    }
   ],
   "source": [
    "def infinite_generator():\n",
    "    i=0\n",
    "    while True:\n",
    "        i+=1\n",
    "        yield i\n",
    "infinite_iterable=infinite()        \n",
    "print(next(infinite_iterable))\n",
    "print(next(infinite_iterable))\n",
    "print(next(infinite_iterable))\n",
    "\n",
    "help(infinite_iterable)\n"
   ]
  },
  {
   "cell_type": "markdown",
   "id": "415b0aa3-d449-4be6-afd7-ee6f0f53c638",
   "metadata": {},
   "source": [
    "* 迭代对象的`send()`方法\n",
    "\n",
    "`send()`方法可以向`yield`表达式传递参数，作为`yield`表达式的值。"
   ]
  },
  {
   "cell_type": "code",
   "execution_count": 71,
   "id": "acb4169e-6eee-46c5-867f-e17869b588bb",
   "metadata": {},
   "outputs": [
    {
     "name": "stdout",
     "output_type": "stream",
     "text": [
      "None\n",
      "---------- 5\n",
      "10\n",
      "---------- 7\n",
      "14\n"
     ]
    }
   ],
   "source": [
    "def double_inputs():\n",
    "    while True:\n",
    "        x=yield\n",
    "        print(\"-\"*10,x)\n",
    "        yield x*2\n",
    "        \n",
    "di_gen= double_inputs()\n",
    "print(next(di_gen))\n",
    "print(di_gen.send(5))\n",
    "next(di_gen)\n",
    "print(di_gen.send(7))"
   ]
  },
  {
   "cell_type": "code",
   "execution_count": 83,
   "id": "6c8ac241-d627-40de-b2ad-5040e1ce682f",
   "metadata": {},
   "outputs": [
    {
     "name": "stdout",
     "output_type": "stream",
     "text": [
      "---------- 1\n",
      "1\n",
      "---------- 2\n",
      "4\n",
      "---------- 3\n",
      "9\n",
      "------------------------------------------------------------\n",
      "---------- 4\n",
      "16\n",
      "---------- 5\n",
      "25\n"
     ]
    }
   ],
   "source": [
    "def squared_generator():\n",
    "    for i in range(1,10):\n",
    "        print(\"-\"*10,i)\n",
    "        yield i**2\n",
    "sg=squared_generator()\n",
    "print(next(sg))\n",
    "print(next(sg))\n",
    "print(next(sg))\n",
    "print(\"-\"*60)\n",
    "print(sg.send(7))\n",
    "print(sg.send(9))"
   ]
  },
  {
   "cell_type": "markdown",
   "id": "fededfd2-7caa-483f-8ece-a279f45559f6",
   "metadata": {},
   "source": [
    "需要注意的是，下述计数求和代码，需要先运行`next()`，然后执行`send()`，否则提示`TypeError: can't send non-None value to a just-started generator`错误。`send()`将值传递给的是`yield`表达式，因此可以看到下述代码，在`send(1)`之后，先运行` delta=yield countNtotal_nt(count,total)`语句，此时`delta`对象的值为1，执行`if`语句块，然后，依次迭代。"
   ]
  },
  {
   "cell_type": "code",
   "execution_count": 118,
   "id": "bd8c9dd7-a5bc-416f-b252-4d440c116f5c",
   "metadata": {},
   "outputs": [
    {
     "name": "stdout",
     "output_type": "stream",
     "text": [
      "---------- 0\n",
      "countNsum(count=0, total=0)\n",
      "------------------------------------------------------------\n",
      "### 1\n",
      "++++++++++ 0\n",
      "---------- 1\n",
      "countNsum(count=1, total=1)\n",
      "### 2\n",
      "++++++++++ 1\n",
      "---------- 2\n",
      "countNsum(count=2, total=3)\n",
      "### 3\n",
      "++++++++++ 2\n",
      "---------- 3\n",
      "countNsum(count=3, total=6)\n",
      "### 4\n",
      "++++++++++ 3\n",
      "---------- 4\n",
      "countNsum(count=4, total=10)\n",
      "### None\n",
      "---------- 4\n",
      "countNsum(count=4, total=10)\n",
      "### 7\n",
      "++++++++++ 4\n",
      "---------- 5\n",
      "countNsum(count=5, total=17)\n",
      "### 8\n",
      "++++++++++ 5\n",
      "---------- 6\n",
      "countNsum(count=6, total=25)\n",
      "### 9\n",
      "++++++++++ 6\n",
      "---------- 7\n",
      "countNsum(count=7, total=34)\n"
     ]
    }
   ],
   "source": [
    "from collections import namedtuple\n",
    "\n",
    "countNtotal_nt=namedtuple('countNsum',['count','total'])\n",
    "\n",
    "def countNtotal(count=0,total=0):\n",
    "    i=0\n",
    "    while True:\n",
    "        print('-'*10,i)\n",
    "        delta=yield countNtotal_nt(count,total)\n",
    "        print(\"###\",delta)\n",
    "        if delta:\n",
    "            print('+'*10,i)\n",
    "            count+=1\n",
    "            total+=delta\n",
    "            i+=1\n",
    "            \n",
    "vals=[1,2,3,4,None,7,8,9]\n",
    "countNtotal_gen=countNtotal()\n",
    "print(next(countNtotal_gen))\n",
    "print(\"-\"*60)\n",
    "for v in vals:print(countNtotal_gen.send(v))"
   ]
  },
  {
   "cell_type": "markdown",
   "id": "c63e3269-cbd3-4372-99ee-46130a4f3dda",
   "metadata": {},
   "source": [
    "* 生成器表达式"
   ]
  },
  {
   "cell_type": "code",
   "execution_count": 75,
   "id": "6575019b-d602-4881-8def-02f290f8f07c",
   "metadata": {},
   "outputs": [
    {
     "name": "stdout",
     "output_type": "stream",
     "text": [
      "<generator object <genexpr> at 0x000001E013AE7430>\n",
      "[11, 12, 13, 14, 15]\n",
      "------------------------------------------------------------\n",
      "<list_iterator object at 0x000001E013BB9670>\n",
      "1\n",
      "2\n"
     ]
    }
   ],
   "source": [
    "plus10_generator=(i+10 for i  in [1,2,3,4,5])\n",
    "print(plus10_generator)\n",
    "print(list(plus10_generator))\n",
    "\n",
    "print(\"-\"*60)\n",
    "lst_iter=iter([1,2,3,4,5])\n",
    "print(lst_iter)\n",
    "print(next(lst_iter))\n",
    "print(next(lst_iter))"
   ]
  },
  {
   "cell_type": "markdown",
   "id": "3442bf20-9fe0-4628-b6bf-e25e6e7a6b91",
   "metadata": {},
   "source": [
    "* 用生成器递归展平列表\n",
    "\n",
    "该方法逻辑同`用lambda定义递归展平嵌套列表`，只是这里有些处理方法的替换，1是，将`if type(lst) is list:`判断条件用`try,except`异常处理替换，当`lst`变量不为列表时，就会引发异常，从而执行`except`语句块，为结束条件；2是，用`yield`替换`lst_collection.extend(flatten_lst_loop(n_lst))`值追加到列表中，而是直接构建生成器，产生迭代对象。"
   ]
  },
  {
   "cell_type": "code",
   "execution_count": 62,
   "id": "3d533112-7540-40fd-9dbf-642f4eef4209",
   "metadata": {},
   "outputs": [
    {
     "name": "stdout",
     "output_type": "stream",
     "text": [
      "['A', 'B', 'C', 'D', 'E', 6, 7, 8, 9]\n"
     ]
    }
   ],
   "source": [
    "def flatten_lst_generator(lst):\n",
    "    try: #使用语句try/except捕捉异常\n",
    "        for n_lst  in lst: \n",
    "             for m in flatten_lst_generator(n_lst):\n",
    "                yield m\n",
    "               \n",
    "    except:  \n",
    "        yield lst\n",
    "        \n",
    "nested_lst=[['A','B',['C','D'],'E'],[6,[7,8,[9]]]]  \n",
    "flatten_nestedLst=flatten_lst_generator(nested_lst)\n",
    "print(list(flatten_nestedLst))               "
   ]
  },
  {
   "cell_type": "markdown",
   "id": "064701f4-bcb2-4992-a641-7ed123dffeff",
   "metadata": {},
   "source": [
    "## 6.4 [itertools](https://docs.python.org/3/library/itertools.html)库\n",
    "\n",
    "[itertools](https://docs.python.org/3/library/itertools.html)库可以实现一系列迭代器（iterator），可以简洁而高效的完成相关的算法，而避免自行重新编写相关的工具。理解与善用`itertools`库，可以提高代码书写效率，及高效利用内存。对`itertools`可以直接查看官网。下述摘抄了官网说明表格，记录如下，方便查阅。通过表格给出的参数，结果和示例很容易推断工具的使用方法和算法目的。\n",
    "\n",
    "* Infinite iterators（无穷迭代器）:\n",
    "\n",
    "| Iterator | Arguments     | Results                                        | Example                               |\n",
    "|----------|---------------|------------------------------------------------|---------------------------------------|\n",
    "| count()  | start, [step] | start, start+step, start+2*step, …             | count(10) --> 10 11 12 13 14 ...      |\n",
    "| cycle()  | p             | p0, p1, … plast, p0, p1, …                     | cycle('ABCD') --> A B C D A B C D ... |\n",
    "| repeat() | elem [,n]     | elem, elem, elem, … endlessly or up to n times | repeat(10, 3) --> 10 10 10            |\n",
    "\n",
    "* Iterators terminating on the shortest input sequence（根据最短输入序列长度停止的迭代器）:\n",
    "\n",
    "| accumulate()          | p [,func]                   | p0, p0+p1, p0+p1+p2, …                     | accumulate([1,2,3,4,5]) --> 1 3 6 10 15                  |\n",
    "|-----------------------|-----------------------------|--------------------------------------------|----------------------------------------------------------|\n",
    "| chain()               | p, q, …                     | p0, p1, … plast, q0, q1, …                 | chain('ABC', 'DEF') --> A B C D E F                      |\n",
    "| chain.from_iterable() | iterable                    | p0, p1, … plast, q0, q1, …                 | chain.from_iterable(['ABC', 'DEF']) --> A B C D E F      |\n",
    "| compress()            | data, selectors             | (d[0] if s[0]), (d[1] if s[1]), …          | compress('ABCDEF', [1,0,1,0,1,1]) --> A C E F            |\n",
    "| dropwhile()           | pred, seq                   | seq[n], seq[n+1], starting when pred fails | dropwhile(lambda x: x<5, [1,4,6,4,1]) --> 6 4 1          |\n",
    "| filterfalse()         | pred, seq                   | elements of seq where pred(elem) is false  | filterfalse(lambda x: x%2, range(10)) --> 0 2 4 6 8      |\n",
    "| groupby()             | iterable[, key]             | sub-iterators grouped by value of key(v)   |                                                          |\n",
    "| islice()              | seq, [start,] stop [, step] | elements from seq[start:stop:step]         | islice('ABCDEFG', 2, None) --> C D E F G                 |\n",
    "| pairwise()            | iterable                    | (p[0], p[1]), (p[1], p[2])                 | pairwise('ABCDEFG') --> AB BC CD DE EF FG                |\n",
    "| starmap()             | func, seq                   | func(*seq[0]), func(*seq[1]), …            | starmap(pow, [(2,5), (3,2), (10,3)]) --> 32 9 1000       |\n",
    "| takewhile()           | pred, seq                   | seq[0], seq[1], until pred fails           | takewhile(lambda x: x<5, [1,4,6,4,1]) --> 1 4            |\n",
    "| tee()                 | it, n                       | it1, it2, … itn splits one iterator into n |                                                          |\n",
    "| zip_longest()         | p, q, …                     | (p[0], q[0]), (p[1], q[1]), …              | zip_longest('ABCD', 'xy', fillvalue='-') --> Ax By C- D- |\n",
    "\n",
    "* Combinatoric iterators（排列组合迭代器）:\n",
    "\n",
    "| Iterator                        | Arguments          | Results                                                       |\n",
    "|---------------------------------|--------------------|---------------------------------------------------------------|\n",
    "| product()                       | p, q, … [repeat=1] | cartesian product, equivalent to a nested for-loop            |\n",
    "| permutations()                  | p[, r]             | r-length tuples, all possible orderings, no repeated elements |\n",
    "| combinations()                  | p, r               | r-length tuples, in sorted order, no repeated elements        |\n",
    "| combinations_with_replacement() | p, r               | r-length tuples, in sorted order, with repeated elements      |"
   ]
  },
  {
   "cell_type": "markdown",
   "id": "89d9d986-6b4c-4161-ad9d-2cc56c948776",
   "metadata": {},
   "source": [
    "<span style = \"color:Teal;background-color:;font-size:20.0pt\">是否完成PCS_6(&nbsp;&nbsp;&nbsp;&nbsp;&nbsp;&nbsp;)</span>"
   ]
  }
 ],
 "metadata": {
  "kernelspec": {
   "display_name": "Python 3 (ipykernel)",
   "language": "python",
   "name": "python3"
  },
  "language_info": {
   "codemirror_mode": {
    "name": "ipython",
    "version": 3
   },
   "file_extension": ".py",
   "mimetype": "text/x-python",
   "name": "python",
   "nbconvert_exporter": "python",
   "pygments_lexer": "ipython3",
   "version": "3.8.13"
  }
 },
 "nbformat": 4,
 "nbformat_minor": 5
}
