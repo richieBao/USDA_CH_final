{
 "cells": [
  {
   "cell_type": "markdown",
   "id": "4c0820ab-364c-4b77-a6d8-8521cc4932af",
   "metadata": {},
   "source": [
    "> Created on Sat Dec  9 10:27:03 2017  @author: Richie Bao-caDesign设计(cadesign.cn)__+updated on Thu Aug 27 09:23:03 2020 by Richie Bao +updated on Thu Jan  6 14:17:47 2022 by Richie Bao  "
   ]
  },
  {
   "cell_type": "code",
   "execution_count": null,
   "id": "3d44fd05-ea52-43c1-bb2a-fda4d9f879df",
   "metadata": {},
   "outputs": [],
   "source": []
  }
 ],
 "metadata": {
  "kernelspec": {
   "display_name": "Python 3 (ipykernel)",
   "language": "python",
   "name": "python3"
  },
  "language_info": {
   "codemirror_mode": {
    "name": "ipython",
    "version": 3
   },
   "file_extension": ".py",
   "mimetype": "text/x-python",
   "name": "python",
   "nbconvert_exporter": "python",
   "pygments_lexer": "ipython3",
   "version": "3.8.12"
  }
 },
 "nbformat": 4,
 "nbformat_minor": 5
}
