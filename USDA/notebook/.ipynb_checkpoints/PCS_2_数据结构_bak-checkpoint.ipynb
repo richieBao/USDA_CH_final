{
 "cells": [
  {
   "cell_type": "markdown",
   "id": "5762b2c4-551f-43b4-bbb5-f3170fd856b5",
   "metadata": {},
   "source": [
    "# Python Cheat Sheet-2. 数据结构 （Data Structure）"
   ]
  },
  {
   "cell_type": "markdown",
   "id": "de5fb7a4-e025-4bc0-913c-ac140dfce673",
   "metadata": {},
   "source": [
    "## 2.1 列表（List）、元组（Tuple）和字典（Dictionary），及集合（set）\n",
    "\n",
    "对于一组序列（sequence）数据（有序的），包含有一个或者多个值时，如果要赋予一个变量，则需要使用列表进行存储。同时，可以对数据进行组织管理，即为可变的（mutable），这包括使用索引（index）、分片（slicing）及提供的内置（built-in）函数或方法等途径，实现数据提取、插入、检索及列表间的运算等。\n",
    "\n",
    "元组类似于列表，只是元组不可修改数据，但可以提取项值，及用内置函数查看数据属性，例如数据长度、最大最小值等。\n",
    "\n",
    "如果有一组空气污染物浓度的数据，希望可以通过检索污染物名称（string类型）提取数值，而并不要求浓度数据为序列型，则需要使用字典类型存储数据，并可赋予一个变量。对字典实现数据的组织管理，通过对键值操作、内置的函数和方法实现。\n",
    "\n",
    "集合为一组无序不重复元素集，可以进行交集、差集和并集等操作，在某些算法中可以简化运算复杂程度，例如在‘蚁群算法（Ant Colony Optimization, ACO）’中，或旅行商问题，通过建立禁忌城市集合`TabuCitySet`，通过差集，每次迭代逐次减去已经走过的城市，那么后续计算只需考虑差集后的集合，至集合为空完成计算。\n",
    "\n",
    "列表、元组和字典存储的值可以是字符串、数值、也可以是列表、元组或字典自身，或者其它数据类型和结构。对于包含列表的列表为嵌套列表（nested list）。集合通常由列表或字符串转换而来，但是不可包含嵌套列表，否则会提示错误`TypeError: unhashable type: 'list'`。\n",
    "\n",
    "究竟选择哪类数据结构用于组织数据分析，需要根据具体分析的内容、途径，优先考虑便于操作的类型，或者组合。\n",
    "\n",
    "> 当实际工作研究时，对于城市空间数据或用[Sklearn（scikit-learn）机器学习](https://scikit-learn.org/stable/)，及[pytroch](https://pytorch.org/)深度学习时，扩展库[numpy](https://numpy.org/)和[pandas](https://pandas.pydata.org/)（及[geopandas](https://geopandas.org/en/stable/)）提供的数组（array）和表（DataFrame，Series）数据结构无法避免。"
   ]
  },
  {
   "cell_type": "markdown",
   "id": "cc4196d1-f7af-42b2-a60f-c8e4a4e48d27",
   "metadata": {},
   "source": [
    "## 2.2 列表（List）\n",
    "\n",
    "语法为`[v0,v1,v2,...,vn]`。默认索引关系为从0开始，递增1计算，也可以逆序(Negative Indexing)，如:<img src=\"./imgs/pc_2_01.png\" height=\"auto\" width=500 title=\"caDesign\">。\n",
    "\n",
    "* 建立列表\n",
    "\n",
    "一种是按照语法直接书写并赋予变量，或用`list()`实现。用内置函数的方法时，如果是字符串会自动切分为独个字母，如何是与`range()`配合，会产生一个给定始末和步幅值的序列。"
   ]
  },
  {
   "cell_type": "code",
   "execution_count": 82,
   "id": "16173e5f-a59b-4bb6-8d9e-e8a864eb9972",
   "metadata": {},
   "outputs": [
    {
     "name": "stdout",
     "output_type": "stream",
     "text": [
      "['d', 'e', 'f', 'g', 'h', 'i', 'j', 'k', 'l', 'm']\n",
      "['d', 'e', 'f', 'g', 'h', 'i', 'j', 'k', 'l', 'm']\n",
      "range(5, 20, 3)\n",
      "[5, 8, 11, 14, 17]\n"
     ]
    }
   ],
   "source": [
    "letters_1=['d', 'e', 'f', 'g', 'h', 'i', 'j', 'k', 'l', 'm']\n",
    "print(letters_1)\n",
    "\n",
    "letters_2=list('defghijklm')\n",
    "print(letters_2)\n",
    "\n",
    "sequence_range=range(5,20,3) #内置函数，语法range(start, stop, step)，给定始末和步幅值，构建序列\n",
    "print(sequence_range)\n",
    "sequence_lst=list(range(5,20,3))\n",
    "print(sequence_lst)"
   ]
  },
  {
   "cell_type": "markdown",
   "id": "ea0339a9-121f-4b22-befa-defdcb2d223e",
   "metadata": {},
   "source": [
    "`enumerate(iterable, start=0)`方法，第一个参数为`iterable`可迭代对象（列表或元组），第二个参数为计数起始值，默认为0。返回的枚举对象为一个元组列表，每个元组第一个对象为计数值，第二个对象为对应计数的可迭代对象数值。`enumerate`函数通常用于循环语句中，循环可迭代对象同时，返回索引值对象，用于计数或者作为其它对应数据提取值时的索引对象。返回的枚举对象`<enumerate object at 0x000001C6EDEC1500>`可以用`list`方法提取具体值。"
   ]
  },
  {
   "cell_type": "code",
   "execution_count": 95,
   "id": "c77da791-5eb9-4175-91c6-bb7f4c65242d",
   "metadata": {},
   "outputs": [
    {
     "name": "stdout",
     "output_type": "stream",
     "text": [
      "<enumerate object at 0x000001C6EDEE3B00>\n",
      "[(0, 'd'), (1, 'e'), (2, 'f'), (3, 'g'), (4, 'h'), (5, 'i'), (6, 'j'), (7, 'k'), (8, 'l'), (9, 'm')]\n"
     ]
    }
   ],
   "source": [
    "idx_value=enumerate(letters_1,start=0)\n",
    "print(idx_value)\n",
    "print(list(idx_value))"
   ]
  },
  {
   "cell_type": "markdown",
   "id": "348b5e26-a22e-40d4-8292-be2d517a7549",
   "metadata": {},
   "source": [
    "* 提取值-用索引或者分片（slicing）的方式\n",
    "\n",
    "给定索引可以直接提取对应索引的值。而slicing的方式需要给始末索引值及步幅值，语法为`list[a:b:c]`，`a`为开始值，`b`为结束值，`C`为步幅值。三个参数可以配置负值逆序。\n",
    "\n",
    "下述的案例中，首先用了一个实际研究项目的数据来吃说明，用列表存储多组数据的方式。可以将各组数据单独存储于单个列表中；亦可以用嵌套列表的形式将其存储于一个列表中。不过对于多组数据的存储通常使用dict，array(numpy)或DataFrame(pandas)的形式处理更加便捷。\n",
    "\n",
    "> 在解释数据结构具体操作方式时，则使用简单的数据形式，较之具体研究项目的数据更加简单，亦于专注于操作本身。但是同样给出一个具体的案例，来说明在具体数据分析时数据如何存储的。\n",
    "\n",
    "多组数据单独存储各自列表的方式。"
   ]
  },
  {
   "cell_type": "code",
   "execution_count": 5,
   "id": "895662f4-ccbb-4719-9264-9fd4383b9d1f",
   "metadata": {},
   "outputs": [],
   "source": [
    "# 这组数据来自城市环境传感器（AoT, array of things），提取了部分数据，包括字段有：地址（string）、ID编号(string)、经纬度(float)共4类值，以单独列表形式存储。\n",
    "coordi_lon=[-87.628, -87.616, -87.631, -87.59, -87.711, -87.628, -87.586, -87.713, -87.676, -87.624]\n",
    "coordi_lat=[41.878, 41.858, 41.926, 41.81, 41.866, 41.883, 41.781, 41.751, 41.852, 41.736]\n",
    "node_id=['ba46', 'ba3b', 'f02f', 'ba8f', 'ba16', '7e5d', 'ba8b', 'ba13', 'ba18', 'bc10']\n",
    "address=['State St & Jackson Blvd Chicago IL', '18th St & Lake Shore Dr Chicago IL', 'Lake Shore Drive & Fullerton Ave Chicago IL', 'Cornell & 47th St Chicago IL', 'Homan Ave & Roosevelt Rd Chicago IL', 'State St & Washington St Chicago IL', 'Stony Island Ave & 63rd St Chicago IL', '7801 S Lawndale Ave Chicago IL', 'Damen Ave & Cermak Chicago IL', 'State St & 87th Chicago IL']"
   ]
  },
  {
   "cell_type": "markdown",
   "id": "f1d7e2f3-5142-4149-8011-20beec9205a3",
   "metadata": {},
   "source": [
    "`'{0},{1}'.format(v0,v1)`该种字符串格式化的方式，可以给定索引值，这样就可以不受位置影响，比较方便的增加`{}`待格式内容。\n",
    "\n",
    "如果打印字符串语句比较长，编辑起来不是很方便的话，可以用`\\`将其分成多段处理；打印字符串时，如果需要换行打印显示，则加入`\\n`换行符处理。"
   ]
  },
  {
   "cell_type": "code",
   "execution_count": 30,
   "id": "8d492470-7d08-49c2-b7e9-4a88cf0ff3f9",
   "metadata": {},
   "outputs": [
    {
     "name": "stdout",
     "output_type": "stream",
     "text": [
      "values with the index 2:       \n",
      "id=f02f;\n",
      "lon=-87.631;\n",
      "lat=41.926;\n",
      "address=Lake Shore Drive & Fullerton Ave Chicago IL\n",
      "__________________________________________________\n",
      "slice(2, 5, None)\n",
      "values with the index [2, 3, 4]:       \n",
      "id=['f02f', 'ba8f', 'ba16'];\n",
      "lon=[-87.631, -87.59, -87.711];\n",
      "lat=[41.926, 41.81, 41.866];\n",
      "address=['Lake Shore Drive & Fullerton Ave Chicago IL', 'Cornell & 47th St Chicago IL', 'Homan Ave & Roosevelt Rd Chicago IL']\n"
     ]
    }
   ],
   "source": [
    "# 提取索引值为2对应的数值\n",
    "idx_AoT=2\n",
    "idx_lon=coordi_lon[idx_AoT]\n",
    "idx_lat=coordi_lat[idx_AoT]\n",
    "idx_nodeID=node_id[idx_AoT]\n",
    "idx_address=address[idx_AoT]\n",
    "\n",
    "print('values with the index 2: \\\n",
    "      \\nid={0};\\nlon={2};\\nlat={3};\\naddress={1}'.format(idx_nodeID,idx_address,idx_lon,idx_lat))\n",
    "\n",
    "# 提取分片数据，slice(2,5)为即为[2,3,4]\n",
    "slice_AoT=slice(2,5) #默认步幅为1\n",
    "print(\"_\"*50)\n",
    "print(idxes_AoT)\n",
    "slice_lon=coordi_lon[slice_AoT]\n",
    "slice_lat=coordi_lat[slice_AoT]\n",
    "slice_nodeID=node_id[slice_AoT]\n",
    "slice_address=address[slice_AoT]\n",
    "\n",
    "print('values with the index {4}: \\\n",
    "      \\nid={0};\\nlon={2};\\nlat={3};\\naddress={1}'.format(slice_nodeID,slice_address,slice_lon,slice_lat,list(range(2,5))))"
   ]
  },
  {
   "cell_type": "markdown",
   "id": "1128ba88-197c-471a-8ea0-6173bd00d911",
   "metadata": {},
   "source": [
    "以嵌套列表的形式存储多组数据。很多时候为了方便获知变量的数据结构，而不用打印`print()`或者用`type()`的方式查看数据，则可以在起变量名时，直接增加一个可以表明数据结构的单词或缩写，例如'list->lst'，`dict->dict`，`DataFrame->df`，`GeoDataFrame->gdf`，`array->array`等。"
   ]
  },
  {
   "cell_type": "code",
   "execution_count": 42,
   "id": "d0beb3d4-6abf-40bc-8d6f-da5410341717",
   "metadata": {},
   "outputs": [
    {
     "name": "stdout",
     "output_type": "stream",
     "text": [
      "[['001e0610ba46', -87.627678, 41.87837699999999, 'State St & Jackson Blvd Chicago IL'], ['001e0610ba3b', -87.616055, 41.85813599999999, '18th St & Lake Shore Dr Chicago IL'], ['001e0610f02f', -87.6307578, 41.926261399999994, 'Lake Shore Drive & Fullerton Ave Chicago IL'], ['001e0610ba8f', -87.590228, 41.81034199999999, 'Cornell & 47th St Chicago IL'], ['001e0610ba16', -87.710543, 41.866349, 'Homan Ave & Roosevelt Rd Chicago IL'], ['001e06107e5d', -87.6277685, 41.88320529999999, 'State St & Washington St Chicago IL'], ['001e0610ba8b', -87.58645600000001, 41.7806, 'Stony Island Ave & 63rd St Chicago IL'], ['001e0610ba13', -87.71299, 41.75123799999999, '7801 S Lawndale Ave Chicago IL'], ['001e0610ba18', -87.675825, 41.85217899999999, 'Damen Ave & Cermak Chicago IL'], ['001e0610bc10', -87.62417900000001, 41.73631399999999, 'State St & 87th Chicago IL']]\n"
     ]
    }
   ],
   "source": [
    "AoT_info_lst=[['001e0610ba46', -87.627678, 41.87837699999999, 'State St & Jackson Blvd Chicago IL'], \n",
    "          ['001e0610ba3b', -87.616055, 41.85813599999999, '18th St & Lake Shore Dr Chicago IL'], \n",
    "          ['001e0610f02f', -87.6307578, 41.926261399999994, 'Lake Shore Drive & Fullerton Ave Chicago IL'], \n",
    "          ['001e0610ba8f', -87.590228, 41.81034199999999, 'Cornell & 47th St Chicago IL'], \n",
    "          ['001e0610ba16', -87.710543, 41.866349, 'Homan Ave & Roosevelt Rd Chicago IL'], \n",
    "          ['001e06107e5d', -87.6277685, 41.88320529999999, 'State St & Washington St Chicago IL'], \n",
    "          ['001e0610ba8b', -87.58645600000001, 41.7806, 'Stony Island Ave & 63rd St Chicago IL'], \n",
    "          ['001e0610ba13', -87.71299, 41.75123799999999, '7801 S Lawndale Ave Chicago IL'], \n",
    "          ['001e0610ba18', -87.675825, 41.85217899999999, 'Damen Ave & Cermak Chicago IL'], \n",
    "          ['001e0610bc10', -87.62417900000001, 41.73631399999999, 'State St & 87th Chicago IL']]\n",
    "print(AoT_info)"
   ]
  },
  {
   "cell_type": "markdown",
   "id": "08ffcfa4-96a6-4a18-bcdd-dda24f4d5789",
   "metadata": {},
   "source": [
    "含有括号、大括号的语句，其中的内容可以按逗号分段对其书写，使得代码易读。"
   ]
  },
  {
   "cell_type": "code",
   "execution_count": 43,
   "id": "10b5ed7a-6fdf-470c-9912-680289faa3cf",
   "metadata": {},
   "outputs": [
    {
     "name": "stdout",
     "output_type": "stream",
     "text": [
      "values with the index 2:       \n",
      "id=001e0610f02f;\n",
      "lon=41.926261399999994;\n",
      "lat=Lake Shore Drive & Fullerton Ave Chicago IL;\n",
      "address=-87.6307578\n"
     ]
    }
   ],
   "source": [
    "print('values with the index 2: \\\n",
    "      \\nid={0};\\nlon={2};\\nlat={3};\\naddress={1}'.format(AoT_info_lst[2][0],\n",
    "                                                         AoT_info_lst[2][1],\n",
    "                                                         AoT_info_lst[2][2],\n",
    "                                                         AoT_info_lst[2][3]))"
   ]
  },
  {
   "cell_type": "markdown",
   "id": "9eff437f-8baa-4269-97df-1352547e2374",
   "metadata": {},
   "source": [
    "`letters_1`直接敲入的字母，可以用`list(map(chr,range(100,110))) `语句提取。其中，`chr(i, /)`，是给定索引值，返回[Unicode](https://home.unicode.org/) （统一码、万国码、单一码)字符串。`map(func, *iterables) `函数，输入的第一个参数`func`为一个函数对象，第二个参数`*iterables`为可迭代对象（列表、元组等）以迭代器方式逐个返回给定迭代对象的函数计算值。因为返回的是迭代器，本例返回值为`\n",
    "<map object at 0x000001C6EDDB96D0>`，可以通过`list(iterate object)`方式读取。这个函数可以简单理解为，一次性给定函数多个参数值，返回所有函数计算值。在案例中又给出了两个小案例方便理解。\n",
    "\n",
    "> 所有函数，关键字等都可以通过`help()`函数查看说明文档。"
   ]
  },
  {
   "cell_type": "code",
   "execution_count": 75,
   "id": "e53450ea-38b1-428a-aa4b-b704a5773e9f",
   "metadata": {},
   "outputs": [
    {
     "name": "stdout",
     "output_type": "stream",
     "text": [
      "<map object at 0x000001C6EDEDFDF0>\n",
      "['d', 'e', 'f', 'g', 'h', 'i', 'j', 'k', 'l', 'm']\n",
      "__________________________________________________\n",
      "d\n",
      "__________________________________________________\n",
      "[6, 3, 1, 11]\n",
      "[2, 77, 65]\n"
     ]
    }
   ],
   "source": [
    "print(map(chr,range(100,110))) #返回的为迭代对象\n",
    "\n",
    "lst=list(map(chr,range(100,110))) \n",
    "print(lst)\n",
    "print(\"_\"*50)\n",
    "print(chr(100)) #打印索引值为100的unicode对象\n",
    "\n",
    "print(\"_\"*50)\n",
    "lst4len=['python','C++','C','hello guys!']\n",
    "string_len=list(map(len,lst4len))\n",
    "print(string_len)\n",
    "\n",
    "lst4max=[[1,2],[5,77],[33,65]]\n",
    "max_v=list(map(max,lst4max))\n",
    "print(max_v)"
   ]
  },
  {
   "cell_type": "code",
   "execution_count": 56,
   "id": "c62e9486-79c0-4fe8-a12c-9b3ad036459a",
   "metadata": {},
   "outputs": [
    {
     "name": "stdout",
     "output_type": "stream",
     "text": [
      "Help on class map in module builtins:\n",
      "\n",
      "class map(object)\n",
      " |  map(func, *iterables) --> map object\n",
      " |  \n",
      " |  Make an iterator that computes the function using arguments from\n",
      " |  each of the iterables.  Stops when the shortest iterable is exhausted.\n",
      " |  \n",
      " |  Methods defined here:\n",
      " |  \n",
      " |  __getattribute__(self, name, /)\n",
      " |      Return getattr(self, name).\n",
      " |  \n",
      " |  __iter__(self, /)\n",
      " |      Implement iter(self).\n",
      " |  \n",
      " |  __next__(self, /)\n",
      " |      Implement next(self).\n",
      " |  \n",
      " |  __reduce__(...)\n",
      " |      Return state information for pickling.\n",
      " |  \n",
      " |  ----------------------------------------------------------------------\n",
      " |  Static methods defined here:\n",
      " |  \n",
      " |  __new__(*args, **kwargs) from builtins.type\n",
      " |      Create and return a new object.  See help(type) for accurate signature.\n",
      "\n"
     ]
    }
   ],
   "source": [
    "help(map)"
   ]
  },
  {
   "cell_type": "markdown",
   "id": "79ec52cb-7cbf-4234-b356-d621765e58f3",
   "metadata": {},
   "source": [
    "分片练习"
   ]
  },
  {
   "cell_type": "code",
   "execution_count": 79,
   "id": "f2ac8ecb-2d34-4da2-a251-8e6e0e19ef9c",
   "metadata": {},
   "outputs": [
    {
     "name": "stdout",
     "output_type": "stream",
     "text": [
      "['g', 'h', 'i']\n",
      "['g', 'h', 'i']\n",
      "['g', 'i']\n",
      "['k', 'l']\n",
      "['k', 'l', 'm']\n",
      "m\n",
      "['d', 'e', 'f']\n",
      "['d', 'e', 'f', 'g', 'h', 'i', 'j', 'k', 'l', 'm']\n"
     ]
    }
   ],
   "source": [
    "print(lst[3:6:1])\n",
    "print(lst[3:6])\n",
    "print(lst[3:6:2])\n",
    "print(lst[-3:-1])\n",
    "print(lst[-3:])\n",
    "print(lst[-1])\n",
    "print(lst[:3])\n",
    "print(lst[:])"
   ]
  },
  {
   "cell_type": "markdown",
   "id": "c1c92d6f-c10a-4f33-b5ba-1f33058e3c28",
   "metadata": {},
   "source": [
    "元素赋值+分片赋值+删除元素+列表相加+列表的乘法+成员运算符"
   ]
  },
  {
   "cell_type": "code",
   "execution_count": 148,
   "id": "2f4c1bc5-4dec-4fc6-9707-bed80eb80527",
   "metadata": {},
   "outputs": [
    {
     "name": "stdout",
     "output_type": "stream",
     "text": [
      "['*', ')', 99, 'h', 'g', 99, [1000, 1200, 1500], 'e', 'd']\n",
      "['*', ')', 99, 'h', 'g', 99, [1000, 1200, 1500], 'e', 'd', None, None, None, None, None, None]\n",
      "['*', ')', 99, 'h', 'g', 99, [1000, 1200, 1500], 'e', 'd', None, None, None, None, 2015, None]\n",
      "['*', ')', 99, 'h', 'g', 99, [1000, 1200, 1500], 'e', 'd', 100, 102, None, 2015, None]\n",
      "['*', 0, 0, 0, 12, ')', 99, 'h', 'g', 99, [1000, 1200, 1500], 'e', 'd', 100, 102, None, 2015, None]\n",
      "['*', 0, 0, 0, 12, ')', 99, 'h', 'g', 99, [1000, 1200, 1500], 'e', 'd', 100, 102, None]\n",
      "True\n",
      "False\n"
     ]
    }
   ],
   "source": [
    "lst[5]=99 #元素赋值\n",
    "print(lst)\n",
    "lst_none=lst+[None]*6 #列表相加，及列表的乘法\n",
    "print(lst_none)\n",
    "lst_none[13]=2015\n",
    "print(lst_none)\n",
    "lst_none[-6:-3]=list(range(100,104,2)) #分片赋值\n",
    "print(lst_none)\n",
    "lst_none[1:1]=[0,0,0,12]\n",
    "print(lst_none)\n",
    "del lst_none[-2:] #删除元素\n",
    "print(lst_none)\n",
    "\n",
    "print([1000, 1200, 1500] in lst_none) #成员运算符\n",
    "print([1000, 1200, 1500] not in lst_none) #成员运算符"
   ]
  },
  {
   "cell_type": "markdown",
   "id": "70d8d1e8-88a5-4d11-9df2-fc5dce1ece68",
   "metadata": {},
   "source": [
    "* 内置函数\n",
    "\n",
    "可以用于列表的内置函数，除了构建列表的`list()`函数外，可以用`len()`函数计算列表长度，`max()`函数返回列表最大值，`min()`函数返回列表最小值等。表述为函数时，通常是以`func(auguments)`语法操作，函数可以理解为将要执行的动作，输入参数为被执行的对象。\n",
    "\n",
    "在练习时，如果手工随机输入一组数据，即使数值比较简单，但是还是会消磨掉一些对技能增长无用的时间，因此练习代码需要随机数值就可以的化，就用代码自动生成一组数据。下述调入`random`库，使用该库提供的`sample(population, k)`方法，随机生成一组值，其中第一个参数`population`为序列（列表、元组等）或集合（set）的一组数；第二个参数为随机提取的数量。返回值为在给定的一组数中随机抽取`k`个，组成一个新的列表。每运行依次抽取的随机数都会发生改变，如果希望每次运行结果保持一致，则需要用`seed(a=None, version=2)`固定一个随机种子，关于参数的解释可以用`help(random.seed)`方法查看。\n"
   ]
  },
  {
   "cell_type": "code",
   "execution_count": 125,
   "id": "ae1dcadb-a883-4685-b4ce-a0519a4de5ba",
   "metadata": {},
   "outputs": [
    {
     "name": "stdout",
     "output_type": "stream",
     "text": [
      "['<', '=', '>', '?', '@', 'A', 'B', 'C', 'D', 'E']\n",
      "[147, 9, 110, 124, 148, 4, 53, 119, 126, 72]\n",
      "Help on method sample in module random:\n",
      "\n",
      "sample(population, k) method of random.Random instance\n",
      "    Chooses k unique random elements from a population sequence or set.\n",
      "    \n",
      "    Returns a new list containing elements from the population while\n",
      "    leaving the original population unchanged.  The resulting list is\n",
      "    in selection order so that all sub-slices will also be valid random\n",
      "    samples.  This allows raffle winners (the sample) to be partitioned\n",
      "    into grand prize and second place winners (the subslices).\n",
      "    \n",
      "    Members of the population need not be hashable or unique.  If the\n",
      "    population contains repeats, then each occurrence is a possible\n",
      "    selection in the sample.\n",
      "    \n",
      "    To choose a sample in a range of integers, use range as an argument.\n",
      "    This is especially fast and space efficient for sampling from a\n",
      "    large population:   sample(range(10000000), 60)\n",
      "\n",
      "None\n"
     ]
    }
   ],
   "source": [
    "letters_lst=list(map(chr,range(60,70))) \n",
    "print(lst)\n",
    "\n",
    "import random \n",
    "random.seed(10)\n",
    "numericalVals_lst=random.sample(range(1,200),10)\n",
    "print(numericalVals_lst)\n",
    "\n",
    "print(help(random.sample))"
   ]
  },
  {
   "cell_type": "code",
   "execution_count": 123,
   "id": "e4e93bc0-c5f7-4af9-ab41-d45b7f099400",
   "metadata": {},
   "outputs": [
    {
     "name": "stdout",
     "output_type": "stream",
     "text": [
      "10 10\n",
      "E 148\n",
      "< 4\n"
     ]
    }
   ],
   "source": [
    "print(len(letters_lst),len(numericalVals_lst))\n",
    "print(max(letters_lst),max(numericalVals_lst))\n",
    "print(min(letters_lst),min(numericalVals_lst))"
   ]
  },
  {
   "cell_type": "markdown",
   "id": "e113c200-0e9f-43c8-8070-494787a1631c",
   "metadata": {},
   "source": [
    "* 内置方法\n",
    "\n",
    "列表的方法使用的语法为`lst.method()`，包括：\n",
    "\n",
    "`append()`，在列表末尾追加新的对象;\n",
    "\n",
    "`extend()`，在列表的末尾一次性追加另一个序列中的多个值;\n",
    "\n",
    "`insert()`，将对象插入到列表中;\n",
    "\n",
    "`pop()`，根据指定的索引值移除列表中的项值，并返回该项值，在默认无参数的条件下移除最后一个;\n",
    "\n",
    "`remove()`，移除项值，输入参数为指定的项值而不是索引值;\n",
    "\n",
    "`count()`，统计某个元素在列表中出现的次数；\n",
    "\n",
    "`index()`，从列表中找到某一个值第一个匹配项的索引位置;\n",
    "\n",
    "`reverse()`，翻转列表;\n",
    "\n",
    "`clear()`，清空列表;\n",
    "\n",
    "`sort()`，是按一定的顺序重新排序;\n",
    "\n",
    "`copy()`，复制列表;\n",
    "\n",
    "查看帮助文件时，使用`help(list.method)`语法。"
   ]
  },
  {
   "cell_type": "code",
   "execution_count": 141,
   "id": "516c9e3a-0ceb-4479-b139-0da3c6274469",
   "metadata": {},
   "outputs": [
    {
     "name": "stdout",
     "output_type": "stream",
     "text": [
      "['d', 'e', 'f', 'g', 'h']\n",
      "['d', 'e', 'f', 'g', 'h', 99]\n",
      "['d', 'e', 'f', 'g', 'h', 99, [50, 55, 60, 65, 70, 75]]\n",
      "['d', 'e', 'f', 'g', 'h', 99, [50, 55, 60, 65, 70, 75]]\n",
      "['d', 'e', 'f', 'g', 'h', 99, [50, 55, 60, 65, 70, 75], '*', ')', '*']\n",
      "['d', 'e', 'f', 'g', 'h', 99, [50, 55, 60, 65, 70, 75], '*', ')', '*']\n",
      "['d', 'e', 'f', 'g', 'h', 99, [50, 55, 60, 65, 70, 75], '*', ')', '*']\n",
      "['d', 'e', [1000, 1200, 1500], 'f', 'g', 'h', 99, [50, 55, 60, 65, 70, 75], '*', ')', '*']\n",
      "['d', 'e', [1000, 1200, 1500], 'f', 'g', 'h', 99, '*', ')', '*']\n",
      "['d', 'e', [1000, 1200, 1500], 'f', 'g', 'h', 99, ')', '*']\n",
      "['*', ')', 99, 'h', 'g', 'f', [1000, 1200, 1500], 'e', 'd']\n"
     ]
    },
    {
     "ename": "TypeError",
     "evalue": "'<' not supported between instances of 'int' and 'str'",
     "output_type": "error",
     "traceback": [
      "\u001b[1;31m---------------------------------------------------------------------------\u001b[0m",
      "\u001b[1;31mTypeError\u001b[0m                                 Traceback (most recent call last)",
      "Input \u001b[1;32mIn [141]\u001b[0m, in \u001b[0;36m<cell line: 23>\u001b[1;34m()\u001b[0m\n\u001b[0;32m     21\u001b[0m lst\u001b[38;5;241m.\u001b[39mreverse()\n\u001b[0;32m     22\u001b[0m \u001b[38;5;28mprint\u001b[39m(lst)\n\u001b[1;32m---> 23\u001b[0m \u001b[43mlst\u001b[49m\u001b[38;5;241;43m.\u001b[39;49m\u001b[43msort\u001b[49m\u001b[43m(\u001b[49m\u001b[43m)\u001b[49m\n",
      "\u001b[1;31mTypeError\u001b[0m: '<' not supported between instances of 'int' and 'str'"
     ]
    }
   ],
   "source": [
    "lst=list(map(chr,range(100,105)))\n",
    "print(lst)\n",
    "lst.append(99)\n",
    "print(lst)\n",
    "lst.append(list(range(50,80,5)))\n",
    "print(lst)\n",
    "lst_b=['*',')','*']\n",
    "print(lst)\n",
    "lst.extend(lst_b)\n",
    "print(lst)\n",
    "lst.count('*')\n",
    "print(lst)\n",
    "lst.index('e')\n",
    "print(lst)\n",
    "lst.insert(2,[1000,1200,1500])\n",
    "print(lst)\n",
    "lst.pop(7)\n",
    "print(lst)\n",
    "lst.remove('*')\n",
    "print(lst)\n",
    "lst.reverse()\n",
    "print(lst)\n",
    "lst.sort() #将提示错误，TypeError: '<' not supported between instances of 'int' and 'str'"
   ]
  },
  {
   "cell_type": "code",
   "execution_count": 144,
   "id": "576d6910-5024-4082-9157-98c9dbc82495",
   "metadata": {},
   "outputs": [
    {
     "name": "stdout",
     "output_type": "stream",
     "text": [
      "['*', ')', 99, 'h', 'g', 'f', [1000, 1200, 1500], 'e', 'd']\n",
      "[7, 2, 4, 5, 8, 1]\n",
      "[1, 2, 4, 5, 7, 8]\n",
      "[1, 2, 4, 5, 7, 8]\n",
      "[]\n"
     ]
    }
   ],
   "source": [
    "print(lst)\n",
    "\n",
    "import random\n",
    "r_lst=random.sample(range(10),6)\n",
    "print(r_lst)\n",
    "r_lst.sort()\n",
    "print(r_lst)\n",
    "lst_copy=r_lst.copy()\n",
    "print(lst_copy)\n",
    "lst_copy.clear()\n",
    "print(lst_copy)"
   ]
  },
  {
   "cell_type": "code",
   "execution_count": 136,
   "id": "e9701212-0ea1-4474-853a-b3eeb7f09b04",
   "metadata": {},
   "outputs": [
    {
     "name": "stdout",
     "output_type": "stream",
     "text": [
      "Help on method_descriptor:\n",
      "\n",
      "extend(self, iterable, /)\n",
      "    Extend list by appending elements from the iterable.\n",
      "\n"
     ]
    }
   ],
   "source": [
    "help(list.extend)"
   ]
  },
  {
   "cell_type": "markdown",
   "id": "d92e06b9-faa2-47c9-9ad0-e2ad4f100b5d",
   "metadata": {},
   "source": [
    "## 2.3 元组（Tuple）\n",
    "\n",
    "元组的语法为`(v0,v1,v2,...,vn)`，不同于列表的中括号，为小括号表示，中间逗号隔开。元组不能够修改数据是其主要特性。元组的建立方法一种是`2,5,6,`在成员对象末尾直接加一个逗号；或则使用`tuple(iterable=(), /)`函数，参数为可迭代对象；亦可直接敲入元组语法`(2,5,6)`。元组含有两个方法，一个是`count()`，用于统计给定项值的数量；另一个是`index()`，用于返回给定项值的第一个出现项值的索引值。内嵌函数除构建函数外于列表同。\n",
    "\n",
    "> 对于代码，所有语法中所涉及符号，均为英文格式。"
   ]
  },
  {
   "cell_type": "code",
   "execution_count": 166,
   "id": "ebe08271-d521-4241-9d94-b57be89eed77",
   "metadata": {},
   "outputs": [
    {
     "name": "stdout",
     "output_type": "stream",
     "text": [
      "(2, 5, 6)\n",
      "<class 'tuple'>\n",
      "<class 'tuple'>\n",
      "180\n",
      "(60, 60, 60)\n",
      "(5, 8, 9)\n",
      "(5, 8, 9)\n",
      "(5, 8, 9, 5, 8, 9)\n",
      "2\n",
      "1\n"
     ]
    },
    {
     "ename": "TypeError",
     "evalue": "'tuple' object does not support item assignment",
     "output_type": "error",
     "traceback": [
      "\u001b[1;31m---------------------------------------------------------------------------\u001b[0m",
      "\u001b[1;31mTypeError\u001b[0m                                 Traceback (most recent call last)",
      "Input \u001b[1;32mIn [166]\u001b[0m, in \u001b[0;36m<cell line: 20>\u001b[1;34m()\u001b[0m\n\u001b[0;32m     17\u001b[0m \u001b[38;5;28mprint\u001b[39m(tup_0N1\u001b[38;5;241m.\u001b[39mcount(\u001b[38;5;241m5\u001b[39m))\n\u001b[0;32m     18\u001b[0m \u001b[38;5;28mprint\u001b[39m(tup_0N1\u001b[38;5;241m.\u001b[39mindex(\u001b[38;5;241m8\u001b[39m))\n\u001b[1;32m---> 20\u001b[0m tup_0N1[\u001b[38;5;241m2\u001b[39m]\u001b[38;5;241m=\u001b[39m\u001b[38;5;241m9999\u001b[39m\n",
      "\u001b[1;31mTypeError\u001b[0m: 'tuple' object does not support item assignment"
     ]
    }
   ],
   "source": [
    "tup=2,5,6,\n",
    "print(tup)\n",
    "print(type(tup))\n",
    "print(type((2,5,6)))\n",
    "\n",
    "print(3*(20*3))\n",
    "print(3*(20*3,))\n",
    "\n",
    "tup_0=tuple([5,8,9])\n",
    "print(tup_0)\n",
    "tup_1=tuple((5,8,9))\n",
    "print(tup_1)\n",
    "\n",
    "tup_0N1=tup_0+tup_1\n",
    "print(tup_0N1)\n",
    "\n",
    "print(tup_0N1.count(5))\n",
    "print(tup_0N1.index(8))\n",
    "\n",
    "tup_0N1[2]=9999 #尝试修改项值时，将提示错误，TypeError: 'tuple' object does not support item assignment"
   ]
  },
  {
   "cell_type": "markdown",
   "id": "ba3d4f7d-464a-417c-8ca5-f6d18c7ed2be",
   "metadata": {},
   "source": [
    "## 2.4 字典（Dictionary）\n",
    "\n",
    "字典语法为`{k0:v0,k1:v1,k2:v2,...,kn:vn}`，其中`k`为键，`v`为值，键值对之间`:`冒号分割，大括号括起。\n",
    "\n",
    "字典键的存在，相当于数据库中用于检索的字段名，方便数据组织、查询、管理，而避免像列表在存储数据时，需要根据索引值定位项值，而索引值是不具有自定义含义的默认整数。应用解释列表应用数据的途径时使用的实际研究项目的数据，将其转换为三种以字典形式存储数据的形式。第一种`AoT_info_dict_1`存储方式，以'id','lon','lat','address'为键，可以快速的提取对应的列表形式的值；第二种`AoT_info_dict_2`存储方式，以`node_id`列表的ID值为键，以对应Id值的经纬度和地址组成的元组为值，方便通过ID值查询对应信息；第三种`AoT_info_dict_3`存储方式，是嵌套字典，第一层仍旧以ID值为键，嵌套的内层字典则以'lon','lat'和'address'为键，这样处理的好处是，可以根据具有含义的键方便搜索具体细分的值，而不用根据列表或者元组无意义的索引值进行定位。"
   ]
  },
  {
   "cell_type": "code",
   "execution_count": 201,
   "id": "ce5fa6bb-dcd4-48f8-8746-c92b7237d7d9",
   "metadata": {},
   "outputs": [
    {
     "name": "stdout",
     "output_type": "stream",
     "text": [
      "{'id': ['ba46', 'ba3b', 'f02f', 'ba8f', 'ba16', '7e5d', 'ba8b', 'ba13', 'ba18', 'bc10'], 'lon': [-87.628, -87.616, -87.631, -87.59, -87.711, -87.628, -87.586, -87.713, -87.676, -87.624], 'lat': [41.878, 41.858, 41.926, 41.81, 41.866, 41.883, 41.781, 41.751, 41.852, 41.736], 'address': ['State St & Jackson Blvd Chicago IL', '18th St & Lake Shore Dr Chicago IL', 'Lake Shore Drive & Fullerton Ave Chicago IL', 'Cornell & 47th St Chicago IL', 'Homan Ave & Roosevelt Rd Chicago IL', 'State St & Washington St Chicago IL', 'Stony Island Ave & 63rd St Chicago IL', '7801 S Lawndale Ave Chicago IL', 'Damen Ave & Cermak Chicago IL', 'State St & 87th Chicago IL']}\n",
      "__________________________________________________\n",
      "{'ba46': (-87.628, 41.878, 'State St & Jackson Blvd Chicago IL'), 'ba3b': (-87.616, 41.858, '18th St & Lake Shore Dr Chicago IL'), 'f02f': (-87.631, 41.926, 'Lake Shore Drive & Fullerton Ave Chicago IL'), 'ba8f': (-87.59, 41.81, 'Cornell & 47th St Chicago IL'), 'ba16': (-87.711, 41.866, 'Homan Ave & Roosevelt Rd Chicago IL'), '7e5d': (-87.628, 41.883, 'State St & Washington St Chicago IL'), 'ba8b': (-87.586, 41.781, 'Stony Island Ave & 63rd St Chicago IL'), 'ba13': (-87.713, 41.751, '7801 S Lawndale Ave Chicago IL'), 'ba18': (-87.676, 41.852, 'Damen Ave & Cermak Chicago IL'), 'bc10': (-87.624, 41.736, 'State St & 87th Chicago IL')}\n",
      "__________________________________________________\n",
      "{'ba46': {'lon': -87.628, 'lat': 41.878, 'address': 'State St & Jackson Blvd Chicago IL'}, 'ba3b': {'lon': -87.616, 'lat': 41.858, 'address': '18th St & Lake Shore Dr Chicago IL'}, 'f02f': {'lon': -87.631, 'lat': 41.926, 'address': 'Lake Shore Drive & Fullerton Ave Chicago IL'}, 'ba8f': {'lon': -87.59, 'lat': 41.81, 'address': 'Cornell & 47th St Chicago IL'}, 'ba16': {'lon': -87.711, 'lat': 41.866, 'address': 'Homan Ave & Roosevelt Rd Chicago IL'}, '7e5d': {'lon': -87.628, 'lat': 41.883, 'address': 'State St & Washington St Chicago IL'}, 'ba8b': {'lon': -87.586, 'lat': 41.781, 'address': 'Stony Island Ave & 63rd St Chicago IL'}, 'ba13': {'lon': -87.713, 'lat': 41.751, 'address': '7801 S Lawndale Ave Chicago IL'}, 'ba18': {'lon': -87.676, 'lat': 41.852, 'address': 'Damen Ave & Cermak Chicago IL'}, 'bc10': {'lon': -87.624, 'lat': 41.736, 'address': 'State St & 87th Chicago IL'}}\n"
     ]
    }
   ],
   "source": [
    "coordi_lon=[-87.628, -87.616, -87.631, -87.59, -87.711, -87.628, -87.586, -87.713, -87.676, -87.624]\n",
    "coordi_lat=[41.878, 41.858, 41.926, 41.81, 41.866, 41.883, 41.781, 41.751, 41.852, 41.736]\n",
    "node_id=['ba46', 'ba3b', 'f02f', 'ba8f', 'ba16', '7e5d', 'ba8b', 'ba13', 'ba18', 'bc10']\n",
    "address=['State St & Jackson Blvd Chicago IL', '18th St & Lake Shore Dr Chicago IL', 'Lake Shore Drive & Fullerton Ave Chicago IL', 'Cornell & 47th St Chicago IL', 'Homan Ave & Roosevelt Rd Chicago IL', 'State St & Washington St Chicago IL', 'Stony Island Ave & 63rd St Chicago IL', '7801 S Lawndale Ave Chicago IL', 'Damen Ave & Cermak Chicago IL', 'State St & 87th Chicago IL']\n",
    "\n",
    "AoT_info_dict_1=dict(zip(['id','lon','lat','address'],[node_id,coordi_lon,coordi_lat,address]))\n",
    "print(AoT_info_dict_1)\n",
    "\n",
    "AoT_info_dict_2=dict(zip(node_id,zip(coordi_lon,coordi_lat,address)))\n",
    "print(\"_\"*50)\n",
    "print(AoT_info_dict_2)\n",
    "\n",
    "AoT_info_dict_3={id:{'lon':lon,'lat':lat,'address':addr} for id,lon,lat,addr in zip(node_id,coordi_lon,coordi_lat,address)}\n",
    "print(\"_\"*50)\n",
    "print(AoT_info_dict_3)"
   ]
  },
  {
   "cell_type": "code",
   "execution_count": 207,
   "id": "c397fbd2-8736-4854-a3c0-d3504dd71990",
   "metadata": {},
   "outputs": [
    {
     "name": "stdout",
     "output_type": "stream",
     "text": [
      "node_id=['ba46', 'ba3b', 'f02f', 'ba8f', 'ba16', '7e5d', 'ba8b', 'ba13', 'ba18', 'bc10']\n",
      "__________________________________________________\n",
      "(-87.59, 41.81, 'Cornell & 47th St Chicago IL')\n",
      "ba8f_lat=41.81,lon=-87.59\n",
      "__________________________________________________\n",
      "{'lon': -87.59, 'lat': 41.81, 'address': 'Cornell & 47th St Chicago IL'}\n",
      "ba8f_lat=41.81,lon=-87.59\n"
     ]
    }
   ],
   "source": [
    "print('node_id={}'.format(AoT_info_dict_1['id']))\n",
    "\n",
    "ba8f_info_from2=AoT_info_dict_2['ba8f']\n",
    "print(\"_\"*50)\n",
    "print(ba8f_info_from2)\n",
    "print('ba8f_lat={},lon={}'.format(ba8f_info_from2[1],ba8f_info_from2[0]))\n",
    "\n",
    "ba8f_info_from3=AoT_info_dict_3['ba8f']\n",
    "print(\"_\"*50)\n",
    "print(ba8f_info_from3)\n",
    "print('ba8f_lat={},lon={}'.format(ba8f_info_from3['lat'],ba8f_info_from3['lon']))"
   ]
  },
  {
   "cell_type": "code",
   "execution_count": null,
   "id": "5f26d5d3-942c-4b1c-b20d-dda4a19e690e",
   "metadata": {},
   "outputs": [],
   "source": []
  },
  {
   "cell_type": "code",
   "execution_count": null,
   "id": "ec4e51de-7458-4982-9f5e-6e38d1462eae",
   "metadata": {},
   "outputs": [],
   "source": []
  },
  {
   "cell_type": "code",
   "execution_count": null,
   "id": "1095829f-d403-4285-a428-c6a994e59f86",
   "metadata": {},
   "outputs": [],
   "source": []
  },
  {
   "cell_type": "code",
   "execution_count": null,
   "id": "807556e9-42b8-48a9-8015-0b46a3b496d7",
   "metadata": {},
   "outputs": [],
   "source": []
  }
 ],
 "metadata": {
  "kernelspec": {
   "display_name": "Python 3 (ipykernel)",
   "language": "python",
   "name": "python3"
  },
  "language_info": {
   "codemirror_mode": {
    "name": "ipython",
    "version": 3
   },
   "file_extension": ".py",
   "mimetype": "text/x-python",
   "name": "python",
   "nbconvert_exporter": "python",
   "pygments_lexer": "ipython3",
   "version": "3.8.13"
  }
 },
 "nbformat": 4,
 "nbformat_minor": 5
}
