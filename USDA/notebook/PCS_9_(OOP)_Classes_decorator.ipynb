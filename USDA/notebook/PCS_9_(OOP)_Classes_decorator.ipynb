{
 "cells": [
  {
   "cell_type": "markdown",
   "id": "e6a6134f-6691-43c0-aa3e-b906d3ee92ce",
   "metadata": {},
   "source": [
    "> Created on Mon Sep  5 12:45:39 2022 @author: Richie Bao-caDesign设计(cadesign.cn)"
   ]
  },
  {
   "cell_type": "markdown",
   "id": "16045662-df2a-4ddd-95ed-39a79b13f5be",
   "metadata": {},
   "source": [
    "# Python Cheat Sheet-9. (OOP)_Classes_Decorators(装饰器)_Slots\n",
    "\n",
    "\n",
    "## 9.1 装饰器-函数\n",
    "\n",
    "\n",
    "__1. 函数调用另一个函数（函数作为参数）__\n",
    "\n",
    "这里定义了3个函数，`say_hello(name)`和`be_awesome(name)`，传入的为常规参数（不是以函数作为参数），并进行了不同方式字符串格式化。而对于`greet_bob(greeter_func)`，从` greeter_func(\"Bob\")`语句可以判断出函数参数`greeter_func`为一个函数。将`say_hello(name)`和`be_awesome(name)`函数作为参数传入到函数`greet_bob(greeter_func)`，可以对应将参数替换为参数函数思考代码运行机制，比较方便理解。\n",
    "\n",
    "> 该部分参考[Primer on Python Decorators](https://realpython.com/primer-on-python-decorators/)"
   ]
  },
  {
   "cell_type": "code",
   "execution_count": 5,
   "id": "c73b33ef-eebf-4044-b171-87bf22a92a0a",
   "metadata": {},
   "outputs": [
    {
     "name": "stdout",
     "output_type": "stream",
     "text": [
      "Hello Bob\n",
      "Yo Bob, together we are the awesomest!\n"
     ]
    }
   ],
   "source": [
    "def say_hello(name):\n",
    "    return f\"Hello {name}\"  # f-string字符串格式化方法，Literal String Interpolation（文字字符串插值）\n",
    "\n",
    "def be_awesome(name):\n",
    "    return f\"Yo {name}, together we are the awesomest!\"\n",
    "\n",
    "def greet_bob(greeter_func):\n",
    "    return greeter_func(\"Bob\")\n",
    "\n",
    "print(greet_bob(say_hello))\n",
    "print(greet_bob(be_awesome))"
   ]
  },
  {
   "cell_type": "markdown",
   "id": "7c459362-067d-40c4-90be-55617c3d7610",
   "metadata": {},
   "source": [
    "__2.内置函数（inner functions）__\n",
    "\n",
    "如果函数内部存在多个内置函数，函数定义的前后位置并不重要，主要由执行语句的顺序确定。同时，内部函数在调用父函数之前不会被定义，属于父函数`parent()`的局部作用域，仅在`parent()`内部作为局部变量存在。"
   ]
  },
  {
   "cell_type": "code",
   "execution_count": 6,
   "id": "7be2705f-0d84-44d2-98e8-e2c4e4cf9972",
   "metadata": {},
   "outputs": [
    {
     "name": "stdout",
     "output_type": "stream",
     "text": [
      "Printing from the parent() function\n",
      "Printing from the second_child() function\n",
      "Printing from the first_child() function\n"
     ]
    }
   ],
   "source": [
    "def parent():\n",
    "    print(\"Printing from the parent() function\")\n",
    "\n",
    "    def first_child():\n",
    "        print(\"Printing from the first_child() function\")\n",
    "\n",
    "    def second_child():\n",
    "        print(\"Printing from the second_child() function\")\n",
    "\n",
    "    second_child()\n",
    "    first_child()\n",
    "\n",
    "parent()   "
   ]
  },
  {
   "cell_type": "markdown",
   "id": "196acca7-f265-4b8f-977d-93c888d1037f",
   "metadata": {},
   "source": [
    "__3.函数返回值为一个函数__\n",
    "\n",
    "python允许使用函数作为返回值，下述`parent()`函数返回了一个内置函数。需要注意，返回函数时，为`return first_child`，是一个没有给`()`的函数名，意味返回`first_child`函数的引用。如果给了`()`，则是返回`first_child`函数的一个结果。当函数返回值为函数，则返回值（通常赋予于新的变量名）可以像普通函数一样调用（使用）。"
   ]
  },
  {
   "cell_type": "code",
   "execution_count": 10,
   "id": "51c10706-17cd-40c9-993f-181b9dff0712",
   "metadata": {},
   "outputs": [
    {
     "name": "stdout",
     "output_type": "stream",
     "text": [
      "<function parent.<locals>.first_child at 0x000001B52F2933A0>\n",
      "Hi, I am Emma\n",
      "Call me Liam\n"
     ]
    }
   ],
   "source": [
    "def parent(num):\n",
    "    def first_child():\n",
    "        return \"Hi, I am Emma\"\n",
    "\n",
    "    def second_child():\n",
    "        return \"Call me Liam\"\n",
    "\n",
    "    if num == 1:\n",
    "        return first_child\n",
    "    else:\n",
    "        return second_child\n",
    "\n",
    "first=parent(1)\n",
    "second=parent(2)\n",
    "\n",
    "print(first)\n",
    "print(first())\n",
    "print(second())"
   ]
  },
  {
   "cell_type": "markdown",
   "id": "7d7c935a-78a5-4a2d-8939-305cee961f01",
   "metadata": {},
   "source": [
    "__4.简单的装饰器__\n",
    "\n",
    "`say_whee = my_decorator(say_whee)`返回`my_decorator(func)`父函数内置函数`wrapper()`的引用，为`return wrapper`。该内置函数包含父类传入的一个函数参数`func`，并执行`func()`，即执行参数函数的计算结果。执行`say_whee()`时，即执行父类`my_decorator(func)`内的`wrapper()`内置函数，只是此时，该函数已经独立于父函数`my_decorator(func)`，并包含有执行`wrapper()`函数所需的所有参数，这里为参数函数`func`。因此，`say_whee = my_decorator(say_whee)`中的`say_whee`为一个闭包（Closure，或Lexical Closure），为一个结构体，存储了一个函数和与其关联的环境参数。\n",
    "\n",
    "因为内置函数`wrapper()`，实际上对传入的参数函数`say_whee()`的功能进行了增加，即“装饰”，所以可以简单说，装饰器就是对一个函数进行包装，修改已有的功能。"
   ]
  },
  {
   "cell_type": "code",
   "execution_count": 12,
   "id": "40ad9c2b-af32-4d13-815a-e99a517c6612",
   "metadata": {},
   "outputs": [
    {
     "name": "stdout",
     "output_type": "stream",
     "text": [
      "Something is happening before the function is called.\n",
      "Whee!\n",
      "Something is happening after the function is called.\n"
     ]
    }
   ],
   "source": [
    "def my_decorator(func):\n",
    "    def wrapper():\n",
    "        print(\"Something is happening before the function is called.\")\n",
    "        func()\n",
    "        print(\"Something is happening after the function is called.\")\n",
    "    return wrapper\n",
    "\n",
    "def say_whee():\n",
    "    print(\"Whee!\")\n",
    "\n",
    "say_whee = my_decorator(say_whee)\n",
    "say_whee()"
   ]
  },
  {
   "cell_type": "markdown",
   "id": "b24212fa-d76a-4e73-b727-fdfa24060faa",
   "metadata": {},
   "source": [
    "`say_whee = not_during_the_night(say_whee)`装饰，则根据条件判断执行不同的操作，如果满足`7 <= datetime.now().hour < 22`，则执行外部函数`say_whee()`;否则，什么都不发生。"
   ]
  },
  {
   "cell_type": "code",
   "execution_count": 13,
   "id": "4e7157fa-d6e9-4e6b-835c-a1e11f202cb6",
   "metadata": {},
   "outputs": [
    {
     "name": "stdout",
     "output_type": "stream",
     "text": [
      "Whee!\n"
     ]
    }
   ],
   "source": [
    "from datetime import datetime\n",
    "\n",
    "def not_during_the_night(func):\n",
    "    def wrapper():\n",
    "        if 7 <= datetime.now().hour < 22:\n",
    "            func()\n",
    "        else:\n",
    "            pass  # Hush, the neighbors are asleep\n",
    "    return wrapper\n",
    "\n",
    "def say_whee():\n",
    "    print(\"Whee!\")\n",
    "\n",
    "say_whee = not_during_the_night(say_whee)\n",
    "say_whee()"
   ]
  },
  {
   "cell_type": "markdown",
   "id": "08ba3777-b682-4ee9-bb98-0c5ba7294818",
   "metadata": {},
   "source": [
    "__5.语法糖（Syntactic Sugar）__\n",
    "\n",
    "上面的装饰器方法笨拙，为了简化代码过程，python允许用`@symbol`， 方式使用装饰器，有时称为`pie`语法。下述案例与上述结果一致，但是通过`@my_decorator` `pie`方法，替代了`say_whee = not_during_the_night(say_whee)`代码，简化操作。"
   ]
  },
  {
   "cell_type": "code",
   "execution_count": 25,
   "id": "fd379d31-6dd9-4de7-92ea-aeb959422442",
   "metadata": {},
   "outputs": [
    {
     "name": "stdout",
     "output_type": "stream",
     "text": [
      "Something is happening before the function is called.\n",
      "Whee!\n",
      "Something is happening after the function is called.\n"
     ]
    }
   ],
   "source": [
    "def my_decorator(func):\n",
    "    def wrapper():\n",
    "        print(\"Something is happening before the function is called.\")\n",
    "        func()\n",
    "        print(\"Something is happening after the function is called.\")\n",
    "    return wrapper\n",
    "\n",
    "@my_decorator\n",
    "def say_whee():\n",
    "    print(\"Whee!\")\n",
    "\n",
    "say_whee()"
   ]
  },
  {
   "cell_type": "markdown",
   "id": "a320a608-262d-477a-9c9b-869b13f4ddb9",
   "metadata": {},
   "source": [
    "__6.带参数的装饰器__\n",
    "\n",
    "在`wrapper_do_twice(*args, **kwargs)`内置函数传入参数为`*args, **kwargs`， 接受任意数量的位置参数和关键字参数。并将其传入参数函数。"
   ]
  },
  {
   "cell_type": "code",
   "execution_count": 27,
   "id": "8432ff58-d3de-4b9b-9287-232c95f9a7b6",
   "metadata": {},
   "outputs": [
    {
     "name": "stdout",
     "output_type": "stream",
     "text": [
      "Hello World\n",
      "Hello World\n"
     ]
    }
   ],
   "source": [
    "def do_twice(func):\n",
    "    def wrapper_do_twice(*args, **kwargs):\n",
    "        func(*args, **kwargs)\n",
    "        func(*args, **kwargs)\n",
    "    return wrapper_do_twice\n",
    "\n",
    "\n",
    "@do_twice\n",
    "def greet(name):\n",
    "    print(f\"Hello {name}\")\n",
    "    \n",
    "greet(\"World\")    "
   ]
  },
  {
   "cell_type": "markdown",
   "id": "ef9cb4c2-0570-4ef5-8e6e-e75c377bb41f",
   "metadata": {},
   "source": [
    "__7.装饰器的返回值__\n",
    "\n",
    "如果装饰器要返回值，`do_twice(func)`内置函数` wrapper_do_twice(*args, **kwargs)`在调用参数函数`func`时，需要执行`return func(*args, **kwargs)` 返回参数函数的返回值。"
   ]
  },
  {
   "cell_type": "code",
   "execution_count": 32,
   "id": "cb3a724a-f7aa-49c3-baa2-c13a38065ce0",
   "metadata": {},
   "outputs": [
    {
     "name": "stdout",
     "output_type": "stream",
     "text": [
      "Creating greeting\n",
      "Creating greeting\n",
      "--------------------------------------------------\n",
      "Hi Adam\n",
      "--------------------------------------------------\n",
      "<function do_twice.<locals>.wrapper_do_twice at 0x000001B52F293EE0>\n",
      "wrapper_do_twice\n",
      "--------------------------------------------------\n",
      "Help on function wrapper_do_twice in module __main__:\n",
      "\n",
      "wrapper_do_twice(*args, **kwargs)\n",
      "\n",
      "None\n"
     ]
    }
   ],
   "source": [
    "def do_twice(func):\n",
    "    def wrapper_do_twice(*args, **kwargs):\n",
    "        func(*args, **kwargs)\n",
    "        return func(*args, **kwargs)\n",
    "    return wrapper_do_twice\n",
    "\n",
    "@do_twice\n",
    "def return_greeting(name):\n",
    "    print(\"Creating greeting\")\n",
    "    return f\"Hi {name}\"\n",
    "\n",
    "hi_adam = return_greeting(\"Adam\")\n",
    "print(\"-\"*50)\n",
    "print(hi_adam)\n",
    "\n",
    "print(\"-\"*50)\n",
    "print(return_greeting)\n",
    "print(return_greeting.__name__)\n",
    "print(\"-\"*50)\n",
    "print(help(return_greeting))"
   ]
  },
  {
   "cell_type": "markdown",
   "id": "c0fbe87f-9aee-4ac2-b897-eefe35666c1a",
   "metadata": {},
   "source": [
    "__8.保留原始函数的信息-自省（introspection）调整__\n",
    "\n",
    "自省是指一个对象在运行时了解自己的属性的能力。例如，一个函数知道它自己的名字和文档。在上述示例中，通过`return_greeting.__name__`，`help(return_greeting)`等方式可以查看函数对象相关属性，但是，发现给出的是`wrapper_do_twice`的内置函数，而不是`return_greeting`函数，因此可以通过[functools](https://docs.python.org/3/library/functools.html)的` @functools.wraps(func)`方法解决这个问题，保留原始函数的信息。"
   ]
  },
  {
   "cell_type": "code",
   "execution_count": 33,
   "id": "c5d2bd39-e641-4490-893a-30f718e44abc",
   "metadata": {},
   "outputs": [
    {
     "name": "stdout",
     "output_type": "stream",
     "text": [
      "Creating greeting\n",
      "Creating greeting\n",
      "--------------------------------------------------\n",
      "Hi Adam\n",
      "--------------------------------------------------\n",
      "<function return_greeting at 0x000001B530D988B0>\n",
      "return_greeting\n",
      "--------------------------------------------------\n",
      "Help on function return_greeting in module __main__:\n",
      "\n",
      "return_greeting(name)\n",
      "\n",
      "None\n"
     ]
    }
   ],
   "source": [
    "import functools\n",
    "\n",
    "def do_twice(func):\n",
    "    @functools.wraps(func)\n",
    "    def wrapper_do_twice(*args, **kwargs):\n",
    "        func(*args, **kwargs)\n",
    "        return func(*args, **kwargs)\n",
    "    return wrapper_do_twice\n",
    "\n",
    "@do_twice\n",
    "def return_greeting(name):\n",
    "    print(\"Creating greeting\")\n",
    "    return f\"Hi {name}\"\n",
    "\n",
    "hi_adam = return_greeting(\"Adam\")\n",
    "print(\"-\"*50)\n",
    "print(hi_adam)\n",
    "\n",
    "print(\"-\"*50)\n",
    "print(return_greeting)\n",
    "print(return_greeting.__name__)\n",
    "print(\"-\"*50)\n",
    "print(help(return_greeting))"
   ]
  },
  {
   "cell_type": "markdown",
   "id": "6e892095-d4fb-42ca-aa73-731044cdb148",
   "metadata": {},
   "source": [
    "__9. 带参数的装饰器__\n",
    "\n",
    "装饰器中可以带参数，例如`@repeat(num_times=3)`中`num_times=3`。此时，对装饰器函数做了调整，增加了一层嵌套内置函数，传递装饰器参数。"
   ]
  },
  {
   "cell_type": "code",
   "execution_count": 71,
   "id": "9ae82213-928f-498d-b9dc-e96a879b780b",
   "metadata": {},
   "outputs": [
    {
     "name": "stdout",
     "output_type": "stream",
     "text": [
      "Hello Galaxy\n",
      "Hello Galaxy\n",
      "Hello Galaxy\n"
     ]
    }
   ],
   "source": [
    "def repeat(num_times):\n",
    "    def decorator_repeat(func):\n",
    "        @functools.wraps(func)\n",
    "        def wrapper_repeat(*args, **kwargs):\n",
    "            for _ in range(num_times):\n",
    "                value = func(*args, **kwargs)\n",
    "            return value\n",
    "        return wrapper_repeat\n",
    "    return decorator_repeat\n",
    "\n",
    "@repeat(num_times=3)\n",
    "def greet(name):\n",
    "    print(f\"Hello {name}\")\n",
    "    \n",
    "greet(\"Galaxy\")"
   ]
  },
  {
   "cell_type": "markdown",
   "id": "6eedc9c6-0e24-4c30-850c-bc0c48d63ff1",
   "metadata": {},
   "source": [
    "__10.多个装饰器装饰一个函数__\n",
    "\n",
    "可以将多个装饰器堆叠在一起，应用在一个函数上，此时，执行的装饰器执行的顺序是从内到外，例如示例先执行`@decor`，返回值为20，而后再执行`@decor1`，返回值为400。"
   ]
  },
  {
   "cell_type": "code",
   "execution_count": 72,
   "id": "e68531d6-c3cd-43a4-bd43-270bbb18ebcd",
   "metadata": {},
   "outputs": [
    {
     "name": "stdout",
     "output_type": "stream",
     "text": [
      "400\n"
     ]
    }
   ],
   "source": [
    "# code for testing decorator chaining\n",
    "def decor1(func):\n",
    "    def inner():\n",
    "        x = func()\n",
    "        return x * x\n",
    "    return inner\n",
    " \n",
    "def decor(func):\n",
    "    def inner():\n",
    "        x = func()\n",
    "        return 2 * x\n",
    "    return inner\n",
    " \n",
    "@decor1\n",
    "@decor\n",
    "def num():\n",
    "    return 10\n",
    " \n",
    "print(num())"
   ]
  },
  {
   "cell_type": "markdown",
   "id": "2cfeeda0-9d43-41eb-9c58-a5dc2e8dd242",
   "metadata": {},
   "source": [
    "__11.[decorator模块](https://pypi.org/project/decorator/)简化装饰器__\n",
    "\n",
    "使用[decorator模块](https://pypi.org/project/decorator/)库的`@decorator`装饰器装饰‘装饰函数’，可以简化装饰器定义。例如下述代码取消了内置函数，将原始函数和输入参数都在`do_print(func,*args, **kwargs)`，装饰函数中一起输入。"
   ]
  },
  {
   "cell_type": "code",
   "execution_count": 80,
   "id": "f990c4fa-a304-40ee-9ff0-a3a86ee9142c",
   "metadata": {},
   "outputs": [
    {
     "name": "stdout",
     "output_type": "stream",
     "text": [
      "Hi World!\n",
      "Hello World!\n"
     ]
    }
   ],
   "source": [
    "from decorator import decorator\n",
    "\n",
    "@decorator\n",
    "def do_print(func,*args, **kwargs):\n",
    "    print('Hi {}!'.format(*args,**kwargs))\n",
    "    return func(*args, **kwargs)\n",
    "\n",
    "@do_print\n",
    "def greet(name):\n",
    "    print(f\"Hello {name}!\")\n",
    "    \n",
    "greet(\"World\")    "
   ]
  },
  {
   "cell_type": "markdown",
   "id": "28145a79-1c76-43ef-9ab9-c000b24905bb",
   "metadata": {},
   "source": [
    "__12.示例__\n",
    "\n",
    "* 执行时间长度\n",
    "\n",
    "这个装饰器存储函数开始运行前的时间`start_time = time.perf_counter()`, 和函数结束后的时间`end_time = time.perf_counter()`， 然后计算运行函数的时间，`run_time = end_time - start_time`, 并打印。"
   ]
  },
  {
   "cell_type": "code",
   "execution_count": 34,
   "id": "96f504da-a023-4c89-aea3-59a3c295888d",
   "metadata": {},
   "outputs": [
    {
     "name": "stdout",
     "output_type": "stream",
     "text": [
      "Finished 'waste_some_time' in 4.1239 secs\n"
     ]
    }
   ],
   "source": [
    "import functools\n",
    "import time\n",
    "\n",
    "def timer(func):\n",
    "    \"\"\"Print the runtime of the decorated function\"\"\"\n",
    "    @functools.wraps(func)\n",
    "    def wrapper_timer(*args, **kwargs):\n",
    "        start_time = time.perf_counter()    # 1\n",
    "        value = func(*args, **kwargs)\n",
    "        end_time = time.perf_counter()      # 2\n",
    "        run_time = end_time - start_time    # 3\n",
    "        print(f\"Finished {func.__name__!r} in {run_time:.4f} secs\")\n",
    "        return value\n",
    "    return wrapper_timer\n",
    "\n",
    "@timer\n",
    "def waste_some_time(num_times):\n",
    "    for _ in range(num_times):\n",
    "        sum([i**2 for i in range(10000)])\n",
    "\n",
    "waste_some_time(999)"
   ]
  },
  {
   "cell_type": "markdown",
   "id": "94763114-bc4f-4801-9b9f-79fac25d8142",
   "metadata": {},
   "source": [
    "* 减缓运行\n",
    "\n",
    "对执行的函数进行运行速度的限制。"
   ]
  },
  {
   "cell_type": "code",
   "execution_count": 35,
   "id": "47fb6fba-f4b3-4bbb-bf3d-5c1a9b42dd7e",
   "metadata": {},
   "outputs": [
    {
     "name": "stdout",
     "output_type": "stream",
     "text": [
      "3\n",
      "2\n",
      "1\n",
      "Liftoff!\n"
     ]
    }
   ],
   "source": [
    "import functools\n",
    "import time\n",
    "\n",
    "def slow_down(func):\n",
    "    \"\"\"Sleep 1 second before calling the function\"\"\"\n",
    "    @functools.wraps(func)\n",
    "    def wrapper_slow_down(*args, **kwargs):\n",
    "        time.sleep(1)\n",
    "        return func(*args, **kwargs)\n",
    "    return wrapper_slow_down\n",
    "\n",
    "@slow_down\n",
    "def countdown(from_number):\n",
    "    if from_number < 1:\n",
    "        print(\"Liftoff!\")\n",
    "    else:\n",
    "        print(from_number)\n",
    "        countdown(from_number - 1)\n",
    "        \n",
    "countdown(3)"
   ]
  },
  {
   "cell_type": "markdown",
   "id": "ddea8a87-c589-483a-b72a-3283da3052b0",
   "metadata": {},
   "source": [
    "## 9.2 装饰器-类\n",
    "\n",
    "__1.`@property`__\n",
    "\n",
    "`@property` 内置装饰器可以将类的方法转换为只能读取的属性，例如使用`andy.password`类属性操作模式，而不是`andy.password()`类方法操作模式。如果要修改或者删除属性，则需要重新实现属性的`setter`，`getter`和`deleter`方法，例如`@password.setter`和` @password.deleter`装饰器。"
   ]
  },
  {
   "cell_type": "code",
   "execution_count": 58,
   "id": "7b4c4249-d7bf-4603-9201-c9c5b482c6b8",
   "metadata": {},
   "outputs": [
    {
     "name": "stdout",
     "output_type": "stream",
     "text": [
      "preset password: 0000\n",
      "1q2w3e\n",
      "del complete\n"
     ]
    }
   ],
   "source": [
    "class Bank_acount:\n",
    "    def __init__(self):\n",
    "        self._password = 'preset password: 0000'\n",
    "\n",
    "    @property\n",
    "    def password(self):\n",
    "        return self._password\n",
    "\n",
    "    @password.setter\n",
    "    def password(self, value):\n",
    "        self._password = value\n",
    "\n",
    "    @password.deleter\n",
    "    def password(self):\n",
    "        del self._password\n",
    "        print('del complete')\n",
    "        \n",
    "andy = Bank_acount()\n",
    "print(andy.password) #getter\n",
    "andy.password='1q2w3e' #setter\n",
    "print(andy.password)\n",
    "del andy.password #deleter"
   ]
  },
  {
   "cell_type": "markdown",
   "id": "00728acd-8134-47d2-a79e-28b3cb74bc7e",
   "metadata": {},
   "source": [
    "__2.`@classmethod`和`@staticmethod`__\n",
    "\n",
    "类方法`@classmetho`和静态方法`@staticmethod` ，都可以直接通过`Class/Instance.method()`调用，可以不用实例化对象，直接由类直接调用，例如类方法的`Person.fromBirthYear('mayank', 1996)`和静态方法的`Person.isAdult(22)`。对于类方法，需要将`self`参数转换为`cls`；对于静态方法，则不需要`self`等任何参数。\n",
    "\n",
    "> 示例迁移于[classmethod() in Python](https://www.geeksforgeeks.org/classmethod-in-python/)"
   ]
  },
  {
   "cell_type": "code",
   "execution_count": 63,
   "id": "a76161e1-cc88-4657-ab90-0d77dbd3dd3e",
   "metadata": {},
   "outputs": [
    {
     "name": "stdout",
     "output_type": "stream",
     "text": [
      "21\n",
      "26\n",
      "True\n",
      "False\n"
     ]
    }
   ],
   "source": [
    "# Python program to demonstrate\n",
    "# use of a class method and static method.\n",
    "from datetime import date\n",
    "  \n",
    "class Person:\n",
    "    def __init__(self, name, age):\n",
    "        self.name = name\n",
    "        self.age = age\n",
    "  \n",
    "    # a class method to create a Person object by birth year.\n",
    "    @classmethod\n",
    "    def fromBirthYear(cls, name, year):\n",
    "        return cls(name, date.today().year - year)\n",
    "  \n",
    "    # a static method to check if a Person is adult or not.\n",
    "    @staticmethod\n",
    "    def isAdult(age):\n",
    "        return age > 18\n",
    "  \n",
    "person1 = Person('mayank', 21)\n",
    "person2 = Person.fromBirthYear('mayank', 1996)\n",
    "  \n",
    "print(person1.age)\n",
    "print(person2.age)\n",
    "  \n",
    "# print the result\n",
    "print(Person.isAdult(22))\n",
    "print(person1.isAdult(18))"
   ]
  },
  {
   "cell_type": "markdown",
   "id": "d706cf8d-4494-4083-88c8-5f4bc0113134",
   "metadata": {},
   "source": [
    "__3.@abstractmethod__\n",
    "\n",
    "标准库[abc](https://docs.python.org/3/library/abc.html)提供有`@abstractmethod`抽象方法，当所在的类继承了`abc.ABC`， 并给需要抽象的实例方法添加装饰器`@abstractmethod`后，这个类就成为了抽象类，不能够被直接实例化，例如示例的`Animal`类，抽象方法为`info()`。如果要使用抽象类，必须继承该类并实现该类的所有抽象方法，例如`Bird`子类继承了抽象类`Animal`，并在子类`info()`中实现父类抽象类的`info()`方法。"
   ]
  },
  {
   "cell_type": "code",
   "execution_count": 64,
   "id": "df8b8cf0-529a-4e50-92da-db282c9d730d",
   "metadata": {},
   "outputs": [],
   "source": [
    "from abc import ABC, abstractmethod\n",
    "\n",
    "class Animal(ABC):\n",
    "    @abstractmethod\n",
    "    def info(self):\n",
    "        print(\"Animal\")\n",
    "        \n",
    "class Bird(Animal):\n",
    "    # 实现抽象方法\n",
    "    def info(self):\n",
    "        # 调用基类方法(即抽象方法)\n",
    "        super().info()\n",
    "        print(\"Bird\")        "
   ]
  },
  {
   "cell_type": "code",
   "execution_count": 65,
   "id": "8a615953-dc40-4937-88f7-43502e91a241",
   "metadata": {},
   "outputs": [
    {
     "ename": "TypeError",
     "evalue": "Can't instantiate abstract class Animal with abstract methods info",
     "output_type": "error",
     "traceback": [
      "\u001b[1;31m---------------------------------------------------------------------------\u001b[0m",
      "\u001b[1;31mTypeError\u001b[0m                                 Traceback (most recent call last)",
      "Input \u001b[1;32mIn [65]\u001b[0m, in \u001b[0;36m<cell line: 1>\u001b[1;34m()\u001b[0m\n\u001b[1;32m----> 1\u001b[0m animal \u001b[38;5;241m=\u001b[39m \u001b[43mAnimal\u001b[49m\u001b[43m(\u001b[49m\u001b[43m)\u001b[49m\n",
      "\u001b[1;31mTypeError\u001b[0m: Can't instantiate abstract class Animal with abstract methods info"
     ]
    }
   ],
   "source": [
    "animal = Animal()"
   ]
  },
  {
   "cell_type": "code",
   "execution_count": 66,
   "id": "c32443be-3892-4532-b5b1-3a8be3e6db08",
   "metadata": {},
   "outputs": [
    {
     "name": "stdout",
     "output_type": "stream",
     "text": [
      "Animal\n",
      "Bird\n"
     ]
    }
   ],
   "source": [
    "bird = Bird()\n",
    "bird.info()"
   ]
  },
  {
   "cell_type": "markdown",
   "id": "35e8058e-dabc-4715-a532-cc35d8b232c4",
   "metadata": {},
   "source": [
    "__4.装饰整个类__\n",
    "\n",
    "装饰器接收的是一个类，而不是一个函数。"
   ]
  },
  {
   "cell_type": "code",
   "execution_count": 68,
   "id": "4f1e0d6d-447f-4005-b680-b4d0480b4a20",
   "metadata": {},
   "outputs": [
    {
     "name": "stdout",
     "output_type": "stream",
     "text": [
      "Finished 'TimeWaster' in 0.0000 secs\n"
     ]
    }
   ],
   "source": [
    "import functools\n",
    "import time\n",
    "\n",
    "def timer(func):\n",
    "    \"\"\"Print the runtime of the decorated function\"\"\"\n",
    "    @functools.wraps(func)\n",
    "    def wrapper_timer(*args, **kwargs):\n",
    "        start_time = time.perf_counter()    # 1\n",
    "        value = func(*args, **kwargs)\n",
    "        end_time = time.perf_counter()      # 2\n",
    "        run_time = end_time - start_time    # 3\n",
    "        print(f\"Finished {func.__name__!r} in {run_time:.4f} secs\")\n",
    "        return value\n",
    "    return wrapper_timer\n",
    "\n",
    "\n",
    "@timer\n",
    "class TimeWaster:\n",
    "    def __init__(self, max_num):\n",
    "        self.max_num = max_num\n",
    "\n",
    "    def waste_time(self, num_times):\n",
    "        for _ in range(num_times):\n",
    "            sum([i**2 for i in range(self.max_num)])\n",
    "            \n",
    "tw = TimeWaster(1000)\n",
    "tw.waste_time(999)"
   ]
  },
  {
   "cell_type": "markdown",
   "id": "2e1f01b3-5d14-4928-a7dc-e2fedc5b329d",
   "metadata": {},
   "source": [
    "__5.示例__\n",
    "\n",
    "* 记录状态的装饰器\n",
    "\n",
    "使用类作为装饰器，实现`__init__()`和`__call__`方法，完成函数运行状态的记录。"
   ]
  },
  {
   "cell_type": "code",
   "execution_count": 75,
   "id": "09771e2a-97c9-44e3-9283-a724a2216739",
   "metadata": {},
   "outputs": [
    {
     "name": "stdout",
     "output_type": "stream",
     "text": [
      "Call 1 of 'say_whee'\n",
      "Whee!\n",
      "Call 2 of 'say_whee'\n",
      "Whee!\n",
      "Call 3 of 'say_whee'\n",
      "Whee!\n"
     ]
    }
   ],
   "source": [
    "import functools\n",
    "\n",
    "class CountCalls:\n",
    "    def __init__(self, func):\n",
    "        functools.update_wrapper(self, func)\n",
    "        self.func = func\n",
    "        self.num_calls = 0\n",
    "\n",
    "    def __call__(self, *args, **kwargs):\n",
    "        self.num_calls += 1\n",
    "        print(f\"Call {self.num_calls} of {self.func.__name__!r}\")\n",
    "        return self.func(*args, **kwargs)\n",
    "\n",
    "@CountCalls\n",
    "def say_whee():\n",
    "    print(\"Whee!\")\n",
    "    \n",
    "say_whee()\n",
    "say_whee()\n",
    "say_whee()"
   ]
  },
  {
   "cell_type": "markdown",
   "id": "364ff2a2-26f1-4426-8e8f-acd9795d1279",
   "metadata": {},
   "source": [
    "## 9.3 `__slots__`\n",
    "\n",
    "\n",
    "通过`__slots__`类属性分配一连串的字符串属性名称进行属性声明，从而限制类实例对象将拥有的合法属性集，达到优化内存，提高程序运行速度的作用。当为`__slots__ `分配一串字符串名称，则只有`__slots__ `列表中的那些名称可以被分配为实例属性，并在实例化时，阻止了为实例分配`__dict__`对象，除非在`__slots__ `中包含该对象。\n",
    "\n",
    "下述案例类`IceTeaSales`中配置` __slots__`对象的属性名称包括`['temperature','iceTeaSales']`，因此当配置非该列表中所列的属性名，例如`iceTea.price`时，就会引发异常。"
   ]
  },
  {
   "cell_type": "code",
   "execution_count": 96,
   "id": "3e1d9fec-8027-4e8e-b354-ae0c3c495519",
   "metadata": {},
   "outputs": [
    {
     "name": "stdout",
     "output_type": "stream",
     "text": [
      "0\n",
      "77 29\n",
      "29\n"
     ]
    },
    {
     "ename": "AttributeError",
     "evalue": "'IceTeaSales' object has no attribute 'price'",
     "output_type": "error",
     "traceback": [
      "\u001b[1;31m---------------------------------------------------------------------------\u001b[0m",
      "\u001b[1;31mAttributeError\u001b[0m                            Traceback (most recent call last)",
      "Input \u001b[1;32mIn [96]\u001b[0m, in \u001b[0;36m<cell line: 13>\u001b[1;34m()\u001b[0m\n\u001b[0;32m     11\u001b[0m \u001b[38;5;28mprint\u001b[39m(iceTea\u001b[38;5;241m.\u001b[39miceTeaSales,iceTea\u001b[38;5;241m.\u001b[39mtemperature)\n\u001b[0;32m     12\u001b[0m \u001b[38;5;28mprint\u001b[39m(\u001b[38;5;28mgetattr\u001b[39m(iceTea,\u001b[38;5;124m'\u001b[39m\u001b[38;5;124mtemperature\u001b[39m\u001b[38;5;124m'\u001b[39m))\n\u001b[1;32m---> 13\u001b[0m \u001b[43miceTea\u001b[49m\u001b[38;5;241;43m.\u001b[39;49m\u001b[43mprice\u001b[49m\n",
      "\u001b[1;31mAttributeError\u001b[0m: 'IceTeaSales' object has no attribute 'price'"
     ]
    }
   ],
   "source": [
    "class IceTeaSales:\n",
    "    __slots__=['temperature','iceTeaSales']\n",
    "    def __init__(self):\n",
    "        self.temperature=0\n",
    "        self.iceTeaSales=0\n",
    "    \n",
    "iceTea=IceTeaSales()\n",
    "print(iceTea.temperature)\n",
    "iceTea.temperature=29\n",
    "setattr(iceTea,'iceTeaSales',77)\n",
    "print(iceTea.iceTeaSales,iceTea.temperature)\n",
    "print(getattr(iceTea,'temperature'))\n",
    "iceTea.price"
   ]
  },
  {
   "cell_type": "markdown",
   "id": "a1dcf595-6c01-42a2-affc-47f332c6c9d0",
   "metadata": {},
   "source": [
    "`__slots__`阻止了`__dict__`对象分配给实例，因此`iceTea.__dict__`会引发异常，提示实例化对象没有属性`__dict_`。"
   ]
  },
  {
   "cell_type": "code",
   "execution_count": 90,
   "id": "76dab2df-4498-4b2c-b9c9-74906a8f8ade",
   "metadata": {},
   "outputs": [
    {
     "ename": "AttributeError",
     "evalue": "'IceTeaSales' object has no attribute '__dict__'",
     "output_type": "error",
     "traceback": [
      "\u001b[1;31m---------------------------------------------------------------------------\u001b[0m",
      "\u001b[1;31mAttributeError\u001b[0m                            Traceback (most recent call last)",
      "Input \u001b[1;32mIn [90]\u001b[0m, in \u001b[0;36m<cell line: 1>\u001b[1;34m()\u001b[0m\n\u001b[1;32m----> 1\u001b[0m \u001b[43miceTea\u001b[49m\u001b[38;5;241;43m.\u001b[39;49m\u001b[38;5;18;43m__dict__\u001b[39;49m\n",
      "\u001b[1;31mAttributeError\u001b[0m: 'IceTeaSales' object has no attribute '__dict__'"
     ]
    }
   ],
   "source": [
    "iceTea.__dict__"
   ]
  },
  {
   "cell_type": "markdown",
   "id": "824aa637-8281-4aa5-8f0e-b31111c3b784",
   "metadata": {},
   "source": [
    "`dir()`收集整个类树中所有继承的名称。"
   ]
  },
  {
   "cell_type": "code",
   "execution_count": 93,
   "id": "13dcd5b0-0ca4-41cd-a113-5c2aa214206e",
   "metadata": {},
   "outputs": [
    {
     "name": "stdout",
     "output_type": "stream",
     "text": [
      "['__class__', '__delattr__', '__dir__', '__doc__', '__eq__', '__format__', '__ge__', '__getattribute__', '__gt__', '__hash__', '__init__', '__init_subclass__', '__le__', '__lt__', '__module__', '__ne__', '__new__', '__reduce__', '__reduce_ex__', '__repr__', '__setattr__', '__sizeof__', '__slots__', '__str__', '__subclasshook__', 'iceTeaSales', 'temperature']\n",
      "True\n"
     ]
    }
   ],
   "source": [
    "print(dir(iceTea))\n",
    "print('temperature' in dir(iceTea))"
   ]
  },
  {
   "cell_type": "markdown",
   "id": "1f809645-038b-4416-9dd0-58c9df1c0860",
   "metadata": {},
   "source": [
    "`__init__`构造方法初始化参数，如果参数名不在`__slots__`列表中，也会引发异常。"
   ]
  },
  {
   "cell_type": "code",
   "execution_count": 97,
   "id": "88348abe-c28e-4529-8a6b-4a3bff782e20",
   "metadata": {},
   "outputs": [
    {
     "ename": "AttributeError",
     "evalue": "'IceTeaSales' object has no attribute 'price'",
     "output_type": "error",
     "traceback": [
      "\u001b[1;31m---------------------------------------------------------------------------\u001b[0m",
      "\u001b[1;31mAttributeError\u001b[0m                            Traceback (most recent call last)",
      "Input \u001b[1;32mIn [97]\u001b[0m, in \u001b[0;36m<cell line: 7>\u001b[1;34m()\u001b[0m\n\u001b[0;32m      5\u001b[0m         \u001b[38;5;28mself\u001b[39m\u001b[38;5;241m.\u001b[39miceTeaSales\u001b[38;5;241m=\u001b[39m\u001b[38;5;241m0\u001b[39m\n\u001b[0;32m      6\u001b[0m         \u001b[38;5;28mself\u001b[39m\u001b[38;5;241m.\u001b[39mprice\u001b[38;5;241m=\u001b[39m\u001b[38;5;241m0\u001b[39m\n\u001b[1;32m----> 7\u001b[0m iceTea\u001b[38;5;241m=\u001b[39m\u001b[43mIceTeaSales\u001b[49m\u001b[43m(\u001b[49m\u001b[43m)\u001b[49m\n",
      "Input \u001b[1;32mIn [97]\u001b[0m, in \u001b[0;36mIceTeaSales.__init__\u001b[1;34m(self)\u001b[0m\n\u001b[0;32m      4\u001b[0m \u001b[38;5;28mself\u001b[39m\u001b[38;5;241m.\u001b[39mtemperature\u001b[38;5;241m=\u001b[39m\u001b[38;5;241m0\u001b[39m\n\u001b[0;32m      5\u001b[0m \u001b[38;5;28mself\u001b[39m\u001b[38;5;241m.\u001b[39miceTeaSales\u001b[38;5;241m=\u001b[39m\u001b[38;5;241m0\u001b[39m\n\u001b[1;32m----> 6\u001b[0m \u001b[38;5;28mself\u001b[39m\u001b[38;5;241m.\u001b[39mprice\u001b[38;5;241m=\u001b[39m\u001b[38;5;241m0\u001b[39m\n",
      "\u001b[1;31mAttributeError\u001b[0m: 'IceTeaSales' object has no attribute 'price'"
     ]
    }
   ],
   "source": [
    "class IceTeaSales:\n",
    "    __slots__=['temperature','iceTeaSales']\n",
    "    def __init__(self):\n",
    "        self.temperature=0\n",
    "        self.iceTeaSales=0\n",
    "        self.price=0\n",
    "iceTea=IceTeaSales()"
   ]
  },
  {
   "cell_type": "markdown",
   "id": "6a9834b5-abdc-49e4-8d3a-371d534560c5",
   "metadata": {},
   "source": [
    "如果在`__slots__`列表中包含`__dict__`，则可以增加新的属性名，`__dict__`则会包含非`__slots__`列表中新增加的属性名键值对。"
   ]
  },
  {
   "cell_type": "code",
   "execution_count": 104,
   "id": "dc1fc6bd-a518-41c0-aea9-73ea747a29cc",
   "metadata": {},
   "outputs": [
    {
     "name": "stdout",
     "output_type": "stream",
     "text": [
      "0\n",
      "flower tea\n",
      "['temperature', 'iceTeaSales', '__dict__']\n",
      "{'price': 0, 'name': 'flower tea'}\n"
     ]
    }
   ],
   "source": [
    "class IceTeaSales:\n",
    "    __slots__=['temperature','iceTeaSales', '__dict__']\n",
    "    def __init__(self):\n",
    "        self.temperature=0\n",
    "        self.iceTeaSales=0\n",
    "        self.price=0\n",
    "iceTea=IceTeaSales()\n",
    "print(iceTea.price)\n",
    "iceTea.name='flower tea'\n",
    "print(iceTea.name)\n",
    "print(iceTea.__slots__)\n",
    "print(iceTea.__dict__)"
   ]
  },
  {
   "cell_type": "markdown",
   "id": "957b1133-086b-44ff-a2ac-e53cdbe19376",
   "metadata": {},
   "source": [
    "* `Slot`应用规则：\n",
    "\n",
    "如果存在子类，在用`__slots__`时则需要注意：1. 子类中有`__slots__`，但父类中未配置`__slots__`，则实例对象总可以访问`__dict__`属性，因此没有意义。父类中有`__slots__`，而子类没有，同上，也没有意义；2. 子类定义了与父类相同的`__slots__`， 只能从父类中的`__slots__`获取定义的属性名。"
   ]
  },
  {
   "cell_type": "code",
   "execution_count": 106,
   "id": "51c24cdd-cc42-49c6-8c1b-73c17735c89f",
   "metadata": {},
   "outputs": [
    {
     "name": "stdout",
     "output_type": "stream",
     "text": [
      "{'b': 2}\n",
      "dict_keys(['__module__', '__slots__', 'a', '__doc__'])\n"
     ]
    }
   ],
   "source": [
    "class C:pass\n",
    "class D(C):__slots__=['a']\n",
    "\n",
    "X=D()\n",
    "X.a=1;X.b=2\n",
    "print(X.__dict__)\n",
    "print(D.__dict__.keys())"
   ]
  },
  {
   "cell_type": "markdown",
   "id": "58b148c0-3666-43ae-8983-0a867dd5ff20",
   "metadata": {},
   "source": [
    "* 内存使用量测试\n",
    "\n",
    "使用[memory-profiler ](https://pypi.org/project/memory-profiler/)库，测量代码内存的使用率。该模块对python程序的内存消耗进行逐行分析，从而监控一个进程的内存消耗，该模块依赖[psutil](https://pypi.org/project/psutil/)库。\n",
    "\n",
    "> JupyterLab中无法执行，需要在Spyder中运行（保存为模块）\n",
    "\n",
    "__未使用`__slots__`:__\n",
    "\n",
    "```python\n",
    "from memory_profiler import profile\n",
    "\n",
    "class A(object): \n",
    "    def __init__(self,x):\n",
    "        self.x=x\n",
    " \n",
    "@profile\n",
    "def main():\n",
    "    f=[A(523825) for i in range(100000)]\n",
    " \n",
    "if __name__=='__main__':\n",
    "    main()\n",
    "```\n",
    "\n",
    "Line #    Mem usage    Increment  Occurences   Line Contents\n",
    "============================================================\n",
    "     7    142.2 MiB    142.2 MiB           1   @profile\n",
    "     8                                         def main():\n",
    "     9    158.9 MiB     16.7 MiB      100003       f=[A(523825) for i in range(100000)]\n",
    "     \n",
    "     \n",
    "__使用`__slots__`:__     \n",
    "     \n",
    "```python\n",
    "from memory_profiler import profile\n",
    "      \n",
    "class A(object):\n",
    "    __slots__=('x')\n",
    "    def __init__(self,x):\n",
    "        self.x=x        \n",
    " \n",
    "@profile\n",
    "def main():\n",
    "    f=[A(523825) for i in range(100000)]\n",
    " \n",
    "if __name__=='__main__':\n",
    "    main()\n",
    "```\n",
    "\n",
    "Line #    Mem usage    Increment  Occurences   Line Contents\n",
    "============================================================\n",
    "    12    142.1 MiB    142.1 MiB           1   @profile\n",
    "    13                                         def main():\n",
    "    14    147.9 MiB      5.8 MiB      100003       f=[A(523825) for i in range(100000)]\n",
    "    \n",
    "从计算结果来看，未使用`__slots__`，内存变化为16.7MiB;  使用`__slots__`，内存变化为5.8MiB，因此使用`__slots__`可以有效节约内存空间。"
   ]
  },
  {
   "cell_type": "markdown",
   "id": "933d6fe1-2d08-4a48-94a0-13718992df33",
   "metadata": {},
   "source": [
    "<span style = \"color:Teal;background-color:;font-size:20.0pt\">是否完成PCS_9(&nbsp;&nbsp;&nbsp;&nbsp;&nbsp;&nbsp;)</span>"
   ]
  },
  {
   "cell_type": "code",
   "execution_count": null,
   "id": "2ec5ed1e-02e5-4e6b-9677-5ce91f500456",
   "metadata": {},
   "outputs": [],
   "source": []
  }
 ],
 "metadata": {
  "kernelspec": {
   "display_name": "Python 3 (ipykernel)",
   "language": "python",
   "name": "python3"
  },
  "language_info": {
   "codemirror_mode": {
    "name": "ipython",
    "version": 3
   },
   "file_extension": ".py",
   "mimetype": "text/x-python",
   "name": "python",
   "nbconvert_exporter": "python",
   "pygments_lexer": "ipython3",
   "version": "3.8.13"
  }
 },
 "nbformat": 4,
 "nbformat_minor": 5
}
